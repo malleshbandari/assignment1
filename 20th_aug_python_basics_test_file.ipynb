{
 "cells": [
  {
   "cell_type": "code",
   "execution_count": 7,
   "id": "3a05ee44",
   "metadata": {},
   "outputs": [
    {
     "data": {
      "text/plain": [
       "'iradnab hsellam'"
      ]
     },
     "execution_count": 7,
     "metadata": {},
     "output_type": "execute_result"
    }
   ],
   "source": [
    "#1write a program to reverse a string\n",
    "a=\"mallesh bandari\"\n",
    "a[::-1]"
   ]
  },
  {
   "cell_type": "code",
   "execution_count": 11,
   "id": "e64e33e3",
   "metadata": {},
   "outputs": [
    {
     "name": "stdout",
     "output_type": "stream",
     "text": [
      "malayalam\n",
      "madam\n"
     ]
    }
   ],
   "source": [
    "#2check if string is polydrome\n",
    "a1=\"malayalam\"\n",
    "a2=\"madam\"\n",
    "b=a1[::-1]\n",
    "b1=a2[::-1]\n",
    "print(b)\n",
    "print(b1)"
   ]
  },
  {
   "cell_type": "code",
   "execution_count": 12,
   "id": "331a6dd7",
   "metadata": {},
   "outputs": [
    {
     "data": {
      "text/plain": [
       "'MALLESH BANDARI'"
      ]
     },
     "execution_count": 12,
     "metadata": {},
     "output_type": "execute_result"
    }
   ],
   "source": [
    "#3convert a string to uppercase\n",
    "a3=\"mallesh bandari\"\n",
    "a3.upper()"
   ]
  },
  {
   "cell_type": "code",
   "execution_count": 13,
   "id": "0ded447e",
   "metadata": {},
   "outputs": [
    {
     "data": {
      "text/plain": [
       "'mallesh bandari'"
      ]
     },
     "execution_count": 13,
     "metadata": {},
     "output_type": "execute_result"
    }
   ],
   "source": [
    "#4convert a string to lowercase\n",
    "a4=\"MALLESH BANDARI\"\n",
    "a4.lower()"
   ]
  },
  {
   "cell_type": "code",
   "execution_count": 41,
   "id": "bddc493f",
   "metadata": {},
   "outputs": [
    {
     "name": "stdout",
     "output_type": "stream",
     "text": [
      "5\n"
     ]
    }
   ],
   "source": [
    "#5count the number vowels in a string\n",
    "def mahi(a):\n",
    "    d=0\n",
    "    a5=\"aeiouAEIOU\"\n",
    "    for k in a:\n",
    "        if k in a5:\n",
    "            d+=1\n",
    "    return d\n",
    "b1=\"mallesh BANDARI\"\n",
    "c=mahi(b1)\n",
    "print(c)\n"
   ]
  },
  {
   "cell_type": "code",
   "execution_count": 42,
   "id": "d5453446",
   "metadata": {},
   "outputs": [
    {
     "name": "stdout",
     "output_type": "stream",
     "text": [
      "16\n"
     ]
    }
   ],
   "source": [
    "#6count the no.of consonants in a string\n",
    "def hima(a):\n",
    "    b=0\n",
    "    a6=\"bcdfghjklmnpqrstvwxyzBCDFGHKLMNPQRSTVWXYZ\"\n",
    "    for i in a:\n",
    "        if i in a6:\n",
    "            b+=1\n",
    "    return b\n",
    "a6=\"MALLESH hima BANDRARI suresh\"\n",
    "b2=hima(a6)\n",
    "print(b2)"
   ]
  },
  {
   "cell_type": "code",
   "execution_count": 43,
   "id": "7a515668",
   "metadata": {},
   "outputs": [
    {
     "name": "stdout",
     "output_type": "stream",
     "text": [
      "malleshhimaSURESHbandari\n"
     ]
    }
   ],
   "source": [
    "#7remove all white spaces in a string\n",
    "def malli(a):\n",
    "    b=\"\"\n",
    "    for i in a:\n",
    "        if i!=\" \":\n",
    "            b+=i\n",
    "    return b\n",
    "b2=\"mallesh hima SURESH bandari\"\n",
    "b3=malli(b2)\n",
    "print(b3)"
   ]
  },
  {
   "cell_type": "code",
   "execution_count": 61,
   "id": "f92c99f1",
   "metadata": {},
   "outputs": [
    {
     "name": "stdout",
     "output_type": "stream",
     "text": [
      "27\n"
     ]
    }
   ],
   "source": [
    "#8find the length of a string without using length function\n",
    "l=\"mallesh bandari HIMA SURESH\"\n",
    "b=0\n",
    "for i in l:\n",
    "    b+=1\n",
    "print(b)"
   ]
  },
  {
   "cell_type": "code",
   "execution_count": 62,
   "id": "c3859737",
   "metadata": {},
   "outputs": [
    {
     "name": "stdout",
     "output_type": "stream",
     "text": [
      "i love hima\n"
     ]
    }
   ],
   "source": [
    "#9check if string contains a specific word\n",
    "a=\"mallesh bandari hima suresh\"\n",
    "b= \"hima\"\n",
    "if b in a:\n",
    "    print(\"i love hima\")\n",
    "else:\n",
    "    print(\"she has different character\")"
   ]
  },
  {
   "cell_type": "code",
   "execution_count": 63,
   "id": "b20fa111",
   "metadata": {},
   "outputs": [
    {
     "data": {
      "text/plain": [
       "'mallesh bandari hima bandari'"
      ]
     },
     "execution_count": 63,
     "metadata": {},
     "output_type": "execute_result"
    }
   ],
   "source": [
    "#10 replace a word in a string in another word\n",
    "a=\"mallesh bandari hima suresh\"\n",
    "a.replace(\"suresh\",\"bandari\")"
   ]
  },
  {
   "cell_type": "code",
   "execution_count": 2,
   "id": "9bb6cdc1",
   "metadata": {},
   "outputs": [
    {
     "name": "stdout",
     "output_type": "stream",
     "text": [
      "['mallesh', 'bandari', 'hima', 'bandari', 'hima', 'mallesh', 'hima', 'suresh']\n"
     ]
    },
    {
     "data": {
      "text/plain": [
       "3"
      ]
     },
     "execution_count": 2,
     "metadata": {},
     "output_type": "execute_result"
    }
   ],
   "source": [
    "#11count the occurence of a string\n",
    "a=\"mallesh bandari hima bandari hima mallesh hima suresh\"\n",
    "b=a.split()\n",
    "print(b)\n",
    "b.count(\"hima\")"
   ]
  },
  {
   "cell_type": "code",
   "execution_count": 5,
   "id": "e8b13740",
   "metadata": {},
   "outputs": [
    {
     "name": "stdout",
     "output_type": "stream",
     "text": [
      "['mallesh', 'bandari', 'is', 'the', 'most', 'talented', 'person']\n"
     ]
    },
    {
     "data": {
      "text/plain": [
       "'bandari'"
      ]
     },
     "execution_count": 5,
     "metadata": {},
     "output_type": "execute_result"
    }
   ],
   "source": [
    "#12find the first occurence of a word in a string\n",
    "a2=\"mallesh bandari is the most talented person\"\n",
    "b2=a2.split()\n",
    "print(b2)\n",
    "b2[1]"
   ]
  },
  {
   "cell_type": "code",
   "execution_count": 7,
   "id": "bb9bb9b3",
   "metadata": {},
   "outputs": [
    {
     "data": {
      "text/plain": [
       "'himallesh'"
      ]
     },
     "execution_count": 7,
     "metadata": {},
     "output_type": "execute_result"
    }
   ],
   "source": [
    "#13find the last occurence of a word in a string\n",
    "a3=\"i love hima suresh himallesh\"\n",
    "b3=a3.split()\n",
    "b3[-1]"
   ]
  },
  {
   "cell_type": "code",
   "execution_count": 8,
   "id": "ec6246b4",
   "metadata": {},
   "outputs": [
    {
     "data": {
      "text/plain": [
       "['i', 'love', 'hima', 'suresh', 'and', 'she', 'loves', 'to', 'me']"
      ]
     },
     "execution_count": 8,
     "metadata": {},
     "output_type": "execute_result"
    }
   ],
   "source": [
    "#14split a string into a list words\n",
    "a4=\"i love hima suresh and she loves to me\"\n",
    "b4=a4.split()\n",
    "list(b4)"
   ]
  },
  {
   "cell_type": "code",
   "execution_count": 10,
   "id": "7d3886dd",
   "metadata": {},
   "outputs": [
    {
     "name": "stdout",
     "output_type": "stream",
     "text": [
      "himai saw a girl in thiruvaluru stadium she is beautifulmalleshi saw a girl in thiruvaluru stadium she is beautifulbandari\n"
     ]
    }
   ],
   "source": [
    "#15 join a list of words into a string\n",
    "a5=\"i saw a girl in thiruvaluru stadium she is beautiful\"\n",
    "b5=a5.join([\"hima\",\"mallesh\",\"bandari\"])\n",
    "print(b5)"
   ]
  },
  {
   "cell_type": "code",
   "execution_count": 12,
   "id": "508a6618",
   "metadata": {},
   "outputs": [
    {
     "data": {
      "text/plain": [
       "'mallesh_bandari_is_the_most_important_person'"
      ]
     },
     "execution_count": 12,
     "metadata": {},
     "output_type": "execute_result"
    }
   ],
   "source": [
    "#16Convert a string where words are separated by spaces to one where words are separated by underscores\n",
    "a6=\"mallesh bandari is the most important person\"\n",
    "a6.replace(\" \",\"_\")"
   ]
  },
  {
   "cell_type": "code",
   "execution_count": 14,
   "id": "7a90ff15",
   "metadata": {},
   "outputs": [
    {
     "name": "stdout",
     "output_type": "stream",
     "text": [
      "True\n"
     ]
    }
   ],
   "source": [
    "#17Check if a string starts with a specific word or phrase.\n",
    "a7=\"mallesh bandari hima suresh\"\n",
    "b7=a7.startswith(\"mallesh\")\n",
    "print(b7)"
   ]
  },
  {
   "cell_type": "code",
   "execution_count": 15,
   "id": "94230c45",
   "metadata": {},
   "outputs": [
    {
     "name": "stdout",
     "output_type": "stream",
     "text": [
      "False\n"
     ]
    }
   ],
   "source": [
    "#18check if a string endswith a specific word or pharse.\n",
    "a8=\"mallesh bandari is the most important person\"\n",
    "b8=a8.endswith(\"hima\")\n",
    "print(b8)"
   ]
  },
  {
   "cell_type": "code",
   "execution_count": 16,
   "id": "7d86a8c6",
   "metadata": {},
   "outputs": [
    {
     "data": {
      "text/plain": [
       "'Hello World'"
      ]
     },
     "execution_count": 16,
     "metadata": {},
     "output_type": "execute_result"
    }
   ],
   "source": [
    "#19convert a string to a title case.\n",
    "a9=\"hello world\"\n",
    "a9.title()"
   ]
  },
  {
   "cell_type": "code",
   "execution_count": 7,
   "id": "2769d11d",
   "metadata": {},
   "outputs": [
    {
     "name": "stdout",
     "output_type": "stream",
     "text": [
      "important\n"
     ]
    }
   ],
   "source": [
    "#20find the langest word in a string.\n",
    "def hima(k):\n",
    "    d=k.split()\n",
    "    a=\"\"\n",
    "    b=0\n",
    "    for i in d:\n",
    "        if len(i)>b:\n",
    "            b=len(i)\n",
    "            a=i\n",
    "    return a\n",
    "f=\"mallesh bandari is the most important persson\"\n",
    "l=hima(f)\n",
    "print(l)"
   ]
  },
  {
   "cell_type": "code",
   "execution_count": 11,
   "id": "82d28ef6",
   "metadata": {},
   "outputs": [
    {
     "name": "stdout",
     "output_type": "stream",
     "text": [
      "is\n"
     ]
    }
   ],
   "source": [
    "#21 find the shortest word in a string\n",
    "def mallesh(a):\n",
    "    b=a.split()\n",
    "    c=None\n",
    "    v=float('inf')\n",
    "    for k in b:\n",
    "        if len(k)<v:\n",
    "            v=len(k)\n",
    "            c=k\n",
    "    return c\n",
    "h=\"mallesh bandari is the greatest person\"\n",
    "g=mallesh(h)\n",
    "print(g)"
   ]
  },
  {
   "cell_type": "code",
   "execution_count": 14,
   "id": "de05deda",
   "metadata": {},
   "outputs": [
    {
     "name": "stdout",
     "output_type": "stream",
     "text": [
      "iradnab hsellam\n"
     ]
    }
   ],
   "source": [
    "#22reverse the order of words in a string\n",
    "a=\"mallesh bandari\"\n",
    "b=a[::-1]\n",
    "print(b)"
   ]
  },
  {
   "cell_type": "code",
   "execution_count": 15,
   "id": "bab4da84",
   "metadata": {},
   "outputs": [
    {
     "name": "stdout",
     "output_type": "stream",
     "text": [
      "False\n"
     ]
    }
   ],
   "source": [
    "#23 check if string is alphanumeric\n",
    "a=\"mallesh hima malleshbandari himasuresh\"\n",
    "b=a.isalnum()\n",
    "print(b)"
   ]
  },
  {
   "cell_type": "code",
   "execution_count": 18,
   "id": "20054503",
   "metadata": {},
   "outputs": [
    {
     "name": "stdout",
     "output_type": "stream",
     "text": [
      "123391\n"
     ]
    }
   ],
   "source": [
    "#24 extract all digits from a string\n",
    "def mahi(a):\n",
    "    b=\"\"\n",
    "    for i in a:\n",
    "        if i.isdigit():\n",
    "            b+=i\n",
    "    return b\n",
    "c=\"mallesh123bandari391\"\n",
    "d=mahi(c)\n",
    "print(d)"
   ]
  },
  {
   "cell_type": "code",
   "execution_count": 20,
   "id": "15213502",
   "metadata": {},
   "outputs": [
    {
     "name": "stdout",
     "output_type": "stream",
     "text": [
      "himamallesh\n"
     ]
    }
   ],
   "source": [
    "#25 extract all alphabets from a string\n",
    "def haima(a):\n",
    "    b=\"\"\n",
    "    for i in a:\n",
    "        if i.isalpha():\n",
    "            b+=i\n",
    "    return b\n",
    "c=\"hima143 mallesh295\"\n",
    "d=haima(c)\n",
    "print(d)"
   ]
  },
  {
   "cell_type": "code",
   "execution_count": 29,
   "id": "735155eb",
   "metadata": {},
   "outputs": [
    {
     "name": "stdout",
     "output_type": "stream",
     "text": [
      "11\n"
     ]
    }
   ],
   "source": [
    "#26 count the number of uppercase letters in a string\n",
    "def him(a):\n",
    "    b=sum(1 for i in a if i.isupper())\n",
    "    return b\n",
    "c=\"MALLESHHIMA bandarisuresh\"\n",
    "d=him(c)\n",
    "print(d)"
   ]
  },
  {
   "cell_type": "code",
   "execution_count": 30,
   "id": "86398b8a",
   "metadata": {},
   "outputs": [
    {
     "name": "stdout",
     "output_type": "stream",
     "text": [
      "19\n"
     ]
    }
   ],
   "source": [
    "#27 count the number of lowercase letters in a string\n",
    "def malli(a):\n",
    "    c=sum(1 for i in a if i.islower())\n",
    "    return c\n",
    "d=\"i love HIMA SURESH mallesh bandari\"\n",
    "e=malli(d)\n",
    "print(e)"
   ]
  },
  {
   "cell_type": "code",
   "execution_count": 31,
   "id": "2a77cf51",
   "metadata": {},
   "outputs": [
    {
     "name": "stdout",
     "output_type": "stream",
     "text": [
      "hELLO wORLD\n"
     ]
    }
   ],
   "source": [
    "#28 Swap the case of each character in a string\n",
    "a=\"Hello World\"\n",
    "b=a.swapcase()\n",
    "print(b)"
   ]
  },
  {
   "cell_type": "code",
   "execution_count": 43,
   "id": "1c8f1b6b",
   "metadata": {},
   "outputs": [
    {
     "name": "stdout",
     "output_type": "stream",
     "text": [
      "Mallesh bandari is loves hima\n"
     ]
    }
   ],
   "source": [
    "#29 remove a specific word in a string\n",
    "def laxmi(j,l):\n",
    "    c=j.split()\n",
    "    d=[i for i in c if i!=l]\n",
    "    e=' '.join(d)\n",
    "    return e\n",
    "j=\"Mallesh bandari is loves hima suresh\"\n",
    "l=\"suresh\"\n",
    "h=laxmi(j,l)\n",
    "print(h)"
   ]
  },
  {
   "cell_type": "code",
   "execution_count": 2,
   "id": "d34d60b9",
   "metadata": {},
   "outputs": [
    {
     "name": "stdout",
     "output_type": "stream",
     "text": [
      "True\n",
      "False\n"
     ]
    }
   ],
   "source": [
    "#30 check if string is valid email adress\n",
    "import re\n",
    "def is_valid_email(email):\n",
    "    pattern = r'^[\\w\\.-]+@[\\w\\.-]+\\.\\w+$'\n",
    "    if re.match(pattern, email):\n",
    "        return True\n",
    "    else:\n",
    "        return False\n",
    "email1 = \"example@email.com\"\n",
    "email2 = \"invalid-email\"\n",
    "result1 = is_valid_email(email1)\n",
    "result2 = is_valid_email(email2)\n",
    "print(result1)\n",
    "print(result2)"
   ]
  },
  {
   "cell_type": "code",
   "execution_count": 3,
   "id": "4fdb4f9c",
   "metadata": {},
   "outputs": [
    {
     "name": "stdout",
     "output_type": "stream",
     "text": [
      "example\n"
     ]
    }
   ],
   "source": [
    "#31extract tbe username from an email adress string\n",
    "def extract_username(email):\n",
    "    username = email.split('@')[0]\n",
    "    return username\n",
    "# Example email address\n",
    "email = \"example@email.com\"\n",
    "result = extract_username(email)\n",
    "print(result)"
   ]
  },
  {
   "cell_type": "code",
   "execution_count": 6,
   "id": "a05cf091",
   "metadata": {},
   "outputs": [
    {
     "name": "stdout",
     "output_type": "stream",
     "text": [
      "email.com\n"
     ]
    }
   ],
   "source": [
    "#32 extract the domain name from an email adress string\n",
    "def extract_domain(email):\n",
    "    domain = email.split('@')[1]\n",
    "    return domain\n",
    "# Example email address\n",
    "email = \"example@email.com\"\n",
    "result = extract_domain(email)\n",
    "print(result)"
   ]
  },
  {
   "cell_type": "code",
   "execution_count": 11,
   "id": "24faf2f9",
   "metadata": {},
   "outputs": [
    {
     "name": "stdout",
     "output_type": "stream",
     "text": [
      "hello world! how are you?\n"
     ]
    }
   ],
   "source": [
    "#33 replace multiple in a string with a single space\n",
    "def anji(a):\n",
    "    b=' '.join(a.split())\n",
    "    return b\n",
    "c=\"hello    world!   how    are   you?\"\n",
    "d=anji(c)\n",
    "print(d)"
   ]
  },
  {
   "cell_type": "code",
   "execution_count": 12,
   "id": "05eddb70",
   "metadata": {},
   "outputs": [
    {
     "name": "stdout",
     "output_type": "stream",
     "text": [
      "True\n",
      "False\n"
     ]
    }
   ],
   "source": [
    "#34 check if string is valid url\n",
    "from urllib.parse import urlparse\n",
    "def is_valid_url(url):\n",
    "    try:\n",
    "        result = urlparse(url)\n",
    "        return all([result.scheme, result.netloc]) \n",
    "    except ValueError:\n",
    "        return False\n",
    "url1 = \"https://www.example.com\"\n",
    "url2 = \"invalid-url\"\n",
    "result1 = is_valid_url(url1)\n",
    "result2 = is_valid_url(url2)\n",
    "print(result1)\n",
    "print(result2) "
   ]
  },
  {
   "cell_type": "code",
   "execution_count": 15,
   "id": "c343bd96",
   "metadata": {},
   "outputs": [
    {
     "name": "stdout",
     "output_type": "stream",
     "text": [
      "Protocol 1: https\n",
      "Protocol 2: http\n",
      "Protocol 3: ftp\n"
     ]
    }
   ],
   "source": [
    "#35extract the protocal from a url string\n",
    "def extract_protocol(url):\n",
    "    protocol_end = url.find(\"://\")\n",
    "    if protocol_end != -1:\n",
    "        protocol = url[:protocol_end]\n",
    "        return protocol\n",
    "    else:\n",
    "        return None\n",
    "url1 = \"https://www.example.com\"\n",
    "url2 = \"http://google.com\"\n",
    "url3 = \"ftp://ftp.example.com\"\n",
    "protocol1 = extract_protocol(url1)\n",
    "protocol2 = extract_protocol(url2)\n",
    "protocol3 = extract_protocol(url3)\n",
    "print(\"Protocol 1:\", protocol1)\n",
    "print(\"Protocol 2:\", protocol2)\n",
    "print(\"Protocol 3:\", protocol3)"
   ]
  },
  {
   "cell_type": "code",
   "execution_count": 29,
   "id": "cc9f5aab",
   "metadata": {},
   "outputs": [
    {
     "name": "stdout",
     "output_type": "stream",
     "text": [
      "Character: 'm', Frequency: 2\n",
      "Character: 'a', Frequency: 2\n",
      "Character: 'l', Frequency: 2\n",
      "Character: 'e', Frequency: 1\n",
      "Character: 's', Frequency: 1\n",
      "Character: 'h', Frequency: 2\n",
      "Character: ' ', Frequency: 1\n",
      "Character: 'i', Frequency: 1\n"
     ]
    }
   ],
   "source": [
    "def character_frequency(input_string):\n",
    "    frequency = {}\n",
    "    for char in input_string:\n",
    "        if char in frequency:\n",
    "            frequency[char] += 1\n",
    "        else:\n",
    "            frequency[char] = 1\n",
    "    return frequency\n",
    "input_str = \"mallesh hima\"\n",
    "char_freq = character_frequency(input_str)\n",
    "for char, freq in char_freq.items():\n",
    "    print(f\"Character: '{char}', Frequency: {freq}\")"
   ]
  },
  {
   "cell_type": "code",
   "execution_count": 32,
   "id": "5cadae87",
   "metadata": {},
   "outputs": [
    {
     "name": "stdout",
     "output_type": "stream",
     "text": [
      "Object `going` not found.\n",
      "Original string: mallesh hima\n",
      "Cleaned string: mallesh hima\n"
     ]
    }
   ],
   "source": [
    "#37remove all punctuations from a string\n",
    "import string\n",
    "def remove_punctuation(input_string):\n",
    "    translator = str.maketrans(\"\", \"\", string.punctuation)\n",
    "    clean_string = input_string.translate(translator)\n",
    "    return clean_string\n",
    "input_str = \"Hello, world! How's it going?\n",
    "cleaned_str = remove_punctuation(input_str)\n",
    "print(\"Original string:\", input_str)\n",
    "print(\"Cleaned string:\", cleaned_str)"
   ]
  },
  {
   "cell_type": "code",
   "execution_count": 1,
   "id": "f4294895",
   "metadata": {},
   "outputs": [
    {
     "name": "stdout",
     "output_type": "stream",
     "text": [
      "False\n"
     ]
    }
   ],
   "source": [
    "#38check if string contains only digits\n",
    "a1=\"mallesh bandari391\"\n",
    "a2=a1.isdigit()\n",
    "print(a2)"
   ]
  },
  {
   "cell_type": "code",
   "execution_count": 3,
   "id": "771c8a98",
   "metadata": {},
   "outputs": [
    {
     "name": "stdout",
     "output_type": "stream",
     "text": [
      "True\n"
     ]
    }
   ],
   "source": [
    "#39 check if string only alphabets\n",
    "a3=\"malleshhima\"\n",
    "a4=a3.isalpha()\n",
    "print(a4)"
   ]
  },
  {
   "cell_type": "code",
   "execution_count": 4,
   "id": "412756b2",
   "metadata": {},
   "outputs": [
    {
     "name": "stdout",
     "output_type": "stream",
     "text": [
      "['m', 'a', 'l', 'l', 'e', 's', 'h', ' ', 'b', 'a', 'n', 'd', 'a', 'r', 'i', ' ', 'h', 'i', 'm', 'a', ' ', 's', 'u', 'r', 'e', 's', 'h']\n"
     ]
    }
   ],
   "source": [
    "#40 convert a string to a list of characters\n",
    "a5=\"mallesh bandari hima suresh\"\n",
    "a6=list(a5)\n",
    "print(a6)"
   ]
  },
  {
   "cell_type": "code",
   "execution_count": 10,
   "id": "a5c9b3d3",
   "metadata": {},
   "outputs": [
    {
     "name": "stdout",
     "output_type": "stream",
     "text": [
      "'listen' and 'silent' are anagrams: True\n",
      "'hello' and 'world' are anagrams: False\n"
     ]
    }
   ],
   "source": [
    "#41 check if two strings are anagrams\n",
    "def hima(s1,s2):\n",
    "    s1 = s1.replace(\" \", \"\").lower()\n",
    "    s2 = s2.replace(\" \", \"\").lower()\n",
    "    return sorted(s1) == sorted(s2)\n",
    "s1 = \"listen\"\n",
    "s2 = \"silent\"\n",
    "s3 = \"hello\"\n",
    "s4 = \"world\"\n",
    "result1 = hima(s1,s2)\n",
    "result2 = hima(s3,s4)\n",
    "print(f\"'{s1}' and '{s2}' are anagrams:\", result1)\n",
    "print(f\"'{s3}' and '{s4}' are anagrams:\", result2)"
   ]
  },
  {
   "cell_type": "code",
   "execution_count": 6,
   "id": "e666597b",
   "metadata": {},
   "outputs": [
    {
     "name": "stdout",
     "output_type": "stream",
     "text": [
      "Encoded text: , !\n"
     ]
    }
   ],
   "source": [
    "#42 Encode a string using a Caesar cipher.\n",
    "def mahi(a,b):\n",
    "    d=\"\"\n",
    "    for i in a:\n",
    "        if i.isalpha():\n",
    "            c=chr((ord(i)+b-ord('a'))%26+ord('a'))\n",
    "        else:\n",
    "            c=i\n",
    "            d+=c\n",
    "    return d\n",
    "f=\"Hello, world!\"\n",
    "g=3\n",
    "k=mahi(f,g)\n",
    "print(\"Encoded text:\",k)"
   ]
  },
  {
   "cell_type": "code",
   "execution_count": 7,
   "id": "bb984e10",
   "metadata": {},
   "outputs": [
    {
     "name": "stdout",
     "output_type": "stream",
     "text": [
      " !\n"
     ]
    }
   ],
   "source": [
    "#43 Decode a Caesar cipher encoded string.\n",
    "def luky(k,b):\n",
    "    c=\"\"\n",
    "    for i in k:\n",
    "        if i.isalpha():\n",
    "            d=chr((ord(i)-b-ord('a'))%26+ord('a'))\n",
    "        else:\n",
    "            d=i\n",
    "            c+=d\n",
    "    return c\n",
    "k=\"lopp zroug!\"\n",
    "b=3\n",
    "c=luky(k,b)\n",
    "print(c)\n",
    "            "
   ]
  },
  {
   "cell_type": "code",
   "execution_count": 8,
   "id": "6c657b3c",
   "metadata": {},
   "outputs": [
    {
     "name": "stdout",
     "output_type": "stream",
     "text": [
      "Most frequent word: hello\n"
     ]
    }
   ],
   "source": [
    "#44 Find the most frequent word in a string.\n",
    "import re\n",
    "from collections import Counter\n",
    "def most_frequent_word(input_string):\n",
    "    clean_string = re.sub(r'[^\\w\\s]', '', input_string).lower()\n",
    "    words = clean_string.split()\n",
    "    word_counter = Counter(words)\n",
    "    most_common_word = word_counter.most_common(1)[0][0]\n",
    "    return most_common_word\n",
    "input_str = \"Hello world, hello there! How's the world?\"\n",
    "most_common = most_frequent_word(input_str)\n",
    "print(\"Most frequent word:\", most_common)"
   ]
  },
  {
   "cell_type": "code",
   "execution_count": 9,
   "id": "bf091233",
   "metadata": {},
   "outputs": [
    {
     "name": "stdout",
     "output_type": "stream",
     "text": [
      "Unique words: {'hello', 'there', 'world', 'the', 'hows'}\n"
     ]
    }
   ],
   "source": [
    "#45.Find all unique words in a string.\n",
    "import re\n",
    "def unique_words(input_string):\n",
    "    clean_string = re.sub(r'[^\\w\\s]', '', input_string).lower()\n",
    "    words = set(clean_string.split())\n",
    "    return words\n",
    "input_str = \"Hello world, hello there! How's the world?\"\n",
    "unique_word_set = unique_words(input_str)\n",
    "print(\"Unique words:\", unique_word_set)"
   ]
  },
  {
   "cell_type": "code",
   "execution_count": 10,
   "id": "cd097cbc",
   "metadata": {},
   "outputs": [
    {
     "name": "stdout",
     "output_type": "stream",
     "text": [
      "'hello' has 2 syllables.\n",
      "'banana' has 3 syllables.\n",
      "'syllable' has 3 syllables.\n"
     ]
    }
   ],
   "source": [
    "#46 Count the number of syllables in a string\n",
    "import re\n",
    "def count_syllables(word):\n",
    "    vowel_groups = re.findall(r'[aeiouy]+', word, re.IGNORECASE)\n",
    "    return len(vowel_groups)\n",
    "word1 = \"hello\"\n",
    "word2 = \"banana\"\n",
    "word3 = \"syllable\"\n",
    "syllables1 = count_syllables(word1)\n",
    "syllables2 = count_syllables(word2)\n",
    "syllables3 = count_syllables(word3)\n",
    "print(f\"'{word1}' has {syllables1} syllables.\")\n",
    "print(f\"'{word2}' has {syllables2} syllables.\")\n",
    "print(f\"'{word3}' has {syllables3} syllables.\")"
   ]
  },
  {
   "cell_type": "code",
   "execution_count": 11,
   "id": "3060f76a",
   "metadata": {},
   "outputs": [
    {
     "name": "stdout",
     "output_type": "stream",
     "text": [
      "'Hello, world!' contains special characters: True\n",
      "'This is a test.' contains special characters: True\n",
      "'Special@Characters' contains special characters: True\n"
     ]
    }
   ],
   "source": [
    "#47.Check if a string contains any special characters\n",
    "import re\n",
    "def contains_special_characters(input_string):\n",
    "    pattern = re.compile(r'[!@#$%^&*()_+{}\\[\\]:;<>,.?~\\\\/]')\n",
    "    match = pattern.search(input_string)\n",
    "    return bool(match)\n",
    "string1 = \"Hello, world!\"\n",
    "string2 = \"This is a test.\"\n",
    "string3 = \"Special@Characters\"\n",
    "result1 = contains_special_characters(string1)\n",
    "result2 = contains_special_characters(string2)\n",
    "result3 = contains_special_characters(string3)\n",
    "print(f\"'{string1}' contains special characters:\", result1)\n",
    "print(f\"'{string2}' contains special characters:\", result2)\n",
    "print(f\"'{string3}' contains special characters:\", result3)"
   ]
  },
  {
   "cell_type": "code",
   "execution_count": 12,
   "id": "6b2e15d2",
   "metadata": {},
   "outputs": [
    {
     "name": "stdout",
     "output_type": "stream",
     "text": [
      "Original string: This is an example sentence to test the function.\n",
      "Modified string: This is an sentence to test the function.\n",
      "Removed word: example\n"
     ]
    }
   ],
   "source": [
    "#48. Remove the nth word from a string.\n",
    "def remove_nth_word(input_string, n):\n",
    "    words = input_string.split()\n",
    "    if n >= 1 and n <= len(words):\n",
    "        removed_word = words.pop(n - 1)\n",
    "        modified_string = ' '.join(words)\n",
    "        return modified_string, removed_word\n",
    "    else:\n",
    "        return None, None\n",
    "input_str = \"This is an example sentence to test the function.\"\n",
    "n_value = 4\n",
    "modified_str, removed_word = remove_nth_word(input_str, n_value)\n",
    "print(\"Original string:\", input_str)\n",
    "if modified_str is not None:\n",
    " print(\"Modified string:\", modified_str)\n",
    " print(\"Removed word:\", removed_word)\n",
    "else:\n",
    " print(\"Invalid n value.\")"
   ]
  },
  {
   "cell_type": "code",
   "execution_count": 24,
   "id": "0b9fa631",
   "metadata": {},
   "outputs": [
    {
     "name": "stdout",
     "output_type": "stream",
     "text": [
      "['mallesh', 'bandari', 'loves', 'hima', 'suresh']\n",
      "None\n"
     ]
    }
   ],
   "source": [
    "#49. Insert a word at the nth position in a string.\n",
    "a1=\"mallesh bandari loves hima suresh\"\n",
    "a2=a1.split()\n",
    "print(a2)\n",
    "a3=a2.insert(1,\"naksha\")\n",
    "print(a3)"
   ]
  },
  {
   "cell_type": "code",
   "execution_count": 3,
   "id": "144eb9d4",
   "metadata": {},
   "outputs": [
    {
     "name": "stdout",
     "output_type": "stream",
     "text": [
      "['Name', ' Age', ' Country']\n",
      "['John', ' 25', ' USA']\n",
      "['Alice', ' 30', ' Canada']\n",
      "['Bob', '22', ' UK']\n"
     ]
    }
   ],
   "source": [
    "#50. Convert a CSV string to a list of lists.\n",
    "def csv_string_to_list(csv_string):\n",
    "    lines = csv_string.split('\\n')\n",
    "    result = []\n",
    "    for line in lines:\n",
    "        fields = line.split(',')\n",
    "        result.append(fields)\n",
    "    return result\n",
    "csv_data = \"Name, Age, Country\\nJohn, 25, USA\\nAlice, 30, Canada\\nBob,22, UK\"\n",
    "list_of_lists = csv_string_to_list(csv_data)\n",
    "for row in list_of_lists:\n",
    "    print(row)"
   ]
  },
  {
   "cell_type": "code",
   "execution_count": 4,
   "id": "3da8fea8",
   "metadata": {},
   "outputs": [
    {
     "name": "stdout",
     "output_type": "stream",
     "text": [
      "[1, 2, 3, 4, 5, 6, 7, 8, 9]\n"
     ]
    }
   ],
   "source": [
    "#1.Create a list with integers from 1 to 10.\n",
    "a=range(1,10)\n",
    "a1=list(a)\n",
    "print(a1)"
   ]
  },
  {
   "cell_type": "code",
   "execution_count": 2,
   "id": "0a634e39",
   "metadata": {},
   "outputs": [
    {
     "name": "stdout",
     "output_type": "stream",
     "text": [
      "6\n"
     ]
    }
   ],
   "source": [
    "#2. Find the length of a list without using the `len()` function.\n",
    "def kavi(a2):\n",
    "    c=0\n",
    "    for i in a2:\n",
    "        c+=1\n",
    "    return c\n",
    "l=[10,56,25,55,25,36]\n",
    "d=kavi(l)\n",
    "print(d)        "
   ]
  },
  {
   "cell_type": "code",
   "execution_count": 9,
   "id": "0e71458e",
   "metadata": {},
   "outputs": [
    {
     "name": "stdout",
     "output_type": "stream",
     "text": [
      "[10, 36, 65, 33, 25, 34, 15, 30]\n"
     ]
    }
   ],
   "source": [
    "#3 Append an element to the end of a list\n",
    "d=[10,36,65,33,25,34,15]\n",
    "d.append(30)\n",
    "print(d)"
   ]
  },
  {
   "cell_type": "code",
   "execution_count": 10,
   "id": "3da72fdc",
   "metadata": {},
   "outputs": [
    {
     "name": "stdout",
     "output_type": "stream",
     "text": [
      "[10, 20, 30, 60, 40, 50]\n"
     ]
    }
   ],
   "source": [
    "#4. Insert an element at a specific index in a list\n",
    "a3=[10,20,30,40,50]\n",
    "a3.insert(3,60)\n",
    "print(a3)"
   ]
  },
  {
   "cell_type": "code",
   "execution_count": 13,
   "id": "2e19da47",
   "metadata": {},
   "outputs": [
    {
     "data": {
      "text/plain": [
       "[10, 55, 25, 22, 36, 45, 12, 55, 14, 42]"
      ]
     },
     "execution_count": 13,
     "metadata": {},
     "output_type": "execute_result"
    }
   ],
   "source": [
    "#5. Remove an element from a list by its value.\n",
    "a4=[10,55,22,25,22,36,45,12,55,14,42]\n",
    "a4.remove(22)\n",
    "a4"
   ]
  },
  {
   "cell_type": "code",
   "execution_count": 22,
   "id": "04e13334",
   "metadata": {},
   "outputs": [
    {
     "data": {
      "text/plain": [
       "[58, 65, 69, 18, 35, 15]"
      ]
     },
     "execution_count": 22,
     "metadata": {},
     "output_type": "execute_result"
    }
   ],
   "source": [
    "#6. Remove an element from a list by its index\n",
    "a5=[18,58,65,55,69,18,35,15]\n",
    "a5.pop(0)\n",
    "a5\n",
    "a5.pop(2)\n",
    "a5"
   ]
  },
  {
   "cell_type": "code",
   "execution_count": 26,
   "id": "49379e98",
   "metadata": {},
   "outputs": [
    {
     "name": "stdout",
     "output_type": "stream",
     "text": [
      "iam mallesh 46\n"
     ]
    }
   ],
   "source": [
    "#7. Check if an element exists in a list.\n",
    "a6=[15,26,31,289,46,25,15,18,38,12]\n",
    "b2=46\n",
    "if b2 in a6:\n",
    "    print(\"iam mallesh\",b2)\n",
    "else:\n",
    "    print(\"hima\",b2)"
   ]
  },
  {
   "cell_type": "code",
   "execution_count": 31,
   "id": "51a45780",
   "metadata": {},
   "outputs": [
    {
     "name": "stdout",
     "output_type": "stream",
     "text": [
      "25 0\n"
     ]
    }
   ],
   "source": [
    "#8.Find the index of the first occurrence of an element in a list.\n",
    "a8=[25,66,215,45,454,25,25,558]\n",
    "a9=25\n",
    "a7=a8.index(a9)\n",
    "print(a9,a7)"
   ]
  },
  {
   "cell_type": "code",
   "execution_count": 32,
   "id": "8dfe579a",
   "metadata": {},
   "outputs": [
    {
     "data": {
      "text/plain": [
       "3"
      ]
     },
     "execution_count": 32,
     "metadata": {},
     "output_type": "execute_result"
    }
   ],
   "source": [
    "#9.Count the occurrences of an element in a list.\n",
    "a4=[12,44,154,26,14,25,14,36,12,14,12]\n",
    "a4.count(12)"
   ]
  },
  {
   "cell_type": "code",
   "execution_count": 36,
   "id": "ee848ba7",
   "metadata": {},
   "outputs": [
    {
     "data": {
      "text/plain": [
       "[36, 14, 13, 22, 215, 66, 15]"
      ]
     },
     "execution_count": 36,
     "metadata": {},
     "output_type": "execute_result"
    }
   ],
   "source": [
    "#10.Reverse the order of elements in a list\n",
    "a5=[15,66,215,22,13,14,36]\n",
    "a6=a5[::-1]\n",
    "a6"
   ]
  },
  {
   "cell_type": "code",
   "execution_count": 43,
   "id": "14954aa4",
   "metadata": {},
   "outputs": [
    {
     "data": {
      "text/plain": [
       "[10, 11, 21, 26, 45, 55, 56, 254]"
      ]
     },
     "execution_count": 43,
     "metadata": {},
     "output_type": "execute_result"
    }
   ],
   "source": [
    "#11.Sort a list in ascending order.\n",
    "a2=[10,56,45,254,26,21,55,11]\n",
    "a2.sort()\n",
    "a2"
   ]
  },
  {
   "cell_type": "code",
   "execution_count": 51,
   "id": "6f531671",
   "metadata": {},
   "outputs": [
    {
     "data": {
      "text/plain": [
       "[265, 66, 54, 36, 36, 29, 25, 25, 11]"
      ]
     },
     "execution_count": 51,
     "metadata": {},
     "output_type": "execute_result"
    }
   ],
   "source": [
    "#12.Sort a list in descending order\n",
    "a3=[25,36,66,25,265,29,36,11,54]\n",
    "a3.sort()\n",
    "a3.reverse()\n",
    "a3"
   ]
  },
  {
   "cell_type": "code",
   "execution_count": 56,
   "id": "da99a1e6",
   "metadata": {},
   "outputs": [
    {
     "name": "stdout",
     "output_type": "stream",
     "text": [
      "[2, 4, 6, 8, 10, 12, 14, 16, 18, 20]\n"
     ]
    }
   ],
   "source": [
    "#13.Create a list of even numbers from 1 to 20.\n",
    "a6=range(2,21,2)\n",
    "a7=list(a6)\n",
    "print(a7)"
   ]
  },
  {
   "cell_type": "code",
   "execution_count": 58,
   "id": "2d69485f",
   "metadata": {},
   "outputs": [
    {
     "name": "stdout",
     "output_type": "stream",
     "text": [
      "[1, 3, 5, 7, 9, 11, 13, 15, 17, 19]\n"
     ]
    }
   ],
   "source": [
    "#14.Create a list of odd numbers from 1 to 20\n",
    "a7=range(1,21,2)\n",
    "a8=list(a7)\n",
    "print(a8)"
   ]
  },
  {
   "cell_type": "code",
   "execution_count": 61,
   "id": "05764d98",
   "metadata": {},
   "outputs": [
    {
     "data": {
      "text/plain": [
       "200"
      ]
     },
     "execution_count": 61,
     "metadata": {},
     "output_type": "execute_result"
    }
   ],
   "source": [
    "#15.Find the sum of all elements in a list.\n",
    "a4=[12,66,25,36,58,3]\n",
    "a5=sum(a4)\n",
    "a5"
   ]
  },
  {
   "cell_type": "code",
   "execution_count": 63,
   "id": "04660778",
   "metadata": {},
   "outputs": [
    {
     "name": "stdout",
     "output_type": "stream",
     "text": [
      "363\n"
     ]
    }
   ],
   "source": [
    "#16.Find the maximum value in a list.\n",
    "a6=[23,25,15,36,15,363,25,15,44]\n",
    "a7=max(a6)\n",
    "print(a7)"
   ]
  },
  {
   "cell_type": "code",
   "execution_count": 64,
   "id": "00fc5bc5",
   "metadata": {},
   "outputs": [
    {
     "data": {
      "text/plain": [
       "12"
      ]
     },
     "execution_count": 64,
     "metadata": {},
     "output_type": "execute_result"
    }
   ],
   "source": [
    "#17.Find the minimum value in a list.\n",
    "a1=[12,68,14,225,12,36,36,26]\n",
    "a2=min(a1)\n",
    "a2"
   ]
  },
  {
   "cell_type": "code",
   "execution_count": 77,
   "id": "495f811d",
   "metadata": {},
   "outputs": [
    {
     "data": {
      "text/plain": [
       "[1, 4, 9, 16, 25, 36, 49, 64, 81, 100]"
      ]
     },
     "execution_count": 77,
     "metadata": {},
     "output_type": "execute_result"
    }
   ],
   "source": [
    "#18.Create a list of squares of numbers from 1 to 10.\n",
    "a4=[x**2 for x in range(1,11)]\n",
    "a4"
   ]
  },
  {
   "cell_type": "code",
   "execution_count": 1,
   "id": "a9e2e6f0",
   "metadata": {},
   "outputs": [
    {
     "name": "stdout",
     "output_type": "stream",
     "text": [
      "[58, 97, 93, 58, 55, 75, 61, 18, 71, 53]\n"
     ]
    }
   ],
   "source": [
    "#19.Create a list of random numbers.\n",
    "import random \n",
    "a=[random.randint(1,100) for x in range(10)]\n",
    "print(a)"
   ]
  },
  {
   "cell_type": "code",
   "execution_count": 2,
   "id": "f27749ed",
   "metadata": {},
   "outputs": [
    {
     "data": {
      "text/plain": [
       "{10, 22, 33, 35, 36, 63, 225}"
      ]
     },
     "execution_count": 2,
     "metadata": {},
     "output_type": "execute_result"
    }
   ],
   "source": [
    "#20.Remove duplicates from a list.\n",
    "a5=[10,63,36,35,36,36,33,225,22,33]\n",
    "a6=set(a5)\n",
    "a6"
   ]
  },
  {
   "cell_type": "code",
   "execution_count": 10,
   "id": "83c61bee",
   "metadata": {},
   "outputs": [
    {
     "data": {
      "text/plain": [
       "[55, 66, 66]"
      ]
     },
     "execution_count": 10,
     "metadata": {},
     "output_type": "execute_result"
    }
   ],
   "source": [
    "#21.Find the common elements between two lists.\n",
    "a2=[55,26,66,54,66]\n",
    "a3=[36,56,55,66,24]\n",
    "[x for x in a2 if x in a3]"
   ]
  },
  {
   "cell_type": "code",
   "execution_count": 12,
   "id": "372b5f58",
   "metadata": {},
   "outputs": [
    {
     "data": {
      "text/plain": [
       "[33, 55]"
      ]
     },
     "execution_count": 12,
     "metadata": {},
     "output_type": "execute_result"
    }
   ],
   "source": [
    "#22.Find the difference between two lists.\n",
    "a1=[55,36,25,32,33]\n",
    "a2=[16,25,36,32,22]\n",
    "a3=set(a1).difference(a2)\n",
    "a3\n",
    "a4=list(a3)\n",
    "a4"
   ]
  },
  {
   "cell_type": "code",
   "execution_count": 14,
   "id": "a2348537",
   "metadata": {},
   "outputs": [
    {
     "data": {
      "text/plain": [
       "[25, 36, 22, 35, 66, 36, 52, 20]"
      ]
     },
     "execution_count": 14,
     "metadata": {},
     "output_type": "execute_result"
    }
   ],
   "source": [
    "#23.Merge two lists.\n",
    "a6=[25,36,22,35]\n",
    "a7=[66,36,52,20]\n",
    "a8=a6+a7\n",
    "a8"
   ]
  },
  {
   "cell_type": "code",
   "execution_count": 17,
   "id": "34809276",
   "metadata": {},
   "outputs": [
    {
     "name": "stdout",
     "output_type": "stream",
     "text": [
      "[90, 50, 64, 112, 42, 70]\n"
     ]
    }
   ],
   "source": [
    "#24.Multiply all elements in a list by 2.\n",
    "a9=[45,25,32,56,21,35]\n",
    "a1=[i*2 for i in a9]\n",
    "print(a1)"
   ]
  },
  {
   "cell_type": "code",
   "execution_count": 21,
   "id": "a945158c",
   "metadata": {},
   "outputs": [
    {
     "name": "stdout",
     "output_type": "stream",
     "text": [
      "[25, 23, 33, 335, 65]\n"
     ]
    }
   ],
   "source": [
    "#25.Filter out all even numbers from a list.\n",
    "b1=[25,23,33,22,26,52,264,335,65]\n",
    "b2=[x for x in b1 if x%2!=0]\n",
    "print(b2)"
   ]
  },
  {
   "cell_type": "code",
   "execution_count": 34,
   "id": "2645c047",
   "metadata": {},
   "outputs": [
    {
     "data": {
      "text/plain": [
       "[36, 632, 22, 25, 363]"
      ]
     },
     "execution_count": 34,
     "metadata": {},
     "output_type": "execute_result"
    }
   ],
   "source": [
    "#26.Convert a list of strings to a list of integers.\n",
    "b3=[\"36\",\"632\",\"22\",\"25\",\"363\"]\n",
    "b4=[int(i) for i in b3]\n",
    "b4"
   ]
  },
  {
   "cell_type": "code",
   "execution_count": 35,
   "id": "68fe516c",
   "metadata": {},
   "outputs": [
    {
     "name": "stdout",
     "output_type": "stream",
     "text": [
      "['25', '36', '25', '35', '36', '25', '15', '25']\n"
     ]
    }
   ],
   "source": [
    "#27.Convert a list of integers to a list of strings.\n",
    "c=[25,36,25,35,36,25,15,25]\n",
    "c1=[str(k) for k in c]\n",
    "print(c1)"
   ]
  },
  {
   "cell_type": "code",
   "execution_count": 7,
   "id": "28dd6b79",
   "metadata": {},
   "outputs": [
    {
     "name": "stdout",
     "output_type": "stream",
     "text": [
      "[10, 20, 35, 63, 52, 14, 18, 25, 14, 32, 12, 15]\n"
     ]
    }
   ],
   "source": [
    "#28.Flatten a nested list.\n",
    "def mahi(a):\n",
    "    b=[]\n",
    "    for i in a:\n",
    "        if isinstance(i,list):\n",
    "            b.extend(mahi(i))\n",
    "        else:\n",
    "            b.append(i)\n",
    "    return b\n",
    "a=[[10,20,35],[63,52,14],[18,25],[14,32,12,15]]\n",
    "e=mahi(a)\n",
    "print(e)\n",
    "                \n",
    "    "
   ]
  },
  {
   "cell_type": "code",
   "execution_count": 13,
   "id": "05cfe8fa",
   "metadata": {},
   "outputs": [
    {
     "name": "stdout",
     "output_type": "stream",
     "text": [
      "[0, 1]\n"
     ]
    }
   ],
   "source": [
    "#29.Create a list of the first 10 Fibonacci numbers\n",
    "def mallu(c):\n",
    "    a=[0,1]\n",
    "    for i in range(2,c):\n",
    "        d=mallu(i-1)+mallu(i-2)\n",
    "        a.append(d)\n",
    "    return a\n",
    "e=mallu(2)\n",
    "print(e)"
   ]
  },
  {
   "cell_type": "code",
   "execution_count": 15,
   "id": "6b3830f8",
   "metadata": {},
   "outputs": [
    {
     "name": "stdout",
     "output_type": "stream",
     "text": [
      "The list is sorted in ascending order.\n"
     ]
    }
   ],
   "source": [
    "#30.Check if a list is sorted.\n",
    "def laxmi(lst):\n",
    "    for i in range(1, len(lst)):\n",
    "        if lst[i] < lst[i - 1]:\n",
    "            return False\n",
    "    return True\n",
    "a = [10, 20, 30, 40, 50]\n",
    "if laxmi(a):\n",
    "    print(\"The list is sorted in ascending order.\")\n",
    "else:\n",
    "    print(\"The list is not sorted in ascending order.\")"
   ]
  },
  {
   "cell_type": "code",
   "execution_count": 27,
   "id": "089d0c8d",
   "metadata": {},
   "outputs": [
    {
     "name": "stdout",
     "output_type": "stream",
     "text": [
      "[3, 4, 5, 6, 7, 8, 1, 2]\n"
     ]
    }
   ],
   "source": [
    "#31.Rotate a list to the left by `n` positions\n",
    "def kali(lst,n):\n",
    "    n=n % len(lst)\n",
    "    a=lst[n:]+lst[:n]\n",
    "    return a\n",
    "l=[1,2,3,4,5,6,7,8]\n",
    "n=2\n",
    "k=kali(l,n)\n",
    "print(k)"
   ]
  },
  {
   "cell_type": "code",
   "execution_count": 31,
   "id": "d57146ff",
   "metadata": {},
   "outputs": [
    {
     "name": "stdout",
     "output_type": "stream",
     "text": [
      "[4, 5, 6, 7, 8, 1, 2, 3]\n"
     ]
    }
   ],
   "source": [
    "#32.Rotate a list to the right by `n` positions.\n",
    "def babu(lst,n):\n",
    "    n=n%len(lst)\n",
    "    a=lst[-n:]+lst[:-n]\n",
    "    return a\n",
    "b=[1,2,3,4,5,6,7,8]\n",
    "n=5\n",
    "f=babu(b,n)\n",
    "print(f)"
   ]
  },
  {
   "cell_type": "code",
   "execution_count": 32,
   "id": "ef67e02d",
   "metadata": {},
   "outputs": [
    {
     "name": "stdout",
     "output_type": "stream",
     "text": [
      "5 25\n",
      "5 29\n",
      "List of prime numbers up to 50: [2, 3, 5, 7, 11, 13, 17, 19, 23, 29]\n"
     ]
    }
   ],
   "source": [
    "#33.Create a list of prime numbers up to 50.\n",
    "def is_prime(num):\n",
    "    if num <= 1:\n",
    "        return False\n",
    "    if num <= 3:\n",
    "        return True\n",
    "    if num % 2 == 0 or num % 3 == 0:\n",
    "        return False\n",
    "    i = 5\n",
    "    while i * i <= num:\n",
    "        print(i,num)\n",
    "        if num % i == 0 or num % (i + 2) == 0:\n",
    "            return False\n",
    "        i += 6\n",
    "    return True\n",
    "prime_numbers = [num for num in range(2,30) if is_prime(num)]\n",
    "print(\"List of prime numbers up to 50:\", prime_numbers)"
   ]
  },
  {
   "cell_type": "code",
   "execution_count": 4,
   "id": "e0802875",
   "metadata": {},
   "outputs": [
    {
     "name": "stdout",
     "output_type": "stream",
     "text": [
      "List of prime numbers up to 50: [2, 3, 5, 7, 11, 13, 17, 19, 23, 29, 31, 37, 41, 43, 47, 53, 59, 61, 67, 71, 73, 79, 83, 89, 97]\n"
     ]
    }
   ],
   "source": [
    "#34.Split a list into chunks of size `n\n",
    "def anji(l):\n",
    "    a= []\n",
    "    k= [True] * (l + 1)\n",
    "    k[0] = k[1] = False\n",
    "    for n in range(2, int(l** 0.5) + 1):\n",
    "        if k[n]:\n",
    "            a.append(n)\n",
    "            for m in range(n * n, l + 1, n):\n",
    "                k[m] = False\n",
    "    for n in range(int(l ** 0.5) + 1, l + 1):\n",
    "        if k[n]:\n",
    "            a.append(n)\n",
    "    return a\n",
    "b = anji(100)\n",
    "print(\"List of prime numbers up to 50:\",b)"
   ]
  },
  {
   "cell_type": "code",
   "execution_count": 3,
   "id": "320c3819",
   "metadata": {},
   "outputs": [
    {
     "name": "stdout",
     "output_type": "stream",
     "text": [
      "Second largest number: 25\n"
     ]
    }
   ],
   "source": [
    "#35.Find the second largest number in a list.\n",
    "a = [10, 5, 20, 15, 30, 25]\n",
    "s = sorted(set(a))\n",
    "if len(s) >= 2:\n",
    "    b= s[-2]\n",
    "    print(\"Second largest number:\", b)\n",
    "else:\n",
    "    print(\"The list does not contain enough elements.\")"
   ]
  },
  {
   "cell_type": "code",
   "execution_count": 11,
   "id": "bcdc9db9",
   "metadata": {},
   "outputs": [
    {
     "name": "stdout",
     "output_type": "stream",
     "text": [
      "4\n",
      "16\n",
      "9\n",
      "36\n",
      "49\n",
      "64\n"
     ]
    }
   ],
   "source": [
    "#36.Replace every element in a list with its square.\n",
    "c=[2,4,3,6,7,8]\n",
    "for i in c:\n",
    "    print(i**2)"
   ]
  },
  {
   "cell_type": "code",
   "execution_count": 22,
   "id": "a138c471",
   "metadata": {},
   "outputs": [
    {
     "name": "stdout",
     "output_type": "stream",
     "text": [
      "Converted dictionary: {'mallesh': 0, 'hima': 1, 'anjali': 2, 'treesa': 3}\n"
     ]
    }
   ],
   "source": [
    "#37.Convert a list to a dictionary where list elements become keys and their indices become values.\n",
    "m=[\"mallesh\",\"hima\",\"anjali\",\"treesa\"]\n",
    "k={a: index for index,a in enumerate(m)}\n",
    "print(\"Converted dictionary:\",k)"
   ]
  },
  {
   "cell_type": "code",
   "execution_count": 24,
   "id": "cb72e53f",
   "metadata": {},
   "outputs": [
    {
     "name": "stdout",
     "output_type": "stream",
     "text": [
      "[30, 10, 40, 20, 50, 60]\n"
     ]
    }
   ],
   "source": [
    "#38.Shuffle the elements of a list randomly.\n",
    "import random\n",
    "c=[10,20,30,40,50,60]\n",
    "d=random.shuffle(c)\n",
    "print(c)"
   ]
  },
  {
   "cell_type": "code",
   "execution_count": 39,
   "id": "5099c3d7",
   "metadata": {},
   "outputs": [
    {
     "name": "stdout",
     "output_type": "stream",
     "text": [
      "[1, 1, 2, 6, 24, 120, 720, 5040, 40320, 362880]\n"
     ]
    }
   ],
   "source": [
    "#39.Create a list of the first 10 factorial numbers.\n",
    "def hima(k):\n",
    "    if k==0 or k==1:\n",
    "        return 1\n",
    "    else:\n",
    "        return k*hima(k-1)\n",
    "s=[hima(i) for i in range(10)]\n",
    "print(s)"
   ]
  },
  {
   "cell_type": "code",
   "execution_count": 42,
   "id": "06136c06",
   "metadata": {},
   "outputs": [
    {
     "name": "stdout",
     "output_type": "stream",
     "text": [
      "The lists do not have any common elements.\n"
     ]
    }
   ],
   "source": [
    "#40.Check if two lists have at least one element in common.\n",
    "def treesa(l1,l2):\n",
    "    for i in l1:\n",
    "        if k in l2:\n",
    "            return True\n",
    "    return False\n",
    "l1=[1, 2, 3, 4, 5]\n",
    "l2=[4, 5, 6, 7, 8]\n",
    "if treesa(l1,l2):\n",
    "    print(\"The lists have at least one common element.\")\n",
    "else:\n",
    "    print(\"The lists do not have any common elements.\")"
   ]
  },
  {
   "cell_type": "code",
   "execution_count": 45,
   "id": "fa2c4e7d",
   "metadata": {},
   "outputs": [
    {
     "name": "stdout",
     "output_type": "stream",
     "text": [
      "[]\n"
     ]
    }
   ],
   "source": [
    "#41.Remove all elements from a list.\n",
    "a1=[10,52,32,35,15,16]\n",
    "a1.clear()\n",
    "print(a1)"
   ]
  },
  {
   "cell_type": "code",
   "execution_count": 46,
   "id": "63e6eaf9",
   "metadata": {},
   "outputs": [
    {
     "name": "stdout",
     "output_type": "stream",
     "text": [
      "[0, 30, 60, 90, 0, 55, 0, 0]\n"
     ]
    }
   ],
   "source": [
    "#42.Replace negative numbers in a list with 0.\n",
    "a2=[-10,30,60,90,-40,55,-66,-10]\n",
    "for i in range(len(a2)):\n",
    "    if a2[i]<=0:\n",
    "        a2[i]=0\n",
    "print(a2)\n",
    "        "
   ]
  },
  {
   "cell_type": "code",
   "execution_count": 2,
   "id": "5bd455db",
   "metadata": {},
   "outputs": [
    {
     "name": "stdout",
     "output_type": "stream",
     "text": [
      "['i', 'love', 'hima', 'suresh', 'mallesh', 'bandari', 'mallesh', 'hima']\n"
     ]
    }
   ],
   "source": [
    "#43.Convert a string into a list of words.\n",
    "a4=\"i love hima suresh mallesh bandari mallesh hima\"\n",
    "a5=a4.split()\n",
    "print(a5)"
   ]
  },
  {
   "cell_type": "code",
   "execution_count": 10,
   "id": "667488dc",
   "metadata": {},
   "outputs": [
    {
     "data": {
      "text/plain": [
       "'mallesh hima suresh bandari love'"
      ]
     },
     "execution_count": 10,
     "metadata": {},
     "output_type": "execute_result"
    }
   ],
   "source": [
    "#44.Convert a list of words into a string.\n",
    "a6=[\"mallesh\",\"hima\",\"suresh\",\"bandari\",\"love\"]\n",
    "a7=\" \".join(a6)\n",
    "a7"
   ]
  },
  {
   "cell_type": "code",
   "execution_count": 20,
   "id": "47d0086c",
   "metadata": {},
   "outputs": [
    {
     "name": "stdout",
     "output_type": "stream",
     "text": [
      "[1, 2, 4, 8, 16]\n"
     ]
    }
   ],
   "source": [
    "#45.Create a list of the first `n` powers of 2.\n",
    "n=5\n",
    "a1=[2**i for i in range(n)]\n",
    "print(a1)"
   ]
  },
  {
   "cell_type": "code",
   "execution_count": 27,
   "id": "b716cb44",
   "metadata": {},
   "outputs": [
    {
     "name": "stdout",
     "output_type": "stream",
     "text": [
      "Longest string: elderberry\n"
     ]
    }
   ],
   "source": [
    "s=[\"apple\", \"banana\", \"cherry\", \"date\", \"elderberry\"]\n",
    "l=\"\"\n",
    "for i in s:\n",
    "    if len(i)>len(l):\n",
    "        l=i\n",
    "print(\"Longest string:\",l)"
   ]
  },
  {
   "cell_type": "code",
   "execution_count": 34,
   "id": "189c25a7",
   "metadata": {},
   "outputs": [
    {
     "name": "stdout",
     "output_type": "stream",
     "text": [
      "Shortest string: date\n"
     ]
    }
   ],
   "source": [
    "#47.Find the shortest string in a list of string.\n",
    "s1=[\"apple\", \"banana\", \"cherry\", \"date\", \"elderberry\"]\n",
    "a2=s1[0]\n",
    "for s in s1:\n",
    "    if len(s)<len(s1):\n",
    "        a2=s\n",
    "print(\"Shortest string:\",a2)"
   ]
  },
  {
   "cell_type": "code",
   "execution_count": 35,
   "id": "aed36d5b",
   "metadata": {},
   "outputs": [
    {
     "name": "stdout",
     "output_type": "stream",
     "text": [
      "List of the first 5 triangular numbers: [1, 3, 6, 10, 15]\n"
     ]
    }
   ],
   "source": [
    "#48.Create a list of the first `n` triangular numbers.\n",
    "def kaki(n):\n",
    "    return [i*(i + 1)//2 for i in range(1, n + 1)]\n",
    "n = 5\n",
    "s3= kaki(n)\n",
    "print(\"List of the first\", n, \"triangular numbers:\",s3)"
   ]
  },
  {
   "cell_type": "code",
   "execution_count": 36,
   "id": "1f50838e",
   "metadata": {},
   "outputs": [
    {
     "name": "stdout",
     "output_type": "stream",
     "text": [
      "Main list contains the subsequence.\n"
     ]
    }
   ],
   "source": [
    "#49.Check if a list contains another list as a subsequence.\n",
    "def malli(s,m):\n",
    "    a1=0\n",
    "    for k in m:\n",
    "        if k==s[a1]:\n",
    "            a1+=1\n",
    "            if a1==len(s):\n",
    "                return True\n",
    "    return False\n",
    "m=[1, 2, 3, 4, 5, 6, 7, 8, 9, 10]\n",
    "s=[3, 5, 8]\n",
    "if malli(s,m):\n",
    " print(\"Main list contains the subsequence.\")\n",
    "else:\n",
    " print(\"Main list does not contain the subsequence.\")"
   ]
  },
  {
   "cell_type": "code",
   "execution_count": 37,
   "id": "9e37f36d",
   "metadata": {},
   "outputs": [
    {
     "name": "stdout",
     "output_type": "stream",
     "text": [
      "List after swapping elements: [1, 4, 3, 2, 5]\n"
     ]
    }
   ],
   "source": [
    "#50.Swap two elements in a list by their indices.\n",
    "list=[1, 2, 3, 4, 5]\n",
    "i1=1\n",
    "i2=3\n",
    "temp = list[i1]\n",
    "list[i1] = list[i2]\n",
    "list[i2] = temp\n",
    "print(\"List after swapping elements:\", list)"
   ]
  },
  {
   "cell_type": "code",
   "execution_count": 1,
   "id": "d9fea663",
   "metadata": {},
   "outputs": [
    {
     "name": "stdout",
     "output_type": "stream",
     "text": [
      "(1, 2, 3, 4, 5)\n"
     ]
    }
   ],
   "source": [
    "#1.Create a tuple with integers from 1 to 5.\n",
    "a=range(1,6)\n",
    "a1=tuple(a)\n",
    "print(a1)"
   ]
  },
  {
   "cell_type": "code",
   "execution_count": 2,
   "id": "b3375b11",
   "metadata": {},
   "outputs": [
    {
     "data": {
      "text/plain": [
       "40"
      ]
     },
     "execution_count": 2,
     "metadata": {},
     "output_type": "execute_result"
    }
   ],
   "source": [
    "#2.Access the third element of a tuple.\n",
    "a3=(10,20,30,40,50)\n",
    "a4=a3[3]\n",
    "a4"
   ]
  },
  {
   "cell_type": "code",
   "execution_count": 12,
   "id": "1aa3c7e7",
   "metadata": {},
   "outputs": [
    {
     "name": "stdout",
     "output_type": "stream",
     "text": [
      "6\n"
     ]
    }
   ],
   "source": [
    "#3.Find the length of a tuple without using the `len()` function.\n",
    "def mahi(a):\n",
    "    b1=0\n",
    "    for i in a:\n",
    "        b1+=1\n",
    "    return b1\n",
    "a3=(15,16,10,25,95,35)\n",
    "b4=mahi(a3)\n",
    "print(b4)"
   ]
  },
  {
   "cell_type": "code",
   "execution_count": 17,
   "id": "fb8f68bf",
   "metadata": {},
   "outputs": [
    {
     "name": "stdout",
     "output_type": "stream",
     "text": [
      "3\n"
     ]
    }
   ],
   "source": [
    "#4.Count the occurrences of an element in a tuple.\n",
    "a4=(10,20,70,40,10,70,80,10,20,40,40,80)\n",
    "def anji(a4):\n",
    "    a5=10\n",
    "    a6=0\n",
    "    for i in a4:\n",
    "        if i==a5:\n",
    "            a6+=1\n",
    "    return a6\n",
    "a5=anji(a4)\n",
    "print(a5)"
   ]
  },
  {
   "cell_type": "code",
   "execution_count": 18,
   "id": "8ec4ebc5",
   "metadata": {},
   "outputs": [
    {
     "name": "stdout",
     "output_type": "stream",
     "text": [
      "20\n"
     ]
    }
   ],
   "source": [
    "#5.Find the index of the first occurrence of an element in a tuple.\n",
    "a6=(10,20,30,40,50,60,70,80)\n",
    "a7=a6[1]\n",
    "print(a7)"
   ]
  },
  {
   "cell_type": "code",
   "execution_count": 20,
   "id": "3b799c01",
   "metadata": {},
   "outputs": [
    {
     "name": "stdout",
     "output_type": "stream",
     "text": [
      "True\n",
      "False\n"
     ]
    }
   ],
   "source": [
    "#6.Check if an element exists in a tuple.\n",
    "a8=(15,20,34,55,68,16,32,25)\n",
    "print(15 in a8)\n",
    "print(10 in a8)"
   ]
  },
  {
   "cell_type": "code",
   "execution_count": 21,
   "id": "bb344efa",
   "metadata": {},
   "outputs": [
    {
     "name": "stdout",
     "output_type": "stream",
     "text": [
      "[10, 20, 30, 40, 50, 60, 70]\n"
     ]
    }
   ],
   "source": [
    "#7.Convert a tuple to a list.\n",
    "a9=(10,20,30,40,50,60,70)\n",
    "b2=list(a9)\n",
    "print(b2)"
   ]
  },
  {
   "cell_type": "code",
   "execution_count": 22,
   "id": "4137836d",
   "metadata": {},
   "outputs": [
    {
     "name": "stdout",
     "output_type": "stream",
     "text": [
      "(55, 62, 35, 18, 12, 25, 64, 19)\n"
     ]
    }
   ],
   "source": [
    "#8.Convert a list to a tuple.\n",
    "b3=[55,62,35,18,12,25,64,19]\n",
    "b4=tuple(b3)\n",
    "print(b4)"
   ]
  },
  {
   "cell_type": "code",
   "execution_count": 26,
   "id": "ac1d556f",
   "metadata": {},
   "outputs": [
    {
     "name": "stdout",
     "output_type": "stream",
     "text": [
      "10\n",
      "20\n",
      "30\n",
      "40\n",
      "50\n"
     ]
    }
   ],
   "source": [
    "#9.Unpack the elements of a tuple into variables.\n",
    "b5=(10,20,30,40,50)\n",
    "var1,var2,var3,var4,var5=b5\n",
    "print(var1)\n",
    "print(var2)\n",
    "print(var3)\n",
    "print(var4)\n",
    "print(var5)"
   ]
  },
  {
   "cell_type": "code",
   "execution_count": 28,
   "id": "b317f09d",
   "metadata": {},
   "outputs": [
    {
     "name": "stdout",
     "output_type": "stream",
     "text": [
      "(2, 4, 6, 8, 10)\n"
     ]
    }
   ],
   "source": [
    "#10.Create a tuple of even numbers from 1 to 10.\n",
    "b6=range(2,11,2)\n",
    "b7=tuple(b6)\n",
    "print(b7)"
   ]
  },
  {
   "cell_type": "code",
   "execution_count": 29,
   "id": "d13d84ee",
   "metadata": {},
   "outputs": [
    {
     "name": "stdout",
     "output_type": "stream",
     "text": [
      "(1, 3, 5, 7, 9)\n"
     ]
    }
   ],
   "source": [
    "#11.Create a tuple of odd numbers from 1 to 10.\n",
    "b8=range(1,11,2)\n",
    "b9=tuple(b8)\n",
    "print(b9)"
   ]
  },
  {
   "cell_type": "code",
   "execution_count": 32,
   "id": "c952b731",
   "metadata": {},
   "outputs": [
    {
     "name": "stdout",
     "output_type": "stream",
     "text": [
      "(22, 33, 44, 55, 10, 20, 30, 40, 50)\n"
     ]
    }
   ],
   "source": [
    "#12.Concatenate two tuples.\n",
    "c1=(22,33,44,55)\n",
    "c2=(10,20,30,40,50)\n",
    "c3=c1+c2\n",
    "print(c3)"
   ]
  },
  {
   "cell_type": "code",
   "execution_count": 33,
   "id": "3a7eda7c",
   "metadata": {},
   "outputs": [
    {
     "name": "stdout",
     "output_type": "stream",
     "text": [
      "(10, 20, 30, 10, 20, 30, 10, 20, 30)\n"
     ]
    }
   ],
   "source": [
    "#13.Repeat a tuple three times.\n",
    "c4=(10,20,30)\n",
    "c5=c4*3\n",
    "print(c5)"
   ]
  },
  {
   "cell_type": "code",
   "execution_count": 35,
   "id": "c6464f62",
   "metadata": {},
   "outputs": [
    {
     "name": "stdout",
     "output_type": "stream",
     "text": [
      "i love hima\n",
      "this is the correct\n"
     ]
    }
   ],
   "source": [
    "#14.Check if a tuple is empty\n",
    "c6=()\n",
    "c7=(10,20,30)\n",
    "if not c6:\n",
    "    print(\"i love hima\")\n",
    "else:\n",
    "    print(\"mallesh loves hima\")\n",
    "if not c7:\n",
    "    print(\"this is not correct\")\n",
    "else:\n",
    "    print(\"this is the correct\")"
   ]
  },
  {
   "cell_type": "code",
   "execution_count": 36,
   "id": "3541f40f",
   "metadata": {},
   "outputs": [
    {
     "name": "stdout",
     "output_type": "stream",
     "text": [
      "((10, 20, 30), (15, 35), (11, 22, 33, 44), (70, 80, 90))\n"
     ]
    }
   ],
   "source": [
    "#15.Create a nested tuple.\n",
    "c8=((10,20,30),(15,35),(11,22,33,44),(70,80,90))\n",
    "print(c8)"
   ]
  },
  {
   "cell_type": "code",
   "execution_count": 41,
   "id": "478ef70e",
   "metadata": {},
   "outputs": [
    {
     "data": {
      "text/plain": [
       "20"
      ]
     },
     "execution_count": 41,
     "metadata": {},
     "output_type": "execute_result"
    }
   ],
   "source": [
    "#16.Access the first element of a nested tuple.\n",
    "c9=((10,20,88),(21,35,62,48),(50,60,70,80),(55,66,33))\n",
    "d=c9[0][1]\n",
    "d"
   ]
  },
  {
   "cell_type": "code",
   "execution_count": 43,
   "id": "75fae2b9",
   "metadata": {},
   "outputs": [
    {
     "name": "stdout",
     "output_type": "stream",
     "text": [
      "(20,)\n"
     ]
    }
   ],
   "source": [
    "#17.Create a tuple with a single element.\n",
    "d1=(20,)\n",
    "print(d1)"
   ]
  },
  {
   "cell_type": "code",
   "execution_count": 46,
   "id": "160fcedf",
   "metadata": {},
   "outputs": [
    {
     "name": "stdout",
     "output_type": "stream",
     "text": [
      "False\n",
      "True\n",
      "True\n",
      "False\n",
      "True\n",
      "False\n"
     ]
    }
   ],
   "source": [
    "#18.Compare two tuples.\n",
    "d2=(10,20,30,40)\n",
    "d3=(10,20,33,44)\n",
    "print(d2==d3)\n",
    "print(d2!=d3)\n",
    "print(d2<d3)\n",
    "print(d2>d3)\n",
    "print(d2<=d3)\n",
    "print(d2>=d3)"
   ]
  },
  {
   "cell_type": "code",
   "execution_count": 23,
   "id": "a06a2d99",
   "metadata": {},
   "outputs": [
    {
     "ename": "NameError",
     "evalue": "name 'd4' is not defined",
     "output_type": "error",
     "traceback": [
      "\u001b[1;31m---------------------------------------------------------------------------\u001b[0m",
      "\u001b[1;31mNameError\u001b[0m                                 Traceback (most recent call last)",
      "Cell \u001b[1;32mIn[23], line 4\u001b[0m\n\u001b[0;32m      2\u001b[0m d4\u001b[38;5;241m=\u001b[39m(\u001b[38;5;241m10\u001b[39m,\u001b[38;5;241m20\u001b[39m,\u001b[38;5;241m30\u001b[39m,\u001b[38;5;241m40\u001b[39m)\n\u001b[0;32m      3\u001b[0m \u001b[38;5;28;01mdel\u001b[39;00m d4\n\u001b[1;32m----> 4\u001b[0m d4\n",
      "\u001b[1;31mNameError\u001b[0m: name 'd4' is not defined"
     ]
    }
   ],
   "source": [
    "#19.Delete a tuple.\n",
    "d4=(10,20,30,40)\n",
    "del d4\n",
    "d4"
   ]
  },
  {
   "cell_type": "code",
   "execution_count": 55,
   "id": "38e358a3",
   "metadata": {},
   "outputs": [
    {
     "name": "stdout",
     "output_type": "stream",
     "text": [
      "(16, 80, 24)\n"
     ]
    }
   ],
   "source": [
    "#20.Slice a tuple.\n",
    "d5=(12,16,20,80,30,24,35)\n",
    "d6=d5[1:6:2]\n",
    "print(d6)"
   ]
  },
  {
   "cell_type": "code",
   "execution_count": 56,
   "id": "368c4d72",
   "metadata": {},
   "outputs": [
    {
     "name": "stdout",
     "output_type": "stream",
     "text": [
      "95\n"
     ]
    }
   ],
   "source": [
    "#21.Find the maximum value in a tuple.\n",
    "d7=(10,25,35,66,22,14,42,80,95,22)\n",
    "d8=max(d7)\n",
    "print(d8)"
   ]
  },
  {
   "cell_type": "code",
   "execution_count": 57,
   "id": "e52d24a6",
   "metadata": {},
   "outputs": [
    {
     "name": "stdout",
     "output_type": "stream",
     "text": [
      "10\n"
     ]
    }
   ],
   "source": [
    "#22.Find the minimum value in a tuple.\n",
    "d9=(22,51,33,61,21,95,46,10,72)\n",
    "e=min(d9)\n",
    "print(e)"
   ]
  },
  {
   "cell_type": "code",
   "execution_count": 59,
   "id": "abbb39f1",
   "metadata": {},
   "outputs": [
    {
     "name": "stdout",
     "output_type": "stream",
     "text": [
      "('m', 'a', 'l', 'l', 'e', 's', 'h', ' ', 'l', 'o', 'v', 'e', 's', ' ', 'h', 'i', 'm', 'a')\n"
     ]
    }
   ],
   "source": [
    "#23.Convert a string to a tuple of characters.\n",
    "e1=\"mallesh loves hima\"\n",
    "e2=tuple(e1)\n",
    "print(e2)"
   ]
  },
  {
   "cell_type": "code",
   "execution_count": 69,
   "id": "ed912676",
   "metadata": {},
   "outputs": [
    {
     "name": "stdout",
     "output_type": "stream",
     "text": [
      "hellO world\n"
     ]
    }
   ],
   "source": [
    "#24.Convert a tuple of characters to a string.\n",
    "e3=(\"h\",\"e\",\"l\",\"l\",\"O\",\" \",\"w\",\"o\",\"r\",\"l\",\"d\")\n",
    "e4=\"\".join(e3)\n",
    "print(e4)"
   ]
  },
  {
   "cell_type": "code",
   "execution_count": 71,
   "id": "3683b888",
   "metadata": {},
   "outputs": [
    {
     "name": "stdout",
     "output_type": "stream",
     "text": [
      "(10, 20, 33.5, 66.9, 'mallesh', 'hima')\n"
     ]
    }
   ],
   "source": [
    "#25.Create a tuple from multiple data types.\n",
    "e5=(10,20,33.5,66.9,\"mallesh\",\"hima\")\n",
    "print(e5)"
   ]
  },
  {
   "cell_type": "code",
   "execution_count": 73,
   "id": "3d015dc4",
   "metadata": {},
   "outputs": [
    {
     "name": "stdout",
     "output_type": "stream",
     "text": [
      "True\n",
      "False\n"
     ]
    }
   ],
   "source": [
    "#26.Check if two tuples are identical.\n",
    "e6=(10,20,30,40)\n",
    "e7=(10,20,30,40)\n",
    "e8=(55,22,66,88,99)\n",
    "e9=e6==e7\n",
    "print(e9)\n",
    "f=e7==e8\n",
    "print(f)"
   ]
  },
  {
   "cell_type": "code",
   "execution_count": 80,
   "id": "d42588da",
   "metadata": {},
   "outputs": [
    {
     "name": "stdout",
     "output_type": "stream",
     "text": [
      "(10, 15, 18, 20, 25, 29, 32, 66)\n"
     ]
    }
   ],
   "source": [
    "#27.Sort the elements of a tuple.\n",
    "f1=(10,25,32,15,18,29,66,20)\n",
    "f2=tuple(sorted(f1))\n",
    "print(f2)"
   ]
  },
  {
   "cell_type": "code",
   "execution_count": 84,
   "id": "2e36b72a",
   "metadata": {},
   "outputs": [
    {
     "name": "stdout",
     "output_type": "stream",
     "text": [
      "('10', '20', '30', '50', '42', '40')\n"
     ]
    }
   ],
   "source": [
    "#28.Convert a tuple of integers to a tuple of strings.\n",
    "f3=(10,20,30,50,42,40)\n",
    "f4=tuple(str(i) for i in f3)\n",
    "print(f4)"
   ]
  },
  {
   "cell_type": "code",
   "execution_count": 88,
   "id": "a4d7c37b",
   "metadata": {},
   "outputs": [
    {
     "name": "stdout",
     "output_type": "stream",
     "text": [
      "(20, 30, 10, 40, 60)\n"
     ]
    }
   ],
   "source": [
    "#29.Convert a tuple of strings to a tuple of integers.\n",
    "f5=(\"20\",\"30\",\"10\",\"40\",\"60\")\n",
    "f6=tuple(int(k) for k in f5)\n",
    "print(f6)"
   ]
  },
  {
   "cell_type": "code",
   "execution_count": 90,
   "id": "b3a2662a",
   "metadata": {},
   "outputs": [
    {
     "name": "stdout",
     "output_type": "stream",
     "text": [
      "(10, 20, 30, 25, 36, 12, 24)\n"
     ]
    }
   ],
   "source": [
    "#30.Merge two tuples.\n",
    "f7=(10,20,30)\n",
    "f8=(25,36,12,24)\n",
    "f9=f7+f8\n",
    "print(f9)"
   ]
  },
  {
   "cell_type": "code",
   "execution_count": 96,
   "id": "418d3a32",
   "metadata": {},
   "outputs": [
    {
     "name": "stdout",
     "output_type": "stream",
     "text": [
      "(10, 20, 30, 25, 15, 35, 24, 12)\n"
     ]
    }
   ],
   "source": [
    "#31.Flatten a nested tuple.\n",
    "def nani(a):\n",
    "    b=[]\n",
    "    for i in a:\n",
    "        if isinstance(i,tuple):\n",
    "            b.extend(nani(i))\n",
    "        else:\n",
    "            b.append(i)\n",
    "    return b\n",
    "a=((10,20,30),(25,15,35),(24,12))\n",
    "b1=tuple(nani(a))\n",
    "print(b1)"
   ]
  },
  {
   "cell_type": "code",
   "execution_count": 97,
   "id": "fc5fd1c2",
   "metadata": {},
   "outputs": [
    {
     "name": "stdout",
     "output_type": "stream",
     "text": [
      "Tuple of the first 5 prime numbers: (2, 3, 5, 7, 11)\n"
     ]
    }
   ],
   "source": [
    "#32.Create a tuple of the first 5 prime numbers.\n",
    "def prime(num):\n",
    "    if num <= 1:\n",
    "        return False\n",
    "    for i in range(2, int(num ** 0.5) + 1):\n",
    "        if num % i == 0:\n",
    "            return False\n",
    "    return True\n",
    "p=[num for num in range(2,100) if prime(num)][:5]\n",
    "p1=tuple(p)\n",
    "print(\"Tuple of the first 5 prime numbers:\",p1)"
   ]
  },
  {
   "cell_type": "code",
   "execution_count": 101,
   "id": "208d7504",
   "metadata": {},
   "outputs": [
    {
     "name": "stdout",
     "output_type": "stream",
     "text": [
      "palindrome_tuple is a palindrome: True\n",
      "non_palindrome_tuple is a palindrome: False\n"
     ]
    }
   ],
   "source": [
    "#33.Check if a tuple is a palindrome.\n",
    "def palindrome(tup):\n",
    "    return tup==tup[::-1]\n",
    "tuple=(1, 2, 3, 2, 1)\n",
    "nontuple=(1, 2, 3, 4, 5)\n",
    "palindrome1=palindrome(tuple)\n",
    "palindrome2=palindrome(nontuple)\n",
    "print(\"palindrome_tuple is a palindrome:\",palindrome1)\n",
    "print(\"non_palindrome_tuple is a palindrome:\",palindrome2)"
   ]
  },
  {
   "cell_type": "code",
   "execution_count": 3,
   "id": "93c5806c",
   "metadata": {},
   "outputs": [
    {
     "name": "stdout",
     "output_type": "stream",
     "text": [
      "(1, 4, 9, 16, 25)\n"
     ]
    }
   ],
   "source": [
    "#34.Create a tuple of squares of numbers from 1 to 5.\n",
    "g=tuple(x**2 for x in range(1,6))\n",
    "print(g)"
   ]
  },
  {
   "cell_type": "code",
   "execution_count": 5,
   "id": "f2249dd5",
   "metadata": {},
   "outputs": [
    {
     "name": "stdout",
     "output_type": "stream",
     "text": [
      "(21, 33, 25, 37, 65)\n"
     ]
    }
   ],
   "source": [
    "#35.Filter out all even numbers from a tuple.\n",
    "g1=(10,21,33,30,56,12,25,37,38,92,65)\n",
    "g2=tuple( i for i in g1 if i%2!=0)\n",
    "print(g2)"
   ]
  },
  {
   "cell_type": "code",
   "execution_count": 4,
   "id": "d2ca7f0d",
   "metadata": {},
   "outputs": [
    {
     "name": "stdout",
     "output_type": "stream",
     "text": [
      "(24, 48, 72, 20, 80, 100, 160)\n"
     ]
    }
   ],
   "source": [
    "#36.Multiply all elements in a tuple by 2.\n",
    "g3=(12,24,36,10,40,50,80)\n",
    "g4=tuple(k*2 for k in g3)\n",
    "print(g4)"
   ]
  },
  {
   "cell_type": "code",
   "execution_count": 6,
   "id": "bc9064ef",
   "metadata": {},
   "outputs": [
    {
     "data": {
      "text/plain": [
       "(84, 27, 36, 14, 3, 31, 56, 21, 37, 93)"
      ]
     },
     "execution_count": 6,
     "metadata": {},
     "output_type": "execute_result"
    }
   ],
   "source": [
    "#37.Create a tuple of random numbers.\n",
    "import random\n",
    "g5=tuple(random.randint(1,100) for k in range(10))\n",
    "g5"
   ]
  },
  {
   "cell_type": "code",
   "execution_count": 8,
   "id": "5ff97051",
   "metadata": {},
   "outputs": [
    {
     "name": "stdout",
     "output_type": "stream",
     "text": [
      "sorted_tuple is sorted: True\n",
      "unsorted_tuple is sorted: False\n"
     ]
    }
   ],
   "source": [
    "#38.Check if a tuple is sorted.\n",
    "def is_sorted(tup):\n",
    "    for i in range(len(tup) - 1):\n",
    "        if tup[i] > tup[i + 1]:\n",
    "            return False\n",
    "    return True\n",
    "sorted_tuple = (1, 2, 3, 4, 5)\n",
    "unsorted_tuple = (5, 3, 1, 4, 2)\n",
    "is_sorted1 = is_sorted(sorted_tuple)\n",
    "is_sorted2 = is_sorted(unsorted_tuple)\n",
    "print(\"sorted_tuple is sorted:\", is_sorted1)\n",
    "print(\"unsorted_tuple is sorted:\", is_sorted2)"
   ]
  },
  {
   "cell_type": "code",
   "execution_count": 9,
   "id": "2f9389e6",
   "metadata": {},
   "outputs": [
    {
     "name": "stdout",
     "output_type": "stream",
     "text": [
      "(3, 4, 5, 1, 2)\n"
     ]
    }
   ],
   "source": [
    "#39.Rotate a tuple to the left by `n` positions.\n",
    "def rotate_tuple_left(tup, n):\n",
    "    n = n%len(tup)\n",
    "    rotated_tuple = tup[n:] + tup[:n]\n",
    "    return rotated_tuple\n",
    "my_tuple = (1, 2, 3, 4, 5)\n",
    "n_positions = 2\n",
    "result = rotate_tuple_left(my_tuple, n_positions)\n",
    "print(result)"
   ]
  },
  {
   "cell_type": "code",
   "execution_count": 12,
   "id": "fc08871a",
   "metadata": {},
   "outputs": [
    {
     "name": "stdout",
     "output_type": "stream",
     "text": [
      "(4, 5, 1, 2, 3)\n"
     ]
    }
   ],
   "source": [
    "#40.Rotate a tuple to the right by `n` positions.\n",
    "def bheem(a,n):\n",
    "    n=n%len(a)\n",
    "    b=a[-n:]+a[:-n]\n",
    "    return b\n",
    "c=(1, 2, 3, 4, 5)\n",
    "d=2\n",
    "r=bheem(c,d)\n",
    "print(r)"
   ]
  },
  {
   "cell_type": "code",
   "execution_count": 14,
   "id": "3c4b5f7a",
   "metadata": {},
   "outputs": [
    {
     "name": "stdout",
     "output_type": "stream",
     "text": [
      "(0, 1, 1, 2, 3)\n"
     ]
    }
   ],
   "source": [
    "#41.Create a tuple of the first 5 Fibonacci numbers.\n",
    "def generate_fibonacci(n):\n",
    "    fibonacci=[0,1]\n",
    "    while len(fibonacci)<n:\n",
    "        next_number=fibonacci[-1]+fibonacci[-2] \n",
    "        fibonacci.append(next_number)\n",
    "    return tuple(fibonacci)\n",
    "fibonacci_tuple=generate_fibonacci(5)\n",
    "print(fibonacci_tuple)"
   ]
  },
  {
   "cell_type": "code",
   "execution_count": 4,
   "id": "6fb3e521",
   "metadata": {},
   "outputs": [
    {
     "name": "stdout",
     "output_type": "stream",
     "text": [
      "mallesh\n",
      "('mallesh',)\n"
     ]
    }
   ],
   "source": [
    "#42.Create a tuple from user input.\n",
    "a=input()\n",
    "b=a.split(',')\n",
    "c= tuple(b)\n",
    "print(c)"
   ]
  },
  {
   "cell_type": "code",
   "execution_count": 9,
   "id": "e6883fee",
   "metadata": {},
   "outputs": [
    {
     "name": "stdout",
     "output_type": "stream",
     "text": [
      "Swapped tuple: (1, 4, 3, 2, 5)\n"
     ]
    }
   ],
   "source": [
    "#43.Swap two elements in a tuple.\n",
    "my_tuple = (1, 2, 3, 4, 5)\n",
    "index1 = 1\n",
    "index2 = 3\n",
    "swapped_tuple = tuple(\n",
    " my_tuple[i] if i not in (index1, index2) else\n",
    " my_tuple[index2] if i == index1 else\n",
    " my_tuple[index1]\n",
    " for i in range(len(my_tuple))\n",
    ")\n",
    "print(\"Swapped tuple:\", swapped_tuple)"
   ]
  },
  {
   "cell_type": "code",
   "execution_count": 10,
   "id": "62eb1806",
   "metadata": {},
   "outputs": [
    {
     "name": "stdout",
     "output_type": "stream",
     "text": [
      "(90, 80, 40, 50, 30, 60, 10)\n"
     ]
    }
   ],
   "source": [
    "#44.Reverse the elements of a tuple.\n",
    "a6=(10,60,30,50,40,80,90)\n",
    "a7=a6[::-1]\n",
    "print(a7)"
   ]
  },
  {
   "cell_type": "code",
   "execution_count": 15,
   "id": "96e412c8",
   "metadata": {},
   "outputs": [
    {
     "name": "stdout",
     "output_type": "stream",
     "text": [
      "(1, 2, 4, 8, 16, 32, 64, 128)\n"
     ]
    }
   ],
   "source": [
    "#45.Create a tuple of the first `n` powers of 2.\n",
    "n=8\n",
    "a9=tuple(2**x for x in range(n))\n",
    "print(a9)"
   ]
  },
  {
   "cell_type": "code",
   "execution_count": 17,
   "id": "77f09fcf",
   "metadata": {},
   "outputs": [
    {
     "name": "stdout",
     "output_type": "stream",
     "text": [
      "bandari hima\n"
     ]
    }
   ],
   "source": [
    "#46.Find the longest string in a tuple of strings.\n",
    "b7=(\"mallesh\",\"hima\",\"suresh\",\"bandari\",\"bandari hima\")\n",
    "b8=max(b7,key=len)\n",
    "print(b8)"
   ]
  },
  {
   "cell_type": "code",
   "execution_count": 18,
   "id": "543f4d9f",
   "metadata": {},
   "outputs": [
    {
     "name": "stdout",
     "output_type": "stream",
     "text": [
      "bheem\n"
     ]
    }
   ],
   "source": [
    "#47.Find the shortest string in a tuple of strings.\n",
    "a4=(\"bheem\",\"chnadu\",\"anjali\",\"laxmi\",\"rakhi\")\n",
    "a6=min(a4,key=len)\n",
    "print(a6)"
   ]
  },
  {
   "cell_type": "code",
   "execution_count": 19,
   "id": "611cf052",
   "metadata": {},
   "outputs": [
    {
     "name": "stdout",
     "output_type": "stream",
     "text": [
      "Tuple of the first 5 triangular numbers: (1, 3, 6, 10, 15)\n"
     ]
    }
   ],
   "source": [
    "#48.Create a tuple of the first `n` triangular numbers.\n",
    "n = 5\n",
    "triangular_numbers_tuple = tuple((i * (i + 1)) // 2 for i in range(1, n + 1))\n",
    "print(\"Tuple of the first\", n, \"triangular numbers:\", triangular_numbers_tuple)"
   ]
  },
  {
   "cell_type": "code",
   "execution_count": 20,
   "id": "b7d56925",
   "metadata": {},
   "outputs": [
    {
     "name": "stdout",
     "output_type": "stream",
     "text": [
      "Main tuple contains subsequence tuple: True\n"
     ]
    }
   ],
   "source": [
    "#49.Check if a tuple contains another tuple as a subsequence.\n",
    "def contains_subsequence(main_tuple, sub_tuple):\n",
    "    sub_length = len(sub_tuple)\n",
    "    for i in range(len(main_tuple) - sub_length + 1):\n",
    "        if main_tuple[i:i+sub_length] == sub_tuple:\n",
    "            return True\n",
    "    return False\n",
    "main_tuple = (1, 2, 3, 4, 5, 6, 7, 8, 9)\n",
    "sub_tuple = (3, 4, 5)\n",
    "contains_subseq = contains_subsequence(main_tuple, sub_tuple)\n",
    "print(\"Main tuple contains subsequence tuple:\", contains_subseq)"
   ]
  },
  {
   "cell_type": "code",
   "execution_count": 23,
   "id": "49a3ec39",
   "metadata": {},
   "outputs": [
    {
     "name": "stdout",
     "output_type": "stream",
     "text": [
      "(0, 1, 0, 1, 0, 1, 0, 1, 0, 1)\n"
     ]
    }
   ],
   "source": [
    "#50.Create a tuple of alternating 1s and 0s of length `n`.\n",
    "n=10\n",
    "a9=tuple(i%2 for i in range(n))\n",
    "print(a9)"
   ]
  },
  {
   "cell_type": "code",
   "execution_count": 24,
   "id": "64f6591e",
   "metadata": {},
   "outputs": [
    {
     "name": "stdout",
     "output_type": "stream",
     "text": [
      "{1, 2, 3, 4, 5}\n"
     ]
    }
   ],
   "source": [
    "#1.Create a set with integers from 1 to 5.set based quations\n",
    "c=range(1,6)\n",
    "c1=set(c)\n",
    "print(c1)"
   ]
  },
  {
   "cell_type": "code",
   "execution_count": 27,
   "id": "a69a84ad",
   "metadata": {},
   "outputs": [
    {
     "name": "stdout",
     "output_type": "stream",
     "text": [
      "{80, 50, 20, 40, 10, 60, 30}\n"
     ]
    }
   ],
   "source": [
    "#2.Add an element to a set.\n",
    "c2={20,40,30,10,50,60}\n",
    "c2.add(80)\n",
    "print(c2)"
   ]
  },
  {
   "cell_type": "code",
   "execution_count": 28,
   "id": "42fd94db",
   "metadata": {},
   "outputs": [
    {
     "name": "stdout",
     "output_type": "stream",
     "text": [
      "{12, 15, 48, 23, 55, 25, 92}\n"
     ]
    }
   ],
   "source": [
    "#3.Remove an element from a set.\n",
    "c3={15,23,66,55,48,92,12,25}\n",
    "c3.remove(66)\n",
    "print(c3)"
   ]
  },
  {
   "cell_type": "code",
   "execution_count": 30,
   "id": "dee7d7ce",
   "metadata": {},
   "outputs": [
    {
     "name": "stdout",
     "output_type": "stream",
     "text": [
      "True\n",
      "False\n"
     ]
    }
   ],
   "source": [
    "#4.Check if an element exists in a set.\n",
    "c4={10,50,60,42,31,25,48}\n",
    "print(31 in c4)\n",
    "print(90 in c4)"
   ]
  },
  {
   "cell_type": "code",
   "execution_count": 38,
   "id": "9a777de2",
   "metadata": {},
   "outputs": [
    {
     "name": "stdout",
     "output_type": "stream",
     "text": [
      "5\n"
     ]
    }
   ],
   "source": [
    "#5.Find the length of a set without using the `len()` function.\n",
    "c5={20,30,50,90,28,50}\n",
    "b=0\n",
    "for i in c5:\n",
    "    b+=1\n",
    "print(b)"
   ]
  },
  {
   "cell_type": "code",
   "execution_count": 40,
   "id": "d8187232",
   "metadata": {},
   "outputs": [
    {
     "data": {
      "text/plain": [
       "set()"
      ]
     },
     "execution_count": 40,
     "metadata": {},
     "output_type": "execute_result"
    }
   ],
   "source": [
    "#6.Clear all elements from a set.\n",
    "c6={15,63,24,18,20,45,28}\n",
    "c6.clear()\n",
    "c6"
   ]
  },
  {
   "cell_type": "code",
   "execution_count": 41,
   "id": "b54e295d",
   "metadata": {},
   "outputs": [
    {
     "name": "stdout",
     "output_type": "stream",
     "text": [
      "{2, 4, 6, 8, 10}\n"
     ]
    }
   ],
   "source": [
    "#7.Create a set of even numbers from 1 to 10.\n",
    "c7=range(2,11,2)\n",
    "c8=set(c7)\n",
    "print(c8)"
   ]
  },
  {
   "cell_type": "code",
   "execution_count": 42,
   "id": "76834db5",
   "metadata": {},
   "outputs": [
    {
     "name": "stdout",
     "output_type": "stream",
     "text": [
      "{1, 3, 5, 7, 9}\n"
     ]
    }
   ],
   "source": [
    "#8.Create a set of odd numbers from 1 to 10.\n",
    "c9=range(1,11,2)\n",
    "c1=set(c9)\n",
    "print(c1)"
   ]
  },
  {
   "cell_type": "code",
   "execution_count": 43,
   "id": "32397ae2",
   "metadata": {},
   "outputs": [
    {
     "data": {
      "text/plain": [
       "{12, 15, 16, 17, 24, 26, 28, 34, 35, 41, 42, 92}"
      ]
     },
     "execution_count": 43,
     "metadata": {},
     "output_type": "execute_result"
    }
   ],
   "source": [
    "#9.Find the union of two sets.\n",
    "d={15,26,35,24,42,12,34}\n",
    "d1={16,24,41,17,92,28}\n",
    "d.union(d1)"
   ]
  },
  {
   "cell_type": "code",
   "execution_count": 44,
   "id": "3c93036e",
   "metadata": {},
   "outputs": [
    {
     "data": {
      "text/plain": [
       "{24, 25, 35}"
      ]
     },
     "execution_count": 44,
     "metadata": {},
     "output_type": "execute_result"
    }
   ],
   "source": [
    "#10.Find the intersection of two sets.\n",
    "d2={15,62,35,89,25,16,24}\n",
    "d3={26,35,25,24,29,21,18,27}\n",
    "d2.intersection(d3)"
   ]
  },
  {
   "cell_type": "code",
   "execution_count": 45,
   "id": "926aec93",
   "metadata": {},
   "outputs": [
    {
     "data": {
      "text/plain": [
       "{39, 56, 66, 85}"
      ]
     },
     "execution_count": 45,
     "metadata": {},
     "output_type": "execute_result"
    }
   ],
   "source": [
    "#11.Find the difference between two sets.\n",
    "d4={56,63,36,25,39,85,66}\n",
    "d5={63,35,25,23,54,36,24,69}\n",
    "d4.difference(d5)"
   ]
  },
  {
   "cell_type": "code",
   "execution_count": 53,
   "id": "8e4dda85",
   "metadata": {},
   "outputs": [
    {
     "data": {
      "text/plain": [
       "True"
      ]
     },
     "execution_count": 53,
     "metadata": {},
     "output_type": "execute_result"
    }
   ],
   "source": [
    "#12.Check if a set is a subset of another set.\n",
    "d6={10,60,52,22,33,56,25,15}\n",
    "d7={15,52,22,15,60}\n",
    "d7.issubset(d6)"
   ]
  },
  {
   "cell_type": "code",
   "execution_count": 55,
   "id": "d663d93d",
   "metadata": {},
   "outputs": [
    {
     "data": {
      "text/plain": [
       "True"
      ]
     },
     "execution_count": 55,
     "metadata": {},
     "output_type": "execute_result"
    }
   ],
   "source": [
    "#13.Check if a set is a superset of another set.\n",
    "d8={15,35,19,21,36,54,35,33,25}\n",
    "d9={25,33,35,21,54,25}\n",
    "d8.issuperset(d9)"
   ]
  },
  {
   "cell_type": "code",
   "execution_count": 58,
   "id": "476bca83",
   "metadata": {},
   "outputs": [
    {
     "name": "stdout",
     "output_type": "stream",
     "text": [
      "{40, 10, 50, 20, 60, 30}\n"
     ]
    }
   ],
   "source": [
    "#14.Create a set from a list.\n",
    "d2=[20,10,30,40,60,50]\n",
    "d3=set(d2)\n",
    "print(d3)"
   ]
  },
  {
   "cell_type": "code",
   "execution_count": 57,
   "id": "0e0c7fe6",
   "metadata": {},
   "outputs": [
    {
     "name": "stdout",
     "output_type": "stream",
     "text": [
      "[65, 66, 36, 68, 25, 28]\n"
     ]
    }
   ],
   "source": [
    "#15.Convert a set to a list.\n",
    "f={28,65,66,25,36,68}\n",
    "f1=list(f)\n",
    "print(f1)"
   ]
  },
  {
   "cell_type": "code",
   "execution_count": 59,
   "id": "6c291fad",
   "metadata": {},
   "outputs": [
    {
     "data": {
      "text/plain": [
       "66"
      ]
     },
     "execution_count": 59,
     "metadata": {},
     "output_type": "execute_result"
    }
   ],
   "source": [
    "#16.Remove a random element from a set.\n",
    "f2={66,63,36,39,31,75,36}\n",
    "f2.pop()"
   ]
  },
  {
   "cell_type": "code",
   "execution_count": 1,
   "id": "0fbb509b",
   "metadata": {},
   "outputs": [
    {
     "name": "stdout",
     "output_type": "stream",
     "text": [
      "{20, 70, 40, 10, 60}\n"
     ]
    }
   ],
   "source": [
    "#17.Pop an element from a set.\n",
    "f3={10,20,40,50,70,60,20}\n",
    "f4=f3.pop()\n",
    "print(f3)"
   ]
  },
  {
   "cell_type": "code",
   "execution_count": 2,
   "id": "d6da6194",
   "metadata": {},
   "outputs": [
    {
     "name": "stdout",
     "output_type": "stream",
     "text": [
      "set()\n"
     ]
    }
   ],
   "source": [
    "#18.Check if two sets have no elements in common.\n",
    "f5={56,66,54,36,15,25,28}\n",
    "f6={10,20,40,30,60,90,70}\n",
    "f7=f5.intersection(f6)\n",
    "print(f7)"
   ]
  },
  {
   "cell_type": "code",
   "execution_count": 5,
   "id": "2a37159e",
   "metadata": {},
   "outputs": [
    {
     "name": "stdout",
     "output_type": "stream",
     "text": [
      "{32, 66, 35, 34, 14, 15, 20, 21, 25}\n"
     ]
    }
   ],
   "source": [
    "#19.Find the symmetric difference between two sets.\n",
    "f8={25,26,14,25,45,66,34,51,34}\n",
    "f9={35,32,15,45,21,51,20,35,26}\n",
    "g=f8.symmetric_difference(f9)\n",
    "print(g)"
   ]
  },
  {
   "cell_type": "code",
   "execution_count": 9,
   "id": "94f6b900",
   "metadata": {},
   "outputs": [
    {
     "name": "stdout",
     "output_type": "stream",
     "text": [
      "{65, 35, 36, 45, 14, 15, 23, 25, 28, 62}\n"
     ]
    }
   ],
   "source": [
    "#20.Update a set with elements from another set.\n",
    "g1={15,25,36,14,45,35}\n",
    "g2={28,65,14,23,15,62}\n",
    "g1.update(g2)\n",
    "print(g1)"
   ]
  },
  {
   "cell_type": "code",
   "execution_count": 2,
   "id": "f845f2a9",
   "metadata": {},
   "outputs": [
    {
     "name": "stdout",
     "output_type": "stream",
     "text": [
      "{2, 3, 5, 7, 11}\n"
     ]
    }
   ],
   "source": [
    "#21.Create a set of the first 5 prime numbers.\n",
    "def prime(n):\n",
    "    if n<=1:\n",
    "        return False\n",
    "    for i in range(2,int(n**0.5)+1):\n",
    "        if n%i==0:\n",
    "            return False\n",
    "    return True\n",
    "set1=set()\n",
    "n=2\n",
    "while len(set1)<5:\n",
    "    if prime(n):\n",
    "        set1.add(n)\n",
    "    n+=1\n",
    "print(set1)"
   ]
  },
  {
   "cell_type": "code",
   "execution_count": 5,
   "id": "88250f6c",
   "metadata": {},
   "outputs": [
    {
     "name": "stdout",
     "output_type": "stream",
     "text": [
      "i love my india\n"
     ]
    }
   ],
   "source": [
    "#22. Check if two sets are identical.\n",
    "g2={10,20,30,40}\n",
    "g3={30,20,40,10}\n",
    "if g2==g3:\n",
    "    print(\"i love my india\")\n",
    "else:\n",
    "    print(\"this is mallesh\")"
   ]
  },
  {
   "cell_type": "code",
   "execution_count": 6,
   "id": "ead4b40e",
   "metadata": {},
   "outputs": [
    {
     "name": "stdout",
     "output_type": "stream",
     "text": [
      "frozenset({40, 10, 50, 20, 60, 30})\n"
     ]
    }
   ],
   "source": [
    "#23.Create a frozen set.\n",
    "g4=[10,30,40,20,50,60]\n",
    "g5=frozenset(g4)\n",
    "print(g5)"
   ]
  },
  {
   "cell_type": "code",
   "execution_count": 12,
   "id": "b682e297",
   "metadata": {},
   "outputs": [
    {
     "name": "stdout",
     "output_type": "stream",
     "text": [
      "True\n"
     ]
    }
   ],
   "source": [
    "#24.Check if a set is disjoint with another set.\n",
    "g6={10,30,40,20}\n",
    "g7={11,22,33,44}\n",
    "g8=g6.isdisjoint(g7)\n",
    "print(g8)"
   ]
  },
  {
   "cell_type": "code",
   "execution_count": 14,
   "id": "bf12943b",
   "metadata": {},
   "outputs": [
    {
     "name": "stdout",
     "output_type": "stream",
     "text": [
      "{0, 1, 4, 9, 16, 25}\n"
     ]
    }
   ],
   "source": [
    "#25.Create a set of squares of numbers from 1 to 5.\n",
    "k=6\n",
    "k1={x**2 for x in range(k)}\n",
    "print(k1)"
   ]
  },
  {
   "cell_type": "code",
   "execution_count": 16,
   "id": "93eec587",
   "metadata": {},
   "outputs": [
    {
     "name": "stdout",
     "output_type": "stream",
     "text": [
      "{56, 66, 62}\n"
     ]
    }
   ],
   "source": [
    "#26.Filter out all even numbers from a set.\n",
    "k2={15,56,17,65,45,15,62,66}\n",
    "k3={i for i in k2 if i%2==0}\n",
    "print(k3)"
   ]
  },
  {
   "cell_type": "code",
   "execution_count": 17,
   "id": "04bbdeb6",
   "metadata": {},
   "outputs": [
    {
     "name": "stdout",
     "output_type": "stream",
     "text": [
      "{100, 104, 44, 110, 50, 60}\n"
     ]
    }
   ],
   "source": [
    "#27.Multiply all elements in a set by 2.\n",
    "k4={22,55,30,25,52,50}\n",
    "k5={i*2 for i in k4}\n",
    "print(k5)"
   ]
  },
  {
   "cell_type": "code",
   "execution_count": 19,
   "id": "e29f9bfe",
   "metadata": {},
   "outputs": [
    {
     "name": "stdout",
     "output_type": "stream",
     "text": [
      "{33, 36, 5, 8, 9, 14, 49, 25}\n"
     ]
    }
   ],
   "source": [
    "#28.Create a set of random numbers.\n",
    "import random\n",
    "n=8\n",
    "a=set()\n",
    "for i in range(n):\n",
    "    b=random.randint(1,50)\n",
    "    a.add(b)\n",
    "print(a)"
   ]
  },
  {
   "cell_type": "code",
   "execution_count": 21,
   "id": "47f9594a",
   "metadata": {},
   "outputs": [
    {
     "name": "stdout",
     "output_type": "stream",
     "text": [
      "this is mallesh\n"
     ]
    }
   ],
   "source": [
    "#29.Check if a set is empty.\n",
    "a3={66,69,55,33,15,36}\n",
    "if a3:\n",
    "    print(\"this is mallesh\")\n",
    "else:\n",
    "    print(\"this is not correct\")"
   ]
  },
  {
   "cell_type": "code",
   "execution_count": 24,
   "id": "e37650bb",
   "metadata": {},
   "outputs": [
    {
     "name": "stdout",
     "output_type": "stream",
     "text": [
      "(frozenset({66, 35, 36, 56, 25}), frozenset({33, 66, 26, 36, 58}))\n"
     ]
    }
   ],
   "source": [
    "#30.Create a nested set (hint: use frozenset).\n",
    "l={56,66,25,36,35}\n",
    "l1={66,58,36,33,26}\n",
    "l2=frozenset(l)\n",
    "l3=frozenset(l1)\n",
    "l4=(l2,l3)\n",
    "print(l4)"
   ]
  },
  {
   "cell_type": "code",
   "execution_count": 29,
   "id": "0d8e463f",
   "metadata": {},
   "outputs": [
    {
     "name": "stdout",
     "output_type": "stream",
     "text": [
      "{35, 52, 22, 23, 12}\n"
     ]
    }
   ],
   "source": [
    "#31.Remove an element from a set using the discard method.\n",
    "l5={52,22,36,12,35,23}\n",
    "n=36\n",
    "l5.discard(n)\n",
    "print(l5)"
   ]
  },
  {
   "cell_type": "code",
   "execution_count": 33,
   "id": "68487e69",
   "metadata": {},
   "outputs": [
    {
     "name": "stdout",
     "output_type": "stream",
     "text": [
      "False\n",
      "False\n",
      "{25}\n",
      "{66, 36, 10, 55, 25, 26, 62}\n",
      "{10, 26, 36}\n",
      "{66, 62, 55}\n"
     ]
    }
   ],
   "source": [
    "#32.Compare two sets.\n",
    "n={10,25,36,25,36,26}\n",
    "n1={55,25,62,66,55}\n",
    "n2=n.issubset(n1)\n",
    "print(n2)\n",
    "n3=n.issuperset(n1)\n",
    "print(n3)\n",
    "n4=n.intersection(n1)\n",
    "print(n4)\n",
    "n5=n.union(n1)\n",
    "print(n5)\n",
    "n6=n.difference(n1)\n",
    "print(n6)\n",
    "n7=n1.difference(n)\n",
    "print(n7)"
   ]
  },
  {
   "cell_type": "code",
   "execution_count": 34,
   "id": "9cacb912",
   "metadata": {},
   "outputs": [
    {
     "name": "stdout",
     "output_type": "stream",
     "text": [
      "{'h', 'm', 'l', 'a', 'v', 'i', 's', 'e', 'o', ' '}\n"
     ]
    }
   ],
   "source": [
    "#33.Create a set from a string.\n",
    "b3=\"mallesh loves hima\"\n",
    "b4=set(b3)\n",
    "print(b4)"
   ]
  },
  {
   "cell_type": "code",
   "execution_count": 40,
   "id": "a4ced7f8",
   "metadata": {},
   "outputs": [
    {
     "name": "stdout",
     "output_type": "stream",
     "text": [
      "{36, 22, 23, 56, 25}\n",
      "{'36', '25', '23', '22', '56'}\n"
     ]
    }
   ],
   "source": [
    "#34.Convert a set of strings to a set of integers.\n",
    "b5={\"25\",\"36\",\"23\",\"22\",\"56\"}\n",
    "b1=set()\n",
    "for i in b5:\n",
    "    b6=int(i)\n",
    "    b1.add(b6)\n",
    "print(b1)\n",
    "print(b5)"
   ]
  },
  {
   "cell_type": "code",
   "execution_count": 41,
   "id": "5515102e",
   "metadata": {},
   "outputs": [
    {
     "name": "stdout",
     "output_type": "stream",
     "text": [
      "{'36', '66', '15', '48', '35'}\n"
     ]
    }
   ],
   "source": [
    "#35.Convert a set of integers to a set of strings.\n",
    "b3={36,48,66,15,35,15}\n",
    "b4={str(x) for x in b3}\n",
    "print(b4)"
   ]
  },
  {
   "cell_type": "code",
   "execution_count": 43,
   "id": "f278af03",
   "metadata": {},
   "outputs": [
    {
     "name": "stdout",
     "output_type": "stream",
     "text": [
      "{66, 35, 42, 44, 55, 62}\n"
     ]
    }
   ],
   "source": [
    "#36.Create a set from a tuple.\n",
    "a6=(55,62,44,66,35,42)\n",
    "a7=set(a6)\n",
    "print(a7)"
   ]
  },
  {
   "cell_type": "code",
   "execution_count": 44,
   "id": "617e0007",
   "metadata": {},
   "outputs": [
    {
     "name": "stdout",
     "output_type": "stream",
     "text": [
      "(258, 35, 68, 580, 52, 25)\n"
     ]
    }
   ],
   "source": [
    "#37.Convert a set to a tuple.\n",
    "a7={25,68,52,258,35,580}\n",
    "a8=tuple(a7)\n",
    "print(a8)"
   ]
  },
  {
   "cell_type": "code",
   "execution_count": 45,
   "id": "13433eab",
   "metadata": {},
   "outputs": [
    {
     "data": {
      "text/plain": [
       "63"
      ]
     },
     "execution_count": 45,
     "metadata": {},
     "output_type": "execute_result"
    }
   ],
   "source": [
    "#38.Find the maximum value in a set.\n",
    "b5={55,63,26,36,25,35,52,36}\n",
    "max(b5)"
   ]
  },
  {
   "cell_type": "code",
   "execution_count": 46,
   "id": "6bb765b9",
   "metadata": {},
   "outputs": [
    {
     "data": {
      "text/plain": [
       "25"
      ]
     },
     "execution_count": 46,
     "metadata": {},
     "output_type": "execute_result"
    }
   ],
   "source": [
    "#39.Find the minimum value in a set.\n",
    "b6={25,56,35,36,55,25,35}\n",
    "min(b6)"
   ]
  },
  {
   "cell_type": "code",
   "execution_count": null,
   "id": "39b5c531",
   "metadata": {},
   "outputs": [
    {
     "name": "stdout",
     "output_type": "stream",
     "text": [
      "Enter elements for the set (type 'done' to finish):\n",
      "> 26\n",
      "> 28\n",
      "> 12\n",
      "> 15\n"
     ]
    }
   ],
   "source": [
    "#40.Create a set from user input.\n",
    "user_set = set()\n",
    "print(\"Enter elements for the set (type 'done' to finish):\")\n",
    "while True:\n",
    "    user_input = input(\"> \")\n",
    "    if user_input.lower() == 'done':\n",
    "        break\n",
    "        user_set.add(user_input)\n",
    "print(\"Final set:\", user_set)"
   ]
  },
  {
   "cell_type": "code",
   "execution_count": 1,
   "id": "040bd69d",
   "metadata": {},
   "outputs": [
    {
     "name": "stdout",
     "output_type": "stream",
     "text": [
      "set()\n"
     ]
    }
   ],
   "source": [
    "#41.Check if the intersection of two sets is empty.\n",
    "c={265,666,25,665,256}\n",
    "d={55,69,57,66,47,66}\n",
    "a=c.intersection(d)\n",
    "print(a)"
   ]
  },
  {
   "cell_type": "code",
   "execution_count": 3,
   "id": "22194e4f",
   "metadata": {},
   "outputs": [
    {
     "name": "stdout",
     "output_type": "stream",
     "text": [
      "Set of the first 5 Fibonacci numbers: {0, 1, 2, 3, 5}\n"
     ]
    }
   ],
   "source": [
    "#42.Create a set of the first 5 Fibonacci numbers.\n",
    "fibonacci_set=set()\n",
    "a,b=0,1\n",
    "for i in range(6):\n",
    "    fibonacci_set.add(a)\n",
    "    a,b=b,a+b\n",
    "print(\"Set of the first 5 Fibonacci numbers:\", fibonacci_set)"
   ]
  },
  {
   "cell_type": "code",
   "execution_count": 4,
   "id": "983456a6",
   "metadata": {},
   "outputs": [
    {
     "name": "stdout",
     "output_type": "stream",
     "text": [
      "{32, 65, 36, 45, 55, 25}\n"
     ]
    }
   ],
   "source": [
    "#43.Remove duplicates from a list using sets.\n",
    "l2=[25,65,45,25,36,55,55,55,32,25,45]\n",
    "l3=set(l2)\n",
    "print(l3)"
   ]
  },
  {
   "cell_type": "code",
   "execution_count": 5,
   "id": "d2c0e1c4",
   "metadata": {},
   "outputs": [
    {
     "name": "stdout",
     "output_type": "stream",
     "text": [
      "The sets have the same elements.\n"
     ]
    }
   ],
   "source": [
    "#44.Check if two sets have the same elements,regardless of their count.\n",
    "def have_same_elements(set1, set2):\n",
    "    sorted_list1 = sorted(list(set1))\n",
    "    sorted_list2 = sorted(list(set2))\n",
    "    return sorted_list1 == sorted_list2\n",
    "set1 = {1, 2, 3, 2, 1}\n",
    "set2 = {3, 1, 2}\n",
    "result = have_same_elements(set1, set2)\n",
    "if result:\n",
    " print(\"The sets have the same elements.\")\n",
    "else:\n",
    " print(\"The sets do not have the same elements.\")"
   ]
  },
  {
   "cell_type": "code",
   "execution_count": 6,
   "id": "a42c3c6b",
   "metadata": {},
   "outputs": [
    {
     "name": "stdout",
     "output_type": "stream",
     "text": [
      "{32, 1, 2, 4, 8, 16}\n"
     ]
    }
   ],
   "source": [
    "#45.Create a set of the first `n` powers of 2.\n",
    "def beer(n):\n",
    "    a1=set()\n",
    "    for i in range(n):\n",
    "        p=2**i\n",
    "        a1.add(p)\n",
    "    return a1\n",
    "n=6\n",
    "b=beer(n)\n",
    "print(b)"
   ]
  },
  {
   "cell_type": "code",
   "execution_count": 1,
   "id": "c75772b0",
   "metadata": {},
   "outputs": [
    {
     "name": "stdout",
     "output_type": "stream",
     "text": [
      "Common elements: [7, 9, 12]\n"
     ]
    }
   ],
   "source": [
    "#46.Find the common elements between a set and a list.\n",
    "s={3,7,9,12,15}\n",
    "m=[7,12,5,9]\n",
    "l=set(m)\n",
    "c=[]\n",
    "for i in s:\n",
    "    if i in l:\n",
    "        c.append(i)\n",
    "print(\"Common elements:\", c)"
   ]
  },
  {
   "cell_type": "code",
   "execution_count": 11,
   "id": "e0cedd75",
   "metadata": {},
   "outputs": [
    {
     "name": "stdout",
     "output_type": "stream",
     "text": [
      "Enter the value of n: 8\n",
      "The set of the first 8 triangular numbers is: {1, 3, 36, 6, 10, 15, 21, 28}\n"
     ]
    }
   ],
   "source": [
    "#47.Create a set of the first `n` triangular numbers.\n",
    "def kavi(n):\n",
    "    s1=set()\n",
    "    for i in range(1, n + 1):\n",
    "        t1=i*(i + 1) // 2\n",
    "        s1.add(t1)\n",
    "    return s1\n",
    "n=int(input(\"Enter the value of n: \"))\n",
    "t=kavi(n)\n",
    "print(f\"The set of the first {n} triangular numbers is:\",t)"
   ]
  },
  {
   "cell_type": "code",
   "execution_count": 14,
   "id": "232a1e97",
   "metadata": {},
   "outputs": [
    {
     "name": "stdout",
     "output_type": "stream",
     "text": [
      "False\n",
      "True\n"
     ]
    }
   ],
   "source": [
    "#48.Check if a set contains another set as a subset.\n",
    "a3={15,36,66,45,265}\n",
    "a4={15,45,36}\n",
    "d=a3.issubset(a4)\n",
    "e=a4.issubset(a3)\n",
    "print(d)\n",
    "print(e)"
   ]
  },
  {
   "cell_type": "code",
   "execution_count": 16,
   "id": "ca184144",
   "metadata": {},
   "outputs": [
    {
     "name": "stdout",
     "output_type": "stream",
     "text": [
      "{0, 1}\n"
     ]
    }
   ],
   "source": [
    "#49.Create a set of alternating 1s and 0s of length `n`.\n",
    "def shivam(n):\n",
    "    a3=set()\n",
    "    for i in range(n):\n",
    "        if i % 2 == 0:\n",
    "            a3.add(1)\n",
    "        else:\n",
    "            a3.add(0)\n",
    "    return a3\n",
    "n=10 \n",
    "k=shivam(n)\n",
    "print(k)"
   ]
  },
  {
   "cell_type": "code",
   "execution_count": 20,
   "id": "972ecdd5",
   "metadata": {},
   "outputs": [
    {
     "name": "stdout",
     "output_type": "stream",
     "text": [
      "{256, 66, 265, 15, 5265, 22, 23, 25, 36, 555, 364, 45, 365, 48, 55, 56, 59, 253}\n"
     ]
    }
   ],
   "source": [
    "#50.Merge multiple sets into one.\n",
    "a5={59,56,66,48,265}\n",
    "a6={22,36,25,365,45,15}\n",
    "a7={36,66,256,253,364}\n",
    "a8={256,555,5265,23,66,55}\n",
    "a9=a5.union(a6,a7,a8)\n",
    "print(a9)"
   ]
  },
  {
   "cell_type": "code",
   "execution_count": null,
   "id": "07187171",
   "metadata": {},
   "outputs": [],
   "source": []
  }
 ],
 "metadata": {
  "kernelspec": {
   "display_name": "Python 3 (ipykernel)",
   "language": "python",
   "name": "python3"
  },
  "language_info": {
   "codemirror_mode": {
    "name": "ipython",
    "version": 3
   },
   "file_extension": ".py",
   "mimetype": "text/x-python",
   "name": "python",
   "nbconvert_exporter": "python",
   "pygments_lexer": "ipython3",
   "version": "3.11.5"
  }
 },
 "nbformat": 4,
 "nbformat_minor": 5
}
