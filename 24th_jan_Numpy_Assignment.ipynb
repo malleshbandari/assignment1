{
 "cells": [
  {
   "cell_type": "code",
   "execution_count": 1,
   "id": "0a4f3417",
   "metadata": {},
   "outputs": [
    {
     "data": {
      "text/plain": [
       "\"What is a Python Library?\\nA Python library is a collection of pre-written code that you can use to perform common tasks. \\nIt typically includes functions and classes that simplify various programming activities.\\n\\nWhy Do We Use Python Libraries?\\nSave Time: They provide ready-made solutions, so you don't have to write code from scratch.\\nAdd Functionality: Libraries offer specialized tools for things like data analysis, web development, and machine learning.\\nImprove Code Quality: Using well-tested libraries reduces bugs and improves performance.\\nSimplify Complex Tasks: Libraries make it easier to handle complicated tasks with simple commands.\\n\\nExamples\\nNumPy: For mathematical operations.\\nPandas: For data manipulation.\\nMatplotlib: For creating charts and graphs.\\nRequests: For handling HTTP requests.\""
      ]
     },
     "execution_count": 1,
     "metadata": {},
     "output_type": "execute_result"
    }
   ],
   "source": [
    "#1. What is a Python library? Why ^o we use Python libraries?\n",
    "\n",
    "\"\"\"What is a Python Library?\n",
    "A Python library is a collection of pre-written code that you can use to perform common tasks. \n",
    "It typically includes functions and classes that simplify various programming activities.\n",
    "\n",
    "Why Do We Use Python Libraries?\n",
    "Save Time: They provide ready-made solutions, so you don't have to write code from scratch.\n",
    "Add Functionality: Libraries offer specialized tools for things like data analysis, web development, and machine learning.\n",
    "Improve Code Quality: Using well-tested libraries reduces bugs and improves performance.\n",
    "Simplify Complex Tasks: Libraries make it easier to handle complicated tasks with simple commands.\n",
    "\n",
    "Examples\n",
    "NumPy: For mathematical operations.\n",
    "Pandas: For data manipulation.\n",
    "Matplotlib: For creating charts and graphs.\n",
    "Requests: For handling HTTP requests.\"\"\""
   ]
  },
  {
   "cell_type": "code",
   "execution_count": 2,
   "id": "5b2cd5fb",
   "metadata": {},
   "outputs": [
    {
     "data": {
      "text/plain": [
       "'Difference Between NumPy Array and List\\n\\n1. Performance\\nNumPy Array: Faster and more efficient for numerical operations.\\nList: Slower, especially for large datasets.\\n\\n2. Storage\\nNumPy Array: Stores elements of the same type (usually numbers), leading to efficient memory usage.\\nList: Can store elements of different types (numbers, strings, objects).\\n\\n3. Functionality\\nNumPy Array: Supports advanced mathematical and statistical operations (like matrix operations, element-wise computations).\\nList: Supports basic operations but lacks specialized numerical methods.\\n\\n4. Size\\nNumPy Array: Fixed size once created; you need to create a new array to change its size.\\nList: Dynamic size; you can easily add or remove elements.\\n\\n5. Syntax for Operations\\nNumPy Array: Allows vectorized operations (apply operations to entire arrays at once).\\nimport numpy as np\\narr = np.array([1, 2, 3])\\narr = arr + 1  # Adds 1 to each element\\n\\nList: Requires loops or list comprehensions for element-wise operations\\nlst = [1, 2, 3]\\nlst = [x + 1 for x in lst]  # Adds 1 to each element'"
      ]
     },
     "execution_count": 2,
     "metadata": {},
     "output_type": "execute_result"
    }
   ],
   "source": [
    "#2. What is the difference between Numpy array and List?\n",
    "\n",
    "\"\"\"Difference Between NumPy Array and List\n",
    "\n",
    "1. Performance\n",
    "NumPy Array: Faster and more efficient for numerical operations.\n",
    "List: Slower, especially for large datasets.\n",
    "\n",
    "2. Storage\n",
    "NumPy Array: Stores elements of the same type (usually numbers), leading to efficient memory usage.\n",
    "List: Can store elements of different types (numbers, strings, objects).\n",
    "\n",
    "3. Functionality\n",
    "NumPy Array: Supports advanced mathematical and statistical operations (like matrix operations, element-wise computations).\n",
    "List: Supports basic operations but lacks specialized numerical methods.\n",
    "\n",
    "4. Size\n",
    "NumPy Array: Fixed size once created; you need to create a new array to change its size.\n",
    "List: Dynamic size; you can easily add or remove elements.\n",
    "\n",
    "5. Syntax for Operations\n",
    "NumPy Array: Allows vectorized operations (apply operations to entire arrays at once).\n",
    "import numpy as np\n",
    "arr = np.array([1, 2, 3])\n",
    "arr = arr + 1  # Adds 1 to each element\n",
    "\n",
    "List: Requires loops or list comprehensions for element-wise operations\n",
    "lst = [1, 2, 3]\n",
    "lst = [x + 1 for x in lst]  # Adds 1 to each element\"\"\"\n"
   ]
  },
  {
   "cell_type": "code",
   "execution_count": 3,
   "id": "cab99df0",
   "metadata": {},
   "outputs": [
    {
     "name": "stdout",
     "output_type": "stream",
     "text": [
      "Shape: (3, 4)\n",
      "Size: 12\n",
      "Dimension: 2\n"
     ]
    }
   ],
   "source": [
    "#3. Fin^ the shape, size an^ ^imension of the following array?\n",
    "#[[1, 2, 3, 4]\n",
    "#[5, 6, 7, 8],\n",
    "#[9, 10, 11, 12]]\n",
    "\n",
    "import numpy as np\n",
    "\n",
    "# Define the array\n",
    "array = np.array([\n",
    "    [1, 2, 3, 4],\n",
    "    [5, 6, 7, 8],\n",
    "    [9, 10, 11, 12]\n",
    "])\n",
    "\n",
    "# Get the shape, size, and dimension\n",
    "shape = array.shape\n",
    "size = array.size\n",
    "dimension = array.ndim\n",
    "\n",
    "print(\"Shape:\", shape)\n",
    "print(\"Size:\", size)\n",
    "print(\"Dimension:\", dimension)"
   ]
  },
  {
   "cell_type": "code",
   "execution_count": 4,
   "id": "0ca765e6",
   "metadata": {},
   "outputs": [
    {
     "name": "stdout",
     "output_type": "stream",
     "text": [
      "First row: [1 2 3 4]\n"
     ]
    }
   ],
   "source": [
    "#4. Write python co^e to access the first row of the following array?\n",
    "#[[1, 2, 3, 4]\n",
    "#[5, 6, 7, 8],\n",
    "#[9, 10, 11, 12]]\n",
    "\n",
    "import numpy as np\n",
    "\n",
    "# Define the array\n",
    "array = np.array([\n",
    "    [1, 2, 3, 4],\n",
    "    [5, 6, 7, 8],\n",
    "    [9, 10, 11, 12]\n",
    "])\n",
    "\n",
    "# Access the first row\n",
    "first_row = array[0]\n",
    "\n",
    "print(\"First row:\", first_row)"
   ]
  },
  {
   "cell_type": "code",
   "execution_count": 5,
   "id": "d4769fd0",
   "metadata": {},
   "outputs": [
    {
     "name": "stdout",
     "output_type": "stream",
     "text": [
      "Element at third row and fourth column: 12\n"
     ]
    }
   ],
   "source": [
    "#5. How do you access the element at the third row and fourth column from the given numpy array?\n",
    "#[[1, 2, 3, 4]\n",
    "#[5, 6, 7, 8],\n",
    "#[9, 10, 11, 12]]\n",
    "\n",
    "import numpy as np\n",
    "\n",
    "# Define the array\n",
    "array = np.array([\n",
    "    [1, 2, 3, 4],\n",
    "    [5, 6, 7, 8],\n",
    "    [9, 10, 11, 12]\n",
    "])\n",
    "\n",
    "# Access the element at the third row and fourth column\n",
    "element = array[2, 3]\n",
    "\n",
    "print(\"Element at third row and fourth column:\", element)\n"
   ]
  },
  {
   "cell_type": "code",
   "execution_count": 8,
   "id": "fb6d2dbb",
   "metadata": {},
   "outputs": [
    {
     "name": "stdout",
     "output_type": "stream",
     "text": [
      "Odd-indexed elements:\n",
      "[[ 2  4]\n",
      " [ 6  8]\n",
      " [10 12]]\n"
     ]
    }
   ],
   "source": [
    "#6. Write code to extract all odd-indexed elements from the given numpy array?\n",
    "#[[1, 2, 3, 4]\n",
    "#[5, 6, 7, 8],\n",
    "#[9, 10, 11, 12]]\n",
    "\n",
    "import numpy as np\n",
    "\n",
    "# Define the array\n",
    "array = np.array([\n",
    "    [1, 2, 3, 4],\n",
    "    [5, 6, 7, 8],\n",
    "    [9, 10, 11, 12]\n",
    "])\n",
    "\n",
    "# Extract all odd-indexed elements\n",
    "odd_indexed_elements = array[:, 1::2]\n",
    "\n",
    "print(\"Odd-indexed elements:\")\n",
    "print(odd_indexed_elements)\n"
   ]
  },
  {
   "cell_type": "code",
   "execution_count": 9,
   "id": "804ffce2",
   "metadata": {},
   "outputs": [
    {
     "name": "stdout",
     "output_type": "stream",
     "text": [
      "Random 3x3 matrix with values between 0 and 1:\n",
      "[[0.82234341 0.06458598 0.01082218]\n",
      " [0.83993182 0.54441691 0.21859396]\n",
      " [0.09174224 0.89712266 0.84691678]]\n"
     ]
    }
   ],
   "source": [
    "#7. How can you generate a random 3x3 matrix with values between 0 and 1?\n",
    "import numpy as np\n",
    "\n",
    "# Generate a random 3x3 matrix with values between 0 and 1\n",
    "random_matrix = np.random.rand(3, 3)\n",
    "\n",
    "print(\"Random 3x3 matrix with values between 0 and 1:\")\n",
    "print(random_matrix)"
   ]
  },
  {
   "cell_type": "code",
   "execution_count": 10,
   "id": "ee5bb2c1",
   "metadata": {},
   "outputs": [
    {
     "name": "stdout",
     "output_type": "stream",
     "text": [
      "Random matrix from np.random.rand (uniform distribution):\n",
      "[[0.70566417 0.35396116]\n",
      " [0.85148442 0.77891558]]\n",
      "\n",
      "Random matrix from np.random.randn (standard normal distribution):\n",
      "[[-1.65402209  0.30624947]\n",
      " [ 0.04282148  0.65464918]]\n"
     ]
    }
   ],
   "source": [
    "#8. Describe the difference between np.random.rand and np.random.randn?\n",
    "\n",
    "\"\"\"np.random.rand: This function generates random numbers from a uniform distribution over the interval [0, 1). \n",
    "It returns an array of specified shape filled with random values.\n",
    "\n",
    "np.random.randn: This function generates random numbers from a standard normal distribution (mean = 0, standard deviation = 1).\n",
    "It returns an array of specified shape filled with random values.\n",
    "\n",
    "Use np.random.rand when you need random numbers from a uniform distribution between 0 and 1.\n",
    "Use np.random.randn when you need random numbers from a standard normal distribution with mean 0 and standard deviation 1.\"\"\"\n",
    "\n",
    "import numpy as np\n",
    "\n",
    "# Generate a 2x2 matrix using np.random.rand\n",
    "uniform_random = np.random.rand(2, 2)\n",
    "\n",
    "# Generate a 2x2 matrix using np.random.randn\n",
    "normal_random = np.random.randn(2, 2)\n",
    "\n",
    "print(\"Random matrix from np.random.rand (uniform distribution):\")\n",
    "print(uniform_random)\n",
    "\n",
    "print(\"\\nRandom matrix from np.random.randn (standard normal distribution):\")\n",
    "print(normal_random)"
   ]
  },
  {
   "cell_type": "code",
   "execution_count": 11,
   "id": "8c1baeb6",
   "metadata": {},
   "outputs": [
    {
     "name": "stdout",
     "output_type": "stream",
     "text": [
      "Original array:\n",
      "[[ 1  2  3  4]\n",
      " [ 5  6  7  8]\n",
      " [ 9 10 11 12]]\n",
      "\n",
      "Array with increased dimension:\n",
      "[[[ 1  2  3  4]\n",
      "  [ 5  6  7  8]\n",
      "  [ 9 10 11 12]]]\n"
     ]
    }
   ],
   "source": [
    "#9. Write co^e to increase the ^imension of the following array?\n",
    "#[[1, 2, 3, 4]\n",
    "#[5, 6, 7, 8],\n",
    "#[9, 10, 11, 12]]\n",
    "\n",
    "import numpy as np\n",
    "\n",
    "# Define the array\n",
    "array = np.array([\n",
    "    [1, 2, 3, 4],\n",
    "    [5, 6, 7, 8],\n",
    "    [9, 10, 11, 12]\n",
    "])\n",
    "\n",
    "# Increase the dimension of the array\n",
    "new_array = np.expand_dims(array, axis=0)  # Increase dimension along axis 0\n",
    "\n",
    "print(\"Original array:\")\n",
    "print(array)\n",
    "\n",
    "print(\"\\nArray with increased dimension:\")\n",
    "print(new_array)"
   ]
  },
  {
   "cell_type": "code",
   "execution_count": 12,
   "id": "9292f1cb",
   "metadata": {},
   "outputs": [
    {
     "name": "stdout",
     "output_type": "stream",
     "text": [
      "Original array:\n",
      "[[ 1  2  3  4]\n",
      " [ 5  6  7  8]\n",
      " [ 9 10 11 12]]\n",
      "\n",
      "Transposed array:\n",
      "[[ 1  5  9]\n",
      " [ 2  6 10]\n",
      " [ 3  7 11]\n",
      " [ 4  8 12]]\n"
     ]
    }
   ],
   "source": [
    "#10. How to transpose the following array in NumPy?\n",
    "#[[1, 2, 3, 4]\n",
    "#[5, 6, 7, 8],\n",
    "#[9, 10, 11, 12]]\n",
    "\n",
    "import numpy as np\n",
    "\n",
    "# Define the array\n",
    "array = np.array([\n",
    "    [1, 2, 3, 4],\n",
    "    [5, 6, 7, 8],\n",
    "    [9, 10, 11, 12]\n",
    "])\n",
    "\n",
    "# Transpose the array\n",
    "transposed_array = np.transpose(array)  # or array.T\n",
    "\n",
    "print(\"Original array:\")\n",
    "print(array)\n",
    "\n",
    "print(\"\\nTransposed array:\")\n",
    "print(transposed_array)"
   ]
  },
  {
   "cell_type": "code",
   "execution_count": 16,
   "id": "80142385",
   "metadata": {},
   "outputs": [
    {
     "name": "stdout",
     "output_type": "stream",
     "text": [
      "1. Index-wise multiplication:\n",
      "[[  1   4   9  16]\n",
      " [ 25  36  49  64]\n",
      " [ 81 100 121 144]]\n",
      "\n",
      "2. Matrix multiplication:\n",
      "[[ 30  70 110]\n",
      " [ 70 174 278]\n",
      " [110 278 446]]\n",
      "\n",
      "3. Addition of matrices:\n",
      "[[ 2  4  6  8]\n",
      " [10 12 14 16]\n",
      " [18 20 22 24]]\n",
      "\n",
      "4. Subtraction of matrix B from A:\n",
      "[[0 0 0 0]\n",
      " [0 0 0 0]\n",
      " [0 0 0 0]]\n",
      "\n",
      "5. Element-wise division of matrix B by A:\n",
      "[[1. 1. 1. 1.]\n",
      " [1. 1. 1. 1.]\n",
      " [1. 1. 1. 1.]]\n"
     ]
    }
   ],
   "source": [
    "\"\"\"11. Consider the following matrix:\n",
    "Matrix A: [[1, 2, 3, 4] [5, 6, 7, 8],[9, 10, 11, 12]]\n",
    "Matrix B: [[1, 2, 3, 4] [5, 6, 7, 8],[9, 10, 11, 12]]\n",
    "Perform the following operation using Python:\n",
    "1.index wise multiplication\n",
    "2.matrix multiplication\n",
    "3.addboth the matrics\n",
    "4.substract matrix B from A\n",
    "5.Divide matrix B by A\"\"\"\n",
    "\n",
    "import numpy as np\n",
    "\n",
    "# Define the matrices\n",
    "A = np.array([\n",
    "    [1, 2, 3, 4],\n",
    "    [5, 6, 7, 8],\n",
    "    [9, 10, 11, 12]\n",
    "])\n",
    "\n",
    "B = np.array([\n",
    "    [1, 2, 3, 4],\n",
    "    [5, 6, 7, 8],\n",
    "    [9, 10, 11, 12]\n",
    "])\n",
    "\n",
    "# 1. Index-wise multiplication\n",
    "index_wise_multiplication = A * B\n",
    "\n",
    "# 2. Matrix multiplication\n",
    "matrix_multiplication = np.dot(A, B.T)  # Transpose of B is taken for matrix multiplication\n",
    "\n",
    "# 3. Add both the matrices\n",
    "addition = A + B\n",
    "\n",
    "# 4. Subtract matrix B from A\n",
    "subtraction = A - B\n",
    "\n",
    "# 5. Divide matrix B by A (element-wise division)\n",
    "division = np.divide(B, A)\n",
    "\n",
    "print(\"1. Index-wise multiplication:\")\n",
    "print(index_wise_multiplication)\n",
    "\n",
    "print(\"\\n2. Matrix multiplication:\")\n",
    "print(matrix_multiplication)\n",
    "\n",
    "print(\"\\n3. Addition of matrices:\")\n",
    "print(addition)\n",
    "\n",
    "print(\"\\n4. Subtraction of matrix B from A:\")\n",
    "print(subtraction)\n",
    "\n",
    "print(\"\\n5. Element-wise division of matrix B by A:\")\n",
    "print(division)"
   ]
  },
  {
   "cell_type": "code",
   "execution_count": 17,
   "id": "c2a6e394",
   "metadata": {},
   "outputs": [
    {
     "name": "stdout",
     "output_type": "stream",
     "text": [
      "Original array: [1 2 3 4]\n",
      "Swapped array: [16777216 33554432 50331648 67108864]\n"
     ]
    }
   ],
   "source": [
    "#12. Which function in Numpy can be used to swap the byte order of an array?\n",
    "import numpy as np\n",
    "\n",
    "# Create an array\n",
    "array = np.array([1, 2, 3, 4], dtype=np.int32)\n",
    "\n",
    "# Swap the byte order\n",
    "swapped_array = array.byteswap()\n",
    "\n",
    "print(\"Original array:\", array)\n",
    "print(\"Swapped array:\", swapped_array)"
   ]
  },
  {
   "cell_type": "code",
   "execution_count": 18,
   "id": "18299907",
   "metadata": {},
   "outputs": [
    {
     "data": {
      "text/plain": [
       "'Significance of np.linalg.inv:\\n\\nUndoing Transformations: Imagine you transform a matrix in some way. Want to undo that transformation? np.linalg.inv helps you get back to where you started.\\nSolving Equations: Got a system of equations? The inverse helps you solve them faster and more efficiently than brute force.\\nMatrix Magic: In linear algebra, matrices are like the wizards of the numerical world. The inverse is a powerful tool in their spellbook, used for a variety of magical operations.\\nError Checking: It\\'s not just about solving equations. You can also use np.linalg.inv to check if a matrix is \"invertible\" (meaning it has an inverse). If it\\'s not invertible, it\\'s like trying to divide by zero – you\\'ll run into trouble.'"
      ]
     },
     "execution_count": 18,
     "metadata": {},
     "output_type": "execute_result"
    }
   ],
   "source": [
    "#13. What is the significance of the np.linalg.inv function?\n",
    "\n",
    "\"\"\"Significance of np.linalg.inv:\n",
    "\n",
    "Undoing Transformations: Imagine you transform a matrix in some way. Want to undo that transformation? np.linalg.inv helps you get back to where you started.\n",
    "Solving Equations: Got a system of equations? The inverse helps you solve them faster and more efficiently than brute force.\n",
    "Matrix Magic: In linear algebra, matrices are like the wizards of the numerical world. The inverse is a powerful tool in their spellbook, used for a variety of magical operations.\n",
    "Error Checking: It's not just about solving equations. You can also use np.linalg.inv to check if a matrix is \"invertible\" (meaning it has an inverse). If it's not invertible, it's like trying to divide by zero – you'll run into trouble.\"\"\""
   ]
  },
  {
   "cell_type": "code",
   "execution_count": 19,
   "id": "07fcb55d",
   "metadata": {},
   "outputs": [
    {
     "name": "stdout",
     "output_type": "stream",
     "text": [
      "Original array:\n",
      "[1 2 3 4 5 6]\n",
      "\n",
      "Reshaped array:\n",
      "[[1 2 3]\n",
      " [4 5 6]]\n"
     ]
    },
    {
     "data": {
      "text/plain": [
       "\"Why it's Handy:\\nData Flexibility: It lets you mold your data to fit different needs without copying or changing the actual content.\\nEasy Transformation: Reshaping is a simple way to prepare data for further analysis or processing.\""
      ]
     },
     "execution_count": 19,
     "metadata": {},
     "output_type": "execute_result"
    }
   ],
   "source": [
    "#14. What does the np.reshape function do, and how is it used?\n",
    "\n",
    "\"\"\"What it Does:\n",
    "Reshaping: Just as you can rearrange furniture in a room, np.reshape rearranges the elements of your array into a new shape.\n",
    "No Data Change: Like a magic trick, it doesn't change the actual data; it just presents it differently.\"\"\"\n",
    "    \n",
    "import numpy as np\n",
    "\n",
    "# Define an array\n",
    "array = np.array([1, 2, 3, 4, 5, 6])\n",
    "\n",
    "# Reshape the array into a 2x3 matrix\n",
    "reshaped_array = np.reshape(array, (2, 3))\n",
    "\n",
    "print(\"Original array:\")\n",
    "print(array)\n",
    "\n",
    "print(\"\\nReshaped array:\")\n",
    "print(reshaped_array)\n",
    "\n",
    "\"\"\"Why it's Handy:\n",
    "Data Flexibility: It lets you mold your data to fit different needs without copying or changing the actual content.\n",
    "Easy Transformation: Reshaping is a simple way to prepare data for further analysis or processing.\"\"\""
   ]
  },
  {
   "cell_type": "code",
   "execution_count": 20,
   "id": "71fcc24c",
   "metadata": {},
   "outputs": [
    {
     "name": "stdout",
     "output_type": "stream",
     "text": [
      "Big Team:\n",
      "[[1 2 3]\n",
      " [4 5 6]]\n",
      "\n",
      "Small Team:\n",
      "[10 20 30]\n",
      "\n",
      "Result of Broadcasting:\n",
      "[[11 22 33]\n",
      " [14 25 36]]\n"
     ]
    },
    {
     "data": {
      "text/plain": [
       "\"Why Broadcasting Matters:\\nFlexibility: You don't need to worry about matching shapes perfectly; broadcasting helps make operations smooth.\\nEfficiency: It saves memory and speeds up computations by avoiding unnecessary copying.\""
      ]
     },
     "execution_count": 20,
     "metadata": {},
     "output_type": "execute_result"
    }
   ],
   "source": [
    "#15. What is broadcasting in Numpy?\n",
    "\n",
    "\"\"\"What Broadcasting Does:\n",
    "Shape Matching: Broadcasting helps when you're doing operations on arrays with different shapes.\n",
    "Automatic Adjustment: It automatically adjusts the smaller array to match the shape of the larger one.\n",
    "Efficiency: Instead of copying data to match shapes, broadcasting does the operation efficiently without extra memory use.\n",
    "    \n",
    "How Broadcasting Works:\n",
    "Imagine you have a small team of players and a big team. Broadcasting helps make them play together:\n",
    "If the smaller team can fit into the positions of the bigger team, it's automatically adjusted to match.\n",
    "Each player from the smaller team performs their task with the corresponding player from the bigger team.\"\"\"\n",
    "\n",
    "import numpy as np\n",
    "\n",
    "# Define arrays\n",
    "big_team = np.array([[1, 2, 3], [4, 5, 6]])\n",
    "small_team = np.array([10, 20, 30])\n",
    "\n",
    "# Add the small team to the big team\n",
    "result = big_team + small_team\n",
    "\n",
    "print(\"Big Team:\")\n",
    "print(big_team)\n",
    "\n",
    "print(\"\\nSmall Team:\")\n",
    "print(small_team)\n",
    "\n",
    "print(\"\\nResult of Broadcasting:\")\n",
    "print(result)\n",
    "\n",
    "\"\"\"Why Broadcasting Matters:\n",
    "Flexibility: You don't need to worry about matching shapes perfectly; broadcasting helps make operations smooth.\n",
    "Efficiency: It saves memory and speeds up computations by avoiding unnecessary copying.\"\"\""
   ]
  },
  {
   "cell_type": "code",
   "execution_count": null,
   "id": "a5930e9a",
   "metadata": {},
   "outputs": [],
   "source": []
  }
 ],
 "metadata": {
  "kernelspec": {
   "display_name": "Python 3 (ipykernel)",
   "language": "python",
   "name": "python3"
  },
  "language_info": {
   "codemirror_mode": {
    "name": "ipython",
    "version": 3
   },
   "file_extension": ".py",
   "mimetype": "text/x-python",
   "name": "python",
   "nbconvert_exporter": "python",
   "pygments_lexer": "ipython3",
   "version": "3.11.5"
  }
 },
 "nbformat": 4,
 "nbformat_minor": 5
}
