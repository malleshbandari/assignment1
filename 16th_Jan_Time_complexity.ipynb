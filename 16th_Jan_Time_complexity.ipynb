{
 "cells": [
  {
   "cell_type": "code",
   "execution_count": 1,
   "id": "a3d12ffb",
   "metadata": {},
   "outputs": [
    {
     "data": {
      "text/plain": [
       "'\"\\nTime Complexity Analysis\\nAverage Case\\nIn the average case, the pivot will approximately split the array into two equal halves. This gives us the recurrence relation:\\nT(n)=2T(nc2)+O(n)\\n\\nThis recurrence relation solves to \\nO(nlogn).\\n\\nWorst Case\\nIn the worst case, the pivot chosen is always the smallest or largest element, resulting in one of the subarrays having \\nn−1 elements and the other having 0 elements. This gives us the recurrence relation:\\nT(n)=T(n−1)+O(n)\\n\\nThis recurrence relation solves to \\nO(n^2).\\nAverage Case:O(nlogn)\\nWorst Case: Worst Case: 𝑂(𝑛^2)\\nBest Case: 𝑂(𝑛log𝑛)\\n\\nHere\\'s a brief explanation for each:\\nAverage Case: The pivot splits the array into two roughly equal parts, resulting in a time complexity of \\nO(nlogn).\\n\\nWorst Case: The pivot is always the smallest or largest element, leading to unbalanced splits and a time complexity of \\n𝑂(𝑛^2).\\n\\nBest Case: Similar to the average case, where the pivot splits the array evenly, resulting in\\nO(nlogn). '"
      ]
     },
     "execution_count": 1,
     "metadata": {},
     "output_type": "execute_result"
    }
   ],
   "source": [
    "\"\"\"Find time complexity of below code blocks :\n",
    "Problem 1 :\n",
    "def quicksort(arr):\n",
    "    if len(arr) <= 1:\n",
    "return arr\n",
    "pivot = arr[len(arr) // 2]\n",
    "left = [x for x in arr if x < pivot]\n",
    "middle = [x for x in arr if x == pivot]\n",
    "right = [x for x in arr if x > pivot]\n",
    "return quicksort(left) + middle + quicksort(right)\"\"\"\n",
    "\n",
    "\"\"\"\"\n",
    "Time Complexity Analysis\n",
    "Average Case\n",
    "In the average case, the pivot will approximately split the array into two equal halves. This gives us the recurrence relation:\n",
    "T(n)=2T(nc2)+O(n)\n",
    "\n",
    "This recurrence relation solves to \n",
    "O(nlogn).\n",
    "\n",
    "Worst Case\n",
    "In the worst case, the pivot chosen is always the smallest or largest element, resulting in one of the subarrays having \n",
    "n−1 elements and the other having 0 elements. This gives us the recurrence relation:\n",
    "T(n)=T(n−1)+O(n)\n",
    "\n",
    "This recurrence relation solves to \n",
    "O(n^2).\n",
    "Average Case:O(nlogn)\n",
    "Worst Case: Worst Case: 𝑂(𝑛^2)\n",
    "Best Case: 𝑂(𝑛log𝑛)\n",
    "\n",
    "Here's a brief explanation for each:\n",
    "Average Case: The pivot splits the array into two roughly equal parts, resulting in a time complexity of \n",
    "O(nlogn).\n",
    "\n",
    "Worst Case: The pivot is always the smallest or largest element, leading to unbalanced splits and a time complexity of \n",
    "𝑂(𝑛^2).\n",
    "\n",
    "Best Case: Similar to the average case, where the pivot splits the array evenly, resulting in\n",
    "O(nlogn). \"\"\"\n",
    "\n",
    "\n"
   ]
  },
  {
   "cell_type": "code",
   "execution_count": 5,
   "id": "5e2acf90",
   "metadata": {},
   "outputs": [
    {
     "data": {
      "text/plain": [
       "'Initialization:\\nrows, cols = len(matrix), len(matrix[0]):\\nlen(matrix) and len(matrix[0]) are both O(1) operations because they involve retrieving the length of a list.\\ntotal = 0: This is an O(1) operation.\\n    \\nNested Loops:\\nThe outer loop: for i in range(rows):\\nThis loop runs rows times.\\nThe inner loop: for j in range(cols):\\nThis loop runs cols times for each iteration of the outer loop.\\nTherefore, the inner loop runs rows * cols times in total.\\n\\nOperation Inside the Inner Loop:\\ntotal += matrix[i][j]: This is an O(1) operation (constant time).\\n        \\n\\nCalculating Total Time Complexity\\nThe outer loop runs rows times.\\nFor each iteration of the outer loop, the inner loop runs cols times.\\nEach operation inside the inner loop is O(1).\\n\\nThus, the total time complexity is:\\nTotal\\xa0Time\\xa0Complexity=number\\xa0of\\xa0iterations\\xa0of\\xa0outer\\xa0loop×number\\xa0of\\xa0iterations\\xa0of\\xa0inner\\xa0loop×time\\xa0complexity\\xa0of\\xa0the\\xa0inner\\xa0operation\\nTotal\\xa0Time\\xa0Complexity=rows×cols×O(1)\\n\\nConclusion\\nThe time complexity of the code block is \\nO(rows×cols).\\nIn Big-O notation, this is usually written as \\nO(n×m) where n is the number of rows and m is the number of columns in the matrix.'"
      ]
     },
     "execution_count": 5,
     "metadata": {},
     "output_type": "execute_result"
    }
   ],
   "source": [
    "Problem 2 :\n",
    "\"\"\"def nested_loop_example(matrix):\n",
    "    rows, cols = len(matrix), len(matrix[0])\n",
    "    total = 0\n",
    "    for i in range(rows):\n",
    "        for j in range(cols):\n",
    "            total += matrix[i][j]\n",
    "    return total\"\"\"\n",
    "\n",
    "\"\"\"Initialization:\n",
    "rows, cols = len(matrix), len(matrix[0]):\n",
    "len(matrix) and len(matrix[0]) are both O(1) operations because they involve retrieving the length of a list.\n",
    "total = 0: This is an O(1) operation.\n",
    "    \n",
    "Nested Loops:\n",
    "The outer loop: for i in range(rows):\n",
    "This loop runs rows times.\n",
    "The inner loop: for j in range(cols):\n",
    "This loop runs cols times for each iteration of the outer loop.\n",
    "Therefore, the inner loop runs rows * cols times in total.\n",
    "\n",
    "Operation Inside the Inner Loop:\n",
    "total += matrix[i][j]: This is an O(1) operation (constant time).\n",
    "        \n",
    "\n",
    "Calculating Total Time Complexity\n",
    "The outer loop runs rows times.\n",
    "For each iteration of the outer loop, the inner loop runs cols times.\n",
    "Each operation inside the inner loop is O(1).\n",
    "\n",
    "Thus, the total time complexity is:\n",
    "Total Time Complexity=number of iterations of outer loop×number of iterations of inner loop×time complexity of the inner operation\n",
    "Total Time Complexity=rows×cols×O(1)\n",
    "\n",
    "Conclusion\n",
    "The time complexity of the code block is \n",
    "O(rows×cols).\n",
    "In Big-O notation, this is usually written as \n",
    "O(n×m) where n is the number of rows and m is the number of columns in the matrix.\"\"\"\n"
   ]
  },
  {
   "cell_type": "code",
   "execution_count": 8,
   "id": "0a6c5df6",
   "metadata": {},
   "outputs": [
    {
     "data": {
      "text/plain": [
       "\"Steps to Determine Time Complexity:\\nInitialization:\\nresult = 0: This is an O(1) operation, as it involves assigning a value to a variable.\\n\\nLoop:\\nThe loop iterates over each element in the input array arr.\\nSince the loop runs once for each element in the array, its time complexity depends on the size of the array.\\n\\nOperation Inside the Loop:\\nresult += element: This is an O(1) operation, as it involves adding a constant value (element) to the variable result.\\n\\nCalculating Total Time Complexity:\\nLet's assume the input array arr has n elements.\\nThe loop iterates n times (once for each element in the array).\\nEach operation inside the loop is O(1).\\n\\nTherefore, the total time complexity is \\nO(n).\\n\\nConclusion:\\nThe time complexity of the code block is \\nO(n), where n is the number of elements in the input array arr.\""
      ]
     },
     "execution_count": 8,
     "metadata": {},
     "output_type": "execute_result"
    }
   ],
   "source": [
    "#Problem 3 :\n",
    "\"\"\"def example_function(arr):\n",
    "    result = 0\n",
    "for element in arr:\n",
    "    result += element\n",
    "return result\"\"\"\n",
    "\n",
    "\n",
    "\"\"\"Steps to Determine Time Complexity:\n",
    "Initialization:\n",
    "result = 0: This is an O(1) operation, as it involves assigning a value to a variable.\n",
    "\n",
    "Loop:\n",
    "The loop iterates over each element in the input array arr.\n",
    "Since the loop runs once for each element in the array, its time complexity depends on the size of the array.\n",
    "\n",
    "Operation Inside the Loop:\n",
    "result += element: This is an O(1) operation, as it involves adding a constant value (element) to the variable result.\n",
    "\n",
    "Calculating Total Time Complexity:\n",
    "Let's assume the input array arr has n elements.\n",
    "The loop iterates n times (once for each element in the array).\n",
    "Each operation inside the loop is O(1).\n",
    "\n",
    "Therefore, the total time complexity is \n",
    "O(n).\n",
    "\n",
    "Conclusion:\n",
    "The time complexity of the code block is \n",
    "O(n), where n is the number of elements in the input array arr.\"\"\""
   ]
  },
  {
   "cell_type": "code",
   "execution_count": 11,
   "id": "eb0cea0b",
   "metadata": {},
   "outputs": [
    {
     "data": {
      "text/plain": [
       "'Initialization:\\nn = len(nums): This is an O(1) operation, as it involves getting the length of the input list nums.\\nlis = [1] * n: This is also an O(n) operation because it creates a list of length n and initializes each element to 1.\\n\\nNested Loops:\\nThere are two nested loops:\\nThe outer loop runs from 1 to n.\\nThe inner loop runs from 0 to i.\\nBoth loops have complexities of O(n), as they depend on the size of the input.\\n\\nOperations Inside Loops:\\nInside the nested loops, there are constant time operations (comparisons and assignments) which are O(1).\\n\\nMax Operation:\\nmax(lis): This operation finds the maximum value in the list lis, which has a time complexity of O(n), as it iterates through the list once.\\n\\nCalculating Total Time Complexity:\\nThe nested loops contribute 𝑂(𝑛^2) to the time complexity.\\nOther operations outside the loops contribute 𝑂(𝑛).\\n\\nTherefore, the total time complexity is 𝑂(𝑛^2)\\nConclusion:\\nThe time complexity of the code block is O(n^2), where n is the length of the input list nums.'"
      ]
     },
     "execution_count": 11,
     "metadata": {},
     "output_type": "execute_result"
    }
   ],
   "source": [
    "\"\"\"Problem 4 :\n",
    "def longest_increasing_subsequence(nums):\n",
    "    n = len(nums)\n",
    "    lis = [1] * n\n",
    "    for i in range(1, n):\n",
    "        for j in range(0, i):\n",
    "            if nums[i] > nums[j] and lis[i] < lis[j] + 1:\n",
    "                lis[i] = lis[j] + 1\n",
    "    return max(lis)\"\"\"\n",
    "\n",
    "\"\"\"Initialization:\n",
    "n = len(nums): This is an O(1) operation, as it involves getting the length of the input list nums.\n",
    "lis = [1] * n: This is also an O(n) operation because it creates a list of length n and initializes each element to 1.\n",
    "\n",
    "Nested Loops:\n",
    "There are two nested loops:\n",
    "The outer loop runs from 1 to n.\n",
    "The inner loop runs from 0 to i.\n",
    "Both loops have complexities of O(n), as they depend on the size of the input.\n",
    "\n",
    "Operations Inside Loops:\n",
    "Inside the nested loops, there are constant time operations (comparisons and assignments) which are O(1).\n",
    "\n",
    "Max Operation:\n",
    "max(lis): This operation finds the maximum value in the list lis, which has a time complexity of O(n), as it iterates through the list once.\n",
    "\n",
    "Calculating Total Time Complexity:\n",
    "The nested loops contribute 𝑂(𝑛^2) to the time complexity.\n",
    "Other operations outside the loops contribute 𝑂(𝑛).\n",
    "\n",
    "Therefore, the total time complexity is 𝑂(𝑛^2)\n",
    "Conclusion:\n",
    "The time complexity of the code block is O(n^2), where n is the length of the input list nums.\"\"\"\n"
   ]
  },
  {
   "cell_type": "code",
   "execution_count": 12,
   "id": "5b5c0d7d",
   "metadata": {},
   "outputs": [
    {
     "data": {
      "text/plain": [
       "\"Problem 5 :\\ndef mysterious_function(arr):\\n    n = len(arr)\\n    result = 0\\n    for i in range(n):\\n        for j in range(i, n):\\n            result += arr[i] * arr[j]\\n    return result\\n\\nInitialization:\\nn = len(arr): This is an O(1) operation, as it involves getting the length of the input list arr.\\nresult = 0: This is also an O(1) operation as it's a simple assignment.\\n\\n    \\nNested Loops:\\nThere are two nested loops:\\nThe outer loop runs from 0 to n-1.\\nThe inner loop also runs from 0 to n-1, but it starts from the current value of the outer loop index (i) to n-1.\\nBoth loops have complexities of O(n), as they depend on the size of the input list arr.\\n\\nOperation Inside Loops:\\nInside the nested loops, there's a constant time operation: result += arr[i] * arr[j], which is O(1).\\n\\nCalculating Total Time Complexity:\\nThe nested loops contribute O(n^2) to the time complexity.\\nOther operations outside the loops contribute O(1) to the time complexity.\\nTherefore, the total time complexity is 𝑂(𝑛^2)\\n\\nConclusion:\\nThe time complexity of the code block is 𝑂(𝑛^2), where n is the length of the input list arr\""
      ]
     },
     "execution_count": 12,
     "metadata": {},
     "output_type": "execute_result"
    }
   ],
   "source": [
    "\"\"\"Problem 5 :\n",
    "def mysterious_function(arr):\n",
    "    n = len(arr)\n",
    "    result = 0\n",
    "    for i in range(n):\n",
    "        for j in range(i, n):\n",
    "            result += arr[i] * arr[j]\n",
    "    return result\n",
    "\n",
    "Initialization:\n",
    "n = len(arr): This is an O(1) operation, as it involves getting the length of the input list arr.\n",
    "result = 0: This is also an O(1) operation as it's a simple assignment.\n",
    "\n",
    "    \n",
    "Nested Loops:\n",
    "There are two nested loops:\n",
    "The outer loop runs from 0 to n-1.\n",
    "The inner loop also runs from 0 to n-1, but it starts from the current value of the outer loop index (i) to n-1.\n",
    "Both loops have complexities of O(n), as they depend on the size of the input list arr.\n",
    "\n",
    "Operation Inside Loops:\n",
    "Inside the nested loops, there's a constant time operation: result += arr[i] * arr[j], which is O(1).\n",
    "\n",
    "Calculating Total Time Complexity:\n",
    "The nested loops contribute O(n^2) to the time complexity.\n",
    "Other operations outside the loops contribute O(1) to the time complexity.\n",
    "Therefore, the total time complexity is 𝑂(𝑛^2)\n",
    "\n",
    "Conclusion:\n",
    "The time complexity of the code block is 𝑂(𝑛^2), where n is the length of the input list arr\"\"\""
   ]
  },
  {
   "cell_type": "code",
   "execution_count": 14,
   "id": "3daa04e6",
   "metadata": {},
   "outputs": [
    {
     "name": "stdout",
     "output_type": "stream",
     "text": [
      "6\n"
     ]
    }
   ],
   "source": [
    "#Problem 6 : Sum of Digits Write a recursive function to calculate the sum of digits of a given positive integer.\n",
    "#sum_of_digits(123) -> 6\n",
    "\n",
    "def sum_of_digits(n):\n",
    "    # Base case: if n is a single digit, return n\n",
    "    if n < 10:\n",
    "        return n\n",
    "    # Recursive case: sum the last digit and call the function recursively with the remaining digits\n",
    "    else:\n",
    "        return n % 10 + sum_of_digits(n // 10)\n",
    "\n",
    "# Example usage:\n",
    "print(sum_of_digits(123))  # Output: 6"
   ]
  },
  {
   "cell_type": "code",
   "execution_count": 15,
   "id": "53dbc53b",
   "metadata": {},
   "outputs": [
    {
     "name": "stdout",
     "output_type": "stream",
     "text": [
      "[0, 1, 1, 2, 3, 5]\n"
     ]
    }
   ],
   "source": [
    "#Problem 7: Fibonacci SeriesWrite a recursive function to generate the first n numbers of the Fibonacci series.\n",
    "#fibonacci_series(6) -> [0, 1, 1, 2, 3, 5]\n",
    "\n",
    "def fibonacci_series(n):\n",
    "    if n <= 0:\n",
    "        return []\n",
    "    elif n == 1:\n",
    "        return [0]\n",
    "    elif n == 2:\n",
    "        return [0, 1]\n",
    "    else:\n",
    "        series = fibonacci_series(n - 1)\n",
    "        series.append(series[-1] + series[-2])\n",
    "        return series\n",
    "\n",
    "# Example usage:\n",
    "print(fibonacci_series(6))  # Output: [0, 1, 1, 2, 3, 5]\n"
   ]
  },
  {
   "cell_type": "code",
   "execution_count": 16,
   "id": "d10c6d9b",
   "metadata": {},
   "outputs": [
    {
     "name": "stdout",
     "output_type": "stream",
     "text": [
      "True\n"
     ]
    }
   ],
   "source": [
    "#Problem 8 : Subset SumGiven a set of positive integers and a target sum, write a recursive function to determine if there exists a subset of the integers that adds up to the target sum.\n",
    "#subset_sum([3, 34, 4, 12, 5, 2], 9) -> True\n",
    "\n",
    "def subset_sum(arr, target, index=None, current_sum=0):\n",
    "    if index is None:\n",
    "        index = len(arr) - 1\n",
    "\n",
    "    if current_sum == target:\n",
    "        return True\n",
    "    if current_sum > target or index < 0:\n",
    "        return False\n",
    "\n",
    "    # Include the current element\n",
    "    if subset_sum(arr, target, index - 1, current_sum + arr[index]):\n",
    "        return True\n",
    "\n",
    "    # Exclude the current element\n",
    "    if subset_sum(arr, target, index - 1, current_sum):\n",
    "        return True\n",
    "\n",
    "    return False\n",
    "\n",
    "# Example usage:\n",
    "print(subset_sum([3, 34, 4, 12, 5, 2], 9))  # Output: True"
   ]
  },
  {
   "cell_type": "code",
   "execution_count": 17,
   "id": "24d09b88",
   "metadata": {},
   "outputs": [
    {
     "name": "stdout",
     "output_type": "stream",
     "text": [
      "True\n"
     ]
    }
   ],
   "source": [
    "#Problem 9: Word Break Given a non-empty string and a dictionary of words, write a recursive function to determine if the string can be segmented into a space-separated sequence of dictionary words.\n",
    "#word_break( leetcode , [ leet , code ]) -> True\n",
    "\n",
    "def word_break(s, word_dict, memo=None):\n",
    "    if memo is None:\n",
    "        memo = {}\n",
    "\n",
    "    if s in memo:\n",
    "        return memo[s]\n",
    "\n",
    "    if s in word_dict:\n",
    "        memo[s] = True\n",
    "        return True\n",
    "\n",
    "    for i in range(1, len(s)):\n",
    "        prefix = s[:i]\n",
    "        suffix = s[i:]\n",
    "        if prefix in word_dict and word_break(suffix, word_dict, memo):\n",
    "            memo[s] = True\n",
    "            return True\n",
    "\n",
    "    memo[s] = False\n",
    "    return False\n",
    "\n",
    "# Example usage:\n",
    "print(word_break(\"leetcode\", [\"leet\", \"code\"]))  # Output: True"
   ]
  },
  {
   "cell_type": "code",
   "execution_count": 18,
   "id": "04c8047b",
   "metadata": {},
   "outputs": [
    {
     "name": "stdout",
     "output_type": "stream",
     "text": [
      "[['.Q..', '...Q', 'Q...', '..Q.'], ['..Q.', 'Q...', '...Q', '.Q..']]\n"
     ]
    }
   ],
   "source": [
    "\"\"\"Problem 10 : N-Queens\n",
    "Implement a recursive function to solve the N Queens problem, where you have to place N queens on an N×N\n",
    "chessboard in such a way that no two queens threaten each other.\n",
    "n_queens(4)\n",
    "[\n",
    "[\".Q..\",\n",
    "\"...Q\",\n",
    "\"Q...\",\n",
    "\"..Q.\"],\n",
    "[\"..Q.\",\n",
    "\"Q...\",\n",
    "\"...Q\",\n",
    "\".Q..\"]\n",
    "]\"\"\"\n",
    "\n",
    "def is_safe(board, row, col, n):\n",
    "    # Check if there is a queen in the same column\n",
    "    for i in range(row):\n",
    "        if board[i][col] == 'Q':\n",
    "            return False\n",
    "\n",
    "    # Check upper left diagonal\n",
    "    for i, j in zip(range(row, -1, -1), range(col, -1, -1)):\n",
    "        if board[i][j] == 'Q':\n",
    "            return False\n",
    "\n",
    "    # Check upper right diagonal\n",
    "    for i, j in zip(range(row, -1, -1), range(col, n)):\n",
    "        if board[i][j] == 'Q':\n",
    "            return False\n",
    "\n",
    "    return True\n",
    "\n",
    "def solve_n_queens(n):\n",
    "    def backtrack(board, row):\n",
    "        if row == n:\n",
    "            result.append([\"\".join(row) for row in board])\n",
    "            return\n",
    "        for col in range(n):\n",
    "            if is_safe(board, row, col, n):\n",
    "                board[row][col] = 'Q'\n",
    "                backtrack(board, row + 1)\n",
    "                board[row][col] = '.'\n",
    "\n",
    "    result = []\n",
    "    board = [['.' for _ in range(n)] for _ in range(n)]\n",
    "    backtrack(board, 0)\n",
    "    return result\n",
    "\n",
    "# Example usage:\n",
    "print(solve_n_queens(4))"
   ]
  },
  {
   "cell_type": "code",
   "execution_count": null,
   "id": "7d63faf2",
   "metadata": {},
   "outputs": [],
   "source": []
  }
 ],
 "metadata": {
  "kernelspec": {
   "display_name": "Python 3 (ipykernel)",
   "language": "python",
   "name": "python3"
  },
  "language_info": {
   "codemirror_mode": {
    "name": "ipython",
    "version": 3
   },
   "file_extension": ".py",
   "mimetype": "text/x-python",
   "name": "python",
   "nbconvert_exporter": "python",
   "pygments_lexer": "ipython3",
   "version": "3.11.5"
  }
 },
 "nbformat": 4,
 "nbformat_minor": 5
}
