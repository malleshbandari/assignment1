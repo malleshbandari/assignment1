{
 "cells": [
  {
   "cell_type": "code",
   "execution_count": 8,
   "id": "75c1b45a",
   "metadata": {},
   "outputs": [
    {
     "data": {
      "text/plain": [
       "'Move disk 1 from A to C\\nMove disk 2 from A to B\\nMove disk 1 from C to B\\nMove disk 3 from A to C\\nMove disk 1 from B to A\\nMove disk 2 from B to C\\nMove disk 1 from A to C'"
      ]
     },
     "execution_count": 8,
     "metadata": {},
     "output_type": "execute_result"
    }
   ],
   "source": [
    "#Q.1 Can you explain the logic and working of the Tower of Hanoi algorithm by writing a Java program?\n",
    "#How does the recursion work, and how are the movements of disks between rods accomplished?\n",
    "\"\"\"Explanation of the Tower of Hanoi Algorithm\n",
    "The Tower of Hanoi problem involves moving a stack of disks from one rod to another using an auxiliary rod. The rules are:\"\"\"\n",
    "\n",
    "\"\"\"\"Only one disk can be moved at a time.\n",
    "A disk can only be placed on top of a larger disk or on an empty rod.\n",
    "All disks start on one rod, and the goal is to move all the disks to another rod.\n",
    "Steps of the Algorithm\n",
    "For n disks:\"\"\"\n",
    "\n",
    "\"\"\"\"Move the top n-1 disks from the source rod to the auxiliary rod.\n",
    "Move the nth disk (largest disk) from the source rod to the target rod.\n",
    "Move the n-1 disks from the auxiliary rod to the target rod.\n",
    "Java Program for Tower of Hanoi\n",
    "Here is a Java program that implements the Tower of Hanoi algorithm:\"\"\"\n",
    " \n",
    "\"\"\"\"public class TowerOfHanoi {\n",
    "\n",
    "    // Recursive function to solve Tower of Hanoi puzzle\n",
    "    public static void solveHanoi(int n, char source, char auxiliary, char target) {\n",
    "        // Base case: If there's only one disk, move it from source to target\n",
    "        if (n == 1) {\n",
    "            System.out.println(\"Move disk 1 from \" + source + \" to \" + target);\n",
    "            return;\n",
    "        }\n",
    "\n",
    "        // Move top n-1 disks from source to auxiliary\n",
    "        solveHanoi(n - 1, source, target, auxiliary);\n",
    "\n",
    "        // Move the nth disk from source to target\n",
    "        System.out.println(\"Move disk \" + n + \" from \" + source + \" to \" + target);\n",
    "\n",
    "        // Move the n-1 disks from auxiliary to target\n",
    "        solveHanoi(n - 1, auxiliary, source, target);\n",
    "    }\n",
    "\n",
    "    public static void main(String[] args) {\n",
    "        int numberOfDisks = 3;  // You can change the number of disks here\n",
    "        solveHanoi(numberOfDisks, 'A', 'B', 'C');\n",
    "    }\n",
    "}\n",
    "\"\"\"\n",
    "\"\"\"\"Initial Call:\n",
    "\n",
    "For 3 disks, solveHanoi(3, 'A', 'B', 'C') is called.\n",
    "\n",
    "First Recursive Layer:\n",
    "solveHanoi(2, 'A', 'C', 'B') is called to move the top 2 disks from A to B using C as auxiliary.\n",
    "\n",
    "Second Recursive Layer:\n",
    "solveHanoi(1, 'A', 'B', 'C') is called to move the top disk from A to C using B as auxiliary (base case).\n",
    "Then, move the disk from A to B.\n",
    "solveHanoi(1, 'C', 'A', 'B') is called to move the disk from C to B using A as auxiliary.\n",
    "\n",
    "Back to First Layer:\n",
    "Move the nth disk (disk 3) from A to C.\n",
    "solveHanoi(2, 'B', 'A', 'C') is called to move the 2 disks from B to C using A as auxiliary.\n",
    "\n",
    "Third Recursive Layer:\n",
    "solveHanoi(1, 'B', 'C', 'A') is called to move the top disk from B to A using C as auxiliary (base case).\n",
    "Then, move the disk from B to C.\n",
    "solveHanoi(1, 'A', 'B', 'C') is called to move the disk from A to C using B as auxiliary.\"\"\"\n",
    "\"\"\"Move disk 1 from A to C\n",
    "Move disk 2 from A to B\n",
    "Move disk 1 from C to B\n",
    "Move disk 3 from A to C\n",
    "Move disk 1 from B to A\n",
    "Move disk 2 from B to C\n",
    "Move disk 1 from A to C\"\"\""
   ]
  },
  {
   "cell_type": "code",
   "execution_count": 9,
   "id": "b9e50d63",
   "metadata": {},
   "outputs": [
    {
     "name": "stdout",
     "output_type": "stream",
     "text": [
      "3\n",
      "5\n"
     ]
    }
   ],
   "source": [
    "\"\"\"\"Q.2 Given two strings word1 and word2, return the minimum number of operations required to convert word1\n",
    "to word2.\n",
    "Example 1:\n",
    "Input: word1 = \"horse\", word2 = \"ros\"\n",
    "Output: 3\n",
    "Explanation:\n",
    "horse -> rorse (replace 'h' with 'r')\n",
    "rorse -> rose (remove 'r')\n",
    "rose -> ros (remove 'e')\n",
    "Example 2:\n",
    "Input: word1 = \"intention\", word2 = \"execution\"\n",
    "Output: 5\n",
    "Explanation:\n",
    "intention -> inention (remove 't')\n",
    "inention -> enention (replace 'i' with 'e')\n",
    "enention -> exention (replace 'n' with 'x')\n",
    "exention -> exection (replace 'n' with 'c')\n",
    "exection -> execution (insert 'u')\"\"\"\n",
    "\n",
    "\n",
    "def minDistance(word1, word2):\n",
    "    m, n = len(word1), len(word2)\n",
    "    \n",
    "    # Create a 2D array to store the results of subproblems\n",
    "    dp = [[0] * (n + 1) for _ in range(m + 1)]\n",
    "    \n",
    "    # Initialize base cases\n",
    "    for i in range(m + 1):\n",
    "        dp[i][0] = i\n",
    "    for j in range(n + 1):\n",
    "        dp[0][j] = j\n",
    "        \n",
    "    # Fill the dp table\n",
    "    for i in range(1, m + 1):\n",
    "        for j in range(1, n + 1):\n",
    "            if word1[i - 1] == word2[j - 1]:\n",
    "                dp[i][j] = dp[i - 1][j - 1]\n",
    "            else:\n",
    "                dp[i][j] = 1 + min(dp[i - 1][j], dp[i][j - 1], dp[i - 1][j - 1])\n",
    "    \n",
    "    return dp[m][n]\n",
    "\n",
    "# Test cases\n",
    "print(minDistance(\"horse\", \"ros\"))  # Output: 3\n",
    "print(minDistance(\"intention\", \"execution\"))  # Output: 5"
   ]
  },
  {
   "cell_type": "code",
   "execution_count": 10,
   "id": "372b8c90",
   "metadata": {},
   "outputs": [
    {
     "name": "stdout",
     "output_type": "stream",
     "text": [
      "The maximum value in the array is: 22\n"
     ]
    }
   ],
   "source": [
    "#Q.3 Print the max value of the array [ 13, 1, -3, 22, 5].\n",
    "array = [13, 1, -3, 22, 5]\n",
    "max_value = max(array)\n",
    "print(\"The maximum value in the array is:\", max_value)"
   ]
  },
  {
   "cell_type": "code",
   "execution_count": 11,
   "id": "f31257b1",
   "metadata": {},
   "outputs": [
    {
     "name": "stdout",
     "output_type": "stream",
     "text": [
      "The sum of the values in the array is: 120\n"
     ]
    }
   ],
   "source": [
    "#Q.4 Find the sum of the values of the array [92, 23, 15, -20, 10].\n",
    "array = [92, 23, 15, -20, 10]\n",
    "sum_value = sum(array)\n",
    "print(\"The sum of the values in the array is:\", sum_value)"
   ]
  },
  {
   "cell_type": "code",
   "execution_count": 13,
   "id": "774541ef",
   "metadata": {},
   "outputs": [
    {
     "name": "stdout",
     "output_type": "stream",
     "text": [
      "Input: 153\n",
      "Output: Yes\n",
      "Input: 134\n",
      "Output: No\n"
     ]
    }
   ],
   "source": [
    "\"\"\"Q.5 Given a number n. Print if it is an armstrong number or not.An armstrong number is a number if the sum\n",
    "of every digit in that number raised to the power of total digits in that number is equal to the number.\n",
    "Example : 153 = 1^3 + 5^3 + 3^3 = 1 + 125 + 27 = 153 hence 153 is an armstrong number. (Easy)\n",
    "Input1 : 153\n",
    "Output1 : Yes\n",
    "Input 2 : 134\n",
    "Output2 : No\"\"\"\n",
    "\n",
    "def is_armstrong(number):\n",
    "    # Convert the number to a string to easily iterate over digits\n",
    "    digits = str(number)\n",
    "    # Calculate the number of digits\n",
    "    num_digits = len(digits)\n",
    "    # Calculate the sum of each digit raised to the power of num_digits\n",
    "    sum_of_powers = sum(int(digit) ** num_digits for digit in digits)\n",
    "    \n",
    "    # Check if the sum of powers is equal to the original number\n",
    "    if sum_of_powers == number:\n",
    "        return \"Yes\"\n",
    "    else:\n",
    "        return \"No\"\n",
    "\n",
    "# Test cases\n",
    "n1 = 153\n",
    "print(f\"Input: {n1}\")\n",
    "print(f\"Output: {is_armstrong(n1)}\")\n",
    "\n",
    "n2 = 134\n",
    "print(f\"Input: {n2}\")\n",
    "print(f\"Output: {is_armstrong(n2)}\")"
   ]
  },
  {
   "cell_type": "code",
   "execution_count": null,
   "id": "42da15c9",
   "metadata": {},
   "outputs": [],
   "source": []
  }
 ],
 "metadata": {
  "kernelspec": {
   "display_name": "Python 3 (ipykernel)",
   "language": "python",
   "name": "python3"
  },
  "language_info": {
   "codemirror_mode": {
    "name": "ipython",
    "version": 3
   },
   "file_extension": ".py",
   "mimetype": "text/x-python",
   "name": "python",
   "nbconvert_exporter": "python",
   "pygments_lexer": "ipython3",
   "version": "3.11.5"
  }
 },
 "nbformat": 4,
 "nbformat_minor": 5
}
