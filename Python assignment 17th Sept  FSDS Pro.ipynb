{
 "cells": [
  {
   "cell_type": "code",
   "execution_count": 2,
   "id": "2d998cfc",
   "metadata": {},
   "outputs": [
    {
     "name": "stdout",
     "output_type": "stream",
     "text": [
      "1\n",
      "2\n",
      "3\n",
      "4\n",
      "5\n",
      "6\n",
      "7\n",
      "8\n",
      "9\n",
      "10\n"
     ]
    }
   ],
   "source": [
    "#1. Write a Python program to print numbers from 1 to 10 using a for loop.\n",
    "a=range(1,11)\n",
    "for i in a:\n",
    "    print(i)"
   ]
  },
  {
   "cell_type": "code",
   "execution_count": 4,
   "id": "fd0eb85e",
   "metadata": {},
   "outputs": [
    {
     "name": "stdout",
     "output_type": "stream",
     "text": [
      "1\n",
      "2\n",
      "3\n",
      "4\n",
      "5\n",
      "0\n",
      "1\n",
      "2\n",
      "3\n",
      "4\n"
     ]
    }
   ],
   "source": [
    "#2.Explain the difference between a for loop and a while loop in Python.\n",
    "#The for loop iterates over a sequence (e.g., a list, tuple, string, or range) and executes the indented block of code for each item in the sequence.\n",
    "#It is commonly used when you know the number of iterations in advance or when you want to iterate over the elements of a collection.\n",
    "numbers = [1, 2, 3, 4, 5]\n",
    "for num in numbers:\n",
    "    print(num)\n",
    "    \n",
    "    \n",
    "#while loop\n",
    "#The while loop repeatedly executes the indented block of code as long as the specified condition is true.\n",
    "#It is useful when you don't know the number of iterations in advance and want to continue iterating as long as a certain condition remains true.\n",
    "count = 0\n",
    "while count < 5:\n",
    "    print(count)\n",
    "    count += 1"
   ]
  },
  {
   "cell_type": "code",
   "execution_count": 1,
   "id": "00de9318",
   "metadata": {},
   "outputs": [
    {
     "name": "stdout",
     "output_type": "stream",
     "text": [
      "5050\n"
     ]
    }
   ],
   "source": [
    "#3. Write a Python program to calculate the sum of all numbers from 1 to 100 using a for loop.\n",
    "b=0\n",
    "a=range(1,101)\n",
    "for i in a:\n",
    "    b+=i\n",
    "print(b)"
   ]
  },
  {
   "cell_type": "code",
   "execution_count": 16,
   "id": "19d678df",
   "metadata": {
    "scrolled": true
   },
   "outputs": [
    {
     "name": "stdout",
     "output_type": "stream",
     "text": [
      "1\n",
      "2\n",
      "3\n",
      "4\n",
      "5\n"
     ]
    }
   ],
   "source": [
    "#4.How do you iterate through a list using a for loop in Python?\n",
    "l=[1,2,3,4,5]\n",
    "for element in l:\n",
    "    print(element)"
   ]
  },
  {
   "cell_type": "code",
   "execution_count": 22,
   "id": "a46369d7",
   "metadata": {},
   "outputs": [
    {
     "name": "stdout",
     "output_type": "stream",
     "text": [
      "2\n",
      "6\n",
      "24\n",
      "120\n",
      "720\n"
     ]
    }
   ],
   "source": [
    "#5.Write a Python program to find the product of all elements in a list using a for loop.\n",
    "c=[2,3,4,5,6]\n",
    "d=1\n",
    "for i in c:\n",
    "    d*=i\n",
    "    print(d)\n",
    "    \n",
    "    "
   ]
  },
  {
   "cell_type": "code",
   "execution_count": 23,
   "id": "efa3b6f8",
   "metadata": {},
   "outputs": [
    {
     "name": "stdout",
     "output_type": "stream",
     "text": [
      "2\n",
      "4\n",
      "6\n",
      "8\n",
      "10\n",
      "12\n",
      "14\n",
      "16\n",
      "18\n",
      "20\n"
     ]
    }
   ],
   "source": [
    "#6.Create a Python program that prints all even numbers from 1 to 20 using a for loop.\n",
    "a=range(1,21)\n",
    "for i in a:\n",
    "    if i%2==0:\n",
    "        print(i)"
   ]
  },
  {
   "cell_type": "code",
   "execution_count": 24,
   "id": "307e21ec",
   "metadata": {},
   "outputs": [
    {
     "name": "stdout",
     "output_type": "stream",
     "text": [
      "enter a number:5\n",
      "1\n",
      "2\n",
      "6\n",
      "24\n",
      "120\n"
     ]
    }
   ],
   "source": [
    "#7.Write a Python program that calculates the factorial of a number using a for loop.\n",
    "n=int(input(\"enter a number:\"))\n",
    "a=1\n",
    "for i in range(1,n+1):\n",
    "    a*=i\n",
    "    print(a)"
   ]
  },
  {
   "cell_type": "code",
   "execution_count": 25,
   "id": "07668140",
   "metadata": {},
   "outputs": [
    {
     "name": "stdout",
     "output_type": "stream",
     "text": [
      "m\n",
      "a\n",
      "l\n",
      "l\n",
      "e\n",
      "s\n",
      "h\n",
      " \n",
      "b\n",
      "a\n",
      "n\n",
      "d\n",
      "a\n",
      "r\n",
      "i\n"
     ]
    }
   ],
   "source": [
    "#8.How can you iterate through the characters of a string using a for loop in Python?\n",
    "a=\"mallesh bandari\"\n",
    "for i in a:\n",
    "    print(i)"
   ]
  },
  {
   "cell_type": "code",
   "execution_count": 31,
   "id": "b8582b0a",
   "metadata": {},
   "outputs": [
    {
     "name": "stdout",
     "output_type": "stream",
     "text": [
      "55\n"
     ]
    }
   ],
   "source": [
    "#9.Write a Python program to find the largest number in a list using a for loop.\n",
    "b=[15,54,22,14,25,25,14,25,55]\n",
    "c=b[0]\n",
    "for i in b:\n",
    "    if i>c:\n",
    "        c=i\n",
    "print(c)\n",
    "        \n",
    "    "
   ]
  },
  {
   "cell_type": "code",
   "execution_count": 36,
   "id": "abebdffc",
   "metadata": {},
   "outputs": [
    {
     "name": "stdout",
     "output_type": "stream",
     "text": [
      "Enter the limit for the Fibonacci sequence: 8\n",
      "[0, 1, 1, 2, 3, 5, 8]\n"
     ]
    }
   ],
   "source": [
    "#10.Create a Python program that prints the Fibonacci sequence up to a specified limit using a forloop.\n",
    "l=int(input(\"Enter the limit for the Fibonacci sequence: \"))\n",
    "sequence=[0,1]\n",
    "for i in range(2,limit):\n",
    "    fibonacci=sequence[-1] + sequence[-2]\n",
    "    if fibonacci <= limit:\n",
    "        sequence.append(fibonacci)\n",
    "    else:\n",
    "        break\n",
    "print(sequence)"
   ]
  },
  {
   "cell_type": "code",
   "execution_count": 18,
   "id": "69f780df",
   "metadata": {},
   "outputs": [
    {
     "name": "stdout",
     "output_type": "stream",
     "text": [
      "enter a string:malleshbandari\n",
      "5\n"
     ]
    }
   ],
   "source": [
    "#11.Write a Python program to count the number of vowels in a given string using a for loop.\n",
    "a=input(\"enter a string:\")\n",
    "b=\"aeiouAEIOU\"\n",
    "c=0\n",
    "for i in a:\n",
    "    if i in b:\n",
    "        c+=1\n",
    "print(c)"
   ]
  },
  {
   "cell_type": "code",
   "execution_count": 25,
   "id": "406f5e8d",
   "metadata": {},
   "outputs": [
    {
     "name": "stdout",
     "output_type": "stream",
     "text": [
      "19 x 1 = 19\n",
      "19 x 2 = 38\n",
      "19 x 3 = 57\n",
      "19 x 4 = 76\n",
      "19 x 5 = 95\n",
      "19 x 6 = 114\n",
      "19 x 7 = 133\n",
      "19 x 8 = 152\n",
      "19 x 9 = 171\n",
      "19 x 10 = 190\n"
     ]
    }
   ],
   "source": [
    "#12.Create a Python program that generates a multiplication table for a given number using a for loop.\n",
    "a=19\n",
    "b=range(1,11)\n",
    "for i in b:\n",
    "    print(a,\"x\",i,\"=\",a*i)"
   ]
  },
  {
   "cell_type": "code",
   "execution_count": 33,
   "id": "96c18058",
   "metadata": {},
   "outputs": [
    {
     "name": "stdout",
     "output_type": "stream",
     "text": [
      "[122, 55, 15, 22, 356, 354, 55, 26]\n"
     ]
    }
   ],
   "source": [
    "#13.Write a Python program to reverse a list using a for loop\n",
    "a=[26,55,354,356,22,15,55,122]\n",
    "b=[]\n",
    "for i in a:\n",
    "    b.insert(0,i)\n",
    "print(b) "
   ]
  },
  {
   "cell_type": "code",
   "execution_count": 36,
   "id": "c220b8c2",
   "metadata": {},
   "outputs": [
    {
     "name": "stdout",
     "output_type": "stream",
     "text": [
      "[35, 56]\n"
     ]
    }
   ],
   "source": [
    "#14.Write a Python program to find the common elements between two lists using a for loop.\n",
    "a=[15,35,25,56,66,23]\n",
    "b=[55,56,54,33,35,20,53]\n",
    "c=[]\n",
    "for i in a:\n",
    "    if i in b:\n",
    "        c.append(i)\n",
    "print(c)\n",
    "        "
   ]
  },
  {
   "cell_type": "code",
   "execution_count": 45,
   "id": "3803d5c1",
   "metadata": {},
   "outputs": [
    {
     "name": "stdout",
     "output_type": "stream",
     "text": [
      "malli hima\n",
      "hima\n",
      "b 26\n",
      "26\n",
      "shiv 49\n",
      "49\n",
      "age 24\n",
      "24\n"
     ]
    }
   ],
   "source": [
    "#15.Explain how to use a for loop to iterate through the keys and values of a dictionary in Python.\n",
    "a={\"malli\":\"hima\",\"b\":26,\"shiv\":49,\"age\":24}\n",
    "for keys,values in a.items():\n",
    "    print(keys,values)"
   ]
  },
  {
   "cell_type": "code",
   "execution_count": 51,
   "id": "ba3a46b5",
   "metadata": {},
   "outputs": [
    {
     "name": "stdout",
     "output_type": "stream",
     "text": [
      "The GCD of 36 and 48 is: 12\n"
     ]
    }
   ],
   "source": [
    "#16.Write a Python program to find the GCD (Greatest Common Divisor) of two numbers using a for loop.\n",
    "def find_gcd(num1, num2):\n",
    "    if num1 < num2:\n",
    "        num1, num2 = num2, num1\n",
    "    for i in range(num2, 0, -1):\n",
    "        if num1 % i == 0 and num2 % i == 0:\n",
    "            return i\n",
    "    return 1\n",
    "number1 = 36\n",
    "number2 = 48\n",
    "gcd_result = find_gcd(number1, number2)\n",
    "print(f'The GCD of {number1} and {number2} is: {gcd_result}')"
   ]
  },
  {
   "cell_type": "code",
   "execution_count": 62,
   "id": "c5037505",
   "metadata": {},
   "outputs": [
    {
     "name": "stdout",
     "output_type": "stream",
     "text": [
      "enter a number:mallesh\n",
      "m\n",
      "a\n",
      "l\n",
      "l\n",
      "e\n",
      "s\n",
      "h\n"
     ]
    }
   ],
   "source": [
    "#17.Create a Python program that checks if a string is a palindrome using a for loop.\n",
    "a=input(\"enter a number:\")\n",
    "for i in a:\n",
    "    print(i[::-1])"
   ]
  },
  {
   "cell_type": "code",
   "execution_count": 65,
   "id": "06bb25f3",
   "metadata": {},
   "outputs": [
    {
     "name": "stdout",
     "output_type": "stream",
     "text": [
      "[25, 32, 12, 526, 22, 65]\n"
     ]
    }
   ],
   "source": [
    "#18.Write a Python program to remove duplicates from a list using a for loop.\n",
    "a=[25,25,32,12,526,32,32,22,65,32,22]\n",
    "b=[]\n",
    "for i in a:\n",
    "    if i not in b:\n",
    "        b.append(i)\n",
    "print(b)"
   ]
  },
  {
   "cell_type": "code",
   "execution_count": 74,
   "id": "5b8a9020",
   "metadata": {},
   "outputs": [
    {
     "name": "stdout",
     "output_type": "stream",
     "text": [
      "9\n"
     ]
    }
   ],
   "source": [
    "#19.Create a Python program that counts the number of words in a sentence using a for loop.\n",
    "a=\"mallesh bandari and  hima suresh both are same class.\"\n",
    "count = 0\n",
    "for char in a:\n",
    "    if char.isspace():\n",
    "        if count > 0:\n",
    "            count += 1\n",
    "        elif count == 0:\n",
    "            count = 1\n",
    "print(count)"
   ]
  },
  {
   "cell_type": "code",
   "execution_count": 84,
   "id": "e8211737",
   "metadata": {},
   "outputs": [
    {
     "name": "stdout",
     "output_type": "stream",
     "text": [
      "625\n"
     ]
    }
   ],
   "source": [
    "#20.Write a Python program to find the sum of all odd numbers from 1 to 50 using a for loop.\n",
    "a=range(1,51)\n",
    "c=0\n",
    "for i in a:\n",
    "    if i%2!=0:\n",
    "        c+=i\n",
    "print(c)"
   ]
  },
  {
   "cell_type": "code",
   "execution_count": 95,
   "id": "89b73998",
   "metadata": {},
   "outputs": [
    {
     "name": "stdout",
     "output_type": "stream",
     "text": [
      "The year 2024 is a leap year.\n"
     ]
    }
   ],
   "source": [
    "#21.Write a Python program that checks if a given year is a leap year using a for loop.\n",
    "def is_leap_year(year):\n",
    "    for i in range(4, year + 1, 4):\n",
    "        if i == year and (i % 100 != 0 or i % 400 == 0):\n",
    "            return True\n",
    "    return False\n",
    "input_year = 2024\n",
    "result = is_leap_year(input_year)\n",
    "if result:\n",
    "    print(f'The year {input_year} is a leap year.')\n",
    "else:\n",
    "    print(f'The year {input_year} is not a leap year.')"
   ]
  },
  {
   "cell_type": "code",
   "execution_count": 99,
   "id": "d598c660",
   "metadata": {},
   "outputs": [
    {
     "name": "stdout",
     "output_type": "stream",
     "text": [
      "The square root of 25 is approximately 5.0\n"
     ]
    }
   ],
   "source": [
    "#22.Create a Python program that calculates the square root of a number using a for loop.\n",
    "def square_root(number):\n",
    "    if number < 0:\n",
    "        return None\n",
    "    guess = number / 2\n",
    "    for i in range(10):\n",
    "        guess = 0.5 * (guess + number / guess)\n",
    "    return guess\n",
    "input_number = 25\n",
    "result = square_root(input_number)\n",
    "if result is not None:\n",
    "    print(f'The square root of {input_number} is approximately {result:}')\n",
    "else:\n",
    "    print(f'Cannot calculate the square root of a negative number.')"
   ]
  },
  {
   "cell_type": "code",
   "execution_count": 106,
   "id": "dbf8db77",
   "metadata": {},
   "outputs": [
    {
     "name": "stdout",
     "output_type": "stream",
     "text": [
      "The LCM of 12 and 18 is: 36\n"
     ]
    }
   ],
   "source": [
    "#23.Write a Python program to find the LCM (Least Common Multiple) of two numbers using a for loop.\n",
    "def find_lcm(num1, num2):\n",
    "    max_num = max(num1, num2)\n",
    "    for i in range(max_num, num1 * num2 + 1, max_num):\n",
    "        if i % num1 == 0 and i % num2 == 0:\n",
    "            return i\n",
    "number1 = 12\n",
    "number2 = 18\n",
    "lcm_result = find_lcm(number1, number2)\n",
    "print(f'The LCM of {number1} and {number2} is: {lcm_result}')"
   ]
  },
  {
   "cell_type": "code",
   "execution_count": 107,
   "id": "97c286ac",
   "metadata": {},
   "outputs": [
    {
     "name": "stdout",
     "output_type": "stream",
     "text": [
      "enter a number:8\n",
      "this is a positive number\n"
     ]
    }
   ],
   "source": [
    "#if else\n",
    "#1.Write a Python program to check if a number is positive, negative, or zero using an if-else statement.\n",
    "a=int(input(\"enter a number:\"))\n",
    "if a<0:\n",
    "    print(\"this is a negtive number\")\n",
    "elif a>0:\n",
    "    print(\"this is a positive number\")\n",
    "else:\n",
    "    print(\"this is a zero\")"
   ]
  },
  {
   "cell_type": "code",
   "execution_count": 108,
   "id": "2aca5476",
   "metadata": {},
   "outputs": [
    {
     "name": "stdout",
     "output_type": "stream",
     "text": [
      "enter a number:24\n",
      "this is even number\n"
     ]
    }
   ],
   "source": [
    "#2.Create a Python program that checks if a given number is even or odd using an if-else statement.\n",
    "c=int(input(\"enter a number:\"))\n",
    "if c%2==0:\n",
    "    print(\"this is even number\")\n",
    "else:\n",
    "    print(\"this is odd number\")"
   ]
  },
  {
   "cell_type": "code",
   "execution_count": 112,
   "id": "8d0abe5c",
   "metadata": {},
   "outputs": [
    {
     "name": "stdout",
     "output_type": "stream",
     "text": [
      "this is zero\n",
      "this is not correct\n"
     ]
    }
   ],
   "source": [
    "#3.How can you use nested if-else statements in Python, and provide an example?.\n",
    "a=0\n",
    "if a==0:\n",
    "    print(\"this is zero\")\n",
    "    if a!=0:\n",
    "        print(\"this is not zero\")\n",
    "    else:\n",
    "        print(\"this is not correct\")\n",
    "else:\n",
    "    print(\"this is negative\")"
   ]
  },
  {
   "cell_type": "code",
   "execution_count": 3,
   "id": "455df814",
   "metadata": {},
   "outputs": [
    {
     "name": "stdout",
     "output_type": "stream",
     "text": [
      "enter a number:45\n",
      "enter a number:35\n",
      "enter a number:65\n",
      "65\n"
     ]
    }
   ],
   "source": [
    "#4.Write a Python program to determine the largest of three numbers using if-else.\n",
    "a=int(input(\"enter a number:\"))\n",
    "b=int(input(\"enter a number:\"))\n",
    "c=int(input(\"enter a number:\"))\n",
    "if a<b>c:\n",
    "    print(b)\n",
    "elif b<a>c:\n",
    "    print(a)\n",
    "else:\n",
    "    print(c)"
   ]
  },
  {
   "cell_type": "code",
   "execution_count": 1,
   "id": "89cfba78",
   "metadata": {},
   "outputs": [
    {
     "name": "stdout",
     "output_type": "stream",
     "text": [
      "enter a number:-9\n",
      "9\n"
     ]
    }
   ],
   "source": [
    "#5.Write a Python program that calculates the absolute value of a number using if-else.\n",
    "a=int(input(\"enter a number:\"))\n",
    "if a>0:\n",
    "    s=a\n",
    "else:\n",
    "    s=-a \n",
    "print(s)"
   ]
  },
  {
   "cell_type": "code",
   "execution_count": 6,
   "id": "a9420245",
   "metadata": {},
   "outputs": [
    {
     "name": "stdout",
     "output_type": "stream",
     "text": [
      "Enter a character: e\n",
      "e is a vowel.\n"
     ]
    }
   ],
   "source": [
    "#6.Create a Python program that checks if a given character is a vowel or consonant using if-else.\n",
    "def check_vowel_or_consonant(char):\n",
    "    char = char.lower()\n",
    "    if char in ['a', 'e', 'i', 'o', 'u']:\n",
    "        return f\"{char} is a vowel.\"\n",
    "    else:\n",
    "        return f\"{char} is a consonant.\"\n",
    "user_input = input(\"Enter a character: \")\n",
    "result = check_vowel_or_consonant(user_input)\n",
    "print(result)"
   ]
  },
  {
   "cell_type": "code",
   "execution_count": 12,
   "id": "7216d157",
   "metadata": {},
   "outputs": [
    {
     "name": "stdout",
     "output_type": "stream",
     "text": [
      "enter a number:17\n",
      "user is not eligible for the vote 17 \n"
     ]
    }
   ],
   "source": [
    "#7.Write a Python program to determine if a user is eligible to vote based on their age using if-else.\n",
    "vote=int(input(\"enter a number:\"))\n",
    "if vote>=18:\n",
    "    print(f\"user is eligible for the vote {vote} \")\n",
    "else:\n",
    "    print(f\"user is not eligible for the vote {vote} \")"
   ]
  },
  {
   "cell_type": "code",
   "execution_count": 14,
   "id": "1593c2e9",
   "metadata": {},
   "outputs": [
    {
     "name": "stdout",
     "output_type": "stream",
     "text": [
      "Enter the purchase amount: 2000\n",
      "Discount amount: 400.00\n"
     ]
    }
   ],
   "source": [
    "#8.Create a Python program that calculates the discount amount based on the purchase amount using if-else.\n",
    "def discount(amount):\n",
    "    rate1=0.1\n",
    "    rate2=0.2\n",
    "    if amount>=1000:\n",
    "        discount1=amount *rate2\n",
    "    elif amount>=500:\n",
    "        discount1=amount *rate1\n",
    "    else:\n",
    "        discount1=0\n",
    "    return discount1\n",
    "amount=float(input(\"Enter the purchase amount: \"))\n",
    "discount_amount=discount(amount)\n",
    "print(f\"Discount amount: {discount_amount:.2f}\")"
   ]
  },
  {
   "cell_type": "code",
   "execution_count": 17,
   "id": "22c130ba",
   "metadata": {},
   "outputs": [
    {
     "name": "stdout",
     "output_type": "stream",
     "text": [
      "enter a number:45\n",
      "enter a number:68\n",
      "enter a number:49\n",
      " the number is outside the range [45,49]\n"
     ]
    }
   ],
   "source": [
    "#9.Write a Python program to check if a number is within a specified range using if-else.\n",
    "n1=int(input(\"enter a number:\"))\n",
    "n2=int(input(\"enter a number:\"))\n",
    "n3=int(input(\"enter a number:\"))\n",
    "if n1<=n2<=n3:\n",
    "    print(f\" the number is within the range [{n1},{n3}]\")\n",
    "else:\n",
    "    print(f\" the number is outside the range [{n1},{n3}]\")"
   ]
  },
  {
   "cell_type": "code",
   "execution_count": 1,
   "id": "b6c3bd15",
   "metadata": {},
   "outputs": [
    {
     "name": "stdout",
     "output_type": "stream",
     "text": [
      "enter a number:45\n",
      "all are pass and c grade\n"
     ]
    }
   ],
   "source": [
    "#10.Create a Python program that determines the grade of a student based on their score using if-else.\n",
    "a=int(input(\"enter a number:\"))\n",
    "if a<35:\n",
    "    print(\"all are fail and f grade\")\n",
    "else:\n",
    "    print(\"all are pass and c grade\")  "
   ]
  },
  {
   "cell_type": "code",
   "execution_count": 3,
   "id": "d7a8d97b",
   "metadata": {},
   "outputs": [
    {
     "name": "stdout",
     "output_type": "stream",
     "text": [
      "\n",
      "the string is empty\n"
     ]
    }
   ],
   "source": [
    "#11.Write a Python program to check if a string is empty or not using if-else.\n",
    "a=input()\n",
    "if not a:\n",
    "    print(\"the string is empty\")\n",
    "else:\n",
    "    print(\"the string is not empty\")"
   ]
  },
  {
   "cell_type": "code",
   "execution_count": 6,
   "id": "43d4db9a",
   "metadata": {},
   "outputs": [
    {
     "name": "stdout",
     "output_type": "stream",
     "text": [
      "enter a number:45\n",
      "enter a number:68\n",
      "enter a number:45\n",
      "this is isosceles\n"
     ]
    }
   ],
   "source": [
    "#12.Create a Python program that identifies the type of a triangle (e.g., equilateral, isosceles, or scalene) based on input values using if-else.\n",
    "side1=int(input(\"enter a number:\"))\n",
    "side2=int(input(\"enter a number:\"))\n",
    "side3=int(input(\"enter a number:\"))\n",
    "if side1==side2==side3:\n",
    "    print(\"this is the equilateral\")\n",
    "elif side1==side2 or side2==side3 or side1==side3:\n",
    "    print(\"this is isosceles\")\n",
    "else:\n",
    "    print(\"this is scalene\")"
   ]
  },
  {
   "cell_type": "code",
   "execution_count": 7,
   "id": "7c682ca2",
   "metadata": {},
   "outputs": [
    {
     "name": "stdout",
     "output_type": "stream",
     "text": [
      "Enter a number (1 to 7) to represent the day of the week: 6\n",
      "The day of the week is Saturday.\n"
     ]
    }
   ],
   "source": [
    "#13.Write a Python program to determine the day of the week based on a user-provided number using if-else.\n",
    "def determine_day_of_week(day_number):\n",
    "    if day_number == 1:\n",
    "        return \"Monday\"\n",
    "    elif day_number == 2:\n",
    "        return \"Tuesday\"\n",
    "    elif day_number == 3:\n",
    "        return \"Wednesday\"\n",
    "    elif day_number == 4:\n",
    "        return \"Thursday\"\n",
    "    elif day_number == 5:\n",
    "        return \"Friday\"\n",
    "    elif day_number == 6:\n",
    "        return \"Saturday\"\n",
    "    elif day_number == 7:\n",
    "        return \"Sunday\"\n",
    "    else:\n",
    "        return \"Invalid day number. Please enter a number between 1 and 7.\"\n",
    "day_number = int(input(\"Enter a number (1 to 7) to represent the day of the week: \"))\n",
    "day_of_week = determine_day_of_week(day_number)\n",
    "print(f\"The day of the week is {day_of_week}.\")"
   ]
  },
  {
   "cell_type": "code",
   "execution_count": 17,
   "id": "fb48dae8",
   "metadata": {},
   "outputs": [
    {
     "name": "stdout",
     "output_type": "stream",
     "text": [
      "enter a number:1900\n",
      "the given year is not leap year\n"
     ]
    }
   ],
   "source": [
    "#14.Create a Python program that checks if a given year is a leap year using both if-else and a function.\n",
    "a=int(input(\"enter a number:\"))\n",
    "if (a%4==0 and a%100!=0)or(a%400==0):\n",
    "    print(\"the given year is leap year\")\n",
    "else:\n",
    "    print(\"the given year is not leap year\")"
   ]
  },
  {
   "cell_type": "code",
   "execution_count": 24,
   "id": "8dd5880d",
   "metadata": {},
   "outputs": [
    {
     "name": "stdout",
     "output_type": "stream",
     "text": [
      "Enter an integer: 45\n",
      "45 is a positive integer.\n"
     ]
    }
   ],
   "source": [
    "#15.How do you use the \"assert\" statement in Python to add debugging checks within if-else blocks.\n",
    "def check_value(value):\n",
    "    assert isinstance(value, int), \"Value must be an integer\"\n",
    "    if value > 0:\n",
    "        print(f\"{value} is a positive integer.\")\n",
    "    elif value == 0:\n",
    "        print(\"The value is zero.\")\n",
    "    else:\n",
    "        print(f\"{value} is a negative integer.\")\n",
    "try:\n",
    "    user_input = int(input(\"Enter an integer: \"))\n",
    "    check_value(user_input)\n",
    "except ValueError:\n",
    "    print(\"Invalid input. Please enter an integer.\")\n",
    "except AssertionError as e:\n",
    "    print(f\"AssertionError: {e}\")"
   ]
  },
  {
   "cell_type": "code",
   "execution_count": 28,
   "id": "16a37b0f",
   "metadata": {},
   "outputs": [
    {
     "name": "stdout",
     "output_type": "stream",
     "text": [
      "Enter your age: 59\n",
      "You are not eligible for a senior citizen discount.\n"
     ]
    }
   ],
   "source": [
    "#16.Create a Python program that determines the eligibility of a person for a senior citizen discount based on age using if-else.\n",
    "senior_citizen=60\n",
    "age = int(input(\"Enter your age: \"))\n",
    "if age>=senior_citizen:\n",
    "    print(\"You are eligible for a senior citizen discount!\")\n",
    "else:\n",
    "    print(\"You are not eligible for a senior citizen discount.\")"
   ]
  },
  {
   "cell_type": "code",
   "execution_count": 5,
   "id": "f60b47a2",
   "metadata": {},
   "outputs": [
    {
     "name": "stdout",
     "output_type": "stream",
     "text": [
      "MALLESH\n",
      "this is a uppercase letters\n"
     ]
    }
   ],
   "source": [
    "#17.Write a Python program to categorize a given character as uppercase, lowercase, or neither using if-else.\n",
    "a=input()\n",
    "if a.isupper():\n",
    "    print(\"this is a uppercase letters\")\n",
    "elif a.lower():\n",
    "    print(\"this is a lowercase letters\")\n",
    "else:\n",
    "    print(\"neither uppercase or nor lowercase\") "
   ]
  },
  {
   "cell_type": "code",
   "execution_count": 6,
   "id": "917e3afe",
   "metadata": {},
   "outputs": [
    {
     "name": "stdout",
     "output_type": "stream",
     "text": [
      "Enter the coefficient a: 5\n",
      "Enter the coefficient b: 4\n",
      "Enter the coefficient c: 9\n",
      "The roots are complex: -0.4 + 1.2806248474865698i and -0.4 - 1.2806248474865698i\n"
     ]
    }
   ],
   "source": [
    "#18.Write a Python program to determine the roots of a quadratic equation using if-else.\n",
    "import math\n",
    "def roots(a, b, c):\n",
    "    discriminant = b**2 - 4*a*c\n",
    "    if discriminant > 0:\n",
    "        root1 = (-b + math.sqrt(discriminant)) / (2*a)\n",
    "        root2 = (-b - math.sqrt(discriminant)) / (2*a)\n",
    "        print(f\"The roots are real and distinct: {root1} and {root2}\")\n",
    "    elif discriminant == 0:\n",
    "        root = -b / (2*a)\n",
    "        print(f\"The root is real and repeated: {root}\")\n",
    "    else:\n",
    "        real_part = -b / (2*a)\n",
    "        imaginary_part = math.sqrt(abs(discriminant)) / (2*a)\n",
    "        print(f\"The roots are complex: {real_part} + {imaginary_part}i and {real_part} - {imaginary_part}i\")\n",
    "a = float(input(\"Enter the coefficient a: \"))\n",
    "b = float(input(\"Enter the coefficient b: \"))\n",
    "c = float(input(\"Enter the coefficient c: \"))\n",
    "roots(a, b, c)"
   ]
  },
  {
   "cell_type": "code",
   "execution_count": 2,
   "id": "e7d7002c",
   "metadata": {},
   "outputs": [
    {
     "name": "stdout",
     "output_type": "stream",
     "text": [
      "enter a number:2002\n",
      "the given year is not century year\n"
     ]
    }
   ],
   "source": [
    "#19.Create a Python program that checks if a given year is a century year or not using if-else.\n",
    "a=int(input(\"enter a number:\"))\n",
    "if a%100==0 and a%4==0:\n",
    "    print(\"the given year is century year\")\n",
    "else:\n",
    "    print(\"the given year is not century year\")"
   ]
  },
  {
   "cell_type": "code",
   "execution_count": 11,
   "id": "d3ac14ab",
   "metadata": {},
   "outputs": [
    {
     "name": "stdout",
     "output_type": "stream",
     "text": [
      "6 is not a perfect square.\n"
     ]
    }
   ],
   "source": [
    "#20.Write a Python program to determine if a given number is a perfect square using if-else.\n",
    "def is_perfect_square(number):\n",
    "    if number > 0 and (number**0.5).is_integer():\n",
    "        print(f\"{number} is a perfect square.\")\n",
    "    else:\n",
    "        print(f\"{number} is not a perfect square.\")\n",
    "number=25\n",
    "is_perfect_square(number_to_check)"
   ]
  },
  {
   "cell_type": "code",
   "execution_count": 4,
   "id": "da942127",
   "metadata": {},
   "outputs": [
    {
     "name": "stdout",
     "output_type": "stream",
     "text": [
      "1\n",
      "2\n",
      "4\n",
      "5\n",
      "1\n",
      "2\n",
      "3\n"
     ]
    }
   ],
   "source": [
    "#21.Explain the purpose of the \"continue\" and \"break\" statements within if-else loops.\n",
    "#The \"continue\" statement is used to skip the rest of the code inside a loop for the current iteration and move on to the next iteration.\n",
    "for i in range(1, 6):\n",
    "    if i == 3:\n",
    "        continue\n",
    "    print(i)\n",
    "#The \"break\" statement is used to exit a loop prematurely, regardless of the loop's condition. It terminates the entire loop and transfers control to the statement immediately following the loop.\n"
   ]
  },
  {
   "cell_type": "code",
   "execution_count": 12,
   "id": "9ba4af2d",
   "metadata": {},
   "outputs": [
    {
     "name": "stdout",
     "output_type": "stream",
     "text": [
      "Enter your weight in kilograms: 60\n",
      "Enter your height in meters: 6\n",
      "Your BMI is: 1.67\n",
      "You are categorized as: Underweight\n"
     ]
    }
   ],
   "source": [
    "#22.Create a Python program that calculates the BMI (Body Mass Index) of a person based on their weight and height using if-else.\n",
    "def calculate_bmi(weight, height):\n",
    "    bmi = weight / (height ** 2)\n",
    "    return bmi\n",
    "def interpret_bmi(bmi):\n",
    "    if bmi < 18.5:\n",
    "        return \"Underweight\"\n",
    "    elif 18.5 <= bmi < 24.9:\n",
    "        return \"Normal Weight\"\n",
    "    elif 25 <= bmi < 29.9:\n",
    "        return \"Overweight\"\n",
    "    else:\n",
    "        return \"Obese\"\n",
    "weight = float(input(\"Enter your weight in kilograms: \"))\n",
    "height = float(input(\"Enter your height in meters: \"))\n",
    "if weight <= 0 or height <= 0:\n",
    "        print(\"Please enter valid weight and height values.\")\n",
    "else:\n",
    "    bmi = calculate_bmi(weight, height)\n",
    "    bmi_category = interpret_bmi(bmi)\n",
    "    print(f\"Your BMI is: {bmi:.2f}\")\n",
    "    print(f\"You are categorized as: {bmi_category}\")"
   ]
  },
  {
   "cell_type": "code",
   "execution_count": 15,
   "id": "87362209",
   "metadata": {},
   "outputs": [
    {
     "name": "stdout",
     "output_type": "stream",
     "text": [
      "[8, 10, 20]\n"
     ]
    }
   ],
   "source": [
    "#23.How can you use the \"filter()\" function with if-else statements to filter elements from a list?.\n",
    "numbers=[1,5,8,10,15,20]\n",
    "def filter_even(number):\n",
    "    if number%2==0:\n",
    "        return True\n",
    "    else:\n",
    "        return False\n",
    "filtered_numbers = filter(filter_even, numbers)\n",
    "result_list = list(filtered_numbers)\n",
    "print(result_list)"
   ]
  },
  {
   "cell_type": "code",
   "execution_count": 17,
   "id": "7f018e5c",
   "metadata": {},
   "outputs": [
    {
     "name": "stdout",
     "output_type": "stream",
     "text": [
      "Enter a number: 5\n",
      "5 is a prime number.\n"
     ]
    }
   ],
   "source": [
    "#24.Write a Python program to determine if a given number is prime or not using if-else.\n",
    "def is_prime(number):\n",
    "    if number < 2:\n",
    "        return False\n",
    "    for i in range(2, int(number**0.5) + 1):\n",
    "        if number % i == 0:\n",
    "            return False\n",
    "    return True\n",
    "num = int(input(\"Enter a number: \"))\n",
    "if is_prime(num):\n",
    "    print(f\"{num} is a prime number.\")\n",
    "else:\n",
    "    print(f\"{num} is not a prime number.\")"
   ]
  },
  {
   "cell_type": "code",
   "execution_count": 1,
   "id": "7a1b42bc",
   "metadata": {},
   "outputs": [
    {
     "name": "stdout",
     "output_type": "stream",
     "text": [
      "[1, 4, 9, 16, 25]\n"
     ]
    }
   ],
   "source": [
    "#1.Explain the purpose of the `map()` function in Python and provide an example of how it can beused to apply a function to each element of an iterable.\n",
    "#The map() function in Python is a built-in function that is used to apply a specified function to all the items in an iterable (e.g., a list, tuple, or string) and return an iterator as results. \n",
    "#The syntax for the map() function is map(function, iterable).\n",
    "# Define a function to square a number\n",
    "def square(x):\n",
    "    return x ** 2\n",
    "numbers = [1, 2, 3, 4, 5]\n",
    "squared_numbers = map(square, numbers)\n",
    "result_list = list(squared_numbers)\n",
    "print(result_list)"
   ]
  },
  {
   "cell_type": "code",
   "execution_count": 2,
   "id": "9acf38a7",
   "metadata": {},
   "outputs": [
    {
     "name": "stdout",
     "output_type": "stream",
     "text": [
      "Original numbers: [1, 2, 3, 4, 5]\n",
      "Squared numbers: [1, 4, 9, 16, 25]\n"
     ]
    }
   ],
   "source": [
    "#2.Write a Python program that uses the `map()` function to square each element of a list of numbers.\n",
    "# Define a function to square a numbers.\n",
    "def square(x):\n",
    "    return x ** 2\n",
    "numbers = [1, 2, 3, 4, 5]\n",
    "squared_numbers = map(square, numbers)\n",
    "result_list = list(squared_numbers)\n",
    "print(\"Original numbers:\", numbers)\n",
    "print(\"Squared numbers:\", result_list)\n"
   ]
  },
  {
   "cell_type": "code",
   "execution_count": 4,
   "id": "2beb7356",
   "metadata": {},
   "outputs": [
    {
     "name": "stdout",
     "output_type": "stream",
     "text": [
      "<map object at 0x0000020F2115D750>\n",
      "[1, 4, 9, 16, 25]\n"
     ]
    }
   ],
   "source": [
    "#3.How does the `map()` function differ from a list comprehension in Python, and when would you choose one over the other?\n",
    "def square(x):\n",
    "    return x ** 2\n",
    "numbers = [1, 2, 3, 4, 5]\n",
    "squared_numbers = map(square, numbers)\n",
    "print(squared_numbers)\n",
    "n1 = [1, 2, 3, 4, 5]\n",
    "sn1= [x ** 2 for x in numbers]\n",
    "print(sn1)"
   ]
  },
  {
   "cell_type": "code",
   "execution_count": 5,
   "id": "93b97ef9",
   "metadata": {},
   "outputs": [
    {
     "name": "stdout",
     "output_type": "stream",
     "text": [
      "Original names: ['Alice', 'Bob', 'Charlie', 'David']\n",
      "Uppercase names: ['ALICE', 'BOB', 'CHARLIE', 'DAVID']\n"
     ]
    }
   ],
   "source": [
    "#4.Create a Python program that uses the `map()` function to convert a list of names to uppercase.\n",
    "names = [\"Alice\", \"Bob\", \"Charlie\", \"David\"]\n",
    "uppercase_names = map(str.upper, names)\n",
    "result_list = list(uppercase_names)\n",
    "print(\"Original names:\", names)\n",
    "print(\"Uppercase names:\", result_list)"
   ]
  },
  {
   "cell_type": "code",
   "execution_count": 6,
   "id": "7cc7bf47",
   "metadata": {},
   "outputs": [
    {
     "name": "stdout",
     "output_type": "stream",
     "text": [
      "Original words: ['apple', 'banana', 'cherry', 'date']\n",
      "Word lengths: [5, 6, 6, 4]\n"
     ]
    }
   ],
   "source": [
    "#5.Write a Python program that uses the `map()` function to calculate the length of each word in a list of strings.\n",
    "words_list = [\"apple\", \"banana\", \"cherry\", \"date\"]\n",
    "word_lengths = map(len, words_list)\n",
    "result_list = list(word_lengths)\n",
    "print(\"Original words:\", words_list)\n",
    "print(\"Word lengths:\", result_list)"
   ]
  },
  {
   "cell_type": "code",
   "execution_count": 7,
   "id": "dd3b1020",
   "metadata": {},
   "outputs": [
    {
     "name": "stdout",
     "output_type": "stream",
     "text": [
      "List 1: [1, 2, 3, 4]\n",
      "List 2: [5, 6, 7, 8]\n",
      "Result of adding corresponding elements: [6, 8, 10, 12]\n"
     ]
    }
   ],
   "source": [
    "#6.How can you use the `map()` function to apply a custom function to elements of multiple lists simultaneously in Python?.\n",
    "def add_lists_elements(x, y):\n",
    "    return x + y\n",
    "list1 = [1, 2, 3, 4]\n",
    "list2 = [5, 6, 7, 8]\n",
    "sum_result = map(add_lists_elements, list1, list2)\n",
    "result_list = list(sum_result)\n",
    "print(\"List 1:\", list1)\n",
    "print(\"List 2:\", list2)\n",
    "print(\"Result of adding corresponding elements:\", result_list)"
   ]
  },
  {
   "cell_type": "code",
   "execution_count": 17,
   "id": "2fd92859",
   "metadata": {},
   "outputs": [
    {
     "name": "stdout",
     "output_type": "stream",
     "text": [
      "[100.4, 107.60000000000001, 98.60000000000001, 96.8, 100.4, 111.2, 93.2]\n"
     ]
    }
   ],
   "source": [
    "#7.Create a Python program that uses `map()` to convert a list of temperatures from Celsius to Fahrenheit.\n",
    "def mahi(l1):\n",
    "    a=l1*(9/5)+32\n",
    "    return a\n",
    "l1=[38,42,37,36,38,44,34]\n",
    "l2=map(mahi,l1)\n",
    "l3=list(l2)\n",
    "print(l3)"
   ]
  },
  {
   "cell_type": "code",
   "execution_count": 18,
   "id": "419b50ac",
   "metadata": {},
   "outputs": [
    {
     "name": "stdout",
     "output_type": "stream",
     "text": [
      "Original floating-point numbers: [3.14, 2.718, 1.5, 7.2, 9.8]\n",
      "Rounded integers: [3, 3, 2, 7, 10]\n"
     ]
    }
   ],
   "source": [
    "#8.Write a Python program that uses the `map()` function to round each element of a list of floating-point numbers to the nearest integer.\n",
    "float_numbers = [3.14, 2.718, 1.5, 7.2, 9.8]\n",
    "rounded_integers = map(round, float_numbers)\n",
    "result_list = list(rounded_integers)\n",
    "print(\"Original floating-point numbers:\", float_numbers)\n",
    "print(\"Rounded integers:\", result_list)"
   ]
  },
  {
   "cell_type": "code",
   "execution_count": 20,
   "id": "34c83047",
   "metadata": {
    "slideshow": {
     "slide_type": "-"
    }
   },
   "outputs": [
    {
     "name": "stdout",
     "output_type": "stream",
     "text": [
      "Original numbers: [1, 2, 3, 4, 5]\n",
      "Sum of numbers using reduce(): 15\n"
     ]
    }
   ],
   "source": [
    "#1.What is the `reduce()` function in Python, and what module should you import to use it? Provide an example of its basic usage.\n",
    "def add(x, y):\n",
    "    return x + y\n",
    "numbers = [1, 2, 3, 4, 5]\n",
    "result = reduce(add, numbers)\n",
    "print(\"Original numbers:\", numbers)\n",
    "print(\"Sum of numbers using reduce():\", result)"
   ]
  },
  {
   "cell_type": "code",
   "execution_count": 21,
   "id": "26d3bdb4",
   "metadata": {},
   "outputs": [
    {
     "name": "stdout",
     "output_type": "stream",
     "text": [
      "Original numbers: [2, 3, 4, 5]\n",
      "Product of numbers using reduce(): 120\n"
     ]
    }
   ],
   "source": [
    "#2.Write a Python program that uses the `reduce()` function to find the product of all elements in a list.\n",
    "def multiply(x, y):\n",
    "    return x * y\n",
    "numbers = [2, 3, 4, 5]\n",
    "product = reduce(multiply, numbers)\n",
    "print(\"Original numbers:\", numbers)\n",
    "print(\"Product of numbers using reduce():\", product)"
   ]
  },
  {
   "cell_type": "code",
   "execution_count": 22,
   "id": "194f8e98",
   "metadata": {},
   "outputs": [
    {
     "name": "stdout",
     "output_type": "stream",
     "text": [
      "Original numbers: [12, 5, 28, 8, 17]\n",
      "Maximum element using reduce(): 28\n"
     ]
    }
   ],
   "source": [
    "#3.Create a Python program that uses `reduce()` to find the maximum element in a list of numbers.\n",
    "def find_max(x, y):\n",
    "    return max(x, y)\n",
    "numbers = [12, 5, 28, 8, 17]\n",
    "max_element = reduce(find_max, numbers)\n",
    "print(\"Original numbers:\", numbers)\n",
    "print(\"Maximum element using reduce():\", max_element)"
   ]
  },
  {
   "cell_type": "code",
   "execution_count": 23,
   "id": "ab7e68c5",
   "metadata": {},
   "outputs": [
    {
     "name": "stdout",
     "output_type": "stream",
     "text": [
      "Original strings: ['Hello, ', 'world', '!', ' How', ' are', ' you?']\n",
      "Concatenated string using reduce(): Hello, world! How are you?\n"
     ]
    }
   ],
   "source": [
    "#4.How can you use the `reduce()` function to concatenate a list of strings into a single string?\n",
    "def concatenate_strings(x, y):\n",
    "    return x + y\n",
    "strings_list = [\"Hello, \", \"world\", \"!\", \" How\", \" are\", \" you?\"]\n",
    "result_string = reduce(concatenate_strings, strings_list)\n",
    "print(\"Original strings:\", strings_list)\n",
    "print(\"Concatenated string using reduce():\", result_string)"
   ]
  },
  {
   "cell_type": "code",
   "execution_count": 3,
   "id": "77900bb8",
   "metadata": {},
   "outputs": [
    {
     "name": "stdout",
     "output_type": "stream",
     "text": [
      "Enter a number to calculate its factorial: 6\n",
      "The factorial of 6 is 720\n"
     ]
    }
   ],
   "source": [
    "#5.Write a Python program that calculates the factorial of a number using the `reduce()` function.\n",
    "def factorial(n):\n",
    "    if n < 0:\n",
    "        return \"Factorial is not defined for negative numbers\"\n",
    "    elif n == 0:\n",
    "        return 1\n",
    "    else:\n",
    "        return reduce(lambda x, y: x * y, range(1, n+1))\n",
    "number = int(input(\"Enter a number to calculate its factorial: \"))\n",
    "result = factorial(number)\n",
    "print(f\"The factorial of {number} is {result}\")\n"
   ]
  },
  {
   "cell_type": "code",
   "execution_count": 8,
   "id": "bc84ecb9",
   "metadata": {},
   "outputs": [
    {
     "name": "stdout",
     "output_type": "stream",
     "text": [
      "Enter numbers separated by space: 35\n",
      "The GCD of the numbers [35] is 35\n"
     ]
    }
   ],
   "source": [
    "#6.Create a Python program that uses `reduce()` to find the GCD (Greatest Common Divisor) of a list of numbers.\n",
    "import math\n",
    "def gcd_of_list(numbers):\n",
    "    return reduce(math.gcd, numbers)\n",
    "numbers = [int(x) for x in input(\"Enter numbers separated by space: \").split()]\n",
    "gcd_result = gcd_of_list(numbers)\n",
    "print(f\"The GCD of the numbers {numbers} is {gcd_result}\")"
   ]
  },
  {
   "cell_type": "code",
   "execution_count": 16,
   "id": "f2570419",
   "metadata": {},
   "outputs": [
    {
     "name": "stdout",
     "output_type": "stream",
     "text": [
      "Enter a number: 94\n",
      "The sum of the digits of 94 is 13\n"
     ]
    }
   ],
   "source": [
    "#7. Write a Python program that uses the `reduce()` function to find the sum of the digits of a given number.\n",
    "def sum_of_digits(number):\n",
    "    digits = [int(digit) for digit in str(number)]\n",
    "    return reduce(lambda x, y: x + y, digits)\n",
    "number = int(input(\"Enter a number: \"))\n",
    "result = sum_of_digits(number)\n",
    "print(f\"The sum of the digits of {number} is {result}\")"
   ]
  },
  {
   "cell_type": "markdown",
   "id": "478e1525",
   "metadata": {},
   "source": [
    "# Filter"
   ]
  },
  {
   "cell_type": "code",
   "execution_count": 3,
   "id": "e4c632b3",
   "metadata": {},
   "outputs": [
    {
     "name": "stdout",
     "output_type": "stream",
     "text": [
      "[1, 3, 5, 7, 9]\n"
     ]
    }
   ],
   "source": [
    "#1. Explain the purpose of the `filter()` function in Python and provide an example of how it can beused to filter elements from an iterabl\n",
    "#The filter() function in Python is used to create a new iterable (typically a list, tuple, or set) from elements of an existing iterable (such as a list), based on a condition specified by a function. This function takes two arguments: the first argument is the function that defines the condition, and the second argument is the iterable to be filtered.\n",
    "#syntax\n",
    "#filter(function, iterable)\n",
    "def is_even(num):\n",
    "    return num % 2 != 0\n",
    "numbers = [1, 2, 3, 4, 5, 6, 7, 8, 9, 10]\n",
    "even_numbers = filter(is_even, numbers)\n",
    "even_numbers_list = list(even_numbers)\n",
    "print(even_numbers_list)"
   ]
  },
  {
   "cell_type": "code",
   "execution_count": 4,
   "id": "dfceecf5",
   "metadata": {},
   "outputs": [
    {
     "name": "stdout",
     "output_type": "stream",
     "text": [
      "Even numbers: [2, 4, 6, 8, 10]\n"
     ]
    }
   ],
   "source": [
    "#2.Write a Python program that uses the `filter()` function to select even numbers from a list of integers.\n",
    "# Define a function to check if a number is even\n",
    "def is_even(num):\n",
    "    return num % 2 == 0\n",
    "numbers = [1, 2, 3, 4, 5, 6, 7, 8, 9, 10]\n",
    "even_numbers = filter(is_even, numbers)\n",
    "even_numbers_list = list(even_numbers)\n",
    "print(\"Even numbers:\", even_numbers_list)\n"
   ]
  },
  {
   "cell_type": "code",
   "execution_count": 5,
   "id": "e3e97964",
   "metadata": {},
   "outputs": [
    {
     "name": "stdout",
     "output_type": "stream",
     "text": [
      "Names starting with letter 'B': ['Bheem', 'Balraj']\n"
     ]
    }
   ],
   "source": [
    "#3. Create a Python program that uses the `filter()` function to select names that start with a specific letter from a list of strings.\n",
    "# List of names\n",
    "names = [\"Mallesh\", \"Bheem\", \"Chandu\", \"Balraj\", \"Ali\", \"Naresh\"]\n",
    "def starts_with_letter(letter, name):\n",
    "    return name.startswith(letter)\n",
    "start_letter = \"B\"\n",
    "filtered_names = filter(lambda name: starts_with_letter(start_letter, name), names)\n",
    "filtered_names_list = list(filtered_names)\n",
    "print(f\"Names starting with letter '{start_letter}':\", filtered_names_list)\n"
   ]
  },
  {
   "cell_type": "code",
   "execution_count": 6,
   "id": "1da6a473",
   "metadata": {},
   "outputs": [
    {
     "name": "stdout",
     "output_type": "stream",
     "text": [
      "Prime numbers: [2, 3, 5, 7, 11, 13]\n"
     ]
    }
   ],
   "source": [
    "#4. Write a Python program that uses the `filter()` function to select prime numbers from a list of integers\n",
    "def is_prime(num):\n",
    "    if num < 2:\n",
    "        return False\n",
    "    for i in range(2, int(num**0.5) + 1):\n",
    "        if num % i == 0:\n",
    "            return False\n",
    "    return True\n",
    "numbers = [2, 3, 4, 5, 6, 7, 8, 9, 10, 11, 12, 13, 14, 15]\n",
    "prime_numbers = filter(is_prime, numbers)\n",
    "prime_numbers_list = list(prime_numbers)\n",
    "print(\"Prime numbers:\", prime_numbers_list)"
   ]
  },
  {
   "cell_type": "code",
   "execution_count": 7,
   "id": "6e6d6e46",
   "metadata": {},
   "outputs": [
    {
     "name": "stdout",
     "output_type": "stream",
     "text": [
      "Filtered list: [1, 3, 5, 7, 9]\n"
     ]
    }
   ],
   "source": [
    "#5. How can you use the `filter()` function to remove None values from a list in Python\n",
    "my_list = [1, None, 3, None, 5, None, 7, None, 9, None]\n",
    "filtered_list = filter(lambda x: x is not None, my_list)\n",
    "filtered_list = list(filtered_list)\n",
    "print(\"Filtered list:\", filtered_list)"
   ]
  },
  {
   "cell_type": "code",
   "execution_count": 8,
   "id": "a0e38dd3",
   "metadata": {},
   "outputs": [
    {
     "name": "stdout",
     "output_type": "stream",
     "text": [
      "Words longer than 6 characters: ['strawberry', 'pineapple']\n"
     ]
    }
   ],
   "source": [
    "#6. Create a Python program that uses `filter()` to select words longer than a certain length from a list of strings.\n",
    "words = [\"apple\", \"banana\", \"orange\", \"kiwi\", \"strawberry\", \"pineapple\"]\n",
    "min_length = 6\n",
    "filtered_words = filter(lambda word: len(word) > min_length, words)\n",
    "filtered_words_list = list(filtered_words)\n",
    "print(\"Words longer than\", min_length, \"characters:\", filtered_words_list)"
   ]
  },
  {
   "cell_type": "code",
   "execution_count": 9,
   "id": "39f3997d",
   "metadata": {},
   "outputs": [
    {
     "name": "stdout",
     "output_type": "stream",
     "text": [
      "Values greater than 50 : [60, 70, 80, 90]\n"
     ]
    }
   ],
   "source": [
    "#7. Write a Python program that uses the `filter()` function to select elements greater than a specified threshold from a list of values.\n",
    "values = [10, 20, 30, 40, 50, 60, 70, 80, 90]\n",
    "threshold = 50\n",
    "filtered_values = filter(lambda x: x > threshold, values)\n",
    "filtered_values_list = list(filtered_values)\n",
    "print(\"Values greater than\", threshold, \":\", filtered_values_list)"
   ]
  },
  {
   "cell_type": "markdown",
   "id": "0c7eaef5",
   "metadata": {},
   "source": [
    "# Recursion:-"
   ]
  },
  {
   "cell_type": "code",
   "execution_count": 10,
   "id": "d0ba8035",
   "metadata": {},
   "outputs": [],
   "source": [
    "# 1. Explain the concept of recursion in Python. How does it differ from iteration?\n",
    "#Recursion in Python is a technique where a function calls itself to solve smaller instances of the same problem until it reaches a base case. \n",
    "#This process continues until the base case is reached, at which point the recursion stops and the solutions to the smaller instances are combined to solve the larger problem.\n",
    "#In recursion, control flows through repeated function calls, with each call potentially creating new instances of the function with different arguments.\n",
    "#Recursion involves a function calling itself to solve a problem\n",
    "#ABOUT ITERTION\n",
    "#iteration involves looping constructs like for or while loops, where control flows through the loop block repeatedly until a condition is met.\n",
    "#Iteration involves using loops to repeat a block of code until a condition is met."
   ]
  },
  {
   "cell_type": "code",
   "execution_count": 11,
   "id": "75d58bd6",
   "metadata": {},
   "outputs": [
    {
     "name": "stdout",
     "output_type": "stream",
     "text": [
      "The factorial of 5 is: 120\n"
     ]
    }
   ],
   "source": [
    "#2. Write a Python program to calculate the factorial of a number using recursion.\n",
    "def factorial(n):\n",
    "    if n == 0:\n",
    "        return 1\n",
    "    else:\n",
    "        return n * factorial(n - 1)\n",
    "num = 5\n",
    "print(f\"The factorial of {num} is:\", factorial(num))"
   ]
  },
  {
   "cell_type": "code",
   "execution_count": 12,
   "id": "78595983",
   "metadata": {},
   "outputs": [
    {
     "name": "stdout",
     "output_type": "stream",
     "text": [
      "The 7th Fibonacci number is: 13\n"
     ]
    }
   ],
   "source": [
    "#3. Create a recursive Python function to find the nth Fibonacci number.\n",
    "def fibonacci(n):\n",
    "    if n <= 1:\n",
    "        return n\n",
    "    else:\n",
    "        return fibonacci(n - 1) + fibonacci(n - 2)\n",
    "n = 7\n",
    "print(f\"The {n}th Fibonacci number is:\", fibonacci(n))"
   ]
  },
  {
   "cell_type": "code",
   "execution_count": 13,
   "id": "7224abfa",
   "metadata": {},
   "outputs": [
    {
     "name": "stdout",
     "output_type": "stream",
     "text": [
      "Sum of elements in the list: 15\n"
     ]
    }
   ],
   "source": [
    "#4. Write a recursive Python function to calculate the sum of all elements in a list.\n",
    "def sum_list_recursive(lst):\n",
    "    if len(lst) == 0:\n",
    "        return 0\n",
    "    else:\n",
    "        return lst[0] + sum_list_recursive(lst[1:])\n",
    "my_list = [1, 2, 3, 4, 5]\n",
    "print(\"Sum of elements in the list:\", sum_list_recursive(my_list))"
   ]
  },
  {
   "cell_type": "code",
   "execution_count": null,
   "id": "5ee77880",
   "metadata": {},
   "outputs": [],
   "source": [
    "#5. How can you prevent a recursive function from running indefinitely, causing a stack overflow error?\n",
    "#Define base cases that specify when the recursion should stop.\n",
    "#Ensure each recursive call brings the problem closer to a base case.\n",
    "#Use appropriate bounding parameters or constraints.\n",
    "#Test and debug the function thoroughly to ensure proper termination.\n",
    "#Consider converting to tail recursion if supported or using iterative alternatives when appropriate."
   ]
  },
  {
   "cell_type": "code",
   "execution_count": 14,
   "id": "9303d348",
   "metadata": {},
   "outputs": [
    {
     "name": "stdout",
     "output_type": "stream",
     "text": [
      "GCD of 56 and 12 is: 4\n"
     ]
    }
   ],
   "source": [
    "#6. Create a recursive Python function to find the greatest common divisor (GCD) of two numbers using the Euclidean algorithm.\n",
    "def gcd(a, b):\n",
    "    if b == 0:\n",
    "        return a\n",
    "    else:\n",
    "        return gcd(b, a % b)\n",
    "num1 = 56\n",
    "num2 = 12\n",
    "print(\"GCD of\", num1, \"and\", num2, \"is:\", gcd(num1, num2))"
   ]
  },
  {
   "cell_type": "code",
   "execution_count": 15,
   "id": "fca5528b",
   "metadata": {},
   "outputs": [
    {
     "name": "stdout",
     "output_type": "stream",
     "text": [
      "Original string: hello\n",
      "Reversed string: olleh\n"
     ]
    }
   ],
   "source": [
    "#7.Write a recursive Python function to reverse a string.\n",
    "def reverse_string(string):\n",
    "    if len(string) <= 1:\n",
    "        return string\n",
    "    else:\n",
    "        return reverse_string(string[1:]) + string[0]\n",
    "my_string = \"hello\"\n",
    "print(\"Original string:\", my_string)\n",
    "print(\"Reversed string:\", reverse_string(my_string))"
   ]
  },
  {
   "cell_type": "code",
   "execution_count": 16,
   "id": "36383f6f",
   "metadata": {},
   "outputs": [
    {
     "name": "stdout",
     "output_type": "stream",
     "text": [
      "2 raised to the power of 5 is: 32\n"
     ]
    }
   ],
   "source": [
    "#8.Create a recursive Python function to calculate the power of a number (x^n).\n",
    "def power(x, n):\n",
    "    if n == 0:\n",
    "        return 1\n",
    "    else:\n",
    "        return x * power(x, n - 1)\n",
    "base = 2\n",
    "exponent = 5\n",
    "print(f\"{base} raised to the power of {exponent} is:\", power(base, exponent))"
   ]
  },
  {
   "cell_type": "code",
   "execution_count": 17,
   "id": "d72aeb3f",
   "metadata": {},
   "outputs": [
    {
     "name": "stdout",
     "output_type": "stream",
     "text": [
      "Permutations of abc : ['abc', 'acb', 'bac', 'bca', 'cab', 'cba']\n"
     ]
    }
   ],
   "source": [
    "#9. Write a recursive Python function to find all permutations of a given string.\n",
    "def permutations(string):\n",
    "    if len(string) == 1:\n",
    "        return [string]\n",
    "    else:\n",
    "        perms = []\n",
    "        for i, char in enumerate(string):\n",
    "            for perm in permutations(string[:i] + string[i+1:]):\n",
    "                perms.append(char + perm)\n",
    "        return perms\n",
    "input_string = \"abc\"\n",
    "print(\"Permutations of\", input_string, \":\", permutations(input_string))"
   ]
  },
  {
   "cell_type": "code",
   "execution_count": 18,
   "id": "36a7dcaf",
   "metadata": {},
   "outputs": [
    {
     "name": "stdout",
     "output_type": "stream",
     "text": [
      "Is racecar a palindrome? True\n"
     ]
    }
   ],
   "source": [
    "#10. Write a recursive Python function to check if a string is a palindrome.\n",
    "def is_palindrome(string):\n",
    "    if len(string) <= 1:\n",
    "        return True\n",
    "    else:\n",
    "        if string[0] == string[-1]:\n",
    "            return is_palindrome(string[1:-1])\n",
    "        else:\n",
    "            return False\n",
    "input_string = \"racecar\"\n",
    "print(\"Is\", input_string, \"a palindrome?\", is_palindrome(input_string))"
   ]
  },
  {
   "cell_type": "code",
   "execution_count": 19,
   "id": "ae2ad0c4",
   "metadata": {},
   "outputs": [
    {
     "name": "stdout",
     "output_type": "stream",
     "text": [
      "All combinations: [[], [1], [2], [1, 2], [3], [1, 3], [2, 3], [1, 2, 3]]\n"
     ]
    }
   ],
   "source": [
    "#11. Create a recursive Python function to generate all possible combinations of a list of elements.\n",
    "def combinations(elements):\n",
    "    if len(elements) == 0:\n",
    "        return [[]]\n",
    "    else:\n",
    "        first = elements[0]\n",
    "        rest = elements[1:]\n",
    "        combinations_without_first = combinations(rest)\n",
    "        combinations_with_first = []\n",
    "        for combo in combinations_without_first:\n",
    "            combinations_with_first.append(combo)\n",
    "            combinations_with_first.append([first] + combo)\n",
    "        return combinations_with_first\n",
    "input_list = [1, 2, 3]\n",
    "print(\"All combinations:\", combinations(input_list))"
   ]
  },
  {
   "cell_type": "code",
   "execution_count": 20,
   "id": "f8801818",
   "metadata": {},
   "outputs": [],
   "source": [
    "#1. What is a function in Python, and why is it used?\n",
    "#A function in Python is a reusable block of code that performs a specific task.\n",
    "#It's used to modularize code, promote code reusability, improve code organization, and abstract away implementation details, making the code easier to understand and maintain."
   ]
  },
  {
   "cell_type": "code",
   "execution_count": 21,
   "id": "18ec77e0",
   "metadata": {},
   "outputs": [
    {
     "name": "stdout",
     "output_type": "stream",
     "text": [
      "Hello, Mallesh!\n"
     ]
    }
   ],
   "source": [
    "#2. How do you define a function in Python? Provide an example.\n",
    "#In Python, you define a function using the def keyword followed by the function name, parentheses containing any parameters, and a colon.\n",
    "def greet(name):\n",
    "    return f\"Hello, {name}!\"\n",
    "print(greet(\"Mallesh\"))"
   ]
  },
  {
   "cell_type": "code",
   "execution_count": 1,
   "id": "b2133b0a",
   "metadata": {},
   "outputs": [],
   "source": [
    "#3. Explain the difference between a function definition and a function call.\n",
    "#A function is a block of organized, reusable code that performs a specific task.\n",
    "#It takes inputs, processes them, and produces outputs.\n",
    "#function call\n",
    "#A function call is when you actually use that function in your code by invoking its name and providing any necessary arguments, triggering the execution of its code."
   ]
  },
  {
   "cell_type": "code",
   "execution_count": 2,
   "id": "967b4f07",
   "metadata": {},
   "outputs": [
    {
     "name": "stdout",
     "output_type": "stream",
     "text": [
      "The sum is: 8\n"
     ]
    }
   ],
   "source": [
    "#4. Write a Python program that defines a function to calculate the sum of two numbers and then calls the function.\n",
    "def calculate_sum(a, b):\n",
    "    return a + b\n",
    "result = calculate_sum(5, 3)\n",
    "print(\"The sum is:\", result)"
   ]
  },
  {
   "cell_type": "code",
   "execution_count": 3,
   "id": "f71b1985",
   "metadata": {},
   "outputs": [],
   "source": [
    "#5. What is a function signature, and what information does it typically include?\n",
    "#A function signature is a concise summary of a function, including its name, parameter types, and return type. \n",
    "#It tells you what the function does and how to use it."
   ]
  },
  {
   "cell_type": "code",
   "execution_count": 4,
   "id": "1ac78463",
   "metadata": {},
   "outputs": [
    {
     "name": "stdout",
     "output_type": "stream",
     "text": [
      "The product is: 12\n"
     ]
    }
   ],
   "source": [
    "#6. Create a Python function that takes two arguments and returns their product.\n",
    "def calculate_product(a, b):\n",
    "    return a * b\n",
    "result = calculate_product(3, 4)\n",
    "print(\"The product is:\", result)"
   ]
  },
  {
   "cell_type": "markdown",
   "id": "889a99b3",
   "metadata": {},
   "source": [
    "# Function Parameters and Arguments"
   ]
  },
  {
   "cell_type": "code",
   "execution_count": 5,
   "id": "38ffb464",
   "metadata": {},
   "outputs": [],
   "source": [
    "#1.Explain the concepts of formal parameters and actual arguments in Python functions.\n",
    "#Formal parameters are placeholders for data in the function definition, while actual arguments are the real values passed to the function when it's called."
   ]
  },
  {
   "cell_type": "code",
   "execution_count": 7,
   "id": "c4c2b33a",
   "metadata": {},
   "outputs": [
    {
     "name": "stdout",
     "output_type": "stream",
     "text": [
      "Hello, bheem\n",
      "None\n"
     ]
    }
   ],
   "source": [
    "#2. Write a Python program that defines a function with default argument values.\n",
    "def greet(name=\"Mallesh\"):\n",
    "    print(\"Hello,\", name)\n",
    "a=greet(\"bheem\")\n",
    "print(a)"
   ]
  },
  {
   "cell_type": "code",
   "execution_count": 8,
   "id": "22cb8d0e",
   "metadata": {},
   "outputs": [
    {
     "name": "stdout",
     "output_type": "stream",
     "text": [
      "Hello, chandu! how are you?\n",
      "None\n"
     ]
    }
   ],
   "source": [
    "#3. How do you use keyword arguments in Python function calls? Provide an example.\n",
    "def greet(name, message):\n",
    "    print(f\"Hello, {name}! {message}\")\n",
    "b=greet(name=\"chandu\", message=\"how are you?\")\n",
    "print(b)"
   ]
  },
  {
   "cell_type": "code",
   "execution_count": 9,
   "id": "92f5a2a9",
   "metadata": {},
   "outputs": [
    {
     "name": "stdout",
     "output_type": "stream",
     "text": [
      "The sum is: 15\n"
     ]
    }
   ],
   "source": [
    "#4. Create a Python function that accepts a variable number of arguments and calculates their sum.\n",
    "def calculate_sum(*args):\n",
    "    return sum(args)\n",
    "result = calculate_sum(1, 2, 3, 4, 5)\n",
    "print(\"The sum is:\", result)"
   ]
  },
  {
   "cell_type": "code",
   "execution_count": 10,
   "id": "6b318962",
   "metadata": {},
   "outputs": [],
   "source": [
    "#5. What is the purpose of the `*args` and `**kwargs` syntax in function parameter lists?\n",
    "#The purpose of *args is to accept a variable number of positional arguments in a function, while **kwargs is used to accept a variable number of keyword arguments. "
   ]
  },
  {
   "cell_type": "markdown",
   "id": "5a230120",
   "metadata": {},
   "source": [
    "# Return Values and Scoping:"
   ]
  },
  {
   "cell_type": "code",
   "execution_count": 11,
   "id": "c085d343",
   "metadata": {},
   "outputs": [],
   "source": [
    "#1. Describe the role of the `return` statement in Python functions and provide examples.\n",
    "#The return statement in Python functions is used to exit the function and optionally return a value to the caller.\n",
    "#It ends the function's execution and sends back a result."
   ]
  },
  {
   "cell_type": "code",
   "execution_count": 12,
   "id": "50e919d8",
   "metadata": {},
   "outputs": [],
   "source": [
    "#2. Explain the concept of variable scope in Python, including local and global variables.\n",
    "#Variable scope in Python refers to where in the code a variable is accessible.\n",
    "#Local Variables: Declared within a function, they're only accessible within that function.\n",
    "#Global Variables: Defined outside any function, they're accessible throughout the entire program."
   ]
  },
  {
   "cell_type": "code",
   "execution_count": 13,
   "id": "db5ecc04",
   "metadata": {},
   "outputs": [
    {
     "name": "stdout",
     "output_type": "stream",
     "text": [
      "Inside the function, global_var is: 20\n",
      "After modification, global_var is: 20\n",
      "Inside another function, global_var is: 20\n",
      "Initially, global_var is: 20\n"
     ]
    }
   ],
   "source": [
    "#3. Write a Python program that demonstrates the use of global variables within functions.\n",
    "global_var = 10\n",
    "def modify_global():\n",
    "    global global_var\n",
    "    global_var = 20\n",
    "    print(\"Inside the function, global_var is:\", global_var)\n",
    "def access_global():\n",
    "    print(\"Inside another function, global_var is:\", global_var)\n",
    "    print(\"Initially, global_var is:\", global_var)\n",
    "modify_global()\n",
    "print(\"After modification, global_var is:\", global_var)\n",
    "access_global()"
   ]
  },
  {
   "cell_type": "code",
   "execution_count": 14,
   "id": "bf5305c2",
   "metadata": {},
   "outputs": [
    {
     "name": "stdout",
     "output_type": "stream",
     "text": [
      "The factorial of 5 is: 120\n"
     ]
    }
   ],
   "source": [
    "#4. Create a Python function that calculates the factorial of a number and returns it.\n",
    "def factorial(n):\n",
    "    result = 1\n",
    "    for i in range(1, n + 1):\n",
    "        result *= i\n",
    "    return result\n",
    "number = 5\n",
    "fact = factorial(number)\n",
    "print(\"The factorial of\", number, \"is:\", fact)"
   ]
  },
  {
   "cell_type": "code",
   "execution_count": 15,
   "id": "4b7f6a7c",
   "metadata": {},
   "outputs": [
    {
     "name": "stdout",
     "output_type": "stream",
     "text": [
      "Inside the function, global_var is: 10\n"
     ]
    }
   ],
   "source": [
    "#5. How can you access variables defined outside a function from within the function?\n",
    "global_var = 10\n",
    "def access_global():\n",
    "    global global_var\n",
    "    print(\"Inside the function, global_var is:\", global_var)\n",
    "access_global()"
   ]
  },
  {
   "cell_type": "markdown",
   "id": "e8a6ee32",
   "metadata": {},
   "source": [
    "# Lambda Functions and Higher-Order Functions:"
   ]
  },
  {
   "cell_type": "code",
   "execution_count": 16,
   "id": "21408dde",
   "metadata": {},
   "outputs": [],
   "source": [
    "#1. What are lambda functions in Python, and when are they typically used?\n",
    "#Lambda functions in Python are anonymous functions defined using the lambda keyword. \n",
    "#They are typically used for short, one-line functions where a full function definition is unnecessary or impractical. \n",
    "#Lambda functions are commonly used in situations where a small, simple function is needed, such as when working with higher-order functions like map(), filter(), or sorted(),reduce()."
   ]
  },
  {
   "cell_type": "code",
   "execution_count": 17,
   "id": "879a6d71",
   "metadata": {},
   "outputs": [
    {
     "name": "stdout",
     "output_type": "stream",
     "text": [
      "Sorted list: [(3, 2), (2, 4), (1, 5), (7, 8)]\n"
     ]
    }
   ],
   "source": [
    "#2. Write a Python program that uses lambda functions to sort a list of tuples based on the second element.\n",
    "my_list = [(1, 5), (3, 2), (7, 8), (2, 4)]\n",
    "sorted_list = sorted(my_list, key=lambda x: x[1])\n",
    "print(\"Sorted list:\", sorted_list)"
   ]
  },
  {
   "cell_type": "code",
   "execution_count": null,
   "id": "3980d711",
   "metadata": {},
   "outputs": [],
   "source": [
    "# 3. Explain the concept of higher-order functions in Python, and provide an example.\n",
    "#In Python, higher-order functions are functions that can accept other functions as arguments or return functions as results.\n",
    "def apply_operation(operation, x, y):\n",
    "    return operation(x, y)\n",
    "def add(x, y):\n",
    "    return x + y\n",
    "def subtract(x, y):\n",
    "    return x - y\n",
    "result_addition = apply_operation(add, 5, 3)\n",
    "print(\"Result of addition:\", result_addition)\n",
    "result_subtraction = apply_operation(subtract, 5, 3)\n",
    "print(\"Result of subtraction:\", result_subtraction)\n",
    "#The apply_operation function is a higher-order function that takes another function (operation) as its first argument.\n",
    "#Depending on the function passed to apply_operation, it performs different operations.\n",
    "#By passing different functions (add and subtract) as arguments to apply_operation, we can achieve different results with the same higher-order function."
   ]
  },
  {
   "cell_type": "code",
   "execution_count": 19,
   "id": "43228a32",
   "metadata": {},
   "outputs": [
    {
     "name": "stdout",
     "output_type": "stream",
     "text": [
      "Result after applying the function to each element: [1, 4, 9, 16, 25]\n"
     ]
    }
   ],
   "source": [
    "#4. Create a Python function that takes a list of numbers and a function as arguments, applying the  function to each element in the list.\n",
    "def apply_function_to_list(lst, func):\n",
    "    return [func(x) for x in lst]\n",
    "def square(x):\n",
    "    return x * x\n",
    "numbers = [1, 2, 3, 4, 5]\n",
    "result = apply_function_to_list(numbers, square)\n",
    "print(\"Result after applying the function to each element:\", result)"
   ]
  },
  {
   "cell_type": "markdown",
   "id": "7013a884",
   "metadata": {},
   "source": [
    "# Built-in Functions"
   ]
  },
  {
   "cell_type": "code",
   "execution_count": 20,
   "id": "879f0d7d",
   "metadata": {},
   "outputs": [],
   "source": [
    "#1. Describe the role of built-in functions like `len()`, `max()`, and `min()` in Python.\n",
    "#Built-in functions like len(), max(), and min() in Python are used to perform common operations on data:\n",
    "#len(): Returns the length (number of items) of an object, such as a string, list, tuple, or dictionary.\n",
    "#max(): Returns the largest item in an iterable (e.g., a list, tuple) or the largest of two or more arguments.\n",
    "#min(): Returns the smallest item in an iterable or the smallest of two or more arguments."
   ]
  },
  {
   "cell_type": "code",
   "execution_count": 21,
   "id": "fe423789",
   "metadata": {
    "scrolled": false
   },
   "outputs": [
    {
     "name": "stdout",
     "output_type": "stream",
     "text": [
      "Doubled numbers: [2, 4, 6, 8, 10]\n"
     ]
    }
   ],
   "source": [
    "#2. Write a Python program that uses the `map()` function to apply a function to each element of a list.\n",
    "def anji(x):\n",
    "    return x * 2\n",
    "numbers = [1, 2, 3, 4, 5]\n",
    "doubled_numbers = map(anji, numbers)\n",
    "doubled_numbers_list = list(doubled_numbers)\n",
    "print(\"Doubled numbers:\", doubled_numbers_list)"
   ]
  },
  {
   "cell_type": "code",
   "execution_count": 22,
   "id": "ef9e4079",
   "metadata": {},
   "outputs": [],
   "source": [
    "#3. How does the `filter()` function work in Python, and when would you use it?\n",
    "#The filter() function in Python is used to filter elements from an iterable based on a specified condition.\n",
    "#It takes a function and an iterable as arguments. \n",
    "#The function is applied to each element in the iterable, and only elements for which the function returns True are included in the output.\n",
    "#use the filter() when you need to extract elements from a collection that satisfy a specific condition, offering a concise way to perform such filtering operations."
   ]
  },
  {
   "cell_type": "code",
   "execution_count": 24,
   "id": "2a15602e",
   "metadata": {},
   "outputs": [
    {
     "name": "stdout",
     "output_type": "stream",
     "text": [
      "Product of all elements: 120\n"
     ]
    }
   ],
   "source": [
    "#4. Create a Python program that uses the `reduce()` function to find the product of all elements in a list.\n",
    "from functools import reduce\n",
    "def multiply(x, y):\n",
    "    return x * y\n",
    "numbers = [1, 2, 3, 4, 5]\n",
    "product = reduce(multiply, numbers)\n",
    "print(\"Product of all elements:\", product)"
   ]
  },
  {
   "cell_type": "markdown",
   "id": "c286f2aa",
   "metadata": {},
   "source": [
    "# Function Documentation and Best Practices:"
   ]
  },
  {
   "cell_type": "code",
   "execution_count": 25,
   "id": "a366e638",
   "metadata": {},
   "outputs": [],
   "source": [
    "#1. Explain the purpose of docstrings in Python functions and how to write them.\n",
    "#documentation about the function's purpose, parameters, return values, and usage instructions. \n",
    "#They help developers and users understand how to use the function without needing to inspect its source code.\n",
    "#Docstrings are also used by tools like help() and documentation generators to automatically generate documentation.\n",
    "#To write a docstring in Python, you place a multi-line string (enclosed in triple quotes) as the first statement within the function's body\n",
    "def my_function(param1, param2):\n",
    "    \"\"\"\n",
    "    This function performs some operation.\n",
    "\n",
    "    Parameters:\n",
    "    param1 (type): Description of param1.\n",
    "    param2 (type): Description of param2.\n",
    "\n",
    "    Returns:\n",
    "    type: Description of the return value.\n",
    "    \"\"\"\n",
    "    # Function body goes here\n",
    "    pass\n"
   ]
  },
  {
   "cell_type": "code",
   "execution_count": 26,
   "id": "30fded40",
   "metadata": {},
   "outputs": [],
   "source": [
    "#2.Describe some best practices for naming functions and variables in Python, including naming conventions and guidelines.\n",
    "#1.Functions\n",
    "#Descriptive Names: Use names that clearly describe what the function does.\n",
    "#snake_case: Separate words with underscores.\n",
    "#Action Verbs: Use verbs for functions that perform actions.\n",
    "#Avoid Abbreviations: Except for well-known or standardized ones.\n",
    "#Be Unique: Ensure function names don't clash with built-in functions or libraries.\n",
    "#2.Variables\n",
    "#Descriptive Names: Clearly indicate the purpose or contents.\n",
    "#snake_case: Same convention as functions.\n",
    "#Meaningful Nouns: Use nouns or noun phrases for data variables.\n",
    "#Avoid Generic Names: Be specific.\n",
    "#Be Consistent: Maintain consistent naming conventions.\n",
    "#3.Additional Tips:\n",
    "#Use Comments: When necessary for clarity.\n",
    "#Follow PEP 8: Python's style guide.\n",
    "#Prefixes/Suffixes: Use them for categorization.\n",
    "#Refactor: Update names when necessary."
   ]
  },
  {
   "cell_type": "code",
   "execution_count": null,
   "id": "af773692",
   "metadata": {},
   "outputs": [],
   "source": []
  }
 ],
 "metadata": {
  "kernelspec": {
   "display_name": "Python 3 (ipykernel)",
   "language": "python",
   "name": "python3"
  },
  "language_info": {
   "codemirror_mode": {
    "name": "ipython",
    "version": 3
   },
   "file_extension": ".py",
   "mimetype": "text/x-python",
   "name": "python",
   "nbconvert_exporter": "python",
   "pygments_lexer": "ipython3",
   "version": "3.11.5"
  }
 },
 "nbformat": 4,
 "nbformat_minor": 5
}
