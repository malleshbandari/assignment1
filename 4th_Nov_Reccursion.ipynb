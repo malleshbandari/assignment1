{
 "cells": [
  {
   "cell_type": "code",
   "execution_count": 2,
   "id": "ea5a8faf",
   "metadata": {},
   "outputs": [
    {
     "name": "stdout",
     "output_type": "stream",
     "text": [
      "105\n"
     ]
    }
   ],
   "source": [
    "#7.Find the value of T(2) for the recurrence relation T(n) = 3T(n-1) + 12n, given that T(0)=5.\n",
    "\n",
    "\"\"\"Given:\n",
    "𝑇(0)=5T(0)=5\n",
    "Using the recurrence relation:\n",
    "𝑇(0)=3𝑇(0)+12×1=3×5+12=15+12=27\n",
    "T(2)=3T(1)+12×2=3×27+12×2=81+24=105\n",
    "T(2)=105.\"\"\"\n",
    "\n",
    "\n",
    "def T(n):\n",
    "    if n == 0:\n",
    "        return 5\n",
    "    else:\n",
    "        return 3 * T(n - 1) + 12 * n\n",
    "\n",
    "# Calculate T(2)\n",
    "result = T(2)\n",
    "print(result)"
   ]
  },
  {
   "cell_type": "code",
   "execution_count": 3,
   "id": "b2e05853",
   "metadata": {},
   "outputs": [
    {
     "name": "stdout",
     "output_type": "stream",
     "text": [
      "Solution for a: 50\n",
      "Solution for b: 33.219280948873624\n",
      "Solution for c: 50\n",
      "Solution for d: 16.609640474436812\n"
     ]
    }
   ],
   "source": [
    "\"\"\"\"2. Given a recurrence relation, solve it using the substitution method:\n",
    "a. T(n) = T(n-1) + c\n",
    "b. T(n) = 2T(n/2) + n\n",
    "c. T(n) = 2T(n/2) + c\n",
    "d. T(n) = T(n/2) + c\"\"\"\n",
    "\n",
    "import math\n",
    "\n",
    "# a. T(n) = T(n-1) + c\n",
    "def solve_a(n, c):\n",
    "    return c * n\n",
    "\n",
    "# b. T(n) = 2T(n/2) + n\n",
    "def solve_b(n):\n",
    "    return n * math.log2(n)\n",
    "\n",
    "# c. T(n) = 2T(n/2) + c\n",
    "def solve_c(n, c):\n",
    "    return c * n\n",
    "\n",
    "# d. T(n) = T(n/2) + c\n",
    "def solve_d(n, c):\n",
    "    return c * math.log2(n)\n",
    "\n",
    "# Test cases\n",
    "n = 10\n",
    "c = 5\n",
    "\n",
    "# a.\n",
    "print(\"Solution for a:\", solve_a(n, c))\n",
    "\n",
    "# b.\n",
    "print(\"Solution for b:\", solve_b(n))\n",
    "\n",
    "# c.\n",
    "print(\"Solution for c:\", solve_c(n, c))\n",
    "\n",
    "# d.\n",
    "print(\"Solution for d:\", solve_d(n, c))\n"
   ]
  },
  {
   "cell_type": "code",
   "execution_count": 6,
   "id": "c587763e",
   "metadata": {},
   "outputs": [
    {
     "name": "stdout",
     "output_type": "stream",
     "text": [
      "Solution for a: 31\n",
      "Solution for b: 32\n"
     ]
    }
   ],
   "source": [
    "\"\"\"3. Given a recurrence relation, solve it using the recursive tree approach:\n",
    "a. T(n) = 2T(n-1) +1\n",
    "b. T(n) = 2T(n/2) + n\"\"\"\n",
    "\n",
    "# Recursive tree approach for recurrence relation T(n) = 2T(n-1) + 1\n",
    "def solve_a(n):\n",
    "    if n == 0:\n",
    "        return 0\n",
    "    else:\n",
    "        return 2 * solve_a(n - 1) + 1\n",
    "\n",
    "# Test case\n",
    "n_a = 5\n",
    "result_a = solve_a(n_a)\n",
    "print(\"Solution for a:\", result_a)\n",
    "\n",
    "# Recursive tree approach for recurrence relation T(n) = 2T(n/2) + n\n",
    "def solve_b(n):\n",
    "    if n == 1:\n",
    "        return 1\n",
    "    else:\n",
    "        return 2 * solve_b(n // 2) + n\n",
    "\n",
    "# Test case\n",
    "n_b = 8\n",
    "result_b = solve_b(n_b)\n",
    "print(\"Solution for b:\", result_b)\n"
   ]
  },
  {
   "cell_type": "code",
   "execution_count": null,
   "id": "2c953455",
   "metadata": {},
   "outputs": [],
   "source": []
  }
 ],
 "metadata": {
  "kernelspec": {
   "display_name": "Python 3 (ipykernel)",
   "language": "python",
   "name": "python3"
  },
  "language_info": {
   "codemirror_mode": {
    "name": "ipython",
    "version": 3
   },
   "file_extension": ".py",
   "mimetype": "text/x-python",
   "name": "python",
   "nbconvert_exporter": "python",
   "pygments_lexer": "ipython3",
   "version": "3.11.5"
  }
 },
 "nbformat": 4,
 "nbformat_minor": 5
}
