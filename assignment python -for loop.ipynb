{
 "cells": [
  {
   "cell_type": "code",
   "execution_count": 2,
   "id": "806a69b6",
   "metadata": {},
   "outputs": [
    {
     "name": "stdout",
     "output_type": "stream",
     "text": [
      "1\n",
      "2\n",
      "3\n",
      "4\n",
      "5\n",
      "6\n",
      "7\n",
      "8\n",
      "9\n",
      "10\n"
     ]
    }
   ],
   "source": [
    "#1.Write a Python program to print the numbers from 1 to 10 using a `for` loop.\n",
    "a=range(1,11)\n",
    "for i in a:\n",
    "    print(i)"
   ]
  },
  {
   "cell_type": "code",
   "execution_count": 1,
   "id": "bb3223fe",
   "metadata": {},
   "outputs": [
    {
     "data": {
      "text/plain": [
       "55"
      ]
     },
     "execution_count": 1,
     "metadata": {},
     "output_type": "execute_result"
    }
   ],
   "source": [
    "#2.Create a program that calculates the sum of all numbers in a list using a `for` loop.\n",
    "def hima(a):\n",
    "    a3=0\n",
    "    for i in a:\n",
    "        a3+=i\n",
    "    return a3\n",
    "a=range(1,11)\n",
    "b=list(a)\n",
    "hima(b)"
   ]
  },
  {
   "cell_type": "code",
   "execution_count": 7,
   "id": "bd026451",
   "metadata": {},
   "outputs": [
    {
     "name": "stdout",
     "output_type": "stream",
     "text": [
      "iradnab hsellam"
     ]
    }
   ],
   "source": [
    "#3.Write a program to print the characters of a string in reverse order using a `for` loop.\n",
    "def treesa(c):\n",
    "    for i in reversed(c):\n",
    "        print(i,end='')\n",
    "c=\"mallesh bandari\"\n",
    "d=treesa(c)"
   ]
  },
  {
   "cell_type": "code",
   "execution_count": 8,
   "id": "36f48215",
   "metadata": {},
   "outputs": [
    {
     "name": "stdout",
     "output_type": "stream",
     "text": [
      "a\n",
      "m\n",
      "i\n",
      "h\n"
     ]
    }
   ],
   "source": [
    "b=\"hima\"\n",
    "for i in reversed(b):\n",
    "    print(i)"
   ]
  },
  {
   "cell_type": "code",
   "execution_count": 12,
   "id": "757d563c",
   "metadata": {},
   "outputs": [
    {
     "data": {
      "text/plain": [
       "6"
      ]
     },
     "execution_count": 12,
     "metadata": {},
     "output_type": "execute_result"
    }
   ],
   "source": [
    "#4.Develop a program that finds the factorial of a given number using a `for` loop.\n",
    "def anji(n):\n",
    "    a=1\n",
    "    for i in range(1,n+1):\n",
    "        a*=i\n",
    "    return a\n",
    "anji(3)"
   ]
  },
  {
   "cell_type": "code",
   "execution_count": 13,
   "id": "cf288d66",
   "metadata": {},
   "outputs": [
    {
     "name": "stdout",
     "output_type": "stream",
     "text": [
      "10 x 1 = 10\n",
      "10 x 2 = 20\n",
      "10 x 3 = 30\n",
      "10 x 4 = 40\n",
      "10 x 5 = 50\n",
      "10 x 6 = 60\n",
      "10 x 7 = 70\n",
      "10 x 8 = 80\n",
      "10 x 9 = 90\n",
      "10 x 10 = 100\n"
     ]
    }
   ],
   "source": [
    "#5.Create a program to print the multiplication table of a given number using a `for` loop.\n",
    "a=10\n",
    "for i in range(1,11):\n",
    "    print(a,\"x\",i,\"=\",i*a)"
   ]
  },
  {
   "cell_type": "code",
   "execution_count": 20,
   "id": "27f7a878",
   "metadata": {},
   "outputs": [
    {
     "name": "stdout",
     "output_type": "stream",
     "text": [
      "6\n",
      "5\n"
     ]
    }
   ],
   "source": [
    "#6.Write a program that counts the number of even and odd numbers in a list using a `for` loop.\n",
    "def laxmi(n):\n",
    "    a=0\n",
    "    b=0\n",
    "    for i in n:\n",
    "        if i%2==0:\n",
    "            a+=1\n",
    "        else:\n",
    "            b+=1\n",
    "    print(a)\n",
    "    print(b)\n",
    "c=[56,55,66,58,35,66,525,23,56,35,52]\n",
    "d=laxmi(c)"
   ]
  },
  {
   "cell_type": "code",
   "execution_count": 23,
   "id": "094d034b",
   "metadata": {},
   "outputs": [
    {
     "name": "stdout",
     "output_type": "stream",
     "text": [
      "1\n",
      "4\n",
      "9\n",
      "16\n",
      "25\n"
     ]
    }
   ],
   "source": [
    "#7.Develop a program that prints the squares of numbers from 1 to 5 using a `for` loop.\n",
    "a=range(1,6)\n",
    "for i in a:\n",
    "    print(i**2)"
   ]
  },
  {
   "cell_type": "code",
   "execution_count": 27,
   "id": "b9430d3a",
   "metadata": {},
   "outputs": [
    {
     "name": "stdout",
     "output_type": "stream",
     "text": [
      "15\n"
     ]
    }
   ],
   "source": [
    "#8.Create a program to find the length of a string without using the `len()` function.\n",
    "b=\"mallesh bandari\"\n",
    "k=0\n",
    "for i in b:\n",
    "    k+=1\n",
    "print(k)"
   ]
  },
  {
   "cell_type": "code",
   "execution_count": 41,
   "id": "2b9b7418",
   "metadata": {},
   "outputs": [
    {
     "name": "stdout",
     "output_type": "stream",
     "text": [
      "42.44444444444444\n"
     ]
    }
   ],
   "source": [
    "#9.Write a program that calculates the average of a list of numbers using a `for` loop.\n",
    "a1=[66,56,54,24,35,65,22,35,25]\n",
    "b=0\n",
    "for i in a1:\n",
    "    b+=i\n",
    "    c=b/len(a1)\n",
    "print(c)"
   ]
  },
  {
   "cell_type": "code",
   "execution_count": 6,
   "id": "2ab84cac",
   "metadata": {},
   "outputs": [
    {
     "name": "stdout",
     "output_type": "stream",
     "text": [
      "10 [0, 1, 1]\n",
      "10 [0, 1, 1, 2]\n",
      "10 [0, 1, 1, 2, 3]\n",
      "10 [0, 1, 1, 2, 3, 5]\n",
      "10 [0, 1, 1, 2, 3, 5, 8]\n",
      "10 [0, 1, 1, 2, 3, 5, 8, 13]\n",
      "10 [0, 1, 1, 2, 3, 5, 8, 13, 21]\n",
      "10 [0, 1, 1, 2, 3, 5, 8, 13, 21, 34]\n"
     ]
    }
   ],
   "source": [
    "#10.Develop a program that prints the first `n` Fibonacci numbers using a 'for' loop.\n",
    "def mahi(n):\n",
    "    a4=[0,1]\n",
    "    for i in range(2,n):\n",
    "        a4.append(a4[-1]+a4[-2])\n",
    "        print(n,a4)\n",
    "m=10\n",
    "mahi(m)"
   ]
  },
  {
   "cell_type": "code",
   "execution_count": 7,
   "id": "877820b5",
   "metadata": {},
   "outputs": [
    {
     "name": "stdout",
     "output_type": "stream",
     "text": [
      "the list contains duplicates\n"
     ]
    }
   ],
   "source": [
    "#11.Write a program to check if a given list contains any duplicates using a 'for' loop.\n",
    "def shiva(n):\n",
    "    b=set()\n",
    "    for i in n:\n",
    "        if i in b:\n",
    "            return True\n",
    "        b.add(i)\n",
    "    return False\n",
    "c=[15,55,54,56,24,15,65,45,254,45]\n",
    "if shiva(c):\n",
    "    print(\"the list contains duplicates\")\n",
    "else:\n",
    "    print(\"the list doesn't contians duplicates\")"
   ]
  },
  {
   "cell_type": "code",
   "execution_count": 3,
   "id": "0cebfb6f",
   "metadata": {},
   "outputs": [
    {
     "name": "stdout",
     "output_type": "stream",
     "text": [
      "10 50\n",
      "11 13 17 19 23 29 31 37 41 43 47 "
     ]
    }
   ],
   "source": [
    "#12.Create a program that prints the prime numbers in a given range using a `for` loop.\n",
    "def kavi(n):\n",
    "    if n < 2:\n",
    "        return False\n",
    "    for i in range(2, int(n**0.5) + 1):\n",
    "        if n % i == 0:\n",
    "            return False\n",
    "    return True\n",
    "def kaki(start, end):\n",
    "    print(10,50)\n",
    "    for n in range(start, end + 1):\n",
    "        if kavi(n):\n",
    "            print(n, end=' ')\n",
    "start_range = 10\n",
    "end_range = 50\n",
    "kaki(start_range,end_range)"
   ]
  },
  {
   "cell_type": "code",
   "execution_count": 12,
   "id": "eae718a8",
   "metadata": {},
   "outputs": [
    {
     "name": "stdout",
     "output_type": "stream",
     "text": [
      "5\n"
     ]
    }
   ],
   "source": [
    "#13.Develop a program that counts the number of vowels in a string using a `for` loop.\n",
    "def chandu(n):\n",
    "    c=0\n",
    "    b=\"aeiouAEIOU\"\n",
    "    for i in n:\n",
    "        if i in b:\n",
    "            c+=1\n",
    "    print(c)\n",
    "d=\"mallesh bandari\"  \n",
    "e=chandu(d)"
   ]
  },
  {
   "cell_type": "code",
   "execution_count": 1,
   "id": "f49a4634",
   "metadata": {},
   "outputs": [
    {
     "name": "stdout",
     "output_type": "stream",
     "text": [
      "252\n"
     ]
    }
   ],
   "source": [
    "#14.Write a program to find the maximum element in a 2D list using a nested `for` loop.\n",
    "def treesa(n):\n",
    "    l=[i for k in n for i in k]\n",
    "    m=max(l)\n",
    "    return m\n",
    "a=[[15,55,36,22],\n",
    "   [25,252,35,22],\n",
    "   [45,52,55,66]\n",
    "  ]\n",
    "b=treesa(a)\n",
    "print(b)"
   ]
  },
  {
   "cell_type": "code",
   "execution_count": 14,
   "id": "820ce87d",
   "metadata": {},
   "outputs": [
    {
     "name": "stdout",
     "output_type": "stream",
     "text": [
      "[55, 44, 35, 25, 55]\n"
     ]
    }
   ],
   "source": [
    "#15.Create a program that removes all occurrences of a specific element from a list using a `for` loop.\n",
    "def athira(a,b):\n",
    "    for i in a[:]:\n",
    "        if i==b:\n",
    "            a.remove(i)\n",
    "c=[22,22,55,44,35,25,22,55]\n",
    "e=22\n",
    "athira(c,e)\n",
    "print(c)"
   ]
  },
  {
   "cell_type": "code",
   "execution_count": 17,
   "id": "38ce42db",
   "metadata": {},
   "outputs": [
    {
     "name": "stdout",
     "output_type": "stream",
     "text": [
      "1x1=1\n",
      "1x2=2\n",
      "1x3=3\n",
      "1x4=4\n",
      "1x5=5\n",
      "1x6=6\n",
      "1x7=7\n",
      "1x8=8\n",
      "1x9=9\n",
      "1x10=10\n",
      "2x1=2\n",
      "2x2=4\n",
      "2x3=6\n",
      "2x4=8\n",
      "2x5=10\n",
      "2x6=12\n",
      "2x7=14\n",
      "2x8=16\n",
      "2x9=18\n",
      "2x10=20\n",
      "3x1=3\n",
      "3x2=6\n",
      "3x3=9\n",
      "3x4=12\n",
      "3x5=15\n",
      "3x6=18\n",
      "3x7=21\n",
      "3x8=24\n",
      "3x9=27\n",
      "3x10=30\n",
      "4x1=4\n",
      "4x2=8\n",
      "4x3=12\n",
      "4x4=16\n",
      "4x5=20\n",
      "4x6=24\n",
      "4x7=28\n",
      "4x8=32\n",
      "4x9=36\n",
      "4x10=40\n",
      "5x1=5\n",
      "5x2=10\n",
      "5x3=15\n",
      "5x4=20\n",
      "5x5=25\n",
      "5x6=30\n",
      "5x7=35\n",
      "5x8=40\n",
      "5x9=45\n",
      "5x10=50\n"
     ]
    }
   ],
   "source": [
    "#16.Develop a program that generates a multiplication table for numbers from 1 to 5 using a nested `for` loop.\n",
    "for i in range(1,5+1):\n",
    "    for j in range(1,11):\n",
    "        b=i*j\n",
    "        print(f\"{i}x{j}={b}\")"
   ]
  },
  {
   "cell_type": "code",
   "execution_count": 2,
   "id": "9e3bb6f8",
   "metadata": {},
   "outputs": [
    {
     "name": "stdout",
     "output_type": "stream",
     "text": [
      "7.222222222222222\n"
     ]
    }
   ],
   "source": [
    "#17.Write a program that converts a list of Fahrenheit temperatures to Celsius using a `for` loop.\n",
    "def anjali(n):\n",
    "    for i in n:\n",
    "        b=(i-32)*(5/9)\n",
    "    return b\n",
    "a=[25,15,66,55,35,45]\n",
    "b=anjali(a)\n",
    "print(b)"
   ]
  },
  {
   "cell_type": "code",
   "execution_count": 6,
   "id": "d9043fd3",
   "metadata": {},
   "outputs": [
    {
     "name": "stdout",
     "output_type": "stream",
     "text": [
      "[36, 36, 26, 35]\n"
     ]
    }
   ],
   "source": [
    "#18.Create a program to print the common elements from two lists using a `for` loop.\n",
    "def naksha(k,l):\n",
    "        c=[]\n",
    "        for i in k:\n",
    "            if i in l:\n",
    "                c.append(i)\n",
    "        return c          \n",
    "b1=[56,36,36,34,26,33,35]\n",
    "b2=[26,36,265,669,35,63,53]\n",
    "c=naksha(b1,b2)\n",
    "print(c)"
   ]
  },
  {
   "cell_type": "code",
   "execution_count": 21,
   "id": "dd7efc7d",
   "metadata": {},
   "outputs": [
    {
     "name": "stdout",
     "output_type": "stream",
     "text": [
      "*\n",
      "**\n",
      "***\n",
      "****\n",
      "*****\n",
      "******\n"
     ]
    }
   ],
   "source": [
    "#19.Develop a program that prints the pattern of right-angled triangles using a `for` loop. Use ‘*’ to draw the pattern.\n",
    "def devika(n):\n",
    "    for i in range(1,n+1):\n",
    "        for j in range(i):\n",
    "            print('*',end='')\n",
    "        print()\n",
    "devika(6)"
   ]
  },
  {
   "cell_type": "code",
   "execution_count": 23,
   "id": "be5393e7",
   "metadata": {},
   "outputs": [
    {
     "name": "stdout",
     "output_type": "stream",
     "text": [
      "20 35 5\n"
     ]
    }
   ],
   "source": [
    "#20.Write a program to find the greatest common divisor (GCD) of two numbers using a 'for'loop.\n",
    "def laxmi(a,b):\n",
    "    while b:\n",
    "        a,b=b,a%b\n",
    "    return a\n",
    "n1=20\n",
    "n2=35\n",
    "c=laxmi(n1,n2)\n",
    "print(n1,n2,c)"
   ]
  },
  {
   "cell_type": "code",
   "execution_count": 1,
   "id": "b5acdd29",
   "metadata": {},
   "outputs": [
    {
     "name": "stdout",
     "output_type": "stream",
     "text": [
      "{56} {11}\n",
      "{35} {8}\n",
      "{63} {9}\n",
      "{32} {5}\n"
     ]
    }
   ],
   "source": [
    "#21.Create a program that calculates the sum of the digits of numbers in a list using a list comprehension.\n",
    "def mallesh(n):\n",
    "    return sum(int(i) for i in str(n))\n",
    "b=[56,35,63,32]\n",
    "s=[mallesh(l) for l in b]\n",
    "for k in range(len(b)):\n",
    "    print({b[k]},{s[k]})"
   ]
  },
  {
   "cell_type": "code",
   "execution_count": 8,
   "id": "e986aaef",
   "metadata": {},
   "outputs": [
    {
     "name": "stdout",
     "output_type": "stream",
     "text": [
      "Prime factors of 61: [61]\n"
     ]
    }
   ],
   "source": [
    "#22.Write a program to find the prime factors of a given number using a `for` loop and list comprehension.\n",
    "def manju(n):\n",
    "    return [i for i in range(2, n + 1) if n % i == 0 and all(i % j != 0 for j in range(2,int(i**0.5)+1))]\n",
    "n=61\n",
    "m=manju(n)\n",
    "print(f\"Prime factors of {n}: {m}\")"
   ]
  },
  {
   "cell_type": "code",
   "execution_count": 1,
   "id": "b73ef363",
   "metadata": {},
   "outputs": [
    {
     "name": "stdout",
     "output_type": "stream",
     "text": [
      "[25, 25, 35, 31, 25, 23, 41, 52, 21, 35, 23]\n",
      "[31, 41, 52, 21]\n"
     ]
    }
   ],
   "source": [
    "#23.Develop a program that extracts unique elements from a list and stores them in a new list using a list comprehension.\n",
    "a=[25,25,35,31,25,23,41,52,21,35,23]\n",
    "b= [x for x in a if a.count(x) == 1]\n",
    "print(a)\n",
    "print(b)"
   ]
  },
  {
   "cell_type": "code",
   "execution_count": 3,
   "id": "a0bfbee8",
   "metadata": {},
   "outputs": [
    {
     "name": "stdout",
     "output_type": "stream",
     "text": [
      "Palindromic Numbers up to 500: [0, 1, 2, 3, 4, 5, 6, 7, 8, 9, 11, 22, 33, 44, 55, 66, 77, 88, 99, 101, 111, 121, 131, 141, 151, 161, 171, 181, 191, 202, 212, 222, 232, 242, 252, 262, 272, 282, 292, 303, 313, 323, 333, 343, 353, 363, 373, 383, 393, 404, 414, 424, 434, 444, 454, 464, 474, 484, 494]\n"
     ]
    }
   ],
   "source": [
    "#24.Create a program that generates a list of all palindromic numbers up to a specified limit using a list comprehension.\n",
    "a1=500\n",
    "b1=[k for k in range(a1+1) if str(k)==str(k)[::-1]]\n",
    "print(\"Palindromic Numbers up to {}: {}\".format(a1,b1))"
   ]
  },
  {
   "cell_type": "code",
   "execution_count": 2,
   "id": "8d654bdc",
   "metadata": {},
   "outputs": [
    {
     "name": "stdout",
     "output_type": "stream",
     "text": [
      "Nested List: [1, [2, 3, [4, 5]], 6, [7, [8, 9]]]\n",
      "Flattened List: [1, 2, 3, 4, 5, 6, 7, 8, 9]\n"
     ]
    }
   ],
   "source": [
    "#25.Write a program to flatten a nested list using list comprehension\n",
    "def flatten_nested_list(nested_list):\n",
    "    return [item for sublist in nested_list for item in (flatten_nested_list(sublist) if isinstance(sublist, list) else [sublist])]\n",
    "nested_list = [1, [2, 3, [4, 5]], 6, [7, [8, 9]]]\n",
    "flattened_list = flatten_nested_list(nested_list)\n",
    "print(\"Nested List:\", nested_list)\n",
    "print(\"Flattened List:\", flattened_list)"
   ]
  },
  {
   "cell_type": "code",
   "execution_count": 11,
   "id": "07015d7c",
   "metadata": {},
   "outputs": [
    {
     "name": "stdout",
     "output_type": "stream",
     "text": [
      "184\n",
      "237\n"
     ]
    }
   ],
   "source": [
    "#26.Develop a program that computes the sum of even and odd numbers in a list separately using list comprehension.\n",
    "a=[55,36,59,35,36,56,53,35,56]\n",
    "b=[i for i in a if i%2==0]\n",
    "c=[k for k in a if k%2!=0]\n",
    "d=sum(b)\n",
    "e=sum(c)\n",
    "print(d)\n",
    "print(e)"
   ]
  },
  {
   "cell_type": "code",
   "execution_count": 13,
   "id": "34ec8881",
   "metadata": {},
   "outputs": [
    {
     "name": "stdout",
     "output_type": "stream",
     "text": [
      "[1, 9, 25, 49, 81]\n"
     ]
    }
   ],
   "source": [
    "#27.Create a program that generates a list of squares of odd numbers between 1 and 10 using list comprehension.\n",
    "a2=range(1,11)\n",
    "a3=list(a2)\n",
    "a4=[k**2 for k in a3 if k%2!=0]\n",
    "print(a4)"
   ]
  },
  {
   "cell_type": "code",
   "execution_count": 6,
   "id": "8f3a010b",
   "metadata": {},
   "outputs": [
    {
     "name": "stdout",
     "output_type": "stream",
     "text": [
      "{26: 15, 55: 21, 52: 44, 35: 25}\n"
     ]
    }
   ],
   "source": [
    "#28.Write a program that combines two lists into a dictionary using list comprehension.\n",
    "a1=[26,55,52,35]\n",
    "a2=[15,21,44,25]\n",
    "a3={a1[i]:a2[i] for i in range(min(len(a1),len(a2)))}\n",
    "print(a3)"
   ]
  },
  {
   "cell_type": "code",
   "execution_count": 18,
   "id": "ea7ba6a5",
   "metadata": {},
   "outputs": [
    {
     "name": "stdout",
     "output_type": "stream",
     "text": [
      "['a', 'e', 'a', 'a', 'i', 'i', 'a', 'u', 'e', 'E', 'E', 'A', 'A', 'I']\n"
     ]
    }
   ],
   "source": [
    "#29.Develop a program that extracts the vowels from a string and stores them in a list using list comprehension.\n",
    "a5=\"mallesh bandari hima suresh TREESA LAXMI\"\n",
    "a6=\"aeiouAEIOU\"\n",
    "a4=[i for i in a5 if i in a6]\n",
    "print(a4)"
   ]
  },
  {
   "cell_type": "code",
   "execution_count": 19,
   "id": "8c9599d5",
   "metadata": {},
   "outputs": [
    {
     "name": "stdout",
     "output_type": "stream",
     "text": [
      "['mallesh123', 'hima143', 'teress391', 'mahi220']\n",
      "['123', '143', '391', '220']\n"
     ]
    }
   ],
   "source": [
    "#30.Create a program that removes all non-numeric characters from a list of strings using list comprehension.\n",
    "a7=[\"mallesh123\",\"hima143\",\"teress391\",\"mahi220\"]\n",
    "a8=[''.join(k for k in s if k.isdigit()) for s in a7]\n",
    "print(a7)\n",
    "print(a8)"
   ]
  },
  {
   "cell_type": "code",
   "execution_count": 5,
   "id": "4f7db289",
   "metadata": {},
   "outputs": [
    {
     "name": "stdout",
     "output_type": "stream",
     "text": [
      "Prime Numbers up to 50: [2, 3, 5, 7, 11, 13, 17, 19, 23, 29, 31, 37, 41, 43, 47]\n"
     ]
    }
   ],
   "source": [
    "#31.Write a program to generate a list of prime numbers using the Sieve of Eratosthenes algorithm and list comprehension.\n",
    "def nani(n):\n",
    "    s=[True] * (n + 1)\n",
    "    for i in range(2, int(n**0.5) + 1):\n",
    "        if s[i]:\n",
    "            s[i*i:n+1:i] = [False] * len(s[i*i:n+1:i])\n",
    "    return [num for num in range(2, n + 1) if s[num]]\n",
    "l=50\n",
    "p=nani(limit)\n",
    "print(f\"Prime Numbers up to {l}: {p}\")\n"
   ]
  },
  {
   "cell_type": "code",
   "execution_count": 11,
   "id": "987d6ad2",
   "metadata": {},
   "outputs": [
    {
     "name": "stdout",
     "output_type": "stream",
     "text": [
      "[(3, 4, 5), (5, 12, 13), (6, 8, 10), (7, 24, 25), (8, 15, 17), (9, 12, 15), (12, 16, 20), (15, 20, 25)]\n"
     ]
    }
   ],
   "source": [
    "#32.Create a program that generates a list of all Pythagorean triplets up to a specified limit using list comprehension.\n",
    "l=25\n",
    "a8=[(a,b,c) for a in range(1,l+1) for b in range(a,l+1) for c in range(b,l+1) if a**2+b**2==c**2]\n",
    "print(a8)  "
   ]
  },
  {
   "cell_type": "code",
   "execution_count": 13,
   "id": "a016abf5",
   "metadata": {},
   "outputs": [
    {
     "name": "stdout",
     "output_type": "stream",
     "text": [
      "[(4, 2), (4, 7), (4, 6), (4, 5), (8, 2), (8, 7), (8, 6), (8, 5), (6, 2), (6, 7), (6, 6), (6, 5), (9, 2), (9, 7), (9, 6), (9, 5)]\n"
     ]
    }
   ],
   "source": [
    "#33.Develop a program that generates a list of all possible combinations of two lists using list comprehension.\n",
    "a3=[4,8,6,9]\n",
    "a4=[2,7,6,5]\n",
    "a5=[(i,k) for i in a3 for k in a4]\n",
    "print(a5)"
   ]
  },
  {
   "cell_type": "code",
   "execution_count": 8,
   "id": "0a9af020",
   "metadata": {},
   "outputs": [
    {
     "name": "stdout",
     "output_type": "stream",
     "text": [
      "List of Numbers: [1, 2, 3, 4, 5, 5, 6, 6, 7, 8]\n",
      "Mean: 4.7\n",
      "Median: 5.0\n",
      "Mode: 5\n"
     ]
    }
   ],
   "source": [
    "#34.Write a program that calculates the mean, median, and mode of a list of numbers using list comprehension.\n",
    "from statistics import mean, median, mode\n",
    "l=[1,2,3,4,5,5,6,6,7,8]\n",
    "mean=sum(l)/len(l)\n",
    "sort=sorted(l)\n",
    "md=(sort[len(sort)//2] + sort[(len(sort)-1)//2]) / 2\n",
    "mode=max(set(l), key=l.count)\n",
    "print(f\"List of Numbers: {l}\")\n",
    "print(f\"Mean: {mean}\")\n",
    "print(f\"Median: {md}\")\n",
    "print(f\"Mode: {mode}\")"
   ]
  },
  {
   "cell_type": "code",
   "execution_count": 1,
   "id": "88101d29",
   "metadata": {},
   "outputs": [
    {
     "name": "stdout",
     "output_type": "stream",
     "text": [
      "[1]\n",
      "[1, 1]\n",
      "[1, 1]\n",
      "[1, 1]\n",
      "[1, 1]\n"
     ]
    }
   ],
   "source": [
    "#35.Create a program that generates Pascal's triangle up to a specified number of rows using list comprehension.\n",
    "def ramu(rows):\n",
    "    triangle=[[1]+[sum(pair) for pair in zip(row, row[1:])]+[1] for row in [[1]]*(rows - 1)]\n",
    "    return [[1]] + triangle if rows > 0 else []\n",
    "n=5\n",
    "p=ramu(n)\n",
    "for i in p:\n",
    "    print(i)"
   ]
  },
  {
   "cell_type": "code",
   "execution_count": 3,
   "id": "e25d972e",
   "metadata": {},
   "outputs": [
    {
     "name": "stdout",
     "output_type": "stream",
     "text": [
      "Factorial of 1: 1, Sum of Digits: 1\n",
      "Factorial of 2: 2, Sum of Digits: 2\n",
      "Factorial of 3: 6, Sum of Digits: 6\n",
      "Factorial of 4: 24, Sum of Digits: 6\n",
      "Factorial of 5: 120, Sum of Digits: 3\n"
     ]
    }
   ],
   "source": [
    "#36.Develop a program that calculates the sum of the digits of a factorial of numbers from 1 to 5 using list comprehension.\n",
    "import math\n",
    "d=lambda n:sum(int(k) for k in str(n))\n",
    "f=[d(math.factorial(n)) for n in range(1, 6)]\n",
    "for n, l in zip(range(1, 6), f):\n",
    "    print(f\"Factorial of {n}: {math.factorial(n)}, Sum of Digits: {l}\")"
   ]
  },
  {
   "cell_type": "code",
   "execution_count": 13,
   "id": "498ad538",
   "metadata": {},
   "outputs": [
    {
     "name": "stdout",
     "output_type": "stream",
     "text": [
      "mallesh\n"
     ]
    }
   ],
   "source": [
    "#37.Write a program that finds the longest word in a sentence using list comprehension.\n",
    "a=\"mallesh bandari loves hima suresh\"\n",
    "b=max(a.split(),key=len)\n",
    "print(b)"
   ]
  },
  {
   "cell_type": "code",
   "execution_count": 3,
   "id": "991e2778",
   "metadata": {},
   "outputs": [
    {
     "name": "stdout",
     "output_type": "stream",
     "text": [
      "Original List:['hello', 'world', 'python', 'programming', 'list', 'comprehension']\n",
      "Filtered List (more than three vowels):['comprehension']\n"
     ]
    }
   ],
   "source": [
    "#38.Create a program that filters a list of strings to include only those with more than three vowels using list comprehension.\n",
    "s=[\"hello\", \"world\", \"python\", \"programming\", \"list\", \"comprehension\"]\n",
    "filter=[k for k in s if sum(1 for i in k.lower() if i in 'aeiou')>3]\n",
    "print(f\"Original List:{s}\")\n",
    "print(f\"Filtered List (more than three vowels):{filter}\")"
   ]
  },
  {
   "cell_type": "code",
   "execution_count": 2,
   "id": "f66c9dcc",
   "metadata": {},
   "outputs": [
    {
     "name": "stdout",
     "output_type": "stream",
     "text": [
      "Sum of Digits from 1 to 1000: 13501\n"
     ]
    }
   ],
   "source": [
    "#39.Develop a program that calculates the sum of the digits of numbers from 1 to 1000 using list comprehension.\n",
    "s=sum(sum(int(l) for l in str(n)) for n in range(1, 1001))\n",
    "print(f\"Sum of Digits from 1 to 1000: {s}\")"
   ]
  },
  {
   "cell_type": "code",
   "execution_count": 1,
   "id": "f156fd62",
   "metadata": {},
   "outputs": [
    {
     "name": "stdout",
     "output_type": "stream",
     "text": [
      "Prime Palindromic Numbers: [11, 101, 131, 151, 181, 191, 313, 353, 373, 383, 727, 757, 787, 797, 919, 929]\n"
     ]
    }
   ],
   "source": [
    "#40.Write a program that generates a list of prime palindromic numbers using list comprehension.\n",
    "def chari(a):\n",
    "    return a>1 and all(a%i!=0 for i in range(2, int(a**0.5)+1))\n",
    "p=[k for k in range(10, 1000) if chari(k) and str(k)==str(k)[::-1]]\n",
    "print(f\"Prime Palindromic Numbers: {p}\")"
   ]
  },
  {
   "cell_type": "code",
   "execution_count": null,
   "id": "188a4528",
   "metadata": {},
   "outputs": [],
   "source": []
  },
  {
   "cell_type": "code",
   "execution_count": null,
   "id": "a5c4baa1",
   "metadata": {},
   "outputs": [],
   "source": []
  }
 ],
 "metadata": {
  "kernelspec": {
   "display_name": "Python 3 (ipykernel)",
   "language": "python",
   "name": "python3"
  },
  "language_info": {
   "codemirror_mode": {
    "name": "ipython",
    "version": 3
   },
   "file_extension": ".py",
   "mimetype": "text/x-python",
   "name": "python",
   "nbconvert_exporter": "python",
   "pygments_lexer": "ipython3",
   "version": "3.11.5"
  }
 },
 "nbformat": 4,
 "nbformat_minor": 5
}
