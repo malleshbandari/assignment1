{
 "cells": [
  {
   "cell_type": "code",
   "execution_count": 1,
   "id": "505038f0",
   "metadata": {},
   "outputs": [
    {
     "name": "stdout",
     "output_type": "stream",
     "text": [
      "Element appearing maximum number of times: 2\n"
     ]
    }
   ],
   "source": [
    "#Problem 1.Given an array of n numbers, give an algorithm which gives the element appearing maximum number of times?\n",
    "\n",
    "def find_max_frequency_element(arr):\n",
    "    frequency_map = {}\n",
    "    \n",
    "    # Count the frequency of each element\n",
    "    for num in arr:\n",
    "        if num in frequency_map:\n",
    "            frequency_map[num] += 1\n",
    "        else:\n",
    "            frequency_map[num] = 1\n",
    "    \n",
    "    max_frequency = 0\n",
    "    max_element = None\n",
    "    \n",
    "    # Find the element with maximum frequency\n",
    "    for key, value in frequency_map.items():\n",
    "        if value > max_frequency:\n",
    "            max_frequency = value\n",
    "            max_element = key\n",
    "    \n",
    "    return max_element\n",
    "\n",
    "# Example usage:\n",
    "arr = [1, 2, 3, 4, 5, 1, 2, 2, 2]\n",
    "print(\"Element appearing maximum number of times:\", find_max_frequency_element(arr))"
   ]
  },
  {
   "cell_type": "code",
   "execution_count": 2,
   "id": "0e045fce",
   "metadata": {},
   "outputs": [
    {
     "name": "stdout",
     "output_type": "stream",
     "text": [
      "Missing number: 5\n"
     ]
    }
   ],
   "source": [
    "\"\"\"Problem 2 : We are given a list of n-1 integers and these integers are in the range of 1 to n . There are no\n",
    "duplicates in the list. One of the integers is missing in the list. Give an algorithm to find that element Ex:\n",
    "[1,2,4,6,3,7,8] 5 is the missing num.\"\"\"\n",
    "\n",
    "def find_missing_number(arr):\n",
    "    n = len(arr) + 1\n",
    "    total_sum = (n * (n + 1)) // 2\n",
    "    arr_sum = sum(arr)\n",
    "    missing_number = total_sum - arr_sum\n",
    "    return missing_number\n",
    "\n",
    "# Example usage:\n",
    "arr = [1, 2, 4, 6, 3, 7, 8]\n",
    "print(\"Missing number:\", find_missing_number(arr))"
   ]
  },
  {
   "cell_type": "code",
   "execution_count": 3,
   "id": "7c280f0b",
   "metadata": {},
   "outputs": [
    {
     "name": "stdout",
     "output_type": "stream",
     "text": [
      "Number occurring odd number of times: 3\n"
     ]
    }
   ],
   "source": [
    "\"\"\"\"Problem 3 : Given an array of n positive numbers. All numbers occurs even number of times except 1 which\n",
    "occurs odd number of times. Find that number in O(n) time and O(1) space. Ex: [1,2,3,2,3,1,3]. 3 is repeats odd\n",
    "times.\"\"\"\n",
    "\n",
    "def find_odd_occurrence(arr):\n",
    "    result = 0\n",
    "    \n",
    "    # XOR all elements in the array\n",
    "    for num in arr:\n",
    "        result ^= num\n",
    "    \n",
    "    return result\n",
    "\n",
    "# Example usage:\n",
    "arr = [1, 2, 3, 2, 3, 1, 3]\n",
    "print(\"Number occurring odd number of times:\", find_odd_occurrence(arr))"
   ]
  },
  {
   "cell_type": "code",
   "execution_count": 4,
   "id": "c81bcd0c",
   "metadata": {},
   "outputs": [
    {
     "name": "stdout",
     "output_type": "stream",
     "text": [
      "Pair with sum 11 : (7, 4)\n"
     ]
    }
   ],
   "source": [
    "# Problem 4 : Given an array of n elements. Find two elements in the array such that their sum is equal to given element K.\n",
    "\n",
    "def find_pair_with_sum(arr, K):\n",
    "    num_set = set()\n",
    "    \n",
    "    for num in arr:\n",
    "        target = K - num\n",
    "        if target in num_set:\n",
    "            return num, target\n",
    "        num_set.add(num)\n",
    "    \n",
    "    return None  # No such pair found\n",
    "\n",
    "# Example usage:\n",
    "arr = [1, 4, 3, 7, 9, 2]\n",
    "K = 11\n",
    "pair = find_pair_with_sum(arr, K)\n",
    "if pair:\n",
    "    print(\"Pair with sum\", K, \":\", pair)\n",
    "else:\n",
    "    print(\"No pair found with sum\", K)"
   ]
  },
  {
   "cell_type": "code",
   "execution_count": 5,
   "id": "f69d91fa",
   "metadata": {},
   "outputs": [
    {
     "name": "stdout",
     "output_type": "stream",
     "text": [
      "Pair with sum closest to 0: (-80, 85)\n"
     ]
    }
   ],
   "source": [
    "#Problem 5 : Given an array of both positive and negative numbers, find two numbers such that their sum is closest to 0. Ex: [ 1 ,60 ,-10, 70, -80,85]. Ans : -80,85.\n",
    "\n",
    "def find_closest_to_zero(arr):\n",
    "    arr.sort()\n",
    "    left, right = 0, len(arr) - 1\n",
    "    min_sum = float('inf')\n",
    "    closest_pair = None\n",
    "    \n",
    "    while left < right:\n",
    "        current_sum = arr[left] + arr[right]\n",
    "        if abs(current_sum) < abs(min_sum):\n",
    "            min_sum = current_sum\n",
    "            closest_pair = (arr[left], arr[right])\n",
    "        if current_sum < 0:\n",
    "            left += 1\n",
    "        elif current_sum > 0:\n",
    "            right -= 1\n",
    "        else:\n",
    "            return closest_pair\n",
    "    \n",
    "    return closest_pair\n",
    "\n",
    "# Example usage:\n",
    "arr = [1, 60, -10, 70, -80, 85]\n",
    "pair = find_closest_to_zero(arr)\n",
    "print(\"Pair with sum closest to 0:\", pair)"
   ]
  },
  {
   "cell_type": "code",
   "execution_count": 6,
   "id": "173561c8",
   "metadata": {},
   "outputs": [
    {
     "name": "stdout",
     "output_type": "stream",
     "text": [
      "Triplet with sum 22 : (4, 8, 10)\n"
     ]
    }
   ],
   "source": [
    "#Problem 6 : Given an array of n elements . Find three elements such that their sum is equal to the given number.\n",
    "\n",
    "def find_triplet_with_sum(arr, target):\n",
    "    arr.sort()\n",
    "    n = len(arr)\n",
    "    \n",
    "    for i in range(n - 2):\n",
    "        left, right = i + 1, n - 1\n",
    "        \n",
    "        while left < right:\n",
    "            current_sum = arr[i] + arr[left] + arr[right]\n",
    "            if current_sum == target:\n",
    "                return arr[i], arr[left], arr[right]\n",
    "            elif current_sum < target:\n",
    "                left += 1\n",
    "            else:\n",
    "                right -= 1\n",
    "    \n",
    "    return None\n",
    "\n",
    "# Example usage:\n",
    "arr = [1, 4, 45, 6, 10, 8]\n",
    "target = 22\n",
    "triplet = find_triplet_with_sum(arr, target)\n",
    "if triplet:\n",
    "    print(\"Triplet with sum\", target, \":\", triplet)\n",
    "else:\n",
    "    print(\"No triplet found with sum\", target)"
   ]
  },
  {
   "cell_type": "code",
   "execution_count": 7,
   "id": "c6d744d2",
   "metadata": {},
   "outputs": [
    {
     "name": "stdout",
     "output_type": "stream",
     "text": [
      "Triplet (i, j, k) such that i*i + j*j = k*k: (3, 4, 5)\n"
     ]
    }
   ],
   "source": [
    "#Problem 7 : Given an array of n elements . Find three elements i, j, k in the array such that i * i + j * j = k*k.\n",
    "\n",
    "def find_triplet_with_squares(arr):\n",
    "    square_set = set()\n",
    "    n = len(arr)\n",
    "    \n",
    "    # Step 1: Square each element and store in a set\n",
    "    for num in arr:\n",
    "        square_set.add(num * num)\n",
    "    \n",
    "    # Step 2: Iterate through array for each pair (i, j)\n",
    "    for i in range(n):\n",
    "        for j in range(i + 1, n):\n",
    "            # Step 3: Check if sum of squares of i and j exists in the set\n",
    "            sum_of_squares = arr[i] * arr[i] + arr[j] * arr[j]\n",
    "            if sum_of_squares in square_set:\n",
    "                return arr[i], arr[j], int(sum_of_squares ** 0.5)  # Convert square root back to integer\n",
    "    \n",
    "    return None\n",
    "\n",
    "# Example usage:\n",
    "arr = [3, 1, 4, 6, 5]\n",
    "triplet = find_triplet_with_squares(arr)\n",
    "if triplet:\n",
    "    print(\"Triplet (i, j, k) such that i*i + j*j = k*k:\", triplet)\n",
    "else:\n",
    "    print(\"No such triplet found.\")"
   ]
  },
  {
   "cell_type": "code",
   "execution_count": 8,
   "id": "250dbbcb",
   "metadata": {},
   "outputs": [
    {
     "name": "stdout",
     "output_type": "stream",
     "text": [
      "Majority element: 4\n"
     ]
    }
   ],
   "source": [
    "#Problem 8 : An element is a majority if it appears more than n/2 times. Give an algorithm takes an array of n element as argument and identifies a majority (if it exists).\n",
    "\n",
    "def find_majority_element(arr):\n",
    "    candidate = None\n",
    "    count = 0\n",
    "    \n",
    "    # Step 1: Find potential candidate\n",
    "    for num in arr:\n",
    "        if count == 0:\n",
    "            candidate = num\n",
    "            count = 1\n",
    "        elif candidate == num:\n",
    "            count += 1\n",
    "        else:\n",
    "            count -= 1\n",
    "    \n",
    "    # Step 2: Verify if candidate is a majority element\n",
    "    count_candidate = arr.count(candidate)\n",
    "    if count_candidate > len(arr) // 2:\n",
    "        return candidate\n",
    "    else:\n",
    "        return None\n",
    "\n",
    "# Example usage:\n",
    "arr = [3, 3, 4, 2, 4, 4, 2, 4, 4]\n",
    "majority_element = find_majority_element(arr)\n",
    "if majority_element is not None:\n",
    "    print(\"Majority element:\", majority_element)\n",
    "else:\n",
    "    print(\"No majority element found.\")"
   ]
  },
  {
   "cell_type": "code",
   "execution_count": 9,
   "id": "d1be87f9",
   "metadata": {},
   "outputs": [
    {
     "name": "stdout",
     "output_type": "stream",
     "text": [
      "Row with maximum number of zeros: 2\n"
     ]
    }
   ],
   "source": [
    "#Problem 9 : Given n × n matrix, and in each row all 1’s are followed by 0’s. Find the row with the maximum number of 0’s.\n",
    "\n",
    "\n",
    "def find_max_zeros_row(matrix):\n",
    "    n = len(matrix)\n",
    "    row_index = 0\n",
    "    col_index = n - 1\n",
    "    max_zeros = 0\n",
    "    \n",
    "    # Start from top-right corner\n",
    "    while row_index < n and col_index >= 0:\n",
    "        if matrix[row_index][col_index] == 0:\n",
    "            max_zeros = row_index\n",
    "            col_index -= 1\n",
    "        else:\n",
    "            row_index += 1\n",
    "    \n",
    "    return max_zeros\n",
    "\n",
    "# Example usage:\n",
    "matrix = [\n",
    "    [1, 1, 1, 0],\n",
    "    [1, 1, 0, 0],\n",
    "    [1, 0, 0, 0],\n",
    "    [1, 1, 1, 1]\n",
    "]\n",
    "\n",
    "max_zeros_row = find_max_zeros_row(matrix)\n",
    "print(\"Row with maximum number of zeros:\", max_zeros_row)\n"
   ]
  },
  {
   "cell_type": "code",
   "execution_count": 10,
   "id": "b13eda7e",
   "metadata": {},
   "outputs": [
    {
     "name": "stdout",
     "output_type": "stream",
     "text": [
      "Sorted array: [0, 0, 0, 0, 0, 1, 1, 1, 1, 1, 2, 2]\n"
     ]
    }
   ],
   "source": [
    "\"\"\"Problem 10 : Sort an array of 0’s, 1’s and 2’s [or R’s, G’s and B’s]: Given an array A[] consisting of 0’s, 1’s and\n",
    "2’s, give an algorithm for sorting A[].The algorithm should put all 0’s first, then all 1’s and finally all 2’s at the\n",
    "end. Example Input = {0,1,1,0,1,2,1,2,0,0,0,1}, Output = {0,0,0,0,0,1,1,1,1,1,2,2}\"\"\"\n",
    "\n",
    "def sort_012(arr):\n",
    "    low = 0\n",
    "    mid = 0\n",
    "    high = len(arr) - 1\n",
    "    \n",
    "    while mid <= high:\n",
    "        if arr[mid] == 0:\n",
    "            arr[low], arr[mid] = arr[mid], arr[low]\n",
    "            low += 1\n",
    "            mid += 1\n",
    "        elif arr[mid] == 1:\n",
    "            mid += 1\n",
    "        else:  # arr[mid] == 2\n",
    "            arr[mid], arr[high] = arr[high], arr[mid]\n",
    "            high -= 1\n",
    "    \n",
    "    return arr\n",
    "\n",
    "# Example usage:\n",
    "arr = [0, 1, 1, 0, 1, 2, 1, 2, 0, 0, 0, 1]\n",
    "sorted_arr = sort_012(arr)\n",
    "print(\"Sorted array:\", sorted_arr)"
   ]
  },
  {
   "cell_type": "code",
   "execution_count": null,
   "id": "fbb90fa0",
   "metadata": {},
   "outputs": [],
   "source": []
  }
 ],
 "metadata": {
  "kernelspec": {
   "display_name": "Python 3 (ipykernel)",
   "language": "python",
   "name": "python3"
  },
  "language_info": {
   "codemirror_mode": {
    "name": "ipython",
    "version": 3
   },
   "file_extension": ".py",
   "mimetype": "text/x-python",
   "name": "python",
   "nbconvert_exporter": "python",
   "pygments_lexer": "ipython3",
   "version": "3.11.5"
  }
 },
 "nbformat": 4,
 "nbformat_minor": 5
}
