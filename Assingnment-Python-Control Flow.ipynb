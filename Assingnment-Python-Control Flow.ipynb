{
 "cells": [
  {
   "cell_type": "code",
   "execution_count": 1,
   "id": "5f9dc95a",
   "metadata": {},
   "outputs": [
    {
     "name": "stdout",
     "output_type": "stream",
     "text": [
      "this is the positive number\n"
     ]
    }
   ],
   "source": [
    "#1.Write a Python program to check if a given number is positive or negative.\n",
    "a=10\n",
    "if a>0:\n",
    "    print(\"this is the positive number\")\n",
    "else:\n",
    "    print(\"this is the negative number\")"
   ]
  },
  {
   "cell_type": "code",
   "execution_count": 3,
   "id": "2c9bef36",
   "metadata": {},
   "outputs": [
    {
     "name": "stdout",
     "output_type": "stream",
     "text": [
      "the person eligible for vote\n"
     ]
    }
   ],
   "source": [
    "#2.Create a program that determines if a person is eligible to vote based on their age.\n",
    "vote=18\n",
    "age=45\n",
    "if age>vote:\n",
    "    print(\"the person eligible for vote\")\n",
    "elif vote<age:\n",
    "    print(\"the person not eligible for vote\")\n",
    "else:\n",
    "    print(\"the person is minor\")"
   ]
  },
  {
   "cell_type": "code",
   "execution_count": 1,
   "id": "11479924",
   "metadata": {},
   "outputs": [
    {
     "name": "stdout",
     "output_type": "stream",
     "text": [
      "iam mallesh\n"
     ]
    }
   ],
   "source": [
    "#3.Develop a program to find the maximum of two numbers using if-else statements\n",
    "a=10\n",
    "b=15\n",
    "if a>b:\n",
    "    print(\"enjoy the party\")\n",
    "elif a==b:\n",
    "    prin(\"this the not correct\")\n",
    "elif a<b:\n",
    "    print(\"iam mallesh\")\n",
    "else:\n",
    "    print(\"this the correct\")"
   ]
  },
  {
   "cell_type": "code",
   "execution_count": 6,
   "id": "2ca5e1c5",
   "metadata": {},
   "outputs": [
    {
     "name": "stdout",
     "output_type": "stream",
     "text": [
      "2004\n",
      "The year is a leap year\n"
     ]
    }
   ],
   "source": [
    "#4.Write a Python script to classify a given year as a leap year or not.\n",
    "year=int(input()) \n",
    "if year%4==0 and year%100!= 0 or year%400==0: \n",
    "    print(\"The year is a leap year\") \n",
    "else: \n",
    "    print(\"The year isn't a leap year\")"
   ]
  },
  {
   "cell_type": "code",
   "execution_count": 5,
   "id": "40921e70",
   "metadata": {},
   "outputs": [
    {
     "name": "stdout",
     "output_type": "stream",
     "text": [
      "mallesh bandari\n",
      "the single character\n"
     ]
    }
   ],
   "source": [
    "#5.Create a program that checks whether a character is a vowel or a consonant.\n",
    "def rani(a):\n",
    "    b=\"aeiou\"\n",
    "    if a in b:\n",
    "        return f\"these all are vowels:{a}\"\n",
    "    else:\n",
    "        return f\"these all are consonants:{a}\"\n",
    "a3=input()\n",
    "if len(a3)==1:\n",
    "    c=rani(a3)\n",
    "    print(c)\n",
    "else:\n",
    "    print(\"the single character\")   "
   ]
  },
  {
   "cell_type": "code",
   "execution_count": 3,
   "id": "37db0f9c",
   "metadata": {},
   "outputs": [
    {
     "name": "stdout",
     "output_type": "stream",
     "text": [
      "21\n",
      "21,odd\n"
     ]
    }
   ],
   "source": [
    "#6.Implement a program to determine whether a given number is even or odd.\n",
    "def suresh(k):\n",
    "        if k%2==0:\n",
    "            return \"even\"\n",
    "        else:\n",
    "            return \"odd\"\n",
    "a=int(input())\n",
    "c=suresh(a)\n",
    "print(f\"{a},{c}\")"
   ]
  },
  {
   "cell_type": "code",
   "execution_count": 28,
   "id": "5df2354a",
   "metadata": {},
   "outputs": [
    {
     "name": "stdout",
     "output_type": "stream",
     "text": [
      "90\n",
      "90.0\n"
     ]
    }
   ],
   "source": [
    "#7.Write a Python function to calculate the absolute value of a number without using the `abs()` function.\n",
    "b1=float(input())\n",
    "if 0<b1 or 0>b1:\n",
    "    b=(b1**2)**0.5\n",
    "    print(b)"
   ]
  },
  {
   "cell_type": "code",
   "execution_count": 1,
   "id": "3991079f",
   "metadata": {},
   "outputs": [
    {
     "name": "stdout",
     "output_type": "stream",
     "text": [
      "enter a first number:24\n",
      "enter a second number:52\n",
      "enter a third number:21\n",
      "largest number:52\n"
     ]
    }
   ],
   "source": [
    "#8.Develop a program that determines the largest of three given numbers using if-else statements.\n",
    "def shaik(a1,a2,a3):\n",
    "    if a1>a2 and a1>a3:\n",
    "        return a1\n",
    "    elif a2>a1 and a2>a3:\n",
    "        return a2\n",
    "    else:\n",
    "        return a3\n",
    "a1=int(input(\"enter a first number:\"))\n",
    "a2=int(input(\"enter a second number:\"))\n",
    "a3=int(input(\"enter a third number:\"))\n",
    "largest=shaik(a1,a2,a3)\n",
    "print(f\"largest number:{largest}\")"
   ]
  },
  {
   "cell_type": "code",
   "execution_count": 6,
   "id": "6817a331",
   "metadata": {},
   "outputs": [
    {
     "name": "stdout",
     "output_type": "stream",
     "text": [
      "Enter a string: madam\n",
      "The string 'madam' is a palindrome.\n"
     ]
    }
   ],
   "source": [
    "#9.Create a program that checks if a given string is a palindrome\n",
    "def anji(n):\n",
    "    return n==n[::-1]\n",
    "a=input(\"Enter a string: \")\n",
    "if anji(a):\n",
    "    print(f\"The string '{a}' is a palindrome.\")\n",
    "else:\n",
    "    print(f\"The string '{a}' is not a palindrome.\")"
   ]
  },
  {
   "cell_type": "code",
   "execution_count": 8,
   "id": "5124085e",
   "metadata": {},
   "outputs": [
    {
     "name": "stdout",
     "output_type": "stream",
     "text": [
      "Enter the student's score: 42\n",
      "F\n"
     ]
    }
   ],
   "source": [
    "#10.Write a Python program to calculate the grade based on a student's score.\n",
    "def baba(n):\n",
    "    if n>=90:\n",
    "        return 'A'\n",
    "    elif n>=80:\n",
    "        return 'B'\n",
    "    elif n>=70:\n",
    "        return 'C'\n",
    "    elif n>=60:\n",
    "        return 'D'\n",
    "    else:\n",
    "        return 'F'\n",
    "a=float(input(\"Enter the student's score: \"))\n",
    "b=baba(a)\n",
    "print(b)"
   ]
  },
  {
   "cell_type": "code",
   "execution_count": null,
   "id": "6a050284",
   "metadata": {},
   "outputs": [],
   "source": [
    "#11.Write a program to find the largest among three numbers using nested if-else statements.\n",
    "def ramya(n1,n2,n3):\n",
    "    if n1>=n2:\n",
    "        if n1>=n3:\n",
    "            largest=n1\n",
    "        else:\n",
    "            largest=n3\n",
    "    else:\n",
    "        if n2>=n3:\n",
    "            largest=n2\n",
    "        else:\n",
    "            largest=n3\n",
    "    return largest\n",
    "        "
   ]
  },
  {
   "cell_type": "code",
   "execution_count": 2,
   "id": "fecf8258",
   "metadata": {},
   "outputs": [
    {
     "name": "stdout",
     "output_type": "stream",
     "text": [
      "enter a number one:6\n",
      "enter a number two:4\n",
      "enter a number three:6\n",
      "isosceles\n"
     ]
    }
   ],
   "source": [
    "#12.Implement a program to determine if a triangle is equilateral, isosceles, or scalene.\n",
    "def laxmi(s1,s2,s3):\n",
    "    if s1<=0 or s2<=0 or s3<=0:\n",
    "        return \"incorrect\"\n",
    "    elif s1==s2==s3:\n",
    "        return \"equaliteral\"\n",
    "    elif s1==s2 or s2==s3 or s1==s3:\n",
    "        return \"isosceles\"\n",
    "    else:\n",
    "        return \"invalid\"\n",
    "a1=int(input(\"enter a number one:\"))\n",
    "a2=int(input(\"enter a number two:\"))\n",
    "a3=int(input(\"enter a number three:\"))\n",
    "s=laxmi(a1,a2,a3)\n",
    "print(s)"
   ]
  },
  {
   "cell_type": "code",
   "execution_count": 6,
   "id": "e603cca3",
   "metadata": {},
   "outputs": [
    {
     "name": "stdout",
     "output_type": "stream",
     "text": [
      "enter a number:2000\n",
      "the year is both leap and century year\n"
     ]
    }
   ],
   "source": [
    "#13.Develop a program that checks if a year is a leap year and also if it is a century year.\n",
    "def remo(a):\n",
    "    if (a%4==0 and a%400==0 and a%100==0):\n",
    "        print(\"the year is both leap and century year\")\n",
    "    elif (a%4==0 and a%400==0) or a%100!=0:\n",
    "        print(\"this is the only leap year\")\n",
    "    else:\n",
    "        print(\"this is not leap year\")\n",
    "b=int(input(\"enter a number:\"))\n",
    "c=remo(b)"
   ]
  },
  {
   "cell_type": "code",
   "execution_count": 8,
   "id": "db43be88",
   "metadata": {},
   "outputs": [
    {
     "name": "stdout",
     "output_type": "stream",
     "text": [
      "enter a number30\n",
      "this is the positive\n"
     ]
    }
   ],
   "source": [
    "#14.Write a Python script to determine if a number is positive, negative, or zero.\n",
    "def shashi(b):\n",
    "    if b>0:\n",
    "        print(\"this is the positive\")\n",
    "    elif b<0:\n",
    "        print(\"this is the negetive\")\n",
    "    else:\n",
    "        print(\"this is the zero\")\n",
    "a=int(input(\"enter a number\"))\n",
    "c=shashi(a)"
   ]
  },
  {
   "cell_type": "code",
   "execution_count": 12,
   "id": "86551271",
   "metadata": {},
   "outputs": [
    {
     "name": "stdout",
     "output_type": "stream",
     "text": [
      "enter the age:17\n",
      "he is a teenager\n"
     ]
    }
   ],
   "source": [
    "#15.Create a program to check if a person is a teenager (between 13 and 19 years old).\n",
    "def lalli(age):\n",
    "    if 13<=age<=19:\n",
    "        print(\"he is a teenager\")\n",
    "    else:\n",
    "        print(\"he is not a teenager\")\n",
    "age=int(input(\"enter the age:\"))\n",
    "d=lalli(age)"
   ]
  },
  {
   "cell_type": "code",
   "execution_count": 18,
   "id": "ad7c84bd",
   "metadata": {},
   "outputs": [
    {
     "name": "stdout",
     "output_type": "stream",
     "text": [
      "enter a number120\n",
      "this is the obtuse\n",
      "None\n"
     ]
    }
   ],
   "source": [
    "#16.Develop a program that determines the type of angle based on its measure (acute, obtuse, or right).\n",
    "def balu(k):\n",
    "    if 0<k<90:\n",
    "        print(\"this is the actuse angle\")\n",
    "    elif 90==k:\n",
    "        print(\"this is the right angle\")\n",
    "    elif 90<k<180:\n",
    "        print(\"this is the obtuse\")\n",
    "    else:\n",
    "        print(\"this is not find the angles\")\n",
    "a=int(input(\"enter a number\"))\n",
    "b=balu(a)\n",
    "print(b)"
   ]
  },
  {
   "cell_type": "code",
   "execution_count": 9,
   "id": "26a91737",
   "metadata": {},
   "outputs": [
    {
     "name": "stdout",
     "output_type": "stream",
     "text": [
      "6\n",
      "The day of the week is: Sunday\n"
     ]
    }
   ],
   "source": [
    "#17.Implement a program to determine the day of the week based on a user-provided number (1 for Monday, 2 for Tuesday, etc).\n",
    "weeks=[\"Monday\",\"Tuesday\",\"Wednesday\",\"Thursday\",\"Friday\",\"Saturday\",\"Sunday\"]\n",
    "user=int(input())\n",
    "print(f\"The day of the week is: {weeks[user]}\")"
   ]
  },
  {
   "cell_type": "code",
   "execution_count": 7,
   "id": "ed7c430f",
   "metadata": {},
   "outputs": [
    {
     "name": "stdout",
     "output_type": "stream",
     "text": [
      "Basic Calculator\n",
      "1. Addition\n",
      "2. Subtraction\n",
      "3. Multiplication\n",
      "4. Division\n",
      "Enter choice (1/2/3/4): 3\n",
      "Enter first number: 12\n",
      "Enter second number: 42\n",
      "12.0 * 42.0 = 504.0\n"
     ]
    }
   ],
   "source": [
    "#18.Create a program that simulates a basic calculator for addition, subtraction, multiplication, and division\n",
    "def add(x, y):\n",
    "    return x + y\n",
    "\n",
    "def subtract(x, y):\n",
    "    return x - y\n",
    "\n",
    "def multiply(x, y):\n",
    "    return x * y\n",
    "\n",
    "def divide(x, y):\n",
    "    if y != 0:\n",
    "        return x / y\n",
    "    else:\n",
    "        return \"Error: Division by zero\"\n",
    "\n",
    "def calculator():\n",
    "    print(\"Basic Calculator\")\n",
    "    print(\"1. Addition\")\n",
    "    print(\"2. Subtraction\")\n",
    "    print(\"3. Multiplication\")\n",
    "    print(\"4. Division\")\n",
    "\n",
    "    choice = input(\"Enter choice (1/2/3/4): \")\n",
    "\n",
    "    try:\n",
    "        num1 = float(input(\"Enter first number: \"))\n",
    "        num2 = float(input(\"Enter second number: \"))\n",
    "    except ValueError:\n",
    "        print(\"Invalid input. Please enter valid numbers.\")\n",
    "        return\n",
    "\n",
    "    if choice == '1':\n",
    "        result = add(num1, num2)\n",
    "        print(f\"{num1} + {num2} = {result}\")\n",
    "    elif choice == '2':\n",
    "        result = subtract(num1, num2)\n",
    "        print(f\"{num1} - {num2} = {result}\")\n",
    "    elif choice == '3':\n",
    "        result = multiply(num1, num2)\n",
    "        print(f\"{num1} * {num2} = {result}\")\n",
    "    elif choice == '4':\n",
    "        result = divide(num1, num2)\n",
    "        print(f\"{num1} / {num2} = {result}\")\n",
    "    else:\n",
    "        print(\"Invalid input. Please enter a valid choice (1/2/3/4).\")\n",
    "\n",
    "if __name__ == \"__main__\":\n",
    "    calculator()\n"
   ]
  },
  {
   "cell_type": "code",
   "execution_count": 27,
   "id": "e46b3eed",
   "metadata": {},
   "outputs": [
    {
     "name": "stdout",
     "output_type": "stream",
     "text": [
      "enter a number:8\n",
      "this is not a prime number\n"
     ]
    }
   ],
   "source": [
    "#19.Develop a program that checks if a given number is prime or not using nested if-else statements\n",
    "def hima(a):\n",
    "    if a<2:\n",
    "        print(\"these all are not prime number\")\n",
    "    else:\n",
    "        for i in range(2,int(a**0.5)+1):\n",
    "            if a%i==0:\n",
    "                print(\"this is not a prime number\")\n",
    "            else:\n",
    "                print(\"this is a prime number\")\n",
    "a=int(input(\"enter a number:\"))\n",
    "c=hima(a) "
   ]
  },
  {
   "cell_type": "code",
   "execution_count": 31,
   "id": "ab24ede6",
   "metadata": {},
   "outputs": [
    {
     "name": "stdout",
     "output_type": "stream",
     "text": [
      "enter a number:34\n",
      "all are fail\n"
     ]
    }
   ],
   "source": [
    "#20.Write a Python program to assign grades based on different ranges of scores using elif statements.\n",
    "a=int(input(\"enter a number:\"))\n",
    "if a>85:\n",
    "    print(\"out standing perfomance O\")\n",
    "elif a>75:\n",
    "    print(\"first class A+\")\n",
    "elif a>65:\n",
    "    print(\"second class B+\")\n",
    "elif a>55:\n",
    "    print(\"the last grade C\")\n",
    "elif a>35:\n",
    "    print(\"all are passed\")\n",
    "else:\n",
    "    print(\"all are fail\")"
   ]
  },
  {
   "cell_type": "code",
   "execution_count": 33,
   "id": "322a522f",
   "metadata": {},
   "outputs": [
    {
     "name": "stdout",
     "output_type": "stream",
     "text": [
      "enter a number:45\n",
      "enter a number:45\n",
      "enter a number:90\n",
      "isoseles triangle\n"
     ]
    }
   ],
   "source": [
    "#21.Implement a program to determine the type of a triangle based on its angles.\n",
    "def hima(a1,a2,a3):\n",
    "    if a1==a2==a3:\n",
    "        print(\"equivlateral triangle\")\n",
    "    elif a1==a2 or a1==a3:\n",
    "        print(\"isoseles triangle\")\n",
    "    else:\n",
    "        print(\"Scalene triangle\")\n",
    "a1=int(input(\"enter a number:\"))\n",
    "a2=int(input(\"enter a number:\"))\n",
    "a3=int(input(\"enter a number:\"))\n",
    "c=hima(a1,a2,a3)"
   ]
  },
  {
   "cell_type": "code",
   "execution_count": 35,
   "id": "9a752e68",
   "metadata": {},
   "outputs": [
    {
     "name": "stdout",
     "output_type": "stream",
     "text": [
      "enter a number:55\n",
      "it is obese\n"
     ]
    }
   ],
   "source": [
    "#22.Develop a program to categorize a given person's BMI into underweight, normal, overweight, or obese using elif statements\n",
    "def shiva(a1):\n",
    "    if a1>90:\n",
    "        print(\"it is overweight\")\n",
    "    elif a2>80:\n",
    "        print(\"it is normal weight\")\n",
    "    elif a>70:\n",
    "        print(\"it is underweight\")\n",
    "    else:\n",
    "        print(\"it is obese\")\n",
    "a1=int(input(\"enter a number:\"))\n",
    "shiva(a1)"
   ]
  },
  {
   "cell_type": "code",
   "execution_count": 37,
   "id": "80271b8b",
   "metadata": {},
   "outputs": [
    {
     "name": "stdout",
     "output_type": "stream",
     "text": [
      "enter a number:-8\n",
      "all those numbers are negative\n"
     ]
    }
   ],
   "source": [
    "#23.Create a program that determines whether a given number is positive, negative, or zero using elif statements.\n",
    "def anjali(a):\n",
    "    if a>0:\n",
    "        print(\"all those numbers are positive\")\n",
    "    elif a<0:\n",
    "        print(\"all those numbers are negative\")\n",
    "    elif a==0:\n",
    "        print(\"this is the zero\")\n",
    "    else:\n",
    "        print(\"i love hima suresh\")\n",
    "        \n",
    "a=int(input(\"enter a number:\"))\n",
    "anjali(a)"
   ]
  },
  {
   "cell_type": "code",
   "execution_count": 3,
   "id": "df849ad7",
   "metadata": {},
   "outputs": [
    {
     "name": "stdout",
     "output_type": "stream",
     "text": [
      "enter a number:BANDARI hima\n",
      "special characters\n"
     ]
    }
   ],
   "source": [
    "#24.Write a Python script to determine the type of a character (uppercase, lowercase, or special) using elif statements.\n",
    "def mahi(a):\n",
    "    if a.isupper():\n",
    "        return \"upper case letters\"\n",
    "    elif a.islower():\n",
    "        return \"lower\"\n",
    "    else:\n",
    "        return \"special characters\"\n",
    "    \n",
    "    \n",
    "a=input(\"enter a number:\")\n",
    "b=mahi(a)\n",
    "print(b)\n",
    "        "
   ]
  },
  {
   "cell_type": "code",
   "execution_count": 6,
   "id": "24261106",
   "metadata": {},
   "outputs": [
    {
     "name": "stdout",
     "output_type": "stream",
     "text": [
      "enter a number:5000\n",
      "the discount is very high\n"
     ]
    }
   ],
   "source": [
    "#25.Implement a program to calculate the discounted price based on different purchase amounts using elif statements\n",
    "def mahi(a):\n",
    "    if a<200:\n",
    "        print(\"the discount price is 0.2\")\n",
    "    elif a<400:\n",
    "        print(\"the discount price is 0.4\")\n",
    "    elif a<500:\n",
    "        print(\"the discounted price is 0.5\")\n",
    "    elif a>1000:\n",
    "        print(\"the discount is very high\")\n",
    "    else:\n",
    "        print(\"there is no discount\")\n",
    "        \n",
    "        \n",
    "a=int(input(\"enter a number:\"))\n",
    "mahi(a)"
   ]
  },
  {
   "cell_type": "code",
   "execution_count": 12,
   "id": "2f726ae5",
   "metadata": {},
   "outputs": [
    {
     "name": "stdout",
     "output_type": "stream",
     "text": [
      "enter a number:5000\n",
      "based on the consumption\n"
     ]
    }
   ],
   "source": [
    "#26.Develop a program to calculate the electricity bill based on different consumption slabs using elif statements\n",
    "def chandu(consumption):\n",
    "    if consumption<30:\n",
    "        print('the electricity bill is 100')\n",
    "    elif consumption<50:\n",
    "        print(\"the consumption of electricity bill 150\")\n",
    "    elif consumption<70:\n",
    "        print(\"the consumption of electricity bill is 200\")\n",
    "    elif consumption<90:\n",
    "        print(\"the consumption of electricity bill is 250\")\n",
    "    else:\n",
    "        print(\"based on the consumption\")\n",
    "\n",
    "        \n",
    "        \n",
    "c=int(input(\"enter a number:\"))\n",
    "chandu(c)"
   ]
  },
  {
   "cell_type": "code",
   "execution_count": 13,
   "id": "f792149a",
   "metadata": {},
   "outputs": [
    {
     "name": "stdout",
     "output_type": "stream",
     "text": [
      "enter a number:45\n",
      "enter a number:120\n",
      "enter a number:135\n",
      "enter a number:60\n",
      "enter a number:90\n",
      "enter a number:120\n",
      "enter a number:75\n",
      "enter a number:75\n"
     ]
    },
    {
     "data": {
      "text/plain": [
       "'Quadrilateral'"
      ]
     },
     "execution_count": 13,
     "metadata": {},
     "output_type": "execute_result"
    }
   ],
   "source": [
    "#27.Create a program to determine the type of quadrilateral based on its angles and sides using elif statements.\n",
    "def anji(s1,s2,s3,s4,a1,a2,a3,a4):\n",
    "    if a1+a2+a3+a4!=360:\n",
    "        return \"the angles not quadralateral\"\n",
    "    if s1==s2==s3==s4:\n",
    "        if a1==a2==a3==a4:\n",
    "            return \"return square\"\n",
    "        else:\n",
    "            return \"rambus\"\n",
    "    elif (s1==s2 and s3==s4) or (s1==s2== s3!=s4) or (s1!=s2 and s3==s4):\n",
    "        return \"Rectangle\"\n",
    "    elif s1==s3 and s2==s4 and a1== a3== a2==a4 and a1!= 90:\n",
    "        return \"Parallelogram\"\n",
    "    else:\n",
    "        return \"Quadrilateral\"\n",
    "    \n",
    "    \n",
    "    \n",
    "s1=int(input(\"enter a number:\"))\n",
    "s2=int(input(\"enter a number:\"))\n",
    "s3=int(input(\"enter a number:\"))\n",
    "s4=int(input(\"enter a number:\"))\n",
    "a1=int(input(\"enter a number:\"))\n",
    "a2=int(input(\"enter a number:\"))\n",
    "a3=int(input(\"enter a number:\"))\n",
    "a4=int(input(\"enter a number:\"))\n",
    "\n",
    "anji(s1,s2,s3,s4,a1,a2,a3,a4)"
   ]
  },
  {
   "cell_type": "code",
   "execution_count": 15,
   "id": "8c2cdb15",
   "metadata": {},
   "outputs": [
    {
     "name": "stdout",
     "output_type": "stream",
     "text": [
      "Enter the month (1-12): 8\n",
      "The season for month 8 is Summer\n"
     ]
    }
   ],
   "source": [
    "#28.Write a Python script to determine the season based on a user-provided month using elif statements.\n",
    "def determine_season(month):\n",
    "    if 1 <= month <= 2 or month == 12:\n",
    "        return \"Winter\"\n",
    "    elif 3 <= month <= 5:\n",
    "        return \"Spring\"\n",
    "    elif 6 <= month <= 8:\n",
    "        return \"Summer\"\n",
    "    elif 9 <= month <= 11:\n",
    "        return \"Autumn\"\n",
    "    else:\n",
    "        return \"Invalid month\"\n",
    "month = int(input(\"Enter the month (1-12): \"))\n",
    "result = determine_season(month)\n",
    "print(f\"The season for month {month} is {result}\")"
   ]
  },
  {
   "cell_type": "code",
   "execution_count": 17,
   "id": "86b9a087",
   "metadata": {},
   "outputs": [
    {
     "name": "stdout",
     "output_type": "stream",
     "text": [
      "Enter the year: 2000\n",
      "Enter the month (1-12): 2\n",
      "The year 2000 is a leap year, and the month 2 has 29 days.\n"
     ]
    }
   ],
   "source": [
    "#29.Implement a program to determine the type of a year (leap or common) and month (30 or 31 days) using elif statements.\n",
    "def is_leap_year(year):\n",
    "    return (year % 4 == 0 and year % 100 != 0) or (year % 400 == 0)\n",
    "\n",
    "def determine_days_in_month(month):\n",
    "    if month == 2:\n",
    "        return 29 if is_leap_year(year) else 28\n",
    "    elif month in {4, 6, 9, 11}:\n",
    "        return 30\n",
    "    elif month in {1, 3, 5, 7, 8, 10, 12}:\n",
    "        return 31\n",
    "    else:\n",
    "        return -1\n",
    "    \n",
    "year = int(input(\"Enter the year: \"))\n",
    "month = int(input(\"Enter the month (1-12): \"))\n",
    "\n",
    "if 1 <= month <= 12:\n",
    "    leap_year_status = \"leap\" if is_leap_year(year) else \"common\"\n",
    "    days_in_month = determine_days_in_month(month)\n",
    "    if days_in_month == -1:\n",
    "        print(\"Invalid month. Please enter a number between 1 and 12.\")\n",
    "    else:\n",
    "        print(f\"The year {year} is a {leap_year_status} year, and the month {month} has {days_in_month} days.\")\n",
    "else:\n",
    "    print(\"Invalid month. Please enter a number between 1 and 12.\")\n"
   ]
  },
  {
   "cell_type": "code",
   "execution_count": 19,
   "id": "eb096a97",
   "metadata": {},
   "outputs": [
    {
     "name": "stdout",
     "output_type": "stream",
     "text": [
      "enter a number:0\n",
      "the number is zero\n"
     ]
    }
   ],
   "source": [
    "#30.Write a Python program that checks if a given number is positive, negative, or zero\n",
    "c=int(input(\"enter a number:\"))\n",
    "if c>0:\n",
    "    print(\"the numbers is positive\")\n",
    "elif c<0:\n",
    "    print(\"the number is negative\")\n",
    "else:\n",
    "    print(\"the number is zero\")"
   ]
  },
  {
   "cell_type": "code",
   "execution_count": 20,
   "id": "0b128e26",
   "metadata": {},
   "outputs": [
    {
     "name": "stdout",
     "output_type": "stream",
     "text": [
      "enter a number:16\n",
      "the person is under age\n"
     ]
    }
   ],
   "source": [
    "#31.Create a program to determine if a person is eligible to vote based on their age.\n",
    "def malli(a):\n",
    "    if a<18:\n",
    "        print('the person is under age')\n",
    "    elif a>18:\n",
    "        print(\"the person is above 18,the person eligble for vote\")\n",
    "    else:\n",
    "        print(\"the person is not eligble for vote\")\n",
    "        \n",
    "        \n",
    "b=int(input(\"enter a number:\"))\n",
    "malli(b)"
   ]
  },
  {
   "cell_type": "code",
   "execution_count": 27,
   "id": "aaa90ea2",
   "metadata": {},
   "outputs": [
    {
     "name": "stdout",
     "output_type": "stream",
     "text": [
      "enter a number:56\n",
      "enter a number:86\n",
      "86\n"
     ]
    }
   ],
   "source": [
    "#32.Write a program to find the maximum of two given numbers using conditional statements.\n",
    "a=int(input(\"enter a number:\"))\n",
    "b=int(input(\"enter a number:\"))\n",
    "if a>b:\n",
    "    max=a\n",
    "else:\n",
    "    max=b\n",
    "    \n",
    "print(max)"
   ]
  },
  {
   "cell_type": "code",
   "execution_count": 60,
   "id": "042920ac",
   "metadata": {},
   "outputs": [
    {
     "name": "stdout",
     "output_type": "stream",
     "text": [
      "enter a number:75\n",
      "the score is A\n"
     ]
    }
   ],
   "source": [
    "#33.Develop a program that calculates the grade of a student based on their exam score.\n",
    "a=int(input(\"enter a number:\"))\n",
    "if 90<=a<=100:\n",
    "    print(\"the score O\")\n",
    "elif 80<=a<=90:\n",
    "    print(\"the score is A+\")\n",
    "elif 70<=a<=80:\n",
    "    print(\"the score is A\")\n",
    "elif 60<=a<=70:\n",
    "    print(\"the score is B\")\n",
    "else:\n",
    "    print(\"below 60 all fail\")"
   ]
  },
  {
   "cell_type": "code",
   "execution_count": 39,
   "id": "b9343e9a",
   "metadata": {},
   "outputs": [
    {
     "name": "stdout",
     "output_type": "stream",
     "text": [
      "enter a number:2002\n",
      "this is not leap year 2002 \n"
     ]
    }
   ],
   "source": [
    "#34.Write a Python script to classify a given year as a leap year or not\n",
    "def leap(a):\n",
    "    if (a%4==0 or a%400==0) and (a%100!=0):\n",
    "        print(f\"the given year {a} is leap year\")\n",
    "    else:\n",
    "        print(f\"this is not leap year {a} \")\n",
    "        \n",
    "        \n",
    "b=int(input(\"enter a number:\"))\n",
    "leap(b)  "
   ]
  },
  {
   "cell_type": "code",
   "execution_count": 4,
   "id": "0c3201be",
   "metadata": {},
   "outputs": [
    {
     "name": "stdout",
     "output_type": "stream",
     "text": [
      "Enter the length of the first side: 90\n",
      "Enter the length of the second side: 45\n",
      "Enter the length of the third side: 45\n"
     ]
    },
    {
     "data": {
      "text/plain": [
       "'Isosceles triangle'"
      ]
     },
     "execution_count": 4,
     "metadata": {},
     "output_type": "execute_result"
    }
   ],
   "source": [
    "#35.Write a program to classify a triangle based on its sides' lengths.\n",
    "def classify_triangle(side1, side2, side3):\n",
    "    if side1 == side2 == side3:\n",
    "        return \"Equilateral triangle\"\n",
    "    elif side1 == side2 or side1 == side3 or side2 == side3:\n",
    "        return \"Isosceles triangle\"\n",
    "    else:\n",
    "        return \"Scalene triangle\"\n",
    "side1 = float(input(\"Enter the length of the first side: \"))\n",
    "side2 = float(input(\"Enter the length of the second side: \"))\n",
    "side3 = float(input(\"Enter the length of the third side: \"))\n",
    "classify_triangle(side1,side2,side3)"
   ]
  },
  {
   "cell_type": "code",
   "execution_count": 6,
   "id": "31a622f4",
   "metadata": {},
   "outputs": [
    {
     "name": "stdout",
     "output_type": "stream",
     "text": [
      "Enter the first number: 54\n",
      "Enter the second number: 636\n",
      "Enter the third number: 2625\n",
      "The largest number is: 2625.0\n"
     ]
    }
   ],
   "source": [
    "#36.Build a program that determines the largest of three given numbers.\n",
    "def find_largest_number(num1, num2, num3):\n",
    "    largest_number = num1\n",
    "    \n",
    "    if num2 > largest_number:\n",
    "        largest_number = num2\n",
    "    \n",
    "    if num3 > largest_number:\n",
    "        largest_number = num3\n",
    "    \n",
    "    return largest_number\n",
    "\n",
    "num1 = float(input(\"Enter the first number: \"))\n",
    "num2 = float(input(\"Enter the second number: \"))\n",
    "num3 = float(input(\"Enter the third number: \"))\n",
    "        \n",
    "largest_number = find_largest_number(num1, num2, num3)\n",
    "print(f\"The largest number is: {largest_number}\")"
   ]
  },
  {
   "cell_type": "code",
   "execution_count": 53,
   "id": "cc3de216",
   "metadata": {},
   "outputs": [
    {
     "name": "stdout",
     "output_type": "stream",
     "text": [
      "Enter a character: b\n",
      "b is a consonant.\n"
     ]
    }
   ],
   "source": [
    "#37.Develop a program that checks whether a character is a vowel or a consonant.\n",
    "char = input(\"Enter a character: \")\n",
    "if len(char) == 1:\n",
    "    if char.lower() in 'aeiou':\n",
    "        print(f\"{char} is a vowel.\")\n",
    "    else:\n",
    "        print(f\"{char} is a consonant.\")\n"
   ]
  },
  {
   "cell_type": "code",
   "execution_count": 8,
   "id": "1cb13cf4",
   "metadata": {},
   "outputs": [
    {
     "name": "stdout",
     "output_type": "stream",
     "text": [
      "Shopping Cart:\n",
      "Product1: $25 x 2\n",
      "\n",
      "Total Cost: $139.50\n",
      "Product2: $15 x 1\n",
      "\n",
      "Total Cost: $139.50\n",
      "Product3: $30 x 3\n",
      "\n",
      "Total Cost: $139.50\n"
     ]
    }
   ],
   "source": [
    "#38.Create a program to calculate the total cost of a shopping cart based on discounts.\n",
    "def calculate_total_cost(cart):\n",
    "    total_cost = sum(item[\"price\"] * item[\"quantity\"] for item in cart)\n",
    "    if total_cost >= 100:\n",
    "        total_cost *= 0.9 \n",
    "    elif total_cost >= 50:\n",
    "        total_cost *= 0.95  \n",
    "    return total_cost\n",
    "shopping_cart = [\n",
    "        {\"item\": \"Product1\", \"price\": 25, \"quantity\": 2},\n",
    "        {\"item\": \"Product2\", \"price\": 15, \"quantity\": 1},\n",
    "        {\"item\": \"Product3\", \"price\": 30, \"quantity\": 3}\n",
    "    ]\n",
    "\n",
    "total_cost = calculate_total_cost(shopping_cart)\n",
    "print(\"Shopping Cart:\")\n",
    "for item in shopping_cart:\n",
    "    print(f\"{item['item']}: ${item['price']} x {item['quantity']}\")\n",
    "    print(f\"\\nTotal Cost: ${total_cost:.2f}\")"
   ]
  },
  {
   "cell_type": "code",
   "execution_count": 57,
   "id": "3fc8afc2",
   "metadata": {},
   "outputs": [
    {
     "name": "stdout",
     "output_type": "stream",
     "text": [
      "enter anumber:5\n",
      "the given number is odd 5 \n"
     ]
    }
   ],
   "source": [
    "#39.Implement a program to determine whether a given number is even or odd.\n",
    "a=int(input(\"enter anumber:\"))\n",
    "if a%2==0:\n",
    "    print(f\"the given number is even {a} \")\n",
    "else:\n",
    "    print(f\"the given number is odd {a} \")"
   ]
  },
  {
   "cell_type": "code",
   "execution_count": 58,
   "id": "1710232f",
   "metadata": {},
   "outputs": [
    {
     "name": "stdout",
     "output_type": "stream",
     "text": [
      "enter a number:-8\n"
     ]
    },
    {
     "data": {
      "text/plain": [
       "8"
      ]
     },
     "execution_count": 58,
     "metadata": {},
     "output_type": "execute_result"
    }
   ],
   "source": [
    "#40.Write a Python function to calculate the absolute value of a number without using the `abs()` function.\n",
    "def laxmi(a):\n",
    "    if a>0:\n",
    "        return a\n",
    "    else:\n",
    "        return -a\n",
    "    \n",
    "b=int(input(\"enter a number:\"))\n",
    "laxmi(b)"
   ]
  },
  {
   "cell_type": "code",
   "execution_count": 9,
   "id": "ae1b3364",
   "metadata": {},
   "outputs": [
    {
     "data": {
      "text/plain": [
       "499.5"
      ]
     },
     "execution_count": 9,
     "metadata": {},
     "output_type": "execute_result"
    }
   ],
   "source": [
    "#41.Create a program to calculate the total cost of a shopping cart based on discounts.\n",
    "def price(cost):\n",
    "    d1 = 50\n",
    "    d2= 100\n",
    "    dp1 = 0.05\n",
    "    dp2 = 0.1 \n",
    "    if cost > d2:\n",
    "        d3 = cost * (1 - dp2)\n",
    "    elif cost > d1:\n",
    "        d3= cost * (1 - dp1)\n",
    "    else:\n",
    "        d3= cost\n",
    "    return d3\n",
    "total=555\n",
    "price(total)"
   ]
  },
  {
   "cell_type": "code",
   "execution_count": 10,
   "id": "86c22bc0",
   "metadata": {},
   "outputs": [
    {
     "name": "stdout",
     "output_type": "stream",
     "text": [
      "Enter the coefficient a: 8\n",
      "Enter the coefficient b: 6\n",
      "Enter the coefficient c: 2\n",
      "The roots of the quadratic equation are: ((-0.375+0.33071891388307384j), (-0.375-0.33071891388307384j))\n"
     ]
    }
   ],
   "source": [
    "#42.Write a program that calculates the roots of a quadratic equation.\n",
    "import cmath\n",
    "def quadratic_roots(a, b, c):\n",
    "    discriminant = cmath.sqrt(b**2 - 4*a*c)\n",
    "    root1 = (-b + discriminant) / (2 * a)\n",
    "    root2 = (-b - discriminant) / (2 * a)\n",
    "    return root1, root2\n",
    "if __name__ == \"__main__\":\n",
    "    a=float(input(\"Enter the coefficient a: \"))\n",
    "    b=float(input(\"Enter the coefficient b: \"))\n",
    "    c=float(input(\"Enter the coefficient c: \"))\n",
    "    roots = quadratic_roots(a, b, c)\n",
    "    print(f\"The roots of the quadratic equation are: {roots}\")"
   ]
  },
  {
   "cell_type": "code",
   "execution_count": 17,
   "id": "f245434f",
   "metadata": {},
   "outputs": [
    {
     "name": "stdout",
     "output_type": "stream",
     "text": [
      "Enter the day number (1-7): 7\n",
      "The day of the week is: Sunday\n"
     ]
    }
   ],
   "source": [
    "#43.Create a program that determines the day of the week based on the day number (1-7).\n",
    "def get_day_of_week(day_number):\n",
    "    days_of_week = [\"Monday\", \"Tuesday\", \"Wednesday\", \"Thursday\", \"Friday\", \"Saturday\", \"Sunday\"]\n",
    "    if 1 <= day_number <= 7:\n",
    "        return days_of_week[day_number-1]\n",
    "    else:\n",
    "        return \"Invalid day number. Please enter a number between 1 and 7.\"\n",
    "if __name__ == \"__main__\":\n",
    "    day_number = int(input(\"Enter the day number (1-7): \"))\n",
    "    day_of_week = get_day_of_week(day_number)\n",
    "    print(f\"The day of the week is: {day_of_week}\")\n"
   ]
  },
  {
   "cell_type": "code",
   "execution_count": 19,
   "id": "af34ff80",
   "metadata": {},
   "outputs": [
    {
     "data": {
      "text/plain": [
       "120"
      ]
     },
     "execution_count": 19,
     "metadata": {},
     "output_type": "execute_result"
    }
   ],
   "source": [
    "#44.Develop a program that calculates the factorial of a given number using recursion.\n",
    "def malli(a):\n",
    "    if a<=1:\n",
    "        return 1\n",
    "    else:\n",
    "        return (a)*malli(a-1)\n",
    "malli(5)\n",
    "        "
   ]
  },
  {
   "cell_type": "code",
   "execution_count": 20,
   "id": "c8755b0d",
   "metadata": {},
   "outputs": [
    {
     "name": "stdout",
     "output_type": "stream",
     "text": [
      "enter a number:8\n",
      "enter a number:6\n",
      "enter a number:2\n"
     ]
    },
    {
     "data": {
      "text/plain": [
       "8"
      ]
     },
     "execution_count": 20,
     "metadata": {},
     "output_type": "execute_result"
    }
   ],
   "source": [
    "#45.Write a program to find the largest among three numbers without using the `max()` function.\n",
    "def shiv(a,b,c):\n",
    "    if b<=a and c<=a:\n",
    "        return a\n",
    "    elif b<=c and c>=a:\n",
    "        return c\n",
    "    else:\n",
    "        return b\n",
    "a=int(input(\"enter a number:\"))\n",
    "b=int(input(\"enter a number:\"))\n",
    "c=int(input(\"enter a number:\"))\n",
    "shiv(a,b,c)"
   ]
  },
  {
   "cell_type": "code",
   "execution_count": 2,
   "id": "9156c2ef",
   "metadata": {},
   "outputs": [
    {
     "name": "stdout",
     "output_type": "stream",
     "text": [
      "\n",
      "ATM Menu:\n",
      "1. Check Balance\n",
      "2. Deposit Funds\n",
      "3. Withdraw Funds\n",
      "4. Exit\n",
      "Enter your choice (1-4): 3\n",
      "Enter the withdrawal amount: $700\n",
      "$700.0 withdrawn successfully.\n",
      "Your balance is $300.0\n",
      "\n",
      "ATM Menu:\n",
      "1. Check Balance\n",
      "2. Deposit Funds\n",
      "3. Withdraw Funds\n",
      "4. Exit\n",
      "Enter your choice (1-4): 2\n",
      "Enter the deposit amount: $9000\n",
      "$9000.0 deposited successfully.\n",
      "Your balance is $9300.0\n",
      "\n",
      "ATM Menu:\n",
      "1. Check Balance\n",
      "2. Deposit Funds\n",
      "3. Withdraw Funds\n",
      "4. Exit\n",
      "Enter your choice (1-4): 1\n",
      "Your balance is $9300.0\n",
      "\n",
      "ATM Menu:\n",
      "1. Check Balance\n",
      "2. Deposit Funds\n",
      "3. Withdraw Funds\n",
      "4. Exit\n",
      "Enter your choice (1-4): 4\n",
      "Thank you for using the ATM. Goodbye!\n"
     ]
    }
   ],
   "source": [
    "#46.Create a program that simulates a basic ATM transaction menu.\n",
    "class ATM:\n",
    "    def __init__(self, balance=1000):\n",
    "        self.balance = balance\n",
    "\n",
    "    def check_balance(self):\n",
    "        print(f\"Your balance is ${self.balance}\")\n",
    "\n",
    "    def deposit(self, amount):\n",
    "        self.balance += amount\n",
    "        print(f\"${amount} deposited successfully.\")\n",
    "        self.check_balance()\n",
    "\n",
    "    def withdraw(self, amount):\n",
    "        if amount <= self.balance:\n",
    "            self.balance -= amount\n",
    "            print(f\"${amount} withdrawn successfully.\")\n",
    "            self.check_balance()\n",
    "        else:\n",
    "            print(\"Insufficient funds!\")\n",
    "\n",
    "def main():\n",
    "    atm = ATM()\n",
    "\n",
    "    while True:\n",
    "        print(\"\\nATM Menu:\")\n",
    "        print(\"1. Check Balance\")\n",
    "        print(\"2. Deposit Funds\")\n",
    "        print(\"3. Withdraw Funds\")\n",
    "        print(\"4. Exit\")\n",
    "\n",
    "        choice = input(\"Enter your choice (1-4): \")\n",
    "\n",
    "        if choice == '1':\n",
    "            atm.check_balance()\n",
    "        elif choice == '2':\n",
    "            amount = float(input(\"Enter the deposit amount: $\"))\n",
    "            atm.deposit(amount)\n",
    "        elif choice == '3':\n",
    "            amount = float(input(\"Enter the withdrawal amount: $\"))\n",
    "            atm.withdraw(amount)\n",
    "        elif choice == '4':\n",
    "            print(\"Thank you for using the ATM. Goodbye!\")\n",
    "            break\n",
    "        else:\n",
    "            print(\"Invalid choice. Please enter a number between 1 and 4.\")\n",
    "\n",
    "if __name__ == \"__main__\":\n",
    "    main()"
   ]
  },
  {
   "cell_type": "code",
   "execution_count": 5,
   "id": "f7ee0e6d",
   "metadata": {},
   "outputs": [
    {
     "name": "stdout",
     "output_type": "stream",
     "text": [
      "enter a string:malayalam\n",
      "this is a polindrome\n"
     ]
    }
   ],
   "source": [
    "#47.Build a program that checks if a given string is a palindrome or not.\n",
    "a=input(\"enter a string:\")\n",
    "if a==a[::-1]:\n",
    "    print(\"this is a polindrome\")\n",
    "else:\n",
    "    print(\"this is not a polindrome\")"
   ]
  },
  {
   "cell_type": "code",
   "execution_count": 10,
   "id": "bff347f3",
   "metadata": {},
   "outputs": [
    {
     "name": "stdout",
     "output_type": "stream",
     "text": [
      "[27, 45, 55]\n",
      "42.333333333333336\n"
     ]
    }
   ],
   "source": [
    "#48.Write a program that calculates the average of a list of numbers, excluding the smallest and largest values\n",
    "def anjali(a):\n",
    "    a.sort()\n",
    "    a.remove(min(a))\n",
    "    a.remove(max(a))\n",
    "    print(a)\n",
    "    d=sum(a)/len(a)\n",
    "    return d\n",
    "k=[45,25,65,55,27]\n",
    "l=anjali(k)\n",
    "print(l)"
   ]
  },
  {
   "cell_type": "code",
   "execution_count": 11,
   "id": "77987497",
   "metadata": {},
   "outputs": [
    {
     "name": "stdout",
     "output_type": "stream",
     "text": [
      "enter a number:45\n"
     ]
    },
    {
     "data": {
      "text/plain": [
       "113.0"
      ]
     },
     "execution_count": 11,
     "metadata": {},
     "output_type": "execute_result"
    }
   ],
   "source": [
    "#49.Develop a program that converts a given temperature from Celsius to Fahrenheit.\n",
    "def laxmi(b):\n",
    "    a=b*(9/5)+32\n",
    "    return a\n",
    "c=int(input(\"enter a number:\"))\n",
    "laxmi(c)"
   ]
  },
  {
   "cell_type": "code",
   "execution_count": 1,
   "id": "e6bb4508",
   "metadata": {},
   "outputs": [
    {
     "name": "stdout",
     "output_type": "stream",
     "text": [
      "Enter the first number: 40\n",
      "Enter the operation (+, -, *, /): *\n",
      "Enter the second number: 6\n",
      "Result: 240.0\n"
     ]
    }
   ],
   "source": [
    "#50.Create a program that simulates a basic calculator for addition, subtraction, multiplication, and division.\n",
    "def calculator():\n",
    "    try:\n",
    "        num1 = float(input(\"Enter the first number: \"))\n",
    "        operation = input(\"Enter the operation (+, -, *, /): \")\n",
    "        num2 = float(input(\"Enter the second number: \"))\n",
    "        if operation == \"+\":\n",
    "            result = num1 + num2\n",
    "        elif operation == \"-\":\n",
    "            result = num1 - num2\n",
    "        elif operation == \"*\":\n",
    "            result = num1 * num2\n",
    "        elif operation == \"/\":\n",
    "            result = num1 / num2\n",
    "        else:\n",
    "            print(\"Invalid operation. Please enter +, -, *, or /.\")\n",
    "            return\n",
    "        print(f\"Result: {result}\")\n",
    "    except ValueError:\n",
    "        print(\"Invalid input. Please enter valid numbers.\")\n",
    "    except ZeroDivisionError:\n",
    "        print(\"Cannot divide by zero.\")\n",
    "    except Exception as e:\n",
    "        print(f\"Error: {e}\")\n",
    "if __name__ == \"__main__\":\n",
    "    calculator()"
   ]
  },
  {
   "cell_type": "code",
   "execution_count": 2,
   "id": "01741ad3",
   "metadata": {},
   "outputs": [
    {
     "name": "stdout",
     "output_type": "stream",
     "text": [
      "Enter the coefficient a: 42\n",
      "Enter the coefficient b: 25\n",
      "Enter the coefficient c: 32\n",
      "Enter the constant term d: 20\n",
      "Roots:\n",
      "Root 1: (-0.6151241646675404+0j)\n",
      "Root 2: (0.009943034714722507-0.8797944645266482j)\n",
      "Root 3: (0.009943034714722451+0.8797944645266483j)\n"
     ]
    }
   ],
   "source": [
    "#51.Write a program that determines the roots of a cubic equation using the Cardano formula.\n",
    "import cmath\n",
    "def cubic_roots(a, b, c, d):\n",
    "    delta0 = b**2 - 3 * a * c\n",
    "    delta1 = 2 * b**3 - 9 * a * b * c + 27 * a**2 * d\n",
    "    C = ((delta1 + cmath.sqrt(delta1**2 - 4 * delta0**3)) / 2)**(1/3)\n",
    "    if C!= 0:\n",
    "        x1 = (-1/(3*a)) * (b + C + delta0/C)\n",
    "    else:\n",
    "        x1 = -b / (3*a)\n",
    "    omega = (-1 + cmath.sqrt(3) * 1j) / 2\n",
    "    x2 = (-1/(3*a)) * (b + omega * C + delta0/(omega * C))\n",
    "    x3 = (-1/(3*a)) * (b + omega**2 * C + delta0/(omega**2 * C))\n",
    "    return x1, x2, x3\n",
    "a = float(input(\"Enter the coefficient a: \"))\n",
    "b = float(input(\"Enter the coefficient b: \"))\n",
    "c = float(input(\"Enter the coefficient c: \"))\n",
    "d = float(input(\"Enter the constant term d: \"))\n",
    "roots = cubic_roots(a, b, c, d)\n",
    "print(\"Roots:\")\n",
    "for i, root in enumerate(roots, start=1):\n",
    "    print(f\"Root {i}: {root}\")"
   ]
  },
  {
   "cell_type": "code",
   "execution_count": 5,
   "id": "51408ce3",
   "metadata": {},
   "outputs": [
    {
     "name": "stdout",
     "output_type": "stream",
     "text": [
      "Enter your annual income: 10000\n",
      "Your income tax is: $1000.00\n"
     ]
    }
   ],
   "source": [
    "#52.Create a program that calculates the income tax based on the user's income and tax brackets.\n",
    "def calculate_income_tax(income):\n",
    "    brackets = [10000, 30000, 70000, float('inf')]\n",
    "    rates = [0.1, 0.2, 0.3, 0.4]\n",
    "    tax = 0\n",
    "    previous_bracket=0\n",
    "    for i in range(len(brackets)):\n",
    "        if income <= brackets[i]:\n",
    "            tax += (income - previous_bracket) * rates[i]\n",
    "            break\n",
    "        else:\n",
    "            tax += (brackets[i] - previous_bracket) * rates[i]\n",
    "            previous_bracket = brackets[i]\n",
    "    return tax\n",
    "def main():\n",
    "    try:\n",
    "        income = float(input(\"Enter your annual income: \"))\n",
    "        tax = calculate_income_tax(income)\n",
    "        print(f\"Your income tax is: ${tax:.2f}\")\n",
    "\n",
    "    except ValueError:\n",
    "        print(\"Invalid input. Please enter a valid numeric income.\")\n",
    "\n",
    "if __name__ == \"__main__\":\n",
    "    main()\n"
   ]
  },
  {
   "cell_type": "code",
   "execution_count": 3,
   "id": "9bcbc848",
   "metadata": {},
   "outputs": [
    {
     "name": "stdout",
     "output_type": "stream",
     "text": [
      "Welcome to Rock-Paper-Scissors!\n",
      "Enter your choice (rock, paper, or scissors): paper\n",
      "\n",
      "You chose: paper\n",
      "Computer chose: paper\n",
      "It's a tie!\n",
      "Do you want to play again? (yes/no): yes\n",
      "Enter your choice (rock, paper, or scissors): rock\n",
      "\n",
      "You chose: rock\n",
      "Computer chose: scissors\n",
      "You win!\n",
      "Do you want to play again? (yes/no): no\n",
      "Thanks for playing! Goodbye!\n"
     ]
    }
   ],
   "source": [
    "#53.Write a program that simulates a rock-paper-scissors game against the computer.\n",
    "import random\n",
    "def play_game():\n",
    "    choices = ['rock', 'paper', 'scissors']\n",
    "    # Get user choice\n",
    "    user_choice = input(\"Enter your choice (rock, paper, or scissors): \").lower()\n",
    "    while user_choice not in choices:\n",
    "        print(\"Invalid choice. Please enter rock, paper, or scissors.\")\n",
    "        user_choice = input(\"Enter your choice (rock, paper, or scissors): \").lower()\n",
    "\n",
    "    # Get computer choice\n",
    "    computer_choice = random.choice(choices)\n",
    "\n",
    "    # Display choices\n",
    "    print(f\"\\nYou chose: {user_choice}\")\n",
    "    print(f\"Computer chose: {computer_choice}\")\n",
    "\n",
    "    # Determine the winner\n",
    "    if user_choice == computer_choice:\n",
    "        print(\"It's a tie!\")\n",
    "    elif (\n",
    "        (user_choice == 'rock' and computer_choice == 'scissors') or\n",
    "        (user_choice == 'paper' and computer_choice == 'rock') or\n",
    "        (user_choice == 'scissors' and computer_choice == 'paper')\n",
    "    ):\n",
    "        print(\"You win!\")\n",
    "    else:\n",
    "        print(\"Computer wins!\")\n",
    "\n",
    "if __name__ == \"__main__\":\n",
    "    print(\"Welcome to Rock-Paper-Scissors!\")\n",
    "    \n",
    "    while True:\n",
    "        play_game()\n",
    "\n",
    "        play_again = input(\"Do you want to play again? (yes/no): \").lower()\n",
    "        if play_again != 'yes':\n",
    "            print(\"Thanks for playing! Goodbye!\")\n",
    "            break"
   ]
  },
  {
   "cell_type": "code",
   "execution_count": 7,
   "id": "60027131",
   "metadata": {},
   "outputs": [
    {
     "name": "stdout",
     "output_type": "stream",
     "text": [
      "Enter the password length: mallesh123\n",
      "Invalid input. Please enter valid preferences.\n"
     ]
    }
   ],
   "source": [
    "#54.Develop a program that generates a random password based on user preferences (length, complexity).\n",
    "import random\n",
    "import string\n",
    "def generate_password(length, use_uppercase, use_digits, use_symbols):\n",
    "    characters = string.ascii_lowercase\n",
    "    if use_uppercase:\n",
    "        characters += string.ascii_uppercase\n",
    "    if use_digits:\n",
    "        characters += string.digits\n",
    "    if use_symbols:\n",
    "        characters += string.punctuation\n",
    "    if length < 1:\n",
    "        print(\"Password length should be at least 1.\")\n",
    "        return None\n",
    "    password = ''.join(random.choice(characters) for _ in range(length))\n",
    "    return password\n",
    "def get_user_input(prompt):\n",
    "    return input(prompt).lower() == 'yes'\n",
    "def main():\n",
    "    try:\n",
    "        length = int(input(\"Enter the password length: \"))\n",
    "        use_uppercase = get_user_input(\"Include uppercase letters? (yes/no): \")\n",
    "        use_digits = get_user_input(\"Include digits? (yes/no): \")\n",
    "        use_symbols = get_user_input(\"Include symbols? (yes/no): \")\n",
    "        password = generate_password(length, use_uppercase, use_digits, use_symbols)\n",
    "        if password:\n",
    "            print(f\"Generated Password: {password}\")\n",
    "    except ValueError:\n",
    "        print(\"Invalid input. Please enter valid preferences.\")\n",
    "if __name__ == \"__main__\":\n",
    "    main()"
   ]
  },
  {
   "cell_type": "code",
   "execution_count": 10,
   "id": "5d9df670",
   "metadata": {},
   "outputs": [
    {
     "name": "stdout",
     "output_type": "stream",
     "text": [
      "Welcome to the Adventure Game!\n",
      "You find yourself standing at a crossroad. Which path will you choose?\n",
      "\n",
      "Scenario 1:\n",
      "You encounter a dragon! What do you do?\n",
      "Choose an option:\n",
      "1. Fight the dragon\n",
      "2. Run away\n",
      "Enter the number of your choice: 1\n",
      "You bravely fight the dragon. It turns out to be friendly. You make a new friend!\n",
      "\n",
      "Scenario 2:\n",
      "You come across a mysterious cave. Do you enter?\n",
      "Choose an option:\n",
      "1. Enter the cave\n",
      "2. Keep walking\n",
      "Enter the number of your choice: 2\n",
      "You decide to keep walking. Who needs caves anyway?\n",
      "\n",
      "Thanks for playing the Adventure Game!\n"
     ]
    }
   ],
   "source": [
    "#55.Create a program that implements a simple text-based adventure game with branching scenarios.\n",
    "def make_choice(options):\n",
    "    print(\"Choose an option:\")\n",
    "    for i, option in enumerate(options, start=1):\n",
    "        print(f\"{i}. {option}\")\n",
    "\n",
    "    choice = int(input(\"Enter the number of your choice: \"))\n",
    "    while choice not in range(1, len(options) + 1):\n",
    "        print(\"Invalid choice. Please enter a valid option.\")\n",
    "        choice = int(input(\"Enter the number of your choice: \"))\n",
    "\n",
    "    return choice\n",
    "\n",
    "def introduction():\n",
    "    print(\"Welcome to the Adventure Game!\")\n",
    "    print(\"You find yourself standing at a crossroad. Which path will you choose?\")\n",
    "\n",
    "def main():\n",
    "    introduction()\n",
    "\n",
    "    # Scenario 1\n",
    "    print(\"\\nScenario 1:\")\n",
    "    print(\"You encounter a dragon! What do you do?\")\n",
    "    choice = make_choice([\"Fight the dragon\", \"Run away\"])\n",
    "    if choice == 1:\n",
    "        print(\"You bravely fight the dragon. It turns out to be friendly. You make a new friend!\")\n",
    "    else:\n",
    "        print(\"You run away from the dragon. It was just enjoying the sunlight. Missed an opportunity for a friend!\")\n",
    "\n",
    "    # Scenario 2\n",
    "    print(\"\\nScenario 2:\")\n",
    "    print(\"You come across a mysterious cave. Do you enter?\")\n",
    "    choice = make_choice([\"Enter the cave\", \"Keep walking\"])\n",
    "    if choice == 1:\n",
    "        print(\"You enter the cave and find a treasure chest. Congratulations! You're rich!\")\n",
    "    else:\n",
    "        print(\"You decide to keep walking. Who needs caves anyway?\")\n",
    "\n",
    "    # End of the game\n",
    "    print(\"\\nThanks for playing the Adventure Game!\")\n",
    "\n",
    "if __name__ == \"__main__\":\n",
    "    main()"
   ]
  },
  {
   "cell_type": "code",
   "execution_count": 12,
   "id": "b6a5f778",
   "metadata": {},
   "outputs": [
    {
     "name": "stdout",
     "output_type": "stream",
     "text": [
      "Enter the coefficient 'a': 6\n",
      "Enter the coefficient 'b': 4\n",
      "The solution for the linear equation 6.0x + 4.0 = 0 is x = -0.6666666666666666\n"
     ]
    }
   ],
   "source": [
    "#56.Build a program that solves a linear equation  for x, considering different cases.\n",
    "def solve_linear_equation(a, b):\n",
    "    if a == 0:\n",
    "        return \"No solution (for a=0, the equation is not linear)\"\n",
    "    x = -b / a\n",
    "    return f\"The solution for the linear equation {a}x + {b} = 0 is x = {x}\"\n",
    "def main():\n",
    "    try:\n",
    "        a = float(input(\"Enter the coefficient 'a': \"))\n",
    "        b = float(input(\"Enter the coefficient 'b': \"))\n",
    "        result = solve_linear_equation(a, b)\n",
    "        print(result)\n",
    "    except ValueError:\n",
    "        print(\"Invalid input. Please enter valid numeric coefficients.\")\n",
    "if __name__ == \"__main__\":\n",
    "    main()"
   ]
  },
  {
   "cell_type": "code",
   "execution_count": 13,
   "id": "677b2371",
   "metadata": {},
   "outputs": [
    {
     "name": "stdout",
     "output_type": "stream",
     "text": [
      "Welcome to the Quiz Game!\n",
      "\n",
      "Question 1: What is the capital of France?\n",
      "1. Paris\n",
      "2. Berlin\n",
      "3. London\n",
      "Enter the number of your answer: mallesh\n",
      "Wrong! The correct answer is Paris.\n",
      "\n",
      "Question 2: Which planet is known as the Red Planet?\n",
      "1. Venus\n",
      "2. Mars\n",
      "3. Jupiter\n",
      "Enter the number of your answer: Mars\n",
      "Correct!\n",
      "\n",
      "Question 3: What is the largest mammal in the world?\n",
      "1. Elephant\n",
      "2. Blue Whale\n",
      "3. Giraffe\n",
      "Enter the number of your answer: hima\n",
      "Wrong! The correct answer is Blue Whale.\n",
      "\n",
      "Your final score: 1/3\n"
     ]
    }
   ],
   "source": [
    "#57.Write a program that simulates a basic quiz game with multiple-choice questions and scoring.\n",
    "def quiz():\n",
    "    questions = [\n",
    "        {\n",
    "            'question': 'What is the capital of France?',\n",
    "            'options': ['Paris', 'Berlin', 'London'],\n",
    "            'correct_answer': 'Paris'\n",
    "        },\n",
    "        {\n",
    "            'question': 'Which planet is known as the Red Planet?',\n",
    "            'options': ['Venus', 'Mars', 'Jupiter'],\n",
    "            'correct_answer': 'Mars'\n",
    "        },\n",
    "        {\n",
    "            'question': 'What is the largest mammal in the world?',\n",
    "            'options': ['Elephant', 'Blue Whale', 'Giraffe'],\n",
    "            'correct_answer': 'Blue Whale'\n",
    "        }\n",
    "    ]\n",
    "\n",
    "    score = 0\n",
    "\n",
    "    for i, question in enumerate(questions, 1):\n",
    "        print(f\"\\nQuestion {i}: {question['question']}\")\n",
    "        for j, option in enumerate(question['options'], 1):\n",
    "            print(f\"{j}. {option}\")\n",
    "\n",
    "        user_answer = input(\"Enter the number of your answer: \").capitalize()\n",
    "\n",
    "        if user_answer == question['correct_answer']:\n",
    "            print(\"Correct!\")\n",
    "            score += 1\n",
    "        else:\n",
    "            print(f\"Wrong! The correct answer is {question['correct_answer']}.\")\n",
    "\n",
    "    print(f\"\\nYour final score: {score}/{len(questions)}\")\n",
    "\n",
    "if __name__ == \"__main__\":\n",
    "    print(\"Welcome to the Quiz Game!\")\n",
    "    quiz()\n"
   ]
  },
  {
   "cell_type": "code",
   "execution_count": 5,
   "id": "0c822df7",
   "metadata": {},
   "outputs": [
    {
     "name": "stdout",
     "output_type": "stream",
     "text": [
      "Enter a year: 11\n",
      "11 is a prime year.\n"
     ]
    }
   ],
   "source": [
    "#58.Develop a program that determines whether a given year is a prime number or not\n",
    "def is_prime(year):\n",
    "    if year <= 1:\n",
    "        return False\n",
    "    for i in range(2, int(year**0.5) + 1):\n",
    "        if year % i == 0:\n",
    "            return False\n",
    "    return True\n",
    "\n",
    "year = int(input(\"Enter a year: \"))\n",
    "if is_prime(year):\n",
    "    print(f\"{year} is a prime year.\")\n",
    "else:\n",
    "    print(f\"{year} is not a prime year.\")"
   ]
  },
  {
   "cell_type": "code",
   "execution_count": 7,
   "id": "5f154217",
   "metadata": {},
   "outputs": [
    {
     "name": "stdout",
     "output_type": "stream",
     "text": [
      "Enter the first number: 56\n",
      "Enter the second number: 46\n",
      "Enter the third number: 25\n",
      "Numbers in ascending order: (25.0, 46.0, 56.0)\n"
     ]
    }
   ],
   "source": [
    "#59.Create a program that sorts three numbers in ascending order using conditional statements.\n",
    "def sort_numbers(a, b, c):\n",
    "    if a <= b <= c:\n",
    "        return a, b, c\n",
    "    elif a <= c <= b:\n",
    "        return a, c, b\n",
    "    elif b <= a <= c:\n",
    "        return b, a, c\n",
    "    elif b <= c <= a:\n",
    "        return b, c, a\n",
    "    elif c <= a <= b:\n",
    "        return c, a, b\n",
    "    else:\n",
    "        return c, b, a\n",
    "num1 = float(input(\"Enter the first number: \"))\n",
    "num2 = float(input(\"Enter the second number: \"))\n",
    "num3 = float(input(\"Enter the third number: \"))\n",
    "sorted_numbers = sort_numbers(num1, num2, num3)\n",
    "print(\"Numbers in ascending order:\", sorted_numbers)"
   ]
  },
  {
   "cell_type": "code",
   "execution_count": 8,
   "id": "1b6efc37",
   "metadata": {},
   "outputs": [
    {
     "name": "stdout",
     "output_type": "stream",
     "text": [
      "Enter coefficient for x^0: 2\n",
      "Enter coefficient for x^1: 6\n",
      "Enter coefficient for x^2: 5\n",
      "Enter coefficient for x^3: 1\n",
      "Enter coefficient for x^4: 3\n",
      "Roots of the quartic equation: [-0.527397647866141 - 0.193668391474474*I, -0.527397647866141 + 0.193668391474474*I, 0.360730981199475 - 1.40779216684377*I, 0.360730981199475 + 1.40779216684377*I]\n"
     ]
    }
   ],
   "source": [
    "#60.Build a program that determines the roots of a quartic equation using numerical methods.\n",
    "import sympy as sp\n",
    "x = sp.symbols('x')\n",
    "coefficients = [float(input(f\"Enter coefficient for x^{4-i}: \")) for i in range(4, -1, -1)]\n",
    "quartic_equation = sum(c * x**i for i, c in enumerate(coefficients))\n",
    "roots = sp.solve(quartic_equation, x)\n",
    "print(\"Roots of the quartic equation:\", roots)"
   ]
  },
  {
   "cell_type": "code",
   "execution_count": 9,
   "id": "427e4d98",
   "metadata": {},
   "outputs": [
    {
     "name": "stdout",
     "output_type": "stream",
     "text": [
      "Enter your weight in kilograms: 54\n",
      "Enter your height in meters: 5\n",
      "Your BMI is: 2.16\n",
      "Health Recommendation: Underweight\n"
     ]
    }
   ],
   "source": [
    "#61.Write a program that calculates the BMI (Body Mass Index) and provides health recommendations based on the user's input.\n",
    "def calculate_bmi(weight, height):\n",
    "    return weight / (height ** 2)\n",
    "def get_health_recommendation(bmi):\n",
    "    if bmi < 18.5:\n",
    "        return \"Underweight\"\n",
    "    elif 18.5 <= bmi < 24.9:\n",
    "        return \"Normal weight\"\n",
    "    elif 25 <= bmi < 29.9:\n",
    "        return \"Overweight\"\n",
    "    else:\n",
    "        return \"Obese\"\n",
    "weight = float(input(\"Enter your weight in kilograms: \"))\n",
    "height = float(input(\"Enter your height in meters: \"))\n",
    "bmi = calculate_bmi(weight, height)\n",
    "health_recommendation = get_health_recommendation(bmi)\n",
    "print(f\"Your BMI is: {bmi:.2f}\")\n",
    "print(\"Health Recommendation:\", health_recommendation)   "
   ]
  },
  {
   "cell_type": "code",
   "execution_count": 10,
   "id": "e3f8a5a4",
   "metadata": {},
   "outputs": [
    {
     "name": "stdout",
     "output_type": "stream",
     "text": [
      "Enter your password: Mallesh123\n",
      "Password is valid.\n"
     ]
    }
   ],
   "source": [
    "#62.Develop a program that generates a random password based on user preferences (length, complexity).\n",
    "def is_valid_password(password):\n",
    "    if len(password)< 8:\n",
    "        return False\n",
    "    letters = any(char.isalpha() for char in password)\n",
    "    numbers = any(char.isdigit() for char in password)\n",
    "    return letters and numbers\n",
    "password = input(\"Enter your password: \")\n",
    "if is_valid_password(password):\n",
    "    print(\"Password is valid.\")\n",
    "else:\n",
    "    print(\"Password does not meet the complexity requirements.\")"
   ]
  },
  {
   "cell_type": "code",
   "execution_count": 3,
   "id": "eb7937a9",
   "metadata": {},
   "outputs": [
    {
     "name": "stdout",
     "output_type": "stream",
     "text": [
      "Matrix Addition and Subtraction\n",
      "\n",
      "Enter the first matrix:\n",
      "Enter the number of rows: 2\n",
      "Enter the number of columns: 2\n",
      "Enter element for row 1, column 1: 45\n",
      "Enter element for row 1, column 2: 54\n",
      "Enter element for row 2, column 1: 41\n",
      "Enter element for row 2, column 2: 57\n",
      "\n",
      "Enter the second matrix:\n",
      "Enter the number of rows: 2\n",
      "Enter the number of columns: 2\n",
      "Enter element for row 1, column 1: 44\n",
      "Enter element for row 1, column 2: 56\n",
      "Enter element for row 2, column 1: 24\n",
      "Enter element for row 2, column 2: 45\n",
      "\n",
      "Matrix Addition Result:\n",
      "[89.0, 110.0]\n",
      "[65.0, 102.0]\n",
      "\n",
      "Matrix Subtraction Result:\n",
      "[1.0, -2.0]\n",
      "[17.0, 12.0]\n"
     ]
    }
   ],
   "source": [
    "#63.Develop a program that performs matrix addition and subtraction based on user input.\n",
    "def matrix_addition(matrix1, matrix2):\n",
    "    result = [[matrix1[i][j] + matrix2[i][j] for j in range(len(matrix1[0]))] for i in range(len(matrix1))]\n",
    "    return result\n",
    "def matrix_subtraction(matrix1, matrix2):\n",
    "    result = [[matrix1[i][j] - matrix2[i][j] for j in range(len(matrix1[0]))] for i in range(len(matrix1))]\n",
    "    return result\n",
    "def print_matrix(matrix):\n",
    "    for row in matrix:\n",
    "        print(row)\n",
    "def input_matrix():\n",
    "    rows = int(input(\"Enter the number of rows: \"))\n",
    "    cols = int(input(\"Enter the number of columns: \"))\n",
    "    matrix = []\n",
    "    for i in range(rows):\n",
    "        row = [float(input(f\"Enter element for row {i+1}, column {j+1}: \")) for j in range(cols)]\n",
    "        matrix.append(row)\n",
    "    return matrix\n",
    "def main():\n",
    "    try:\n",
    "        print(\"Matrix Addition and Subtraction\")\n",
    "\n",
    "        print(\"\\nEnter the first matrix:\")\n",
    "        matrix1 = input_matrix()\n",
    "\n",
    "        print(\"\\nEnter the second matrix:\")\n",
    "        matrix2 = input_matrix()\n",
    "\n",
    "        # Check if matrices have the same dimensions for addition and subtraction\n",
    "        if len(matrix1) == len(matrix2) and len(matrix1[0]) == len(matrix2[0]):\n",
    "            # Perform matrix addition\n",
    "            sum_matrix = matrix_addition(matrix1, matrix2)\n",
    "\n",
    "            # Perform matrix subtraction\n",
    "            difference_matrix = matrix_subtraction(matrix1, matrix2)\n",
    "\n",
    "            # Display results\n",
    "            print(\"\\nMatrix Addition Result:\")\n",
    "            print_matrix(sum_matrix)\n",
    "\n",
    "            print(\"\\nMatrix Subtraction Result:\")\n",
    "            print_matrix(difference_matrix)\n",
    "        else:\n",
    "            print(\"Matrices must have the same dimensions for addition and subtraction.\")\n",
    "    except ValueError:\n",
    "        print(\"Please enter valid numeric values for matrix elements.\")\n",
    "\n",
    "if __name__ == \"__main__\":\n",
    "    main()\n"
   ]
  },
  {
   "cell_type": "code",
   "execution_count": 5,
   "id": "737890ec",
   "metadata": {},
   "outputs": [
    {
     "name": "stdout",
     "output_type": "stream",
     "text": [
      "Enter the first number: 23\n",
      "Enter the second number: 15\n",
      "The Greatest Common Divisor (GCD) of 23 and 15 is: 1\n"
     ]
    }
   ],
   "source": [
    "#64.Write a program that calculates the greatest common divisor (GCD) of two numbers using the Euclidean algorithm.\n",
    "def euclidean_gcd(a, b):\n",
    "    while b:\n",
    "        a, b = b, a % b\n",
    "    return a\n",
    "num1 = int(input(\"Enter the first number: \"))\n",
    "num2 = int(input(\"Enter the second number: \"))\n",
    "if num1 < 0 or num2 < 0:\n",
    "    print(\"Please enter non-negative numbers.\")\n",
    "gcd = euclidean_gcd(num1, num2)\n",
    "print(f\"The Greatest Common Divisor (GCD) of {num1} and {num2} is: {gcd}\")"
   ]
  },
  {
   "cell_type": "code",
   "execution_count": 5,
   "id": "bb9fdfbd",
   "metadata": {},
   "outputs": [
    {
     "name": "stdout",
     "output_type": "stream",
     "text": [
      "Enter dimensions of the first matrix (rows columns): 2 2\n",
      "Enter dimensions of the second matrix (rows columns): 3 3\n",
      "Enter elements of the first matrix:\n",
      "12\n",
      "16\n",
      "13\n",
      "25\n",
      "Enter elements of the second matrix:\n",
      "16\n",
      "24\n",
      "26\n",
      "32\n",
      "10\n",
      "20\n",
      "22\n",
      "30\n",
      "36\n",
      "Matrices cannot be multiplied.\n"
     ]
    }
   ],
   "source": [
    "#65.Build a program that performs matrix multiplication using nested loops and conditional statements.\n",
    "def matrix_multiplication(matrix1, matrix2):\n",
    "    rows1, cols1 = len(matrix1), len(matrix1[0])\n",
    "    rows2, cols2 = len(matrix2), len(matrix2[0])\n",
    "\n",
    "    # Check if matrices can be multiplied\n",
    "    if cols1 != rows2:\n",
    "        print(\"Matrices cannot be multiplied.\")\n",
    "        return None\n",
    "\n",
    "    # Initialize the result matrix with zeros\n",
    "    result = [[0 for _ in range(cols2)] for _ in range(rows1)]\n",
    "\n",
    "    # Perform matrix multiplication\n",
    "    for i in range(rows1):\n",
    "        for j in range(cols2):\n",
    "            for k in range(cols1):\n",
    "                result[i][j] += matrix1[i][k] * matrix2[k][j]\n",
    "\n",
    "    return result\n",
    "\n",
    "def print_matrix(matrix):\n",
    "    for row in matrix:\n",
    "        print(row)\n",
    "\n",
    "def main():\n",
    "    try:\n",
    "        # Input for the dimensions of the matrices\n",
    "        rows1, cols1 = map(int, input(\"Enter dimensions of the first matrix (rows columns): \").split())\n",
    "        rows2, cols2 = map(int, input(\"Enter dimensions of the second matrix (rows columns): \").split())\n",
    "\n",
    "        # Input for the first matrix\n",
    "        print(\"Enter elements of the first matrix:\")\n",
    "        matrix1 = [[float(input()) for _ in range(cols1)] for _ in range(rows1)]\n",
    "\n",
    "        # Input for the second matrix\n",
    "        print(\"Enter elements of the second matrix:\")\n",
    "        matrix2 = [[float(input()) for _ in range(cols2)] for _ in range(rows2)]\n",
    "\n",
    "        # Perform matrix multiplication\n",
    "        result_matrix = matrix_multiplication(matrix1, matrix2)\n",
    "\n",
    "        # Display the result \n",
    "        if result_matrix:\n",
    "            print(\"\\nMatrix Multiplication Result:\")\n",
    "            print_matrix(result_matrix)\n",
    "    except ValueError:\n",
    "        print(\"Please enter valid numeric values for matrix elements.\")\n",
    "\n",
    "if __name__ == \"__main__\":\n",
    "    main()"
   ]
  },
  {
   "cell_type": "code",
   "execution_count": null,
   "id": "eb0f0d14",
   "metadata": {},
   "outputs": [
    {
     "name": "stdout",
     "output_type": "stream",
     "text": [
      "  |   |  \n",
      "---------\n",
      "  |   |  \n",
      "---------\n",
      "  |   |  \n",
      "---------\n",
      "Enter your move (row column): 6 4\n",
      "Invalid input. Please enter row and column numbers.\n",
      "Enter your move (row column): 15 16 12 4\n",
      "Invalid input. Please enter row and column numbers.\n",
      "Enter your move (row column): 14 15 20 13 16 23\n",
      "Invalid input. Please enter row and column numbers.\n"
     ]
    }
   ],
   "source": [
    "#66.Create a program that simulates a basic text-based tic-tac-toe game against the computer.\n",
    "import random\n",
    "\n",
    "def print_board(board):\n",
    "    for row in board:\n",
    "        print(\" | \".join(row))\n",
    "        print(\"-\" * 9)\n",
    "\n",
    "def is_winner(board, player):\n",
    "    # Check rows, columns, and diagonals for a win\n",
    "    for row in board:\n",
    "        if all(cell == player for cell in row):\n",
    "            return True\n",
    "\n",
    "    for col in range(3):\n",
    "        if all(board[row][col] == player for row in range(3)):\n",
    "            return True\n",
    "\n",
    "    if all(board[i][i] == player for i in range(3)) or all(board[i][2-i] == player for i in range(3)):\n",
    "        return True\n",
    "\n",
    "    return False\n",
    "\n",
    "def is_board_full(board):\n",
    "    return all(cell != \" \" for row in board for cell in row)\n",
    "\n",
    "def get_available_moves(board):\n",
    "    return [(i, j) for i in range(3) for j in range(3) if board[i][j] == \" \"]\n",
    "\n",
    "def player_move(board):\n",
    "    try:\n",
    "        row, col = map(int, input(\"Enter your move (row column): \").split())\n",
    "        if board[row][col] == \" \":\n",
    "            return row, col\n",
    "        else:\n",
    "            print(\"Cell already taken. Try again.\")\n",
    "            return player_move(board)\n",
    "    except (ValueError, IndexError):\n",
    "        print(\"Invalid input. Please enter row and column numbers.\")\n",
    "        return player_move(board)\n",
    "\n",
    "def computer_move(board):\n",
    "    available_moves = get_available_moves(board)\n",
    "    return random.choice(available_moves)\n",
    "\n",
    "def main():\n",
    "    board = [[\" \" for _ in range(3)] for _ in range(3)]\n",
    "    player_symbol = \"X\"\n",
    "    computer_symbol = \"O\"\n",
    "\n",
    "    while True:\n",
    "        print_board(board)\n",
    "\n",
    "        # Player's move\n",
    "        player_row, player_col = player_move(board)\n",
    "        board[player_row][player_col] = player_symbol\n",
    "\n",
    "        # Check if the player wins\n",
    "        if is_winner(board, player_symbol):\n",
    "            print(\"Congratulations! You win!\")\n",
    "            break\n",
    "\n",
    "        # Check if the board is full (draw)\n",
    "        if is_board_full(board):\n",
    "            print(\"It's a draw!\")\n",
    "            break\n",
    "\n",
    "        # Computer's move\n",
    "        print(\"Computer's move:\")\n",
    "        computer_row, computer_col = computer_move(board)\n",
    "        board[computer_row][computer_col] = computer_symbol\n",
    "\n",
    "        # Check if the computer wins\n",
    "        if is_winner(board, computer_symbol):\n",
    "            print(\"Computer wins! Better luck next time.\")\n",
    "            break\n",
    "\n",
    "if __name__ == \"__main__\":\n",
    "    main()\n"
   ]
  },
  {
   "cell_type": "code",
   "execution_count": 3,
   "id": "b5258208",
   "metadata": {},
   "outputs": [
    {
     "name": "stdout",
     "output_type": "stream",
     "text": [
      "Enter the number of terms for Fibonacci series: 6\n",
      "Fibonacci series up to term 6:\n",
      "[0, 1, 1, 2, 3, 5]\n"
     ]
    }
   ],
   "source": [
    "#67.Write a program that generates Fibonacci numbers up to a specified term using iterative methods\n",
    "def generate_fibonacci(n):\n",
    "    fibonacci_numbers = [0, 1]\n",
    "\n",
    "    for _ in range(2, n):\n",
    "        next_number = fibonacci_numbers[-1] + fibonacci_numbers[-2]\n",
    "        fibonacci_numbers.append(next_number)\n",
    "\n",
    "    return fibonacci_numbers\n",
    "\n",
    "def main():\n",
    "    try:\n",
    "        term = int(input(\"Enter the number of terms for Fibonacci series: \"))\n",
    "        if term < 0:\n",
    "            print(\"Please enter a non-negative number.\")\n",
    "            return\n",
    "\n",
    "        fibonacci_series = generate_fibonacci(term)\n",
    "\n",
    "        print(f\"Fibonacci series up to term {term}:\")\n",
    "        print(fibonacci_series)\n",
    "    except ValueError:\n",
    "        print(\"Please enter a valid integer.\")\n",
    "\n",
    "if __name__ == \"__main__\":\n",
    "    main()\n"
   ]
  },
  {
   "cell_type": "code",
   "execution_count": 4,
   "id": "812fb1b8",
   "metadata": {},
   "outputs": [
    {
     "name": "stdout",
     "output_type": "stream",
     "text": [
      "Enter the value of n for the nth term of the Fibonacci sequence: 8\n",
      "The 8th term of the Fibonacci sequence is: 21\n"
     ]
    }
   ],
   "source": [
    "#68.Develop a program that calculates the nth term of the Fibonacci sequence using memoization.\n",
    "def fibonacci(n, memo={}):\n",
    "    if n <= 1:\n",
    "        return n\n",
    "\n",
    "    if n not in memo:\n",
    "        memo[n] = fibonacci(n-1, memo) + fibonacci(n-2, memo)\n",
    "\n",
    "    return memo[n]\n",
    "\n",
    "def main():\n",
    "    try:\n",
    "        term = int(input(\"Enter the value of n for the nth term of the Fibonacci sequence: \"))\n",
    "        if term < 0:\n",
    "            print(\"Please enter a non-negative number.\")\n",
    "            return\n",
    "\n",
    "        result = fibonacci(term)\n",
    "\n",
    "        print(f\"The {term}th term of the Fibonacci sequence is: {result}\")\n",
    "    except ValueError:\n",
    "        print(\"Please enter a valid integer.\")\n",
    "\n",
    "if __name__ == \"__main__\":\n",
    "    main()"
   ]
  },
  {
   "cell_type": "code",
   "execution_count": 5,
   "id": "130fd3d2",
   "metadata": {},
   "outputs": [
    {
     "name": "stdout",
     "output_type": "stream",
     "text": [
      "Enter the year: 2000\n",
      "Enter the month (1-12): 6\n",
      "Calendar for June 2000\n",
      " Mo Tu We Th Fr Sa Su\n",
      "             1   2   3   4  \n",
      " 5   6   7   8   9  10  11  \n",
      "12  13  14  15  16  17  18  \n",
      "19  20  21  22  23  24  25  \n",
      "26  27  28  29  30          \n"
     ]
    }
   ],
   "source": [
    "#69.Create a program that generates a calendar for a given month and year using conditional statements.\n",
    "import calendar\n",
    "def generate_calendar(year, month):\n",
    "    cal = calendar.monthcalendar(year, month)\n",
    "    print(f\"Calendar for {calendar.month_name[month]} {year}\")\n",
    "    print(\" Mo Tu We Th Fr Sa Su\")\n",
    "    for week in cal:\n",
    "        for day in week:\n",
    "            if day == 0:\n",
    "                print(\"   \", end=\" \")\n",
    "            else:\n",
    "                print(f\"{day:2} \", end=\" \")\n",
    "        print()\n",
    "def main():\n",
    "    try:\n",
    "        year = int(input(\"Enter the year: \"))\n",
    "        month = int(input(\"Enter the month (1-12): \"))\n",
    "        if 1 <= month <= 12:\n",
    "            generate_calendar(year, month)\n",
    "        else:\n",
    "            print(\"Please enter a valid month (1-12).\")\n",
    "    except ValueError:\n",
    "        print(\"Please enter valid integer values.\")\n",
    "if __name__ == \"__main__\":\n",
    "    main()"
   ]
  },
  {
   "cell_type": "code",
   "execution_count": 6,
   "id": "c11cd8ea",
   "metadata": {},
   "outputs": [
    {
     "name": "stdout",
     "output_type": "stream",
     "text": [
      "Welcome to Blackjack!\n",
      "Your cards: [8, 8], current score: 16\n",
      "Computer's first card: 10\n",
      "Type 'y' to get another card, 'n' to pass: 6\n",
      "Your final hand: [8, 8], final score: 16\n",
      "Computer's final hand: [10, 10], final score: 20\n",
      "You lose!\n"
     ]
    }
   ],
   "source": [
    "#70.Build a program that simulates a basic text-based blackjack game against the computer.\n",
    "import random\n",
    "\n",
    "def deal_card():\n",
    "    \"\"\"Return a random card from the deck.\"\"\"\n",
    "    cards = [11, 2, 3, 4, 5, 6, 7, 8, 9, 10, 10, 10, 10]\n",
    "    return random.choice(cards)\n",
    "\n",
    "def calculate_score(cards):\n",
    "    \"\"\"Calculate the total value of a hand of cards.\"\"\"\n",
    "    if sum(cards) == 21 and len(cards) == 2:\n",
    "        return 0  # Blackjack\n",
    "\n",
    "    if 11 in cards and sum(cards) > 21:\n",
    "        cards.remove(11)\n",
    "        cards.append(1)\n",
    "\n",
    "    return sum(cards)\n",
    "\n",
    "def compare(user_score, computer_score):\n",
    "    \"\"\"Compare the final scores and determine the winner.\"\"\"\n",
    "    if user_score == computer_score:\n",
    "        return \"It's a draw!\"\n",
    "    elif computer_score == 0:\n",
    "        return \"Computer has Blackjack. You lose!\"\n",
    "    elif user_score == 0:\n",
    "        return \"You have Blackjack! You win!\"\n",
    "    elif user_score > 21:\n",
    "        return \"You went over. You lose!\"\n",
    "    elif computer_score > 21:\n",
    "        return \"Computer went over. You win!\"\n",
    "    elif user_score > computer_score:\n",
    "        return \"You win!\"\n",
    "    else:\n",
    "        return \"You lose!\"\n",
    "\n",
    "def play_game():\n",
    "    user_cards = [deal_card(), deal_card()]\n",
    "    computer_cards = [deal_card(), deal_card()]\n",
    "    game_over = False\n",
    "\n",
    "    while not game_over:\n",
    "        user_score = calculate_score(user_cards)\n",
    "        computer_score = calculate_score(computer_cards)\n",
    "\n",
    "        print(f\"Your cards: {user_cards}, current score: {user_score}\")\n",
    "        print(f\"Computer's first card: {computer_cards[0]}\")\n",
    "\n",
    "        if user_score == 0 or computer_score == 0 or user_score > 21:\n",
    "            game_over = True\n",
    "        else:\n",
    "            another_card = input(\"Type 'y' to get another card, 'n' to pass: \").lower()\n",
    "            if another_card == 'y':\n",
    "                user_cards.append(deal_card())\n",
    "            else:\n",
    "                game_over = True\n",
    "\n",
    "    while computer_score != 0 and computer_score < 17:\n",
    "        computer_cards.append(deal_card())\n",
    "        computer_score = calculate_score(computer_cards)\n",
    "\n",
    "    print(f\"Your final hand: {user_cards}, final score: {user_score}\")\n",
    "    print(f\"Computer's final hand: {computer_cards}, final score: {computer_score}\")\n",
    "\n",
    "    result = compare(user_score, computer_score)\n",
    "    print(result)\n",
    "\n",
    "def main():\n",
    "    print(\"Welcome to Blackjack!\")\n",
    "    play_game()\n",
    "\n",
    "if __name__ == \"__main__\":\n",
    "    main()"
   ]
  },
  {
   "cell_type": "code",
   "execution_count": 7,
   "id": "7a9cb9fc",
   "metadata": {},
   "outputs": [
    {
     "name": "stdout",
     "output_type": "stream",
     "text": [
      "Enter a number to find its prime factors: 56\n",
      "Prime factors of 56: [2, 2, 2, 7]\n"
     ]
    }
   ],
   "source": [
    "#71.Write a program that generates the prime factors of a given number using trial division.\n",
    "def generate_prime_factors(number):\n",
    "    prime_factors = []\n",
    "\n",
    "    # Divide by 2 until it's an odd number\n",
    "    while number % 2 == 0:\n",
    "        prime_factors.append(2)\n",
    "        number //= 2\n",
    "\n",
    "    # Trial division for odd numbers starting from 3\n",
    "    for i in range(3, int(number**0.5) + 1, 2):\n",
    "        while number % i == 0:\n",
    "            prime_factors.append(i)\n",
    "            number //= i\n",
    "\n",
    "    # If the remaining number is a prime greater than 2\n",
    "    if number > 2:\n",
    "        prime_factors.append(number)\n",
    "\n",
    "    return prime_factors\n",
    "\n",
    "def main():\n",
    "    try:\n",
    "        num = int(input(\"Enter a number to find its prime factors: \"))\n",
    "\n",
    "        if num <= 1:\n",
    "            print(\"Please enter a positive integer greater than 1.\")\n",
    "        else:\n",
    "            factors = generate_prime_factors(num)\n",
    "            print(f\"Prime factors of {num}: {factors}\")\n",
    "    except ValueError:\n",
    "        print(\"Please enter a valid integer.\")\n",
    "\n",
    "if __name__ == \"__main__\":\n",
    "    main()"
   ]
  },
  {
   "cell_type": "code",
   "execution_count": null,
   "id": "69bf52cc",
   "metadata": {},
   "outputs": [],
   "source": []
  }
 ],
 "metadata": {
  "kernelspec": {
   "display_name": "Python 3 (ipykernel)",
   "language": "python",
   "name": "python3"
  },
  "language_info": {
   "codemirror_mode": {
    "name": "ipython",
    "version": 3
   },
   "file_extension": ".py",
   "mimetype": "text/x-python",
   "name": "python",
   "nbconvert_exporter": "python",
   "pygments_lexer": "ipython3",
   "version": "3.11.5"
  }
 },
 "nbformat": 4,
 "nbformat_minor": 5
}
