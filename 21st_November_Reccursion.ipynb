{
 "cells": [
  {
   "cell_type": "code",
   "execution_count": 7,
   "id": "a95fda36",
   "metadata": {},
   "outputs": [
    {
     "name": "stdout",
     "output_type": "stream",
     "text": [
      "True\n"
     ]
    }
   ],
   "source": [
    "#1. Given an array, check if it contains any duplicates or not. \n",
    "#arr = [1, 2, 4, 2, 5, 9] \n",
    "#Output = True\n",
    "def contains_duplicates(arr):\n",
    "    # Create a set from the array\n",
    "    unique_elements = set(arr)\n",
    "    # Compare the length of the set with the length of the array\n",
    "    return len(unique_elements) != len(arr)\n",
    "\n",
    "# Given array\n",
    "arr = [1, 2, 4, 2, 5, 9]\n",
    "\n",
    "# Check for duplicates\n",
    "b = contains_duplicates(arr)\n",
    "print(b)  # Output: True"
   ]
  },
  {
   "cell_type": "code",
   "execution_count": 8,
   "id": "d5d1409c",
   "metadata": {},
   "outputs": [
    {
     "name": "stdout",
     "output_type": "stream",
     "text": [
      "[5, 6, 7, 1, 2, 3, 4]\n"
     ]
    }
   ],
   "source": [
    "#2. Given an array and an integer k, rotate the array to the right by k steps. \n",
    "#arr = [1, 2, 3, 4, 5, 6, 7] k = 3 \n",
    "#Output = [5, 6, 7, 1, 2, 3,4]\n",
    "def rotate_array(arr, k):\n",
    "    # Ensure k is within the bounds of the array length\n",
    "    k = k % len(arr)\n",
    "    # Slice and concatenate the array\n",
    "    return arr[-k:] + arr[:-k]\n",
    "\n",
    "# Given array and k\n",
    "arr = [1, 2, 3, 4, 5, 6, 7]\n",
    "k = 3\n",
    "\n",
    "# Rotate the array\n",
    "a = rotate_array(arr, k)\n",
    "print(a)"
   ]
  },
  {
   "cell_type": "code",
   "execution_count": 9,
   "id": "2ccd3e6b",
   "metadata": {},
   "outputs": [
    {
     "name": "stdout",
     "output_type": "stream",
     "text": [
      "[12, 9, 7, 5, 4, 2]\n"
     ]
    }
   ],
   "source": [
    " #3. Reverse the given array in-place, means without using any extra data structure. \n",
    "#arr = [2, 4, 5, 7, 9, 12] \n",
    "#Output = [12, 9, 7, 5, 4, 2]\n",
    "def reverse_array_in_place(arr):\n",
    "    left = 0\n",
    "    right = len(arr) - 1\n",
    "\n",
    "    while left < right:\n",
    "        # Swap the elements at the left and right pointers\n",
    "        arr[left], arr[right] = arr[right], arr[left]\n",
    "        # Move the pointers towards the center\n",
    "        left += 1\n",
    "        right -= 1\n",
    "\n",
    "# Given array\n",
    "arr = [2, 4, 5, 7, 9, 12]\n",
    "\n",
    "# Reverse the array in-place\n",
    "reverse_array_in_place(arr)\n",
    "print(arr)"
   ]
  },
  {
   "cell_type": "code",
   "execution_count": 10,
   "id": "1d78b07f",
   "metadata": {},
   "outputs": [
    {
     "name": "stdout",
     "output_type": "stream",
     "text": [
      "20\n"
     ]
    }
   ],
   "source": [
    " #4. Given an array of integers, find the maximum element in an array\n",
    " #arr = [10, 5, 20, 8, 15]\n",
    " #Output = 20\n",
    "def find_maximum(arr):\n",
    "    # Initialize the maximum element with the first element of the array\n",
    "    max_element = arr[0]\n",
    "    \n",
    "    # Iterate through the array\n",
    "    for num in arr:\n",
    "        # Update the maximum element if the current element is greater\n",
    "        if num > max_element:\n",
    "            max_element = num\n",
    "    \n",
    "    return max_element\n",
    "\n",
    "# Given array\n",
    "arr = [10, 5, 20, 8, 15]\n",
    "\n",
    "# Find the maximum element\n",
    "c = find_maximum(arr)\n",
    "print(c)"
   ]
  },
  {
   "cell_type": "code",
   "execution_count": 11,
   "id": "5172cd48",
   "metadata": {},
   "outputs": [
    {
     "name": "stdout",
     "output_type": "stream",
     "text": [
      "[1, 2, 3, 4, 5]\n"
     ]
    }
   ],
   "source": [
    "#5. Given a sorted array, remove the duplicate element without using any extra data structure. \n",
    "#arr = [1, 1, 2, 2, 2, 3, 3, 4, 4, 4, 5, 5] \n",
    "#Output = [1, 2, 3, 4, 5]\n",
    "def remove_duplicates(arr):\n",
    "    if not arr:\n",
    "        return arr\n",
    "\n",
    "    # Initialize the index for the next unique element\n",
    "    unique_index = 0\n",
    "\n",
    "    # Iterate through the array\n",
    "    for i in range(1, len(arr)):\n",
    "        if arr[i] != arr[unique_index]:\n",
    "            # Increment the unique index\n",
    "            unique_index += 1\n",
    "            # Move the next unique element to the unique_index position\n",
    "            arr[unique_index] = arr[i]\n",
    "    \n",
    "    # Slice the array to keep only the unique elements\n",
    "    return arr[:unique_index + 1]\n",
    "\n",
    "# Given sorted array\n",
    "arr = [1, 1, 2, 2, 2, 3, 3, 4, 4, 4, 5, 5]\n",
    "\n",
    "# Remove duplicates\n",
    "d = remove_duplicates(arr)\n",
    "print(d)"
   ]
  },
  {
   "cell_type": "code",
   "execution_count": null,
   "id": "fbbdbe5d",
   "metadata": {},
   "outputs": [],
   "source": []
  }
 ],
 "metadata": {
  "kernelspec": {
   "display_name": "Python 3 (ipykernel)",
   "language": "python",
   "name": "python3"
  },
  "language_info": {
   "codemirror_mode": {
    "name": "ipython",
    "version": 3
   },
   "file_extension": ".py",
   "mimetype": "text/x-python",
   "name": "python",
   "nbconvert_exporter": "python",
   "pygments_lexer": "ipython3",
   "version": "3.11.5"
  }
 },
 "nbformat": 4,
 "nbformat_minor": 5
}
