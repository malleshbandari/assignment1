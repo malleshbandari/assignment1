{
 "cells": [
  {
   "cell_type": "code",
   "execution_count": 1,
   "id": "7034966f",
   "metadata": {},
   "outputs": [
    {
     "name": "stdout",
     "output_type": "stream",
     "text": [
      "15\n",
      "15\n"
     ]
    }
   ],
   "source": [
    "#1swapping the variables without using temporary variable\n",
    "x=10\n",
    "y=15\n",
    "x=y\n",
    "y=x\n",
    "print(x)\n",
    "print(y)"
   ]
  },
  {
   "cell_type": "code",
   "execution_count": 2,
   "id": "9dfcd379",
   "metadata": {},
   "outputs": [
    {
     "name": "stdout",
     "output_type": "stream",
     "text": [
      "enter the length of the rectangle:25\n",
      "enter the width of the rectangle:15\n",
      "375\n"
     ]
    }
   ],
   "source": [
    "#2find the area of rectangle\n",
    "a=int(input(\"enter the length of the rectangle:\"))\n",
    "b=int(input(\"enter the width of the rectangle:\"))\n",
    "c=a*b\n",
    "print(c)"
   ]
  },
  {
   "cell_type": "code",
   "execution_count": 3,
   "id": "d907ba21",
   "metadata": {},
   "outputs": [
    {
     "name": "stdout",
     "output_type": "stream",
     "text": [
      "enter a celscius temparature:40\n",
      "ths is fehrenheit temparature 104.0\n"
     ]
    }
   ],
   "source": [
    "#3convert celscius temparature to fehrenheit temparature\n",
    "a1=int(input(\"enter a celscius temparature:\"))\n",
    "f=(a1*9/5)+32\n",
    "print(\"ths is fehrenheit temparature\",f)"
   ]
  },
  {
   "cell_type": "code",
   "execution_count": 4,
   "id": "b156350d",
   "metadata": {},
   "outputs": [
    {
     "name": "stdout",
     "output_type": "stream",
     "text": [
      "mallesh bandari\n"
     ]
    },
    {
     "data": {
      "text/plain": [
       "15"
      ]
     },
     "execution_count": 4,
     "metadata": {},
     "output_type": "execute_result"
    }
   ],
   "source": [
    "#1write length of the string.quations is based on string\n",
    "a2=input()\n",
    "a2\n",
    "len(a2)\n"
   ]
  },
  {
   "cell_type": "code",
   "execution_count": 1,
   "id": "c08afafd",
   "metadata": {},
   "outputs": [
    {
     "name": "stdout",
     "output_type": "stream",
     "text": [
      "today is the most important in my life\n"
     ]
    }
   ],
   "source": [
    "#2print how many vowels in a string using with count function\n",
    "s1=input()\n"
   ]
  },
  {
   "cell_type": "code",
   "execution_count": 7,
   "id": "053a5a82",
   "metadata": {},
   "outputs": [
    {
     "data": {
      "text/plain": [
       "2"
      ]
     },
     "execution_count": 7,
     "metadata": {},
     "output_type": "execute_result"
    }
   ],
   "source": [
    "s1.count(\"a\")"
   ]
  },
  {
   "cell_type": "code",
   "execution_count": 8,
   "id": "eede5f14",
   "metadata": {},
   "outputs": [
    {
     "data": {
      "text/plain": [
       "2"
      ]
     },
     "execution_count": 8,
     "metadata": {},
     "output_type": "execute_result"
    }
   ],
   "source": [
    "s1.count(\"e\")"
   ]
  },
  {
   "cell_type": "code",
   "execution_count": 9,
   "id": "32391cd5",
   "metadata": {},
   "outputs": [
    {
     "data": {
      "text/plain": [
       "4"
      ]
     },
     "execution_count": 9,
     "metadata": {},
     "output_type": "execute_result"
    }
   ],
   "source": [
    "s1.count(\"i\")"
   ]
  },
  {
   "cell_type": "code",
   "execution_count": 10,
   "id": "c404c3f7",
   "metadata": {},
   "outputs": [
    {
     "data": {
      "text/plain": [
       "3"
      ]
     },
     "execution_count": 10,
     "metadata": {},
     "output_type": "execute_result"
    }
   ],
   "source": [
    "s1.count(\"o\")"
   ]
  },
  {
   "cell_type": "code",
   "execution_count": 11,
   "id": "2b477211",
   "metadata": {},
   "outputs": [
    {
     "data": {
      "text/plain": [
       "0"
      ]
     },
     "execution_count": 11,
     "metadata": {},
     "output_type": "execute_result"
    }
   ],
   "source": [
    "s1.count(\"u\")"
   ]
  },
  {
   "cell_type": "code",
   "execution_count": 15,
   "id": "a66db5ed",
   "metadata": {},
   "outputs": [
    {
     "data": {
      "text/plain": [
       "'margorp ecneics atad'"
      ]
     },
     "execution_count": 15,
     "metadata": {},
     "output_type": "execute_result"
    }
   ],
   "source": [
    "#3reverse order of the string\n",
    "b1=\"data science program\"\n",
    "b1[::-1]"
   ]
  },
  {
   "cell_type": "code",
   "execution_count": 16,
   "id": "6fc6af3a",
   "metadata": {},
   "outputs": [
    {
     "name": "stdout",
     "output_type": "stream",
     "text": [
      "malyalam\n"
     ]
    }
   ],
   "source": [
    "#4polyndrome of the python program(backward and forward also same)\n",
    "b3=input()"
   ]
  },
  {
   "cell_type": "code",
   "execution_count": 18,
   "id": "88ec5a2b",
   "metadata": {},
   "outputs": [
    {
     "data": {
      "text/plain": [
       "'malaylam'"
      ]
     },
     "execution_count": 18,
     "metadata": {},
     "output_type": "execute_result"
    }
   ],
   "source": [
    "k=b3[::-1]\n",
    "k"
   ]
  },
  {
   "cell_type": "code",
   "execution_count": 1,
   "id": "db709432",
   "metadata": {},
   "outputs": [
    {
     "name": "stdout",
     "output_type": "stream",
     "text": [
      "mallesh\n"
     ]
    }
   ],
   "source": [
    "#4this is the not polyndrome\n",
    "b4=input()"
   ]
  },
  {
   "cell_type": "code",
   "execution_count": 3,
   "id": "8958e380",
   "metadata": {},
   "outputs": [
    {
     "data": {
      "text/plain": [
       "'hsellam'"
      ]
     },
     "execution_count": 3,
     "metadata": {},
     "output_type": "execute_result"
    }
   ],
   "source": [
    "k1=b4[::-1]\n",
    "k1"
   ]
  },
  {
   "cell_type": "code",
   "execution_count": 5,
   "id": "60eba43b",
   "metadata": {},
   "outputs": [
    {
     "name": "stdout",
     "output_type": "stream",
     "text": [
      "       mallesh is good boy       \n"
     ]
    }
   ],
   "source": [
    "#5remove the all the space from the string\n",
    "s=input()"
   ]
  },
  {
   "cell_type": "code",
   "execution_count": 7,
   "id": "4f0ae107",
   "metadata": {},
   "outputs": [
    {
     "data": {
      "text/plain": [
       "'mallesh is good boy'"
      ]
     },
     "execution_count": 7,
     "metadata": {},
     "output_type": "execute_result"
    }
   ],
   "source": [
    "s2=s.strip()\n",
    "s2"
   ]
  },
  {
   "cell_type": "code",
   "execution_count": null,
   "id": "d0850ddf",
   "metadata": {},
   "outputs": [],
   "source": []
  }
 ],
 "metadata": {
  "kernelspec": {
   "display_name": "Python 3 (ipykernel)",
   "language": "python",
   "name": "python3"
  },
  "language_info": {
   "codemirror_mode": {
    "name": "ipython",
    "version": 3
   },
   "file_extension": ".py",
   "mimetype": "text/x-python",
   "name": "python",
   "nbconvert_exporter": "python",
   "pygments_lexer": "ipython3",
   "version": "3.11.1"
  }
 },
 "nbformat": 4,
 "nbformat_minor": 5
}
