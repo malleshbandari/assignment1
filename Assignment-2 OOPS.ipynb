{
 "cells": [
  {
   "cell_type": "markdown",
   "id": "2bcdd9ec",
   "metadata": {},
   "source": [
    "# constructor"
   ]
  },
  {
   "cell_type": "code",
   "execution_count": 18,
   "id": "8219b440",
   "metadata": {},
   "outputs": [],
   "source": [
    "#1.What is a constructor in Python? Explain its purpose and usage.\n",
    "#a constructor is a special method (__init__()) within a class that automatically initializes newly created objects.\n",
    "#Its purpose is to set up initial values for object attributes or perform any necessary setup tasks. \n",
    "#It's used when creating an instance of a class to ensure that objects are properly initialized."
   ]
  },
  {
   "cell_type": "code",
   "execution_count": 2,
   "id": "1a0d2712",
   "metadata": {},
   "outputs": [],
   "source": [
    "#2.Differentiate between a parameterless constructor and a parameterized constructor in Python.\n",
    "#Parameterless Constructor: It's a constructor method (__init__()) that doesn't take any parameters.\n",
    "#It initializes the object with default values or performs setup without requiring any external input.\n",
    "#Parameterized Constructor: It's a constructor method that takes parameters. \n",
    "#These parameters are used to initialize the object with specific values, allowing customization during object "
   ]
  },
  {
   "cell_type": "code",
   "execution_count": 3,
   "id": "d4e34608",
   "metadata": {},
   "outputs": [
    {
     "name": "stdout",
     "output_type": "stream",
     "text": [
      "Hello\n",
      "42\n"
     ]
    }
   ],
   "source": [
    "#3. How do you define a constructor in a Python class? Provide an example.\n",
    "#a constructor within a class by creating a method named __init__(). \n",
    "class MyClass:\n",
    "    def __init__(self, param1, param2):\n",
    "        self.param1 = param1\n",
    "        self.param2 = param2\n",
    "obj = MyClass(\"Hello\", 42)\n",
    "print(obj.param1)\n",
    "print(obj.param2)\n"
   ]
  },
  {
   "cell_type": "code",
   "execution_count": null,
   "id": "277e194e",
   "metadata": {},
   "outputs": [],
   "source": [
    "#4. Explain the `__init__` method in Python and its role in constructors.\n",
    "#the __init__ method is a special method used as a constructor within a class. \n",
    "#Its role is to initialize newly created objects by setting up their initial state.\n",
    "#This method is automatically called when a new instance of the class is created, allowing you to perform any necessary setup tasks, such as initializing object attributes."
   ]
  },
  {
   "cell_type": "code",
   "execution_count": 11,
   "id": "95fe90e3",
   "metadata": {},
   "outputs": [
    {
     "name": "stdout",
     "output_type": "stream",
     "text": [
      "Name: mallesh\n",
      "Age: 25\n"
     ]
    }
   ],
   "source": [
    "#5. In a class named `Person`, create a constructor that initializes the `name` and `age` attributes. Provide an example of creating an object of this class.\n",
    "class Person:\n",
    "    def __init__(self, name, age):\n",
    "        self.name = name\n",
    "        self.age = age\n",
    "person1 = Person(\"mallesh\", 25)\n",
    "print(\"Name:\", person1.name)\n",
    "print(\"Age:\", person1.age)"
   ]
  },
  {
   "cell_type": "code",
   "execution_count": 13,
   "id": "c35b5839",
   "metadata": {},
   "outputs": [
    {
     "name": "stdout",
     "output_type": "stream",
     "text": [
      "Name: mallesh\n",
      "Age: 25\n"
     ]
    }
   ],
   "source": [
    "#6.How can you call a constructor explicitly in Python? Give an example.\n",
    "# we don't call the constructor.we are crearting a object of a class using the class name with paranthesis.\n",
    "# constructor it will automatically excute the __init__ (self) function.\n",
    "class Person:\n",
    "    def __init__(self, name, age):\n",
    "        self.name = name\n",
    "        self.age = age\n",
    "person2 = Person(\"mallesh\", 25)\n",
    "print(\"Name:\", person2.name)\n",
    "print(\"Age:\", person2.age)"
   ]
  },
  {
   "cell_type": "code",
   "execution_count": 3,
   "id": "0beba6f1",
   "metadata": {},
   "outputs": [
    {
     "name": "stdout",
     "output_type": "stream",
     "text": [
      "Hi, my name is mallesh and I am 25 years old.\n",
      "Hi, my name is bheem and I am 24 years old.\n"
     ]
    }
   ],
   "source": [
    "#7. What is the significance of the `self` parameter in Python constructors? Explain with an example.\n",
    "# the self parameter in constructors refers to the instance of the class itself.\n",
    "#It allows you to access and modify the attributes (variables) and methods of the instance within the class definition\n",
    "class Person:\n",
    "    def __init__(self, name, age):\n",
    "        self.name = name  # Here, self.name refers to the 'name' attribute of the instance\n",
    "        self.age = age    # Here, self.age refers to the 'age' attribute of the instance\n",
    "    def introduce(self):\n",
    "        print(f\"Hi, my name is {self.name} and I am {self.age} years old.\")\n",
    "# Creating instances of the Person class\n",
    "person1 = Person(\"mallesh\", 25)\n",
    "person2 = Person(\"bheem\", 24)\n",
    "# Calling the introduce method for each instance\n",
    "person1.introduce()\n",
    "person2.introduce()"
   ]
  },
  {
   "cell_type": "code",
   "execution_count": 4,
   "id": "836e4a98",
   "metadata": {},
   "outputs": [],
   "source": [
    "#8. Discuss the concept of default constructors in Python. When are they used?\n",
    "# When no specific initialization is needed for instances of the class.\n",
    "# When subclassing and the subclass doesn't require additional initialization beyond what's already defined in the superclass.\n",
    "# For simple classes where no custom initialization logic is required."
   ]
  },
  {
   "cell_type": "code",
   "execution_count": 5,
   "id": "bb4320ab",
   "metadata": {},
   "outputs": [
    {
     "name": "stdout",
     "output_type": "stream",
     "text": [
      "Area of rectangle1: 50\n",
      "Area of rectangle2: 21\n"
     ]
    }
   ],
   "source": [
    "#9.Create a Python class called `Rectangle` with a constructor that initializes the `width` and `height` attributes. Provide a method to calculate the area of the rectangle.\n",
    "class Rectangle:\n",
    "    def __init__(self, width, height):\n",
    "        self.width = width\n",
    "        self.height = height  \n",
    "    def calculate_area(self):\n",
    "        return self.width * self.height\n",
    "rectangle1 = Rectangle(5, 10)\n",
    "area1 = rectangle1.calculate_area()\n",
    "print(\"Area of rectangle1:\", area1)\n",
    "rectangle2 = Rectangle(3, 7)\n",
    "area2 = rectangle2.calculate_area()\n",
    "print(\"Area of rectangle2:\", area2)"
   ]
  },
  {
   "cell_type": "code",
   "execution_count": 6,
   "id": "9ac64926",
   "metadata": {},
   "outputs": [
    {
     "name": "stdout",
     "output_type": "stream",
     "text": [
      "5 10\n",
      "15 0\n",
      "0 20\n"
     ]
    }
   ],
   "source": [
    "#10. How can you have multiple constructors in a Python class? Explain with an example.\n",
    "# Python doesn't directly support method overloading where you can define multiple constructors with different parameter signatures.  \n",
    "class MyClass:\n",
    "    def __init__(self, param1, param2):\n",
    "        self.param1 = param1\n",
    "        self.param2 = param2  \n",
    "    @classmethod\n",
    "    def from_param1(cls, param1):\n",
    "        # Assuming default values for other parameters\n",
    "        return cls(param1, 0) \n",
    "    @classmethod\n",
    "    def from_param2(cls, param2):\n",
    "        # Assuming default values for other parameters\n",
    "        return cls(0, param2)\n",
    "obj1 = MyClass(5, 10)\n",
    "print(obj1.param1, obj1.param2)\n",
    "obj2 = MyClass.from_param1(15)\n",
    "print(obj2.param1, obj2.param2) \n",
    "obj3 = MyClass.from_param2(20)\n",
    "print(obj3.param1, obj3.param2)"
   ]
  },
  {
   "cell_type": "code",
   "execution_count": 7,
   "id": "9f079019",
   "metadata": {},
   "outputs": [],
   "source": [
    "#11. What is method overloading, and how is it related to constructors in Python?\n",
    "#Method overloading is a programming concept where multiple methods can have the same name but different parameters.\n",
    "#In Python, it's not directly supported, but you can achieve similar functionality using default parameter values or variable-length argument lists.\n",
    "#Constructors, like other methods, can be overloaded in Python by providing multiple __init__ methods with different parameter lists, allowing for different ways to initialize objects of a class."
   ]
  },
  {
   "cell_type": "code",
   "execution_count": 9,
   "id": "7b798560",
   "metadata": {},
   "outputs": [
    {
     "name": "stdout",
     "output_type": "stream",
     "text": [
      "ParentClass constructor called\n",
      "ChildClass constructor called\n",
      "Value of x: 5\n",
      "Value of y: 10\n"
     ]
    }
   ],
   "source": [
    "#12. Explain the use of the `super()` function in Python constructors. Provide an example.\n",
    "#The super() function in Python is used to call methods and access attributes from the parent class within a subclass.\n",
    "#In the context of constructors, super() allows you to invoke the constructor of the parent class from within the constructor of the child class.\n",
    "#This is useful when you want to extend the functionality of the parent class's constructor in the child class while still retaining the initialization logic of the parent class.\n",
    "class ParentClass:\n",
    "    def __init__(self, x):\n",
    "        self.x = x\n",
    "        print(\"ParentClass constructor called\")      \n",
    "    def show(self):\n",
    "        print(\"Value of x:\", self.x)\n",
    "class ChildClass(ParentClass):\n",
    "    def __init__(self, x, y):\n",
    "        super().__init__(x)  # Call parent class constructor\n",
    "        self.y = y\n",
    "        print(\"ChildClass constructor called\") \n",
    "    def show(self):\n",
    "        super().show()  # Call parent class method\n",
    "        print(\"Value of y:\", self.y)\n",
    "# Creating an object of ChildClass\n",
    "child_obj = ChildClass(5, 10)\n",
    "child_obj.show()"
   ]
  },
  {
   "cell_type": "code",
   "execution_count": 10,
   "id": "fcb4acba",
   "metadata": {},
   "outputs": [
    {
     "name": "stdout",
     "output_type": "stream",
     "text": [
      "Title: 1984\n",
      "Author: George Orwell\n",
      "Published Year: 1949\n"
     ]
    }
   ],
   "source": [
    "#13. Create a class called `Book` with a constructor that initializes the `title`, `author`, and `published_year`attributes. Provide a method to display book details.\n",
    "class Book:\n",
    "    def __init__(self, title, author, published_year):\n",
    "        self.title = title\n",
    "        self.author = author\n",
    "        self.published_year = published_year\n",
    "    def display_details(self):\n",
    "        print(\"Title:\", self.title)\n",
    "        print(\"Author:\", self.author)\n",
    "        print(\"Published Year:\", self.published_year)\n",
    "# Example usage:\n",
    "book1 = Book(\"1984\", \"George Orwell\", 1949)\n",
    "book1.display_details()"
   ]
  },
  {
   "cell_type": "code",
   "execution_count": 11,
   "id": "8414b00f",
   "metadata": {},
   "outputs": [],
   "source": [
    "#14. Discuss the differences between constructors and regular methods in Python classes.\n",
    "# Constructors initialize object attributes when objects are created.\n",
    "# Regular methods perform actions or operations on object attributes.\n",
    "# Constructors are automatically called upon object instantiation.\n",
    "# Regular methods are explicitly called using object instances.\n",
    "# Constructors are conventionally named __init__.\n",
    "# Regular methods can have any valid name.\n",
    "# Constructors don't return values explicitly.\n",
    "# Regular methods may or may not return values.\n",
    "# Constructors set up the initial state of objects.\n",
    "# Regular methods define object behaviors and actions."
   ]
  },
  {
   "cell_type": "code",
   "execution_count": 12,
   "id": "ed682c01",
   "metadata": {},
   "outputs": [],
   "source": [
    "#15. Explain the role of the `self` parameter in instance variable initialization within a constructor.\n",
    "#The self parameter in a Python constructor (__init__ method) refers to the instance of the class being created.\n",
    "#It is used to bind instance variables to the object, ensuring each object has its own separate copy of the variables.\n",
    "#This allows accessing and modifying instance variables within the class methods using self.variable_name."
   ]
  },
  {
   "cell_type": "code",
   "execution_count": 13,
   "id": "3ac8f9e3",
   "metadata": {},
   "outputs": [
    {
     "name": "stdout",
     "output_type": "stream",
     "text": [
      "First Instance\n",
      "First Instance\n",
      "True\n"
     ]
    }
   ],
   "source": [
    "#16. How do you prevent a class from having multiple instances by using constructors in Python? Provide an example.\n",
    "class Singleton:\n",
    "    _instance = None\n",
    "    def __new__(cls, *args, **kwargs):\n",
    "        if cls._instance is None:\n",
    "            cls._instance = super().__new__(cls)\n",
    "        return cls._instance\n",
    "    def __init__(self, data):\n",
    "        if not hasattr(self, 'initialized'):\n",
    "            self.data = data\n",
    "            self.initialized = True\n",
    "singleton_instance1 = Singleton(\"First Instance\")\n",
    "print(singleton_instance1.data)  # Output: First Instance\n",
    "singleton_instance2 = Singleton(\"Second Instance\")\n",
    "print(singleton_instance2.data)  # Output: First Instance\n",
    "print(singleton_instance1 is singleton_instance2)  # Output: True"
   ]
  },
  {
   "cell_type": "code",
   "execution_count": 14,
   "id": "690b8a35",
   "metadata": {},
   "outputs": [
    {
     "name": "stdout",
     "output_type": "stream",
     "text": [
      "['Math', 'Science', 'History']\n"
     ]
    }
   ],
   "source": [
    "#17. Create a Python class called `Student` with a constructor that takes a list of subjects as a parameter and initializes the `subjects` attribute.\n",
    "class Student:\n",
    "    def __init__(self, subjects):\n",
    "        self.subjects = subjects\n",
    "subjects_list = ['Math', 'Science', 'History']\n",
    "student = Student(subjects_list)\n",
    "print(student.subjects)  # Output: ['Math', 'Science', 'History']"
   ]
  },
  {
   "cell_type": "code",
   "execution_count": 15,
   "id": "3e5e1a7f",
   "metadata": {},
   "outputs": [],
   "source": [
    "#18. What is the purpose of the `__del__` method in Python classes, and how does it relate to constructors?\n",
    "#The __del__ method in Python classes is used for performing cleanup or finalization tasks before an object is destroyed and its memory deallocated. \n",
    "#It is called just before an object is deleted.\n",
    "#The __del__ method is opposite to constructors like __init__.\n",
    "#While __init__ is called when an object is being created, __del__ is called when an object is being destroyed.\n",
    "#In summary, __del__ is for cleanup before destruction, whereas constructors (__init__) are for initializing objects during creation."
   ]
  },
  {
   "cell_type": "code",
   "execution_count": 16,
   "id": "92b7d102",
   "metadata": {},
   "outputs": [
    {
     "name": "stdout",
     "output_type": "stream",
     "text": [
      "10 20\n",
      "30 40\n"
     ]
    }
   ],
   "source": [
    "#19. Explain the use of constructor chaining in Python. Provide a practical example.\n",
    "#Constructor chaining in Python refers to the concept of one constructor method calling another constructor method within the same class.\n",
    "#This allows for code reuse and simplifies the initialization process, especially when you have multiple constructors with different parameters.\n",
    "class MyClass:\n",
    "    def __init__(self, x, y):\n",
    "        self.x = x\n",
    "        self.y = y  \n",
    "    @classmethod\n",
    "    def from_string(cls, string):\n",
    "        # Split the string and convert values to integers\n",
    "        x, y = map(int, string.split(','))\n",
    "        # Call the regular constructor using cls() syntax\n",
    "        return cls(x, y)\n",
    "# Regular constructor call\n",
    "obj1 = MyClass(10, 20)\n",
    "print(obj1.x, obj1.y)  # Output: 10 20\n",
    "# Constructor chaining using a class method\n",
    "obj2 = MyClass.from_string('30,40')\n",
    "print(obj2.x, obj2.y)  # Output: 30 40"
   ]
  },
  {
   "cell_type": "code",
   "execution_count": 17,
   "id": "fe7a1827",
   "metadata": {},
   "outputs": [
    {
     "name": "stdout",
     "output_type": "stream",
     "text": [
      "Car Make: Toyota, Model: Camry\n"
     ]
    }
   ],
   "source": [
    "#20. Create a Python class called `Car` with a default constructor that initializes the `make` and `model`attributes. Provide a method to display car information.\n",
    "class Car:\n",
    "    def __init__(self, make, model):\n",
    "        self.make = make\n",
    "        self.model = model \n",
    "    def display_info(self):\n",
    "        print(f\"Car Make: {self.make}, Model: {self.model}\")\n",
    "my_car = Car(\"Toyota\", \"Camry\")\n",
    "my_car.display_info()"
   ]
  },
  {
   "cell_type": "markdown",
   "id": "0d8bef8a",
   "metadata": {},
   "source": [
    "# Inheritance"
   ]
  },
  {
   "cell_type": "code",
   "execution_count": 19,
   "id": "86e0bda4",
   "metadata": {},
   "outputs": [],
   "source": [
    "#1. What is inheritance in Python? Explain its significance in object-oriented programming.\n",
    "#inheritance allows a new class (subclass) to inherit attributes and methods from an existing class (superclass). \n",
    "#It promotes code reuse, simplifies maintenance, and enables efficient organization of code. \n",
    "#By inheriting from a superclass, a subclass can extend or modify the behavior of the superclass, facilitating modularity, extensibility, and polymorphism in object-oriented programming."
   ]
  },
  {
   "cell_type": "code",
   "execution_count": 21,
   "id": "af4a9702",
   "metadata": {},
   "outputs": [
    {
     "name": "stdout",
     "output_type": "stream",
     "text": [
      "Animal speaks\n",
      "Dog barks\n",
      "Flying...\n",
      "Swimming...\n"
     ]
    }
   ],
   "source": [
    "#2. Differentiate between single inheritance and multiple inheritance in Python. Provide examples for each.\n",
    "#Single Inheritance:\n",
    "#Single inheritance in Python refers to a class inheriting from only one parent class.\n",
    "#It involves a straightforward hierarchy with one superclass and one subclass.\n",
    "class Animal:\n",
    "    def speak(self):\n",
    "        print(\"Animal speaks\")\n",
    "class Dog(Animal):\n",
    "    def bark(self):\n",
    "        print(\"Dog barks\")\n",
    "dog = Dog()\n",
    "dog.speak()\n",
    "dog.bark()\n",
    "#Multiple Inheritance:\n",
    "#Multiple inheritance in Python involves a class inheriting from more than one parent class.\n",
    "#It allows a subclass to inherit attributes and methods from multiple parent classes.\n",
    "class Flyable:\n",
    "    def fly(self):\n",
    "        print(\"Flying...\")\n",
    "\n",
    "class Swimmable:\n",
    "    def swim(self):\n",
    "        print(\"Swimming...\")\n",
    "\n",
    "class Amphibian(Flyable, Swimmable):\n",
    "    pass\n",
    "frog = Amphibian()\n",
    "frog.fly()\n",
    "frog.swim()"
   ]
  },
  {
   "cell_type": "code",
   "execution_count": 22,
   "id": "8e1a48b2",
   "metadata": {},
   "outputs": [
    {
     "name": "stdout",
     "output_type": "stream",
     "text": [
      "Color: Red\n",
      "Speed: 100\n",
      "Brand: Toyota\n"
     ]
    }
   ],
   "source": [
    "#3. Create a Python class called `Vehicle` with attributes `color` and `speed`. Then, create a child class called `Car` that inherits from `Vehicle` and adds a `brand` attribute. Provide an example of creating a `Car` object.\n",
    "class Vehicle:\n",
    "    def __init__(self, color, speed):\n",
    "        self.color = color\n",
    "        self.speed = speed\n",
    "class Car(Vehicle):\n",
    "    def __init__(self, color, speed, brand):\n",
    "        super().__init__(color, speed)\n",
    "        self.brand = brand\n",
    "my_car = Car(\"Red\", 100, \"Toyota\")\n",
    "print(\"Color:\", my_car.color)\n",
    "print(\"Speed:\", my_car.speed)\n",
    "print(\"Brand:\", my_car.brand)"
   ]
  },
  {
   "cell_type": "code",
   "execution_count": 23,
   "id": "f0f2d271",
   "metadata": {},
   "outputs": [
    {
     "name": "stdout",
     "output_type": "stream",
     "text": [
      "Woof!\n"
     ]
    }
   ],
   "source": [
    "#4. Explain the concept of method overriding in inheritance. Provide a practical example.\n",
    "#Method overriding in inheritance allows a subclass to provide a specific implementation of a method that is already defined in its superclass. \n",
    "#When the method is called on an instance of the subclass, the subclass's implementation is executed instead of the superclass's.\n",
    "class Animal:\n",
    "    def sound(self):\n",
    "        print(\"Generic animal sound\")\n",
    "class Dog(Animal):\n",
    "    def sound(self):\n",
    "        print(\"Woof!\")\n",
    "dog = Dog()\n",
    "dog.sound()"
   ]
  },
  {
   "cell_type": "code",
   "execution_count": 28,
   "id": "ef885b92",
   "metadata": {},
   "outputs": [
    {
     "name": "stdout",
     "output_type": "stream",
     "text": [
      "Hello, I'm Alice\n",
      "I'm Alice and I'm 10 years old\n"
     ]
    }
   ],
   "source": [
    "#5. How can you access the methods and attributes of a parent class from a child class in Python? Give an example.\n",
    "class Parent:\n",
    "    def __init__(self, name):\n",
    "        self.name = name\n",
    "    def greet(self):\n",
    "        print(\"Hello, I'm\", self.name)\n",
    "class Child(Parent):\n",
    "    def __init__(self, name, age):\n",
    "        super().__init__(name)\n",
    "        self.age = age\n",
    "    def introduce(self):\n",
    "        super().greet()\n",
    "        print(\"I'm\", self.name, \"and I'm\", self.age, \"years old\")\n",
    "child = Child(\"Alice\", 10)\n",
    "child.introduce()"
   ]
  },
  {
   "cell_type": "code",
   "execution_count": 29,
   "id": "5eca068d",
   "metadata": {},
   "outputs": [
    {
     "name": "stdout",
     "output_type": "stream",
     "text": [
      "Hello, I'm Alice.\n",
      "I'm 10 years old.\n"
     ]
    }
   ],
   "source": [
    "#6. Discuss the use of the `super()` function in Python inheritance. When and why is it used? Provide an example.\n",
    "# the super() function is used to call methods and access attributes from the parent class within a subclass.\n",
    "#It allows for more flexible and maintainable code when working with inheritance.\n",
    "class Parent:\n",
    "    def __init__(self, name):\n",
    "        self.name = name\n",
    "    def greet(self):\n",
    "        print(f\"Hello, I'm {self.name}.\")\n",
    "class Child(Parent):\n",
    "    def __init__(self, name, age):\n",
    "        super().__init__(name)\n",
    "        self.age = age\n",
    "    def greet(self):\n",
    "        super().greet()\n",
    "        print(f\"I'm {self.age} years old.\")\n",
    "child = Child(\"Alice\", 10)\n",
    "child.greet()"
   ]
  },
  {
   "cell_type": "code",
   "execution_count": 30,
   "id": "c0bc9ef8",
   "metadata": {},
   "outputs": [
    {
     "name": "stdout",
     "output_type": "stream",
     "text": [
      "Woof!\n",
      "Meow!\n"
     ]
    }
   ],
   "source": [
    "#7. Create a Python class called `Animal` with a method `speak()`. Then, create child classes `Dog` and `Cat` that inherit from `Animal` and override the `speak()` method.Provide an example of using these classes.\n",
    "class Animal:\n",
    "    def speak(self):\n",
    "        raise NotImplementedError(\"Subclasses must implement the speak() method.\")\n",
    "class Dog(Animal):\n",
    "    def speak(self):\n",
    "        return \"Woof!\"\n",
    "class Cat(Animal):\n",
    "    def speak(self):\n",
    "        return \"Meow!\"\n",
    "dog = Dog()\n",
    "cat = Cat()\n",
    "print(dog.speak())  # Output: Woof!\n",
    "print(cat.speak())  # Output: Meow!"
   ]
  },
  {
   "cell_type": "code",
   "execution_count": 31,
   "id": "6c92de6b",
   "metadata": {},
   "outputs": [],
   "source": [
    "#8. Explain the role of the `isinstance()` function in Python and how it relates to inheritance.\n",
    "#The isinstance() function in Python is used to check if an object belongs to a specific class or any of its subclasses. \n",
    "#It's particularly useful in inheritance because it allows you to write code that can handle objects of different subclasses without needing to know their exact types. \n",
    "#This promotes flexibility and polymorphism in object-oriented programming by enabling code to work with a variety of objects that share a common interface or base class."
   ]
  },
  {
   "cell_type": "code",
   "execution_count": 32,
   "id": "20c8e9d1",
   "metadata": {},
   "outputs": [
    {
     "name": "stdout",
     "output_type": "stream",
     "text": [
      "True\n"
     ]
    }
   ],
   "source": [
    "#9. What is the purpose of the `issubclass()` function in Python? Provide an example.\n",
    "#The issubclass() function in Python is used to check whether a given class is a subclass of another class. \n",
    "#It returns True if the first class is indeed a subclass of the second class, and False otherwise.\n",
    "class Animal:\n",
    "    pass\n",
    "class Dog(Animal):\n",
    "    pass\n",
    "print(issubclass(Dog, Animal))"
   ]
  },
  {
   "cell_type": "code",
   "execution_count": 33,
   "id": "a904a867",
   "metadata": {},
   "outputs": [],
   "source": [
    "#10. Discuss the concept of constructor inheritance in Python. How are constructors inherited in child classes?\n",
    "#constructor inheritance refers to the automatic inheritance of a parent class's constructor by its child classes. \n",
    "#If a child class doesn't define its own constructor, it inherits the constructor of its parent class.\n",
    "#If the child class defines its own constructor, it can explicitly call the constructor of the parent class using super().__init__().\n",
    "#This ensures that the initialization logic of the parent class is executed before any additional logic specific to the child class."
   ]
  },
  {
   "cell_type": "code",
   "execution_count": 34,
   "id": "d0bcd9e8",
   "metadata": {},
   "outputs": [
    {
     "name": "stdout",
     "output_type": "stream",
     "text": [
      "Area of the circle: 78.53981633974483\n",
      "Area of the rectangle: 24\n"
     ]
    }
   ],
   "source": [
    "#11. Create a Python class called `Shape` with a method `area()` that calculates the area of a shape. Then, create child classes `Circle` and `Rectangle` that inherit from `Shape` and implement the `area()` method accordingly. Provide an example.\n",
    "import math\n",
    "class Shape:\n",
    "    def area(self):\n",
    "        pass\n",
    "class Circle(Shape):\n",
    "    def __init__(self, radius):\n",
    "        self.radius = radius\n",
    "    def area(self):\n",
    "        return math.pi * self.radius ** 2\n",
    "class Rectangle(Shape):\n",
    "    def __init__(self, width, height):\n",
    "        self.width = width\n",
    "        self.height = height\n",
    "    def area(self):\n",
    "        return self.width * self.height\n",
    "circle = Circle(5)\n",
    "rectangle = Rectangle(4, 6)\n",
    "print(\"Area of the circle:\", circle.area())\n",
    "print(\"Area of the rectangle:\", rectangle.area())"
   ]
  },
  {
   "cell_type": "code",
   "execution_count": 36,
   "id": "803af6bc",
   "metadata": {},
   "outputs": [
    {
     "name": "stdout",
     "output_type": "stream",
     "text": [
      "Area of the circle: 78.5\n",
      "Area of the rectangle: 24\n"
     ]
    }
   ],
   "source": [
    "#12.Explain the use of abstract base classes (ABCs) in Python and how they relate to inheritance. Provide an example using the `abc` module.\n",
    "#Abstract Base Classes (ABCs) in Python are used to define a common interface for a group of related classes.\n",
    "#They specify a set of methods that must be implemented by any subclass, ensuring a consistent behavior across different implementations.\n",
    "#ABCs relate to inheritance by serving as a blueprint for subclasses.\n",
    "#Subclasses inherit the method signatures defined in the ABC and must provide concrete implementations for those methods.\n",
    "from abc import ABC, abstractmethod\n",
    "class Shape(ABC):\n",
    "    @abstractmethod\n",
    "    def area(self):\n",
    "        pass\n",
    "class Circle(Shape):\n",
    "    def __init__(self, radius):\n",
    "        self.radius = radius\n",
    "    def area(self):\n",
    "        return 3.14 * self.radius ** 2\n",
    "class Rectangle(Shape):\n",
    "    def __init__(self, width, height):\n",
    "        self.width = width\n",
    "        self.height = height\n",
    "    def area(self):\n",
    "        return self.width * self.height\n",
    "circle = Circle(5)\n",
    "rectangle = Rectangle(4, 6)\n",
    "print(\"Area of the circle:\", circle.area())\n",
    "print(\"Area of the rectangle:\", rectangle.area())  "
   ]
  },
  {
   "cell_type": "code",
   "execution_count": 37,
   "id": "8f136eb3",
   "metadata": {},
   "outputs": [],
   "source": [
    "#13. How can you prevent a child class from modifying certain attributes or methods inherited from a parent class in Python?\n",
    "#Making attributes or methods private by prefixing them with double underscores (__).\n",
    "#Making attributes or methods protected by prefixing them with a single underscore (_).\n",
    "#Utilizing property decorators to define getter and setter methods for attributes, controlling their access and modification."
   ]
  },
  {
   "cell_type": "code",
   "execution_count": 38,
   "id": "83b5031a",
   "metadata": {},
   "outputs": [
    {
     "name": "stdout",
     "output_type": "stream",
     "text": [
      "Employee: John , Salary: 50000\n",
      "Manager: Alice , Salary: 80000 , Department: HR\n"
     ]
    }
   ],
   "source": [
    "#14. Create a Python class called `Employee` with attributes `name` and `salary`. Then, create a child class `Manager` that inherits from `Employee` and adds an attribute `department`. Provide an example.\n",
    "class Employee:\n",
    "    def __init__(self, name, salary):\n",
    "        self.name = name\n",
    "        self.salary = salary\n",
    "class Manager(Employee):\n",
    "    def __init__(self, name, salary, department):\n",
    "        super().__init__(name, salary)\n",
    "        self.department = department\n",
    "emp = Employee(\"John\", 50000)\n",
    "mgr = Manager(\"Alice\", 80000, \"HR\")\n",
    "print(\"Employee:\", emp.name, \", Salary:\", emp.salary)\n",
    "print(\"Manager:\", mgr.name, \", Salary:\", mgr.salary, \", Department:\", mgr.department)"
   ]
  },
  {
   "cell_type": "code",
   "execution_count": 39,
   "id": "dd6bc257",
   "metadata": {},
   "outputs": [],
   "source": [
    "#15. Discuss the concept of method overloading in Python inheritance. How does it differ from method overriding?\n",
    "#Method overloading is used to provide multiple implementations of a method with different parameter lists within the same class.\n",
    "#Python does not support true method overloading like some other languages (e.g., Java).\n",
    "#Instead, developers typically achieve method overloading by using default parameter values or variable-length argument lists.\n",
    "#Method overriding, on the other hand, occurs in inheritance when a subclass redefines a method of its superclass.\n",
    "#This allows the subclass to provide its own implementation of the method, which can vary from the implementation in the superclass."
   ]
  },
  {
   "cell_type": "code",
   "execution_count": 40,
   "id": "17785e6c",
   "metadata": {},
   "outputs": [],
   "source": [
    "#16. Explain the purpose of the `__init__()` method in Python inheritance and how it is utilized in child classes.\n",
    "#The __init__() method in Python inheritance is used as a constructor for initializing objects of a class.\n",
    "#It is called automatically when a new instance of the class is created.\n",
    "#In child classes, the __init__() method is typically utilized to customize the initialization process by adding additional attributes or modifying the behavior inherited from the parent class.\n",
    "#Child classes often call the __init__() method of the parent class using super().__init__() to ensure that the initialization logic of the parent class is executed before any additional initialization specific to the child class.\n",
    "#In summary, the __init__() method in Python inheritance serves the purpose of initializing objects, and it is utilized in child classes to customize the initialization process while ensuring that the initialization logic of the parent class is also executed."
   ]
  },
  {
   "cell_type": "code",
   "execution_count": 41,
   "id": "e52fc325",
   "metadata": {},
   "outputs": [
    {
     "name": "stdout",
     "output_type": "stream",
     "text": [
      "Eagle flies high in the sky.\n",
      "Sparrow flies swiftly among trees.\n"
     ]
    }
   ],
   "source": [
    "#17. Create a Python class called `Bird` with a method `fly()`. Then, create child classes `Eagle` and `Sparrow` that inherit from `Bird` and implement the `fly()` method differently. Provide an example of using these classes.\n",
    "class Bird:\n",
    "    def fly(self):\n",
    "        pass \n",
    "class Eagle(Bird):\n",
    "    def fly(self):\n",
    "        return \"Eagle flies high in the sky.\"\n",
    "class Sparrow(Bird):\n",
    "    def fly(self):\n",
    "        return \"Sparrow flies swiftly among trees.\"\n",
    "eagle = Eagle()\n",
    "sparrow = Sparrow()\n",
    "print(eagle.fly())\n",
    "print(sparrow.fly())"
   ]
  },
  {
   "cell_type": "code",
   "execution_count": 42,
   "id": "c746d018",
   "metadata": {},
   "outputs": [],
   "source": [
    "#18. What is the \"diamond problem\" in multiple inheritance, and how does Python address it?\n",
    "#The \"diamond problem\" occurs in multiple inheritance when a subclass inherits from two or more classes that have a common ancestor.\n",
    "#It leads to ambiguity in method resolution, as the subclass may inherit the same method or attribute from multiple paths in the inheritance hierarchy.\n",
    "#Python addresses the diamond problem by using the Method Resolution Order (MRO) algorithm, specifically the C3 linearization algorithm.\n",
    "#This algorithm determines a consistent and predictable order in which methods are searched and executed, resolving any ambiguity in method resolution. \n",
    "#Python's MRO ensures that each class is visited only once and that the order of inheritance respects the class definition, thereby avoiding confusion and ensuring consistent behavior in multiple inheritance scenarios."
   ]
  },
  {
   "cell_type": "code",
   "execution_count": 43,
   "id": "029a3d18",
   "metadata": {},
   "outputs": [],
   "source": [
    "#19. Discuss the concept of \"is-a\" and \"has-a\" relationships in inheritance, and provide examples of each.\n",
    "#Is-a\" Relationship:\n",
    "#This relationship signifies that a subclass is a type of its superclass.\n",
    "#It's typically used in inheritance hierarchies where a subclass shares characteristics and behavior with its superclass.\n",
    "#Example: A Car is-a Vehicle.\n",
    "class Vehicle:\n",
    "    pass\n",
    "class Car(Vehicle):\n",
    "    pass\n",
    "#\"Has-a\" Relationship:\n",
    "#This relationship signifies that a class contains another class as a component or attribute.\n",
    "#It's used to compose complex objects by combining simpler ones.\n",
    "#Example: A Car has-a Engine.\n",
    "class Engine:\n",
    "    pass\n",
    "class Car:\n",
    "    def __init__(self):\n",
    "        self.engine = Engine()"
   ]
  },
  {
   "cell_type": "code",
   "execution_count": 44,
   "id": "57d0745f",
   "metadata": {},
   "outputs": [
    {
     "name": "stdout",
     "output_type": "stream",
     "text": [
      "Student: Student ID: S12345, Name: Alice, Age: 20\n",
      "Professor: Department: Computer Science, Name: Dr. Smith, Age: 45\n"
     ]
    }
   ],
   "source": [
    "#20. Create a Python class hierarchy for a university system. Start with a base class `Person` and create child\n",
    "#    classes `Student` and `Professor`, each with their own attributes and methods. Provide an example of using these classes in a university context.\n",
    "class Person:\n",
    "    def __init__(self, name, age):\n",
    "        self.name = name\n",
    "        self.age = age\n",
    "    def __str__(self):\n",
    "        return f\"Name: {self.name}, Age: {self.age}\"\n",
    "class Student(Person):\n",
    "    def __init__(self, name, age, student_id):\n",
    "        super().__init__(name, age)\n",
    "        self.student_id = student_id\n",
    "    def __str__(self):\n",
    "        return f\"Student ID: {self.student_id}, \" + super().__str__()\n",
    "class Professor(Person):\n",
    "    def __init__(self, name, age, department):\n",
    "        super().__init__(name, age)\n",
    "        self.department = department\n",
    "    def __str__(self):\n",
    "        return f\"Department: {self.department}, \" + super().__str__()\n",
    "student1 = Student(\"Alice\", 20, \"S12345\")\n",
    "professor1 = Professor(\"Dr. Smith\", 45, \"Computer Science\")\n",
    "print(\"Student:\", student1)\n",
    "print(\"Professor:\", professor1)"
   ]
  },
  {
   "cell_type": "markdown",
   "id": "49132af9",
   "metadata": {},
   "source": [
    "# Encapsulation"
   ]
  },
  {
   "cell_type": "code",
   "execution_count": 45,
   "id": "88528a5d",
   "metadata": {},
   "outputs": [],
   "source": [
    "#1. Explain the concept of encapsulation in Python. What is its role in object-oriented programming?\n",
    "#Protecting data from accidental modification.\n",
    "#Providing a clear and well-defined interface for interacting with objects.\n",
    "#Promoting modularity and code maintainability by hiding implementation details."
   ]
  },
  {
   "cell_type": "code",
   "execution_count": 46,
   "id": "1472b6bb",
   "metadata": {},
   "outputs": [],
   "source": [
    "#2. Describe the key principles of encapsulation, including access control and data hiding.\n",
    "#ccess Control: \n",
    "#Restricting access to certain components (attributes or methods) of a class, typically achieved through access modifiers like public, private, and protected.\n",
    "#Data Hiding: \n",
    "#Concealing the internal state of an object from outside access, ensuring that the implementation details are hidden and only accessible through designated methods. \n",
    "#This prevents direct modification of object state, enhancing security and integrity."
   ]
  },
  {
   "cell_type": "code",
   "execution_count": 47,
   "id": "81b5925f",
   "metadata": {},
   "outputs": [
    {
     "name": "stdout",
     "output_type": "stream",
     "text": [
      "Make: Toyota\n",
      "Model: Camry\n"
     ]
    }
   ],
   "source": [
    "#3. How can you achieve encapsulation in Python classes? Provide an example.\n",
    "#Encapsulation in Python classes can be achieved by using access modifiers such as public, private, and protected, and by defining methods to manipulate the class attributes instead of allowing direct access.\n",
    "class Car:\n",
    "    def __init__(self, make, model):\n",
    "        self._make = make\n",
    "        self.__model = model\n",
    "    def get_make(self):\n",
    "        return self._make\n",
    "    def set_model(self, model):\n",
    "        self.__model = model\n",
    "    def get_model(self):\n",
    "        return self.__model\n",
    "car = Car(\"Toyota\", \"Corolla\")\n",
    "print(\"Make:\", car.get_make()) \n",
    "car.set_model(\"Camry\")\n",
    "print(\"Model:\", car.get_model())"
   ]
  },
  {
   "cell_type": "code",
   "execution_count": 48,
   "id": "26f9498d",
   "metadata": {},
   "outputs": [],
   "source": [
    "#4. Discuss the difference between public, private, and protected access modifiers in Python.\n",
    "#Public: No special symbol is used. Attributes and methods are accessible from anywhere.\n",
    "#Private: Indicated by double underscores (__). Attributes and methods are accessible only within the class that defines them.\n",
    "#Protected: Indicated by a single underscore (_). Attributes and methods are accessible within the class and its subclasses, but it's considered a convention rather than enforced by the language."
   ]
  },
  {
   "cell_type": "code",
   "execution_count": 49,
   "id": "87a1a4cf",
   "metadata": {},
   "outputs": [
    {
     "name": "stdout",
     "output_type": "stream",
     "text": [
      "Initial name: Alice\n",
      "Updated name: Bob\n"
     ]
    }
   ],
   "source": [
    "#5. Create a Python class called `Person` with a private attribute `__name`. Provide methods to get and set the name attribute.\n",
    "class Person:\n",
    "    def __init__(self, name):\n",
    "        self.__name = name\n",
    "    def get_name(self):\n",
    "        return self.__name\n",
    "    def set_name(self, name):\n",
    "        self.__name = name\n",
    "person = Person(\"Alice\")\n",
    "print(\"Initial name:\", person.get_name())\n",
    "person.set_name(\"Bob\")\n",
    "print(\"Updated name:\", person.get_name())"
   ]
  },
  {
   "cell_type": "code",
   "execution_count": 51,
   "id": "9ac53c38",
   "metadata": {},
   "outputs": [
    {
     "name": "stdout",
     "output_type": "stream",
     "text": [
      "Initial name: mallesh\n",
      "Updated name: Bheem\n"
     ]
    }
   ],
   "source": [
    "#6. Explain the purpose of getter and setter methods in encapsulation. Provide examples.\n",
    "#Getter and setter methods are used in encapsulation to control access to class attributes, allowing for more controlled and consistent interaction with the object's state.\n",
    "#Getter methods provide read-only access to the attributes, allowing retrieval of their values.\n",
    "#Setter methods, on the other hand, provide a way to modify the values of attributes, enabling validation or additional logic before setting the value.\n",
    "class Person:\n",
    "    def __init__(self, name):\n",
    "        self.__name = name\n",
    "    def get_name(self):\n",
    "        return self.__name\n",
    "    def set_name(self, name):\n",
    "        self.__name = name\n",
    "person = Person(\"mallesh\")\n",
    "print(\"Initial name:\", person.get_name())\n",
    "person.set_name(\"Bheem\")\n",
    "print(\"Updated name:\", person.get_name())"
   ]
  },
  {
   "cell_type": "code",
   "execution_count": 52,
   "id": "20579d38",
   "metadata": {},
   "outputs": [],
   "source": [
    "#7. What is name mangling in Python, and how does it affect encapsulation?.\n",
    "#Name mangling in Python is a mechanism for making class members private by prefixing their names with double underscores (__).\n",
    "#When a name is mangled, Python internally renames it to include the class name, effectively making it more difficult to access from outside the class.\n",
    "#Name mangling affects encapsulation by providing a way to hide class members from direct access, thereby enforcing data hiding and preventing unintentional modification.\n",
    "#It ensures that the attributes and methods marked as private are only accessible within the class itself, promoting encapsulation and maintaining the integrity of the class's implementation."
   ]
  },
  {
   "cell_type": "code",
   "execution_count": 53,
   "id": "df10aca6",
   "metadata": {},
   "outputs": [
    {
     "name": "stdout",
     "output_type": "stream",
     "text": [
      "Deposited $1000. New balance: $1000\n",
      "Withdrew $500. New balance: $500\n",
      "Insufficient funds or invalid withdrawal amount.\n"
     ]
    }
   ],
   "source": [
    "#8. Create a Python class called `BankAccount` with private attributes for the account balance (`__balance`) and account number (`__account_number`). Provide methods for depositing and withdrawing money.\n",
    "class BankAccount:\n",
    "    def __init__(self, account_number):\n",
    "        self.__account_number = account_number\n",
    "        self.__balance = 0\n",
    "    def deposit(self, amount):\n",
    "        if amount > 0:\n",
    "            self.__balance += amount\n",
    "            print(f\"Deposited ${amount}. New balance: ${self.__balance}\")\n",
    "        else:\n",
    "            print(\"Invalid deposit amount.\")\n",
    "    def withdraw(self, amount):\n",
    "        if 0 < amount <= self.__balance:\n",
    "            self.__balance -= amount\n",
    "            print(f\"Withdrew ${amount}. New balance: ${self.__balance}\")\n",
    "        else:\n",
    "            print(\"Insufficient funds or invalid withdrawal amount.\")\n",
    "account = BankAccount(\"1234567890\")\n",
    "account.deposit(1000)\n",
    "account.withdraw(500)\n",
    "account.withdraw(1000)"
   ]
  },
  {
   "cell_type": "code",
   "execution_count": 54,
   "id": "71b08dcd",
   "metadata": {},
   "outputs": [],
   "source": [
    "#9. Discuss the advantages of encapsulation in terms of code maintainability and security.\n",
    "#Code Maintainability:\n",
    "#Modularity: Bundling related data and methods together promotes modularity, making it easier to understand and manage code.\n",
    "#Abstraction: Providing a clear interface hides implementation details, simplifying code comprehension and modification.\n",
    "#Flexibility: Encapsulation allows for changes in implementation without affecting external code, enhancing adaptability.\n",
    "\n",
    "#Security:\n",
    "#Data Hiding: Prevents direct access to sensitive data, maintaining data integrity and preventing unintended modifications.\n",
    "#Access Control: Controls access to class components, limiting exposure to sensitive operations and enhancing security."
   ]
  },
  {
   "cell_type": "code",
   "execution_count": 55,
   "id": "88e20849",
   "metadata": {},
   "outputs": [
    {
     "name": "stdout",
     "output_type": "stream",
     "text": [
      "42\n"
     ]
    }
   ],
   "source": [
    "#10. How can you access private attributes in Python? Provide an example demonstrating the use of name mangling.\n",
    "#Private attributes in Python can be accessed using name mangling, which involves prefixing the attribute name with double underscores (__). Here's a simple example demonstrating the use of name mangling:\n",
    "class MyClass:\n",
    "    def __init__(self):\n",
    "        self.__private_attr = 42\n",
    "obj = MyClass()\n",
    "print(obj._MyClass__private_attr)"
   ]
  },
  {
   "cell_type": "code",
   "execution_count": 57,
   "id": "0e72d959",
   "metadata": {},
   "outputs": [
    {
     "name": "stdout",
     "output_type": "stream",
     "text": [
      "Student: mallesh S12345\n",
      "Teacher: Mr. Smith T98765\n",
      "Course: Mathematics MATH101\n"
     ]
    }
   ],
   "source": [
    "#11. Create a Python class hierarchy for a school system, including classes for students, teachers, and courses,and implement encapsulation principles to protect sensitive information.\n",
    "class Student:\n",
    "    def __init__(self, name, student_id):\n",
    "        self.__name = name\n",
    "        self.__student_id = student_id\n",
    "    def get_name(self):\n",
    "        return self.__name\n",
    "    def get_student_id(self):\n",
    "        return self.__student_id\n",
    "class Teacher:\n",
    "    def __init__(self, name, employee_id):\n",
    "        self.__name = name\n",
    "        self.__employee_id = employee_id\n",
    "    def get_name(self):\n",
    "        return self.__name\n",
    "    def get_employee_id(self):\n",
    "        return self.__employee_id\n",
    "class Course:\n",
    "    def __init__(self, course_name, course_code):\n",
    "        self.__course_name = course_name\n",
    "        self.__course_code = course_code\n",
    "    def get_course_name(self):\n",
    "        return self.__course_name\n",
    "    def get_course_code(self):\n",
    "        return self.__course_code\n",
    "student = Student(\"mallesh\", \"S12345\")\n",
    "teacher = Teacher(\"Mr. Smith\", \"T98765\")\n",
    "course = Course(\"Mathematics\", \"MATH101\")\n",
    "print(\"Student:\", student.get_name(), student.get_student_id()) \n",
    "print(\"Teacher:\", teacher.get_name(), teacher.get_employee_id())\n",
    "print(\"Course:\", course.get_course_name(), course.get_course_code()) "
   ]
  },
  {
   "cell_type": "code",
   "execution_count": 58,
   "id": "d3525c6b",
   "metadata": {},
   "outputs": [],
   "source": [
    "#12. Explain the concept of property decorators in Python and how they relate to encapsulation.\n",
    "#Property decorators in Python are a way to define getter, setter, and deleter methods for class attributes. \n",
    "#They allow you to encapsulate attribute access and provide controlled ways to get, set, and delete attribute values.\n",
    "#Getter: Property decorators can be used to define a method that retrieves the value of an attribute when accessed.\n",
    "#Setter: Property decorators can define a method that sets the value of an attribute when assigned.\n",
    "#Deleter: Property decorators can define a method that deletes an attribute's value when deleted.\n",
    "#Property decorators help enforce encapsulation by allowing you to control how attributes are accessed, modified, and deleted. \n",
    "#They provide a cleaner syntax compared to traditional getter and setter methods, making the code more readable and maintainable."
   ]
  },
  {
   "cell_type": "code",
   "execution_count": 59,
   "id": "1cde59b6",
   "metadata": {},
   "outputs": [
    {
     "name": "stdout",
     "output_type": "stream",
     "text": [
      "Balance: 1000\n",
      "Balance (direct access): 1000\n",
      "Withdrawn: 500\n",
      "Balance: 500\n"
     ]
    }
   ],
   "source": [
    "#13. What is data hiding, and why is it important in encapsulation? Provide examples.\n",
    "#Data hiding is the practice of restricting access to certain attributes or methods of a class, preventing direct modification or observation from outside the class.\n",
    "#It's a key aspect of encapsulation, as it ensures that the internal state of an object is protected and accessed only through controlled interfaces.\n",
    "\n",
    "#Preserves Integrity: By hiding implementation details, data hiding helps maintain the integrity of the class, preventing unintended modifications that could lead to unexpected behavior.\n",
    "#Enhances Security: It prevents unauthorized access to sensitive data, reducing the risk of data corruption or security breaches.\n",
    "#Promotes Modularity: Data hiding encourages a clear separation between interface and implementation, promoting modularity and making it easier to understand and maintain code.\n",
    "class BankAccount:\n",
    "    def __init__(self, initial_balance):\n",
    "        self._balance = initial_balance\n",
    "    def withdraw(self, amount):\n",
    "        if amount > 0 and amount <= self._balance:\n",
    "            self._balance -= amount\n",
    "            print(\"Withdrawn:\", amount)\n",
    "        else:\n",
    "            print(\"Invalid withdrawal amount or insufficient funds.\")\n",
    "    def get_balance(self):\n",
    "        return self._balance\n",
    "account = BankAccount(1000)\n",
    "print(\"Balance:\", account.get_balance())\n",
    "print(\"Balance (direct access):\", account._balance)\n",
    "account.withdraw(500)\n",
    "print(\"Balance:\", account.get_balance())"
   ]
  },
  {
   "cell_type": "code",
   "execution_count": 60,
   "id": "a818c030",
   "metadata": {},
   "outputs": [
    {
     "name": "stdout",
     "output_type": "stream",
     "text": [
      "Yearly Bonus: 5000.0\n"
     ]
    }
   ],
   "source": [
    "#14. Create a Python class called `Employee` with private attributes for salary (`__salary`) and employee ID (`__employee_id`). Provide a method to calculate yearly bonuses.\n",
    "class Employee:\n",
    "    def __init__(self, employee_id, salary):\n",
    "        self.__employee_id = employee_id\n",
    "        self.__salary = salary\n",
    "    def calculate_yearly_bonus(self, percentage):\n",
    "        bonus = (percentage / 100) * self.__salary\n",
    "        return bonus\n",
    "employee = Employee(\"E12345\", 50000)\n",
    "bonus_percentage = 10\n",
    "yearly_bonus = employee.calculate_yearly_bonus(bonus_percentage)\n",
    "print(\"Yearly Bonus:\", yearly_bonus)"
   ]
  },
  {
   "cell_type": "code",
   "execution_count": 61,
   "id": "73127c04",
   "metadata": {},
   "outputs": [],
   "source": [
    "#15. Discuss the use of accessors and mutators in encapsulation. How do they help maintain control over attribute access?\n",
    "#Accessors (Getters):\n",
    "#Accessor methods provide read-only access to the value of an attribute.\n",
    "#They allow other parts of the program to retrieve the value of an attribute without directly accessing it.\n",
    "#Getters help maintain control over attribute access by enforcing a controlled interface for retrieving attribute values.\n",
    "\n",
    "\n",
    "#Mutators (Setters):\n",
    "#Mutator methods provide a way to modify the value of an attribute.\n",
    "#They enable validation or additional logic to be applied before setting the attribute value.\n",
    "#Setters help maintain control over attribute access by enforcing validation rules and ensuring consistent modification of attribute values."
   ]
  },
  {
   "cell_type": "code",
   "execution_count": 62,
   "id": "deeb6772",
   "metadata": {},
   "outputs": [],
   "source": [
    "#16. What are the potential drawbacks or disadvantages of using encapsulation in Python?\n",
    "#One potential drawback of using encapsulation in Python is that it can lead to increased complexity and verbosity in code, especially when dealing with numerous getter and setter methods. \n",
    "#Additionally, excessive use of encapsulation can make code harder to understand and maintain, especially for beginners or those unfamiliar with the codebase. \n",
    "#Finally, encapsulation can sometimes limit flexibility, as it may require significant refactoring to accommodate changes in the class structure or behavior."
   ]
  },
  {
   "cell_type": "code",
   "execution_count": 63,
   "id": "12b222a7",
   "metadata": {},
   "outputs": [
    {
     "name": "stdout",
     "output_type": "stream",
     "text": [
      "Title: To Kill a Mockingbird\n",
      "Author: Harper Lee\n",
      "Availability: True\n",
      "Book 'To Kill a Mockingbird' by Harper Lee has been borrowed.\n",
      "Availability: False\n",
      "Book 'To Kill a Mockingbird' by Harper Lee has been returned.\n",
      "Availability: True\n"
     ]
    }
   ],
   "source": [
    "#17.Create a Python class for a library system that encapsulates book information, including titles, authors,and availability status.\n",
    "class Book:\n",
    "    def __init__(self, title, author):\n",
    "        self.__title = title\n",
    "        self.__author = author\n",
    "        self.__available = True\n",
    "    def get_title(self):\n",
    "        return self.__title\n",
    "    def get_author(self):\n",
    "        return self.__author\n",
    "    def is_available(self):\n",
    "        return self.__available\n",
    "    def borrow_book(self):\n",
    "        if self.__available:\n",
    "            self.__available = False\n",
    "            print(f\"Book '{self.__title}' by {self.__author} has been borrowed.\")\n",
    "        else:\n",
    "            print(f\"Book '{self.__title}' by {self.__author} is currently not available.\")\n",
    "    def return_book(self):\n",
    "        if not self.__available:\n",
    "            self.__available = True\n",
    "            print(f\"Book '{self.__title}' by {self.__author} has been returned.\")\n",
    "        else:\n",
    "            print(f\"Book '{self.__title}' by {self.__author} is already available.\")\n",
    "book1 = Book(\"To Kill a Mockingbird\", \"Harper Lee\")\n",
    "book2 = Book(\"1984\", \"George Orwell\")\n",
    "print(\"Title:\", book1.get_title()) \n",
    "print(\"Author:\", book1.get_author()) \n",
    "print(\"Availability:\", book1.is_available())\n",
    "book1.borrow_book() \n",
    "print(\"Availability:\", book1.is_available())\n",
    "book1.return_book()\n",
    "print(\"Availability:\", book1.is_available()) "
   ]
  },
  {
   "cell_type": "code",
   "execution_count": 64,
   "id": "596266bb",
   "metadata": {},
   "outputs": [],
   "source": [
    "#18. Explain how encapsulation enhances code reusability and modularity in Python programs.\n",
    "#Code Reusability: Encapsulation allows developers to package related data and behavior into a single unit (class), making it easier to reuse the same code in different parts of the program or in other programs altogether. \n",
    "#By encapsulating functionality within classes, developers can create reusable components that can be easily incorporated into different contexts without affecting the rest of the codebase.\n",
    "\n",
    "#Modularity: Encapsulation encourages the creation of modular code by promoting a clear separation between different components of the program. \n",
    "#Each class encapsulates a specific set of functionality, making it easier to understand and maintain individual modules. \n",
    "#This modular structure enables developers to make changes to one part of the codebase without impacting other parts, improving overall code maintainability and reducing the risk of unintended side effects."
   ]
  },
  {
   "cell_type": "code",
   "execution_count": 65,
   "id": "46f58025",
   "metadata": {},
   "outputs": [],
   "source": [
    "#19. Describe the concept of information hiding in encapsulation. Why is it essential in software development?\n",
    "#Promotes Modularity: Information hiding helps in breaking down complex systems into manageable components, promoting modularity and making the codebase easier to understand and maintain.\n",
    "#Enhances Security: By hiding implementation details, information hiding prevents unauthorized access to sensitive data, reducing the risk of data corruption or security breaches.\n",
    "#Reduces Complexity: It simplifies the interaction with objects by providing a clear and well-defined interface, shielding users from unnecessary implementation details and reducing cognitive overhead."
   ]
  },
  {
   "cell_type": "code",
   "execution_count": 68,
   "id": "e504bd05",
   "metadata": {},
   "outputs": [
    {
     "name": "stdout",
     "output_type": "stream",
     "text": [
      "Name: mallesh\n",
      "Address: 123 Main St\n",
      "Contact: alice@example.com\n",
      "Address (direct access): 123 Main St\n",
      "Updated Address: 456 Oak St\n",
      "Updated Contact: bob@example.com\n"
     ]
    }
   ],
   "source": [
    "#20. Create a Python class called `Customer` with private attributes for customer details like name, address,and contact information. Implement encapsulation to ensure data integrity and security.\n",
    "class Customer:\n",
    "    def __init__(self, name, address, contact):\n",
    "        self.__name = name\n",
    "        self.__address = address\n",
    "        self.__contact = contact\n",
    "    def get_name(self):\n",
    "        return self.__name\n",
    "    def get_address(self):\n",
    "        return self.__address\n",
    "    def get_contact(self):\n",
    "        return self.__contact\n",
    "    def set_address(self, new_address):\n",
    "        self.__address = new_address\n",
    "    def set_contact(self, new_contact):\n",
    "        self.__contact = new_contact\n",
    "customer = Customer(\"mallesh\", \"123 Main St\", \"alice@example.com\")\n",
    "print(\"Name:\", customer.get_name())\n",
    "print(\"Address:\", customer.get_address())\n",
    "print(\"Contact:\", customer.get_contact()) \n",
    "print(\"Address (direct access):\", customer._Customer__address) \n",
    "customer.set_address(\"456 Oak St\")\n",
    "customer.set_contact(\"bob@example.com\")\n",
    "print(\"Updated Address:\", customer.get_address())\n",
    "print(\"Updated Contact:\", customer.get_contact())"
   ]
  },
  {
   "cell_type": "markdown",
   "id": "9c5d1797",
   "metadata": {},
   "source": [
    "# Polymorphism"
   ]
  },
  {
   "cell_type": "code",
   "execution_count": 69,
   "id": "f7a54c82",
   "metadata": {},
   "outputs": [],
   "source": [
    "#1. What is polymorphism in Python? Explain how it is related to object-oriented programming.\n",
    "#Polymorphism in Python refers to the ability of different objects to respond to the same method or function call in different ways.\n",
    "#It allows objects of different classes to be treated as objects of a common superclass, enabling flexibility and reusability in code.\n",
    "#In object-oriented programming, polymorphism is achieved through method overriding and method overloading, allowing for more dynamic and adaptable code structures."
   ]
  },
  {
   "cell_type": "code",
   "execution_count": 70,
   "id": "6f7d2745",
   "metadata": {},
   "outputs": [],
   "source": [
    "#2. Describe the difference between compile-time polymorphism and runtime polymorphism in Python.\n",
    "#Compile-time polymorphism is resolved during compilation and is achieved through method overloading, where different methods have the same name but different signatures.\n",
    "#Runtime polymorphism is resolved during program execution and is achieved through method overriding, where a subclass provides a specific implementation of a method already defined in its superclass."
   ]
  },
  {
   "cell_type": "code",
   "execution_count": 71,
   "id": "fa7a69c8",
   "metadata": {},
   "outputs": [
    {
     "name": "stdout",
     "output_type": "stream",
     "text": [
      "Area of Circle: 78.53981633974483\n",
      "Area of Square: 16\n",
      "Area of Triangle: 9.0\n"
     ]
    }
   ],
   "source": [
    "#3. Create a Python class hierarchy for shapes (e.g., circle, square, triangle) and demonstrate polymorphism through a common method, such as `calculate_area()`.\n",
    "import math\n",
    "class Shape:\n",
    "    def calculate_area(self):\n",
    "        pass\n",
    "class Circle(Shape):\n",
    "    def __init__(self, radius):\n",
    "        self.radius = radius\n",
    "    def calculate_area(self):\n",
    "        return math.pi * self.radius**2\n",
    "class Square(Shape):\n",
    "    def __init__(self, side_length):\n",
    "        self.side_length = side_length\n",
    "    def calculate_area(self):\n",
    "        return self.side_length**2\n",
    "class Triangle(Shape):\n",
    "    def __init__(self, base, height):\n",
    "        self.base = base\n",
    "        self.height = height\n",
    "    def calculate_area(self):\n",
    "        return 0.5 * self.base * self.height\n",
    "shapes = [Circle(5), Square(4), Triangle(3, 6)]\n",
    "for shape in shapes:\n",
    "    print(f\"Area of {shape.__class__.__name__}: {shape.calculate_area()}\")"
   ]
  },
  {
   "cell_type": "code",
   "execution_count": 72,
   "id": "3eb92833",
   "metadata": {},
   "outputs": [
    {
     "name": "stdout",
     "output_type": "stream",
     "text": [
      "Dog barks\n",
      "Cat meows\n"
     ]
    }
   ],
   "source": [
    "#4. Explain the concept of method overriding in polymorphism. Provide an example.\n",
    "#Method overriding is a concept in polymorphism where a subclass provides a specific implementation of a method that is already defined in its superclass.\n",
    "#This allows the subclass to modify or extend the behavior of the method without changing its name or signature.\n",
    "class Animal:\n",
    "    def sound(self):\n",
    "        print(\"Animal makes a sound\")\n",
    "class Dog(Animal):\n",
    "    def sound(self):\n",
    "        print(\"Dog barks\")\n",
    "class Cat(Animal):\n",
    "    def sound(self):\n",
    "        print(\"Cat meows\")\n",
    "dog = Dog()\n",
    "dog.sound()\n",
    "cat = Cat()\n",
    "cat.sound() "
   ]
  },
  {
   "cell_type": "code",
   "execution_count": 75,
   "id": "43530728",
   "metadata": {},
   "outputs": [
    {
     "name": "stdout",
     "output_type": "stream",
     "text": [
      "Dog barks\n",
      "Cat meows\n",
      "9\n"
     ]
    }
   ],
   "source": [
    "#5. How is polymorphism different from method overloading in Python? Provide examples for both.\n",
    "#Polymorphism:\n",
    "#Polymorphism refers to the ability of different objects to respond to the same method or function call in different ways.\n",
    "#It allows objects of different classes to be treated as objects of a common superclass.\n",
    "#Achieved through method overriding.\n",
    "class Animal:\n",
    "    def sound(self):\n",
    "        pass\n",
    "class Dog(Animal):\n",
    "    def sound(self):\n",
    "        print(\"Dog barks\")\n",
    "class Cat(Animal):\n",
    "    def sound(self):\n",
    "        print(\"Cat meows\")\n",
    "def make_sound(animal):\n",
    "    animal.sound()\n",
    "dog = Dog()\n",
    "cat = Cat()\n",
    "make_sound(dog)\n",
    "make_sound(cat)\n",
    "#Method Overloading:\n",
    "#Method overloading refers to defining multiple methods in the same class with the same name but different signatures (number or type of parameters).\n",
    "#Python does not support method overloading by default. \n",
    "#However, it can be simulated using default parameter values or variable-length argument lists.\n",
    "class Calculator:\n",
    "    def add(self, a, b):\n",
    "        return a + b\n",
    "    def add(self, a, b, c):\n",
    "        return a + b + c\n",
    "calculator = Calculator()\n",
    "print(calculator.add(2, 3, 4))"
   ]
  },
  {
   "cell_type": "code",
   "execution_count": 76,
   "id": "ed42e6fe",
   "metadata": {},
   "outputs": [
    {
     "name": "stdout",
     "output_type": "stream",
     "text": [
      "Woof!\n",
      "Meow!\n",
      "Chirp!\n"
     ]
    }
   ],
   "source": [
    "#6. Create a Python class called `Animal` with a method `speak()`. Then, create child classes like `Dog`, `Cat`, and `Bird`, each with their own `speak()` method. Demonstrate polymorphism by calling the `speak()` method on objects of different subclasses.\n",
    "class Animal:\n",
    "    def speak(self):\n",
    "        pass\n",
    "class Dog(Animal):\n",
    "    def speak(self):\n",
    "        return \"Woof!\"\n",
    "class Cat(Animal):\n",
    "    def speak(self):\n",
    "        return \"Meow!\"\n",
    "class Bird(Animal):\n",
    "    def speak(self):\n",
    "        return \"Chirp!\"\n",
    "def make_animal_speak(animal):\n",
    "    print(animal.speak())\n",
    "dog = Dog()\n",
    "cat = Cat()\n",
    "bird = Bird()\n",
    "make_animal_speak(dog)\n",
    "make_animal_speak(cat)  \n",
    "make_animal_speak(bird)"
   ]
  },
  {
   "cell_type": "code",
   "execution_count": 77,
   "id": "56eb66ad",
   "metadata": {},
   "outputs": [
    {
     "name": "stdout",
     "output_type": "stream",
     "text": [
      "Circle area: 78.5\n",
      "Square area: 16\n"
     ]
    }
   ],
   "source": [
    "#7. Discuss the use of abstract methods and classes in achieving polymorphism in Python. Provide an example using the `abc` module.\n",
    "#Abstract methods and classes are essential in achieving polymorphism in Python.\n",
    "#They allow you to define a common interface that subclasses must adhere to, ensuring consistency in behavior while enabling flexibility in implementation.\n",
    "#The abc (Abstract Base Classes) module in Python provides tools for working with abstract classes and methods. \n",
    "#By defining abstract methods in abstract classes, you can enforce that subclasses implement these methods, thus achieving polymorphism.\n",
    "from abc import ABC, abstractmethod\n",
    "class Shape(ABC):\n",
    "    @abstractmethod\n",
    "    def calculate_area(self):\n",
    "        pass\n",
    "class Circle(Shape):\n",
    "    def __init__(self, radius):\n",
    "        self.radius = radius\n",
    "    def calculate_area(self):\n",
    "        return 3.14 * self.radius**2\n",
    "class Square(Shape):\n",
    "    def __init__(self, side_length):\n",
    "        self.side_length = side_length\n",
    "    def calculate_area(self):\n",
    "        return self.side_length**2\n",
    "circle = Circle(5)\n",
    "square = Square(4)\n",
    "print(\"Circle area:\", circle.calculate_area())\n",
    "print(\"Square area:\", square.calculate_area()) "
   ]
  },
  {
   "cell_type": "code",
   "execution_count": 78,
   "id": "5a107068",
   "metadata": {},
   "outputs": [
    {
     "name": "stdout",
     "output_type": "stream",
     "text": [
      "Car started. Vroom Vroom!\n",
      "Bicycle started. Pedal Pedal!\n",
      "Boat started. Row Row!\n"
     ]
    }
   ],
   "source": [
    "#8. Create a Python class hierarchy for a vehicle system (e.g., car, bicycle, boat) and implement a polymorphic `start()` method that prints a message specific to each vehicle type.\n",
    "class Vehicle:\n",
    "    def start(self):\n",
    "        pass\n",
    "class Car(Vehicle):\n",
    "    def start(self):\n",
    "        return \"Car started. Vroom Vroom!\"\n",
    "class Bicycle(Vehicle):\n",
    "    def start(self):\n",
    "        return \"Bicycle started. Pedal Pedal!\"\n",
    "class Boat(Vehicle):\n",
    "    def start(self):\n",
    "        return \"Boat started. Row Row!\"\n",
    "vehicles = [Car(), Bicycle(), Boat()]\n",
    "for vehicle in vehicles:\n",
    "    print(vehicle.start())"
   ]
  },
  {
   "cell_type": "code",
   "execution_count": 80,
   "id": "0a6a01f5",
   "metadata": {},
   "outputs": [
    {
     "name": "stdout",
     "output_type": "stream",
     "text": [
      "True\n",
      "True\n",
      "True\n"
     ]
    }
   ],
   "source": [
    "#9. Explain the significance of the `isinstance()` and `issubclass()` functions in Python polymorphism.\n",
    "#isinstance():\n",
    "#isinstance() is used to determine whether an object is an instance of a particular class or any of its subclasses.\n",
    "#It takes two arguments: the object to be checked and the class (or a tuple of classes) to check against.\n",
    "#Returns True if the object is an instance of the specified class or any of its subclasses, otherwise returns False.\n",
    "class Animal:\n",
    "    pass\n",
    "class Dog(Animal):\n",
    "    pass\n",
    "dog = Dog()\n",
    "print(isinstance(dog, Dog))\n",
    "print(isinstance(dog, Animal))\n",
    "\n",
    "#issubclass():\n",
    "#issubclass() is used to check whether a class is a subclass of another class.\n",
    "#It takes two arguments: the subclass and the superclass.\n",
    "#Returns True if the subclass is indeed a subclass of the specified superclass, otherwise returns False.\n",
    "class Animal:\n",
    "    pass\n",
    "class Dog(Animal):\n",
    "    pass\n",
    "print(issubclass(Dog, Animal))"
   ]
  },
  {
   "cell_type": "code",
   "execution_count": 81,
   "id": "8cd1f9b6",
   "metadata": {},
   "outputs": [
    {
     "name": "stdout",
     "output_type": "stream",
     "text": [
      "Woof!\n",
      "Meow!\n"
     ]
    }
   ],
   "source": [
    "#10. What is the role of the `@abstractmethod` decorator in achieving polymorphism in Python? Provide an example.\n",
    "#The @abstractmethod decorator from the abc (Abstract Base Classes) module in Python plays a crucial role in achieving polymorphism by allowing you to define abstract methods in abstract classes.\n",
    "#Abstract methods are methods declared but not implemented in the abstract class itself, requiring concrete subclasses to provide their implementations.\n",
    "#This ensures a common interface among a group of related classes, facilitating polymorphic behavior.\n",
    "from abc import ABC, abstractmethod\n",
    "class Animal(ABC):\n",
    "    @abstractmethod\n",
    "    def speak(self):\n",
    "        pass\n",
    "class Dog(Animal):\n",
    "    def speak(self):\n",
    "        return \"Woof!\"\n",
    "class Cat(Animal):\n",
    "    def speak(self):\n",
    "        return \"Meow!\"\n",
    "def make_animal_speak(animal):\n",
    "    print(animal.speak())\n",
    "dog = Dog()\n",
    "cat = Cat()\n",
    "make_animal_speak(dog)\n",
    "make_animal_speak(cat)"
   ]
  },
  {
   "cell_type": "code",
   "execution_count": 82,
   "id": "a958427c",
   "metadata": {},
   "outputs": [
    {
     "name": "stdout",
     "output_type": "stream",
     "text": [
      "Area of Circle: 78.53981633974483\n",
      "Area of Rectangle: 24\n",
      "Area of Triangle: 12.0\n"
     ]
    }
   ],
   "source": [
    "#11. Create a Python class called `Shape` with a polymorphic method `area()` that calculates the area of different shapes (e.g., circle, rectangle, triangle).\n",
    "import math\n",
    "class Shape:\n",
    "    def area(self):\n",
    "        pass\n",
    "class Circle(Shape):\n",
    "    def __init__(self, radius):\n",
    "        self.radius = radius\n",
    "    def area(self):\n",
    "        return math.pi * self.radius**2\n",
    "class Rectangle(Shape):\n",
    "    def __init__(self, length, width):\n",
    "        self.length = length\n",
    "        self.width = width\n",
    "    def area(self):\n",
    "        return self.length * self.width\n",
    "class Triangle(Shape):\n",
    "    def __init__(self, base, height):\n",
    "        self.base = base\n",
    "        self.height = height\n",
    "    def area(self):\n",
    "        return 0.5 * self.base * self.height\n",
    "circle = Circle(5)\n",
    "rectangle = Rectangle(4, 6)\n",
    "triangle = Triangle(3, 8)\n",
    "print(\"Area of Circle:\", circle.area())\n",
    "print(\"Area of Rectangle:\", rectangle.area()) \n",
    "print(\"Area of Triangle:\", triangle.area()) "
   ]
  },
  {
   "cell_type": "code",
   "execution_count": 83,
   "id": "260cb657",
   "metadata": {},
   "outputs": [],
   "source": [
    "#12. Discuss the benefits of polymorphism in terms of code reusability and flexibility in Python programs.\n",
    "#Code Reusability:\n",
    "#Polymorphism enables writing generic code that can be reused with different implementations.\n",
    "#Common interfaces promote modularity and reduce redundancy in code.\n",
    "\n",
    "#Flexibility:\n",
    "#Polymorphism facilitates easy extension and modification of code without changing existing implementations.\n",
    "#New subclasses can be added without altering existing code, promoting scalability and maintainability."
   ]
  },
  {
   "cell_type": "code",
   "execution_count": 84,
   "id": "15997cfe",
   "metadata": {},
   "outputs": [
    {
     "name": "stdout",
     "output_type": "stream",
     "text": [
      "Parent class method\n",
      "Child class method\n"
     ]
    }
   ],
   "source": [
    "#13. Explain the use of the `super()` function in Python polymorphism. How does it help call methods of parent classes?\n",
    "#The super() function in Python is used to call methods or access attributes of a parent class from a subclass. \n",
    "#It helps achieve polymorphism by allowing subclasses to extend or override methods from their parent classes while still retaining the functionality of the parent class.\n",
    "class Parent:\n",
    "    def show(self):\n",
    "        print(\"Parent class method\")\n",
    "class Child(Parent):\n",
    "    def show(self):\n",
    "        super().show()\n",
    "        print(\"Child class method\")\n",
    "child_obj = Child()\n",
    "child_obj.show()"
   ]
  },
  {
   "cell_type": "code",
   "execution_count": 85,
   "id": "6f4b27b1",
   "metadata": {},
   "outputs": [
    {
     "name": "stdout",
     "output_type": "stream",
     "text": [
      "Withdrawn 500 from savings account. Remaining balance: 500\n",
      "Withdrawn 500 from checking account. Remaining balance: 1500\n",
      "Cannot withdraw from credit card account directly\n"
     ]
    }
   ],
   "source": [
    "#14. Create a Python class hierarchy for a banking system with various account types (e.g., savings, checking, credit card) and demonstrate polymorphism by implementing a common `withdraw()` method.\n",
    "class Account:\n",
    "    def __init__(self, account_number, balance):\n",
    "        self.account_number = account_number\n",
    "        self.balance = balance\n",
    "    def withdraw(self, amount):\n",
    "        pass\n",
    "class SavingsAccount(Account):\n",
    "    def withdraw(self, amount):\n",
    "        if self.balance >= amount:\n",
    "            self.balance -= amount\n",
    "            print(f\"Withdrawn {amount} from savings account. Remaining balance: {self.balance}\")\n",
    "        else:\n",
    "            print(\"Insufficient funds\")\n",
    "class CheckingAccount(Account):\n",
    "    def withdraw(self, amount):\n",
    "        if self.balance >= amount:\n",
    "            self.balance -= amount\n",
    "            print(f\"Withdrawn {amount} from checking account. Remaining balance: {self.balance}\")\n",
    "        else:\n",
    "            print(\"Insufficient funds\")\n",
    "class CreditCardAccount(Account):\n",
    "    def withdraw(self, amount):\n",
    "        print(\"Cannot withdraw from credit card account directly\")\n",
    "savings_account = SavingsAccount(\"SA123\", 1000)\n",
    "checking_account = CheckingAccount(\"CA456\", 2000)\n",
    "credit_card_account = CreditCardAccount(\"CC789\", 500)\n",
    "accounts = [savings_account, checking_account, credit_card_account]\n",
    "for account in accounts:\n",
    "    account.withdraw(500)"
   ]
  },
  {
   "cell_type": "code",
   "execution_count": 86,
   "id": "06e92553",
   "metadata": {},
   "outputs": [
    {
     "name": "stdout",
     "output_type": "stream",
     "text": [
      "Addition: (6, 8)\n",
      "Multiplication: (4, 6)\n"
     ]
    }
   ],
   "source": [
    "#15. Describe the concept of operator overloading in Python and how it relates to polymorphism. Provide examples using operators like `+` and `*`.\n",
    "#Operator overloading in Python refers to the ability to define how operators behave for user-defined objects.\n",
    "#This means that you can define special methods within your class that are invoked when instances of your class are used with operators such as +, *, -, /, etc.\n",
    "#Operator overloading is closely related to polymorphism because it allows different objects to respond to the same operator in different ways. \n",
    "#This enables a more natural and intuitive usage of operators across various object types, promoting code reuse and flexibility.\n",
    "class Vector:\n",
    "    def __init__(self, x, y):\n",
    "        self.x = x\n",
    "        self.y = y\n",
    "    def __add__(self, other):\n",
    "        return Vector(self.x + other.x, self.y + other.y)\n",
    "    def __mul__(self, scalar):\n",
    "        return Vector(self.x * scalar, self.y * scalar)\n",
    "    def __str__(self):\n",
    "        return f\"({self.x}, {self.y})\"\n",
    "v1 = Vector(2, 3)\n",
    "v2 = Vector(4, 5)\n",
    "result_addition = v1 + v2\n",
    "print(\"Addition:\", result_addition)\n",
    "result_multiplication = v1 * 2\n",
    "print(\"Multiplication:\", result_multiplication)"
   ]
  },
  {
   "cell_type": "code",
   "execution_count": 87,
   "id": "26a45d89",
   "metadata": {},
   "outputs": [],
   "source": [
    "#16. What is dynamic polymorphism, and how is it achieved in Python?\n",
    "#Dynamic polymorphism, also known as runtime polymorphism, refers to the ability of different objects to respond to the same method or function call in different ways, and it is resolved during program execution.\n",
    "#In Python, dynamic polymorphism is achieved through method overriding.\n",
    "#Method Overriding:\n",
    "#Subclasses provide specific implementations of methods that are already defined in their superclass.\n",
    "#When a method is called on an object, Python determines the appropriate implementation to execute based on the actual type of the object at runtime."
   ]
  },
  {
   "cell_type": "code",
   "execution_count": 88,
   "id": "852ce08b",
   "metadata": {},
   "outputs": [
    {
     "name": "stdout",
     "output_type": "stream",
     "text": [
      "John's salary: 3000\n",
      "Alice's salary: 2100\n",
      "Bob's salary: 1700\n"
     ]
    }
   ],
   "source": [
    "#17. Create a Python class hierarchy for employees in a company (e.g., manager, developer, designer) and implement polymorphism through a common `calculate_salary()` method.\n",
    "class Employee:\n",
    "    def __init__(self, name, hourly_rate):\n",
    "        self.name = name\n",
    "        self.hourly_rate = hourly_rate\n",
    "    def calculate_salary(self, hours_worked):\n",
    "        return self.hourly_rate * hours_worked\n",
    "class Manager(Employee):\n",
    "    def calculate_salary(self, hours_worked):\n",
    "        base_salary = super().calculate_salary(hours_worked)\n",
    "        return base_salary + 1000\n",
    "class Developer(Employee):\n",
    "    def calculate_salary(self, hours_worked):\n",
    "        base_salary = super().calculate_salary(hours_worked)\n",
    "        return base_salary + 500 \n",
    "class Designer(Employee):\n",
    "    def calculate_salary(self, hours_worked):\n",
    "        base_salary = super().calculate_salary(hours_worked)\n",
    "        return base_salary + 300\n",
    "manager = Manager(\"John\", 50)\n",
    "developer = Developer(\"Alice\", 40)\n",
    "designer = Designer(\"Bob\", 35)\n",
    "hours_worked = 40\n",
    "print(f\"{manager.name}'s salary:\", manager.calculate_salary(hours_worked))\n",
    "print(f\"{developer.name}'s salary:\", developer.calculate_salary(hours_worked))\n",
    "print(f\"{designer.name}'s salary:\", designer.calculate_salary(hours_worked))"
   ]
  },
  {
   "cell_type": "code",
   "execution_count": 89,
   "id": "8a4e9cb6",
   "metadata": {},
   "outputs": [],
   "source": [
    "#18. Discuss the concept of function pointers and how they can be used to achieve polymorphism in Python.\n",
    "#Define a common interface: Create a set of functions with a common interface.\n",
    "#Implement specific behavior: Implement these functions separately for each object or class that needs to exhibit polymorphic behavior.\n",
    "#Assign functions dynamically: Assign the appropriate function to a variable based on the type of object.\n",
    "#Call functions through variables: Call the function through the variable, which dynamically executes the appropriate implementation based on the object's type."
   ]
  },
  {
   "cell_type": "code",
   "execution_count": 90,
   "id": "2c310f60",
   "metadata": {},
   "outputs": [],
   "source": [
    "#19. Explain the role of interfaces and abstract classes in polymorphism, drawing comparisons between them.\n",
    "#Interfaces:\n",
    "#Focus on method signatures only, no implementation.\n",
    "#Can be implemented by multiple classes.\n",
    "#Promote loose coupling and code reusability.\n",
    "#Not directly supported in Python but can be emulated using abstract base classes.\n",
    "\n",
    "#Abstract Classes:\n",
    "#Can contain both abstract and concrete methods.\n",
    "#Serve as blueprints for subclasses, defining common behavior.\n",
    "#Subclasses must implement abstract methods.\n",
    "#Provides a way to enforce a common interface among subclasses.\n",
    "#Supported in Python using the abc module."
   ]
  },
  {
   "cell_type": "code",
   "execution_count": 92,
   "id": "67bc2d27",
   "metadata": {},
   "outputs": [
    {
     "name": "stdout",
     "output_type": "stream",
     "text": [
      "Lion:\n",
      "Sound: Mammal makes a sound\n",
      "Eating: Mammal eats\n",
      "Sleeping: Mammal sleeps\n",
      "\n",
      "Eagle:\n",
      "Sound: Bird chirps\n",
      "Eating: Bird pecks at food\n",
      "Sleeping: Bird perches and sleeps\n",
      "\n",
      "Snake:\n",
      "Sound: Reptile hisses\n",
      "Eating: Reptile feeds on prey\n",
      "Sleeping: Reptile basks in the sun and sleeps\n",
      "\n"
     ]
    }
   ],
   "source": [
    "#20. Create a Python class for a zoo simulation, demonstrating polymorphism with different animal types (e.g., mammals, birds, reptiles) and their behavior (e.g., eating, sleeping, making sounds).\n",
    "class Animal:\n",
    "    def __init__(self, name):\n",
    "        self.name = name\n",
    "    def make_sound(self):\n",
    "        pass\n",
    "    def eat(self):\n",
    "        pass\n",
    "    def sleep(self):\n",
    "        pass\n",
    "class Mammal(Animal):\n",
    "    def make_sound(self):\n",
    "        return \"Mammal makes a sound\"\n",
    "    def eat(self):\n",
    "        return \"Mammal eats\"\n",
    "    def sleep(self):\n",
    "        return \"Mammal sleeps\"\n",
    "class Bird(Animal):\n",
    "    def make_sound(self):\n",
    "        return \"Bird chirps\"\n",
    "    def eat(self):\n",
    "        return \"Bird pecks at food\"\n",
    "    def sleep(self):\n",
    "        return \"Bird perches and sleeps\"\n",
    "class Reptile(Animal):\n",
    "    def make_sound(self):\n",
    "        return \"Reptile hisses\"\n",
    "    def eat(self):\n",
    "        return \"Reptile feeds on prey\"\n",
    "    def sleep(self):\n",
    "        return \"Reptile basks in the sun and sleeps\"\n",
    "def simulate_zoo(animals):\n",
    "    for animal in animals:\n",
    "        print(animal.name + \":\")\n",
    "        print(\"Sound:\", animal.make_sound())\n",
    "        print(\"Eating:\", animal.eat())\n",
    "        print(\"Sleeping:\", animal.sleep())\n",
    "        print()\n",
    "lion = Mammal(\"Lion\")\n",
    "eagle = Bird(\"Eagle\")\n",
    "snake = Reptile(\"Snake\")\n",
    "simulate_zoo([lion, eagle, snake])"
   ]
  },
  {
   "cell_type": "markdown",
   "id": "b43c2425",
   "metadata": {},
   "source": [
    "# Abstraction"
   ]
  },
  {
   "cell_type": "code",
   "execution_count": 1,
   "id": "ee609845",
   "metadata": {},
   "outputs": [],
   "source": [
    "#1. What is abstraction in Python, and how does it relate to object-oriented programming?\n",
    "#Abstraction in Python involves hiding complex details and showing only essential features.\n",
    "#In object-oriented programming, it's about creating classes that define a blueprint for objects, focusing on what an object does rather than how it does it.\n",
    "#Abstraction helps in managing complexity and building modular, reusable components."
   ]
  },
  {
   "cell_type": "code",
   "execution_count": 2,
   "id": "3b55aeb5",
   "metadata": {},
   "outputs": [],
   "source": [
    "#2. Describe the benefits of abstraction in terms of code organization and complexity reduction.\n",
    "#Abstraction simplifies code organization by hiding complex details, allowing programmers to focus on essential features. \n",
    "#It reduces complexity by breaking down systems into manageable parts, making code easier to understand, maintain, and reuse."
   ]
  },
  {
   "cell_type": "code",
   "execution_count": 3,
   "id": "edf0b6dd",
   "metadata": {},
   "outputs": [
    {
     "name": "stdout",
     "output_type": "stream",
     "text": [
      "Area of the circle: 78.53981633974483\n",
      "Area of the rectangle: 24\n"
     ]
    }
   ],
   "source": [
    "#3. Create a Python class called `Shape` with an abstract method `calculate_area()`. Then, create child classes (e.g., `Circle`, `Rectangle`) that implement the `calculate_area()` method. Provide an example of using these classes.\n",
    "from abc import ABC, abstractmethod\n",
    "import math\n",
    "class Shape(ABC):\n",
    "    @abstractmethod\n",
    "    def calculate_area(self):\n",
    "        pass\n",
    "class Circle(Shape):\n",
    "    def __init__(self, radius):\n",
    "        self.radius = radius\n",
    "    def calculate_area(self):\n",
    "        return math.pi * self.radius ** 2\n",
    "class Rectangle(Shape):\n",
    "    def __init__(self, width, height):\n",
    "        self.width = width\n",
    "        self.height = height\n",
    "    def calculate_area(self):\n",
    "        return self.width * self.height\n",
    "circle = Circle(5)\n",
    "print(\"Area of the circle:\", circle.calculate_area())\n",
    "rectangle = Rectangle(4, 6)\n",
    "print(\"Area of the rectangle:\", rectangle.calculate_area())"
   ]
  },
  {
   "cell_type": "code",
   "execution_count": 5,
   "id": "0790b356",
   "metadata": {},
   "outputs": [
    {
     "name": "stdout",
     "output_type": "stream",
     "text": [
      "Area of the circle: 78.5\n"
     ]
    }
   ],
   "source": [
    "#4. Explain the concept of abstract classes in Python and how they are defined using the `abc` module. Provide an example\n",
    "#Abstract classes in Python are classes that cannot be instantiated directly and are meant to be subclassed.\n",
    "#They often contain one or more abstract methods, which are declared but not implemented in the abstract class itself.\n",
    "#The abc module in Python provides facilities for defining abstract base classes. \n",
    "#By subclassing the ABC (Abstract Base Class) class and using the @abstractmethod decorator, we can mark methods as abstract, indicating that they must be implemented by concrete subclasses.\n",
    "from abc import ABC, abstractmethod\n",
    "class Shape(ABC):\n",
    "    @abstractmethod\n",
    "    def calculate_area(self):\n",
    "        pass\n",
    "class Circle(Shape):\n",
    "    def __init__(self, radius):\n",
    "        self.radius = radius\n",
    "    def calculate_area(self):\n",
    "        return 3.14 * self.radius ** 2\n",
    "circle = Circle(5)\n",
    "print(\"Area of the circle:\", circle.calculate_area())"
   ]
  },
  {
   "cell_type": "code",
   "execution_count": 6,
   "id": "fe6eb35e",
   "metadata": {},
   "outputs": [],
   "source": [
    "#5. How do abstract classes differ from regular classes in Python? Discuss their use cases.\n",
    "#Abstract classes in Python cannot be instantiated directly, whereas regular classes can. \n",
    "#Abstract classes often contain one or more abstract methods, which must be implemented by concrete subclasses.\n",
    "#Regular classes, on the other hand, do not necessarily have abstract methods and can be instantiated directly.\n",
    "#use cases\n",
    "#Abstract classes are useful when you want to define a common interface for a group of related classes, ensuring that all subclasses implement certain methods.\n",
    "#Regular classes are used when you want to create objects directly without the need for subclassing or implementing abstract methods."
   ]
  },
  {
   "cell_type": "code",
   "execution_count": 7,
   "id": "ce7c3775",
   "metadata": {},
   "outputs": [
    {
     "name": "stdout",
     "output_type": "stream",
     "text": [
      "Deposited $50. New balance: $150\n",
      "Withdrew $30. New balance: $120\n",
      "Invalid withdrawal amount or insufficient funds.\n"
     ]
    }
   ],
   "source": [
    "#6. Create a Python class for a bank account and demonstrate abstraction by hiding the account balance and providing methods to deposit and withdraw funds.\n",
    "class BankAccount:\n",
    "    def __init__(self, initial_balance=0):\n",
    "        self._balance = initial_balance  # Using underscore to indicate it's a protected attribute\n",
    "    def deposit(self, amount):\n",
    "        if amount > 0:\n",
    "            self._balance += amount\n",
    "            print(f\"Deposited ${amount}. New balance: ${self._balance}\")\n",
    "        else:\n",
    "            print(\"Invalid deposit amount.\")\n",
    "    def withdraw(self, amount):\n",
    "        if 0 < amount <= self._balance:\n",
    "            self._balance -= amount\n",
    "            print(f\"Withdrew ${amount}. New balance: ${self._balance}\")\n",
    "        else:\n",
    "            print(\"Invalid withdrawal amount or insufficient funds.\")\n",
    "account = BankAccount(100)\n",
    "account.deposit(50)\n",
    "account.withdraw(30)\n",
    "account.withdraw(200)"
   ]
  },
  {
   "cell_type": "code",
   "execution_count": 8,
   "id": "cec8108c",
   "metadata": {},
   "outputs": [],
   "source": [
    "#7. Discuss the concept of interface classes in Python and their role in achieving abstraction.\n",
    "#Interface classes in Python define a set of methods that concrete classes must implement. \n",
    "#They play a crucial role in achieving abstraction by providing a common blueprint without specifying implementations.\n",
    "#This allows for polymorphism, where objects of different classes can be treated interchangeably based on their shared interface. \n",
    "#Interface classes promote code organization, consistency, and reusability, abstracting away implementation details and focusing on defining behavior."
   ]
  },
  {
   "cell_type": "code",
   "execution_count": 9,
   "id": "83b3843b",
   "metadata": {},
   "outputs": [
    {
     "name": "stdout",
     "output_type": "stream",
     "text": [
      "Buddy is eating.\n",
      "Buddy is sleeping.\n",
      "Whiskers is eating.\n",
      "Whiskers is sleeping.\n",
      "Simba is eating meat.\n",
      "Simba is sleeping.\n"
     ]
    }
   ],
   "source": [
    "#8. Create a Python class hierarchy for animals and implement abstraction by defining common methods (e.g., `eat()`, `sleep()`) in an abstract base class.\n",
    "from abc import ABC, abstractmethod\n",
    "class Animal(ABC):\n",
    "    def __init__(self, name):\n",
    "        self.name = name\n",
    "    @abstractmethod\n",
    "    def eat(self):\n",
    "        pass\n",
    "    @abstractmethod\n",
    "    def sleep(self):\n",
    "        pass\n",
    "class Dog(Animal):\n",
    "    def eat(self):\n",
    "        print(f\"{self.name} is eating.\")\n",
    "    def sleep(self):\n",
    "        print(f\"{self.name} is sleeping.\")\n",
    "class Cat(Animal):\n",
    "    def eat(self):\n",
    "        print(f\"{self.name} is eating.\")\n",
    "    def sleep(self):\n",
    "        print(f\"{self.name} is sleeping.\")\n",
    "class Lion(Animal):\n",
    "    def eat(self):\n",
    "        print(f\"{self.name} is eating meat.\")\n",
    "    def sleep(self):\n",
    "        print(f\"{self.name} is sleeping.\")\n",
    "dog = Dog(\"Buddy\")\n",
    "dog.eat()\n",
    "dog.sleep()\n",
    "cat = Cat(\"Whiskers\")\n",
    "cat.eat()\n",
    "cat.sleep()\n",
    "lion = Lion(\"Simba\")\n",
    "lion.eat()\n",
    "lion.sleep()"
   ]
  },
  {
   "cell_type": "code",
   "execution_count": 10,
   "id": "b7cddd92",
   "metadata": {},
   "outputs": [
    {
     "name": "stdout",
     "output_type": "stream",
     "text": [
      "Make: Toyota\n",
      "Model: Camry\n"
     ]
    }
   ],
   "source": [
    "#9. Explain the significance of encapsulation in achieving abstraction. Provide examples.\n",
    "#Encapsulation in programming refers to the bundling of data and methods that operate on the data into a single unit, typically a class. \n",
    "#It helps achieve abstraction by hiding the internal state of an object and only exposing the necessary functionality through methods.\n",
    "class Car:\n",
    "    def __init__(self, make, model):\n",
    "        self._make = make\n",
    "        self._model = model\n",
    "    def get_make(self):\n",
    "        return self._make\n",
    "    def get_model(self):\n",
    "        return self._model\n",
    "car = Car(\"Toyota\", \"Camry\")\n",
    "print(\"Make:\", car.get_make())\n",
    "print(\"Model:\", car.get_model())"
   ]
  },
  {
   "cell_type": "code",
   "execution_count": 11,
   "id": "11c0d0fc",
   "metadata": {},
   "outputs": [],
   "source": [
    "#10. What is the purpose of abstract methods, and how do they enforce abstraction in Python classes?\n",
    "#The purpose of abstract methods in Python is to define a method signature without providing its implementation.\n",
    "#They enforce abstraction by requiring concrete subclasses to implement these methods, ensuring a common interface across different classes.\n",
    "#This ensures code consistency, promotes polymorphism, and helps in organizing code hierarchies effectively."
   ]
  },
  {
   "cell_type": "code",
   "execution_count": 12,
   "id": "b1318354",
   "metadata": {},
   "outputs": [
    {
     "name": "stdout",
     "output_type": "stream",
     "text": [
      "Starting the Toyota Camry.\n",
      "Stopping the Toyota Camry.\n",
      "Starting the Honda CBR500R.\n",
      "Stopping the Honda CBR500R.\n"
     ]
    }
   ],
   "source": [
    "#11. Create a Python class for a vehicle system and demonstrate abstraction by defining common methods (e.g., `start()`, `stop()`) in an abstract base class.\n",
    "from abc import ABC, abstractmethod\n",
    "class Vehicle(ABC):\n",
    "    def __init__(self, make, model):\n",
    "        self.make = make\n",
    "        self.model = model\n",
    "    @abstractmethod\n",
    "    def start(self):\n",
    "        pass\n",
    "    @abstractmethod\n",
    "    def stop(self):\n",
    "        pass\n",
    "class Car(Vehicle):\n",
    "    def start(self):\n",
    "        print(f\"Starting the {self.make} {self.model}.\")\n",
    "    def stop(self):\n",
    "        print(f\"Stopping the {self.make} {self.model}.\")\n",
    "class Motorcycle(Vehicle):\n",
    "    def start(self):\n",
    "        print(f\"Starting the {self.make} {self.model}.\")\n",
    "    def stop(self):\n",
    "        print(f\"Stopping the {self.make} {self.model}.\")\n",
    "car = Car(\"Toyota\", \"Camry\")\n",
    "car.start()\n",
    "car.stop()\n",
    "motorcycle = Motorcycle(\"Honda\", \"CBR500R\")\n",
    "motorcycle.start()\n",
    "motorcycle.stop()"
   ]
  },
  {
   "cell_type": "code",
   "execution_count": 13,
   "id": "ae21139a",
   "metadata": {},
   "outputs": [
    {
     "name": "stdout",
     "output_type": "stream",
     "text": [
      "Rectangle Area: 20\n",
      "Rectangle Perimeter: 18\n",
      "Circle Area: 28.259999999999998\n",
      "Circle Perimeter: 18.84\n"
     ]
    }
   ],
   "source": [
    "#12. Describe the use of abstract properties in Python and how they can be employed in abstract classes.\n",
    "#abstract properties are used in abstract classes to define properties that must be implemented by subclasses.\n",
    "#They ensure that subclasses provide a specific interface while allowing flexibility in implementation.\n",
    "from abc import ABC, abstractmethod\n",
    "class Shape(ABC):\n",
    "    @property\n",
    "    @abstractmethod\n",
    "    def area(self):\n",
    "        pass\n",
    "    @property\n",
    "    @abstractmethod\n",
    "    def perimeter(self):\n",
    "        pass\n",
    "class Rectangle(Shape):\n",
    "    def __init__(self, width, height):\n",
    "        self.width = width\n",
    "        self.height = height\n",
    "    @property\n",
    "    def area(self):\n",
    "        return self.width * self.height\n",
    "    @property\n",
    "    def perimeter(self):\n",
    "        return 2 * (self.width + self.height)\n",
    "class Circle(Shape):\n",
    "    def __init__(self, radius):\n",
    "        self.radius = radius\n",
    "    @property\n",
    "    def area(self):\n",
    "        return 3.14 * self.radius * self.radius\n",
    "    @property\n",
    "    def perimeter(self):\n",
    "        return 2 * 3.14 * self.radius\n",
    "rect = Rectangle(5, 4)\n",
    "print(\"Rectangle Area:\", rect.area)\n",
    "print(\"Rectangle Perimeter:\", rect.perimeter)\n",
    "circle = Circle(3)\n",
    "print(\"Circle Area:\", circle.area)\n",
    "print(\"Circle Perimeter:\", circle.perimeter)"
   ]
  },
  {
   "cell_type": "code",
   "execution_count": 14,
   "id": "743cbd0f",
   "metadata": {},
   "outputs": [
    {
     "name": "stdout",
     "output_type": "stream",
     "text": [
      "Manager Salary: 70000\n",
      "Developer Salary: 63000\n",
      "Designer Salary: 57000\n"
     ]
    }
   ],
   "source": [
    "#13. Create a Python class hierarchy for employees in a company (e.g., manager, developer, designer) and implement abstraction by defining a common `get_salary()` method.\n",
    "from abc import ABC, abstractmethod\n",
    "class Employee(ABC):\n",
    "    def __init__(self, name, salary):\n",
    "        self.name = name\n",
    "        self.salary = salary\n",
    "    @abstractmethod\n",
    "    def get_salary(self):\n",
    "        pass\n",
    "class Manager(Employee):\n",
    "    def __init__(self, name, salary, bonus):\n",
    "        super().__init__(name, salary)\n",
    "        self.bonus = bonus\n",
    "    def get_salary(self):\n",
    "        return self.salary + self.bonus\n",
    "class Developer(Employee):\n",
    "    def __init__(self, name, salary, bonus):\n",
    "        super().__init__(name, salary)\n",
    "        self.bonus = bonus\n",
    "    def get_salary(self):\n",
    "        return self.salary + self.bonus\n",
    "class Designer(Employee):\n",
    "    def __init__(self, name, salary, bonus):\n",
    "        super().__init__(name, salary)\n",
    "        self.bonus = bonus\n",
    "    def get_salary(self):\n",
    "        return self.salary + self.bonus\n",
    "manager = Manager(\"John Doe\", 60000, 10000)\n",
    "developer = Developer(\"Jane Smith\", 55000, 8000)\n",
    "designer = Designer(\"Alice Johnson\", 50000, 7000)\n",
    "print(\"Manager Salary:\", manager.get_salary())\n",
    "print(\"Developer Salary:\", developer.get_salary())\n",
    "print(\"Designer Salary:\", designer.get_salary())"
   ]
  },
  {
   "cell_type": "code",
   "execution_count": 15,
   "id": "51e4069b",
   "metadata": {},
   "outputs": [],
   "source": [
    "#14. Discuss the differences between abstract classes and concrete classes in Python, including their instantiation.\n",
    "#Abstract classes:\n",
    "#Abstract classes cannot be instantiated directly.\n",
    "#They often contain abstract methods that must be implemented by subclasses.\n",
    "#They serve as a blueprint for other classes, defining common behavior and interfaces.\n",
    "\n",
    "#Concrete classes:\n",
    "#Concrete classes can be instantiated directly.\n",
    "#They provide concrete implementations of methods and attributes.\n",
    "#They can inherit from abstract classes or other concrete classes.\n",
    "#They are used to create objects with specific functionality without the need for further subclassing."
   ]
  },
  {
   "cell_type": "code",
   "execution_count": 16,
   "id": "2465387c",
   "metadata": {},
   "outputs": [],
   "source": [
    "#15. Explain the concept of abstract data types (ADTs) and their role in achieving abstraction in Python.\n",
    "#Abstract Data Types (ADTs) are mathematical models representing data types based solely on the operations that can be performed on them, abstracting away implementation details.\n",
    "#In Python, ADTs are realized through classes and objects, providing a way to encapsulate data and behavior. \n",
    "#They achieve abstraction by allowing users to interact with data using predefined methods, hiding the complexities of the underlying implementation.\n",
    "#ADTs promote modular programming, reduce complexity, and enable users to work with high-level concepts without needing to understand low-level details."
   ]
  },
  {
   "cell_type": "code",
   "execution_count": 17,
   "id": "043036f0",
   "metadata": {},
   "outputs": [
    {
     "name": "stdout",
     "output_type": "stream",
     "text": [
      "Desktop is powering on...\n",
      "Desktop is shutting down...\n",
      "\n",
      "Laptop is powering on...\n",
      "Laptop is shutting down...\n"
     ]
    }
   ],
   "source": [
    "#16. Create a Python class for a computer system, demonstrating abstraction by defining common methods (e.g., `power_on()`, `shutdown()`) in an  abstract base class.\n",
    "from abc import ABC, abstractmethod\n",
    "class ComputerSystem(ABC):\n",
    "    @abstractmethod\n",
    "    def power_on(self):\n",
    "        pass\n",
    "    @abstractmethod\n",
    "    def shutdown(self):\n",
    "        pass\n",
    "class Desktop(ComputerSystem):\n",
    "    def power_on(self):\n",
    "        print(\"Desktop is powering on...\")\n",
    "    def shutdown(self):\n",
    "        print(\"Desktop is shutting down...\")\n",
    "class Laptop(ComputerSystem):\n",
    "    def power_on(self):\n",
    "        print(\"Laptop is powering on...\")\n",
    "    def shutdown(self):\n",
    "        print(\"Laptop is shutting down...\")\n",
    "desktop = Desktop()\n",
    "laptop = Laptop()\n",
    "desktop.power_on()\n",
    "desktop.shutdown()\n",
    "print()\n",
    "laptop.power_on()\n",
    "laptop.shutdown()"
   ]
  },
  {
   "cell_type": "code",
   "execution_count": 18,
   "id": "dfe187c2",
   "metadata": {},
   "outputs": [],
   "source": [
    "#17. Discuss the benefits of using abstraction in large-scale software development projects.\n",
    "#Complexity Management: Abstraction simplifies complex systems by hiding implementation details, allowing developers to focus on high-level concepts and reducing cognitive load.\n",
    "#Modularization: It promotes modular design, facilitating code organization, reuse, and collaboration among team members, leading to more maintainable and scalable systems.\n",
    "#Maintenance and Upgradability: Abstraction allows changes to be made in one module without affecting others, easing maintenance and enabling seamless upgrades, which is crucial for long-term sustainability.\n",
    "#Scalability: By providing a flexible framework for adding new features or functionalities, abstraction helps the system adapt to evolving requirements and handle increased workload efficiently.\n",
    "#Reduced Dependencies: Abstraction reduces coupling between different parts of the system, making components more independent, easier to test, debug, and refactor, thus improving overall system stability and robustness.\n",
    "#Enhanced Productivity: It enables developers to work at a higher level of abstraction, focusing on solving business problems rather than implementation details, leading to faster development cycles and increased productivity."
   ]
  },
  {
   "cell_type": "code",
   "execution_count": 19,
   "id": "d79e0afe",
   "metadata": {},
   "outputs": [],
   "source": [
    "#18. Explain how abstraction enhances code reusability and modularity in Python programs.\n",
    "#abstraction enhances code reusability and modularity by allowing developers to create interfaces that hide implementation details.\n",
    "#This separation of concerns enables modules to interact with each other through well-defined interfaces, rather than direct access to internal details.\n",
    "#By abstracting away implementation specifics, modules become more self-contained and interchangeable, facilitating easier reuse in different contexts. \n",
    "#Additionally, abstraction promotes modular design practices, enabling developers to organize code into smaller, more manageable components that can be reused across different projects, leading to increased code reusability and modularity."
   ]
  },
  {
   "cell_type": "code",
   "execution_count": 20,
   "id": "b67e065f",
   "metadata": {},
   "outputs": [
    {
     "name": "stdout",
     "output_type": "stream",
     "text": [
      "Added 'The Great Gatsby' by F. Scott Fitzgerald to the library.\n",
      "Added 'To Kill a Mockingbird' by Harper Lee to the library.\n",
      "Borrowed 'The Great Gatsby' from the library.\n",
      "'1984' is not available in the library.\n"
     ]
    }
   ],
   "source": [
    "#19. Create a Python class for a library system, implementing abstraction by defining common methods (e.g., `add_book()`, `borrow_book()`) in an abstract base class.\n",
    "from abc import ABC, abstractmethod\n",
    "class LibrarySystem(ABC):\n",
    "    def __init__(self):\n",
    "        self.books = {}\n",
    "    @abstractmethod\n",
    "    def add_book(self, book_title, author):\n",
    "        pass\n",
    "    @abstractmethod\n",
    "    def borrow_book(self, book_title):\n",
    "        pass\n",
    "class Library(LibrarySystem):\n",
    "    def add_book(self, book_title, author):\n",
    "        if book_title not in self.books:\n",
    "            self.books[book_title] = author\n",
    "            print(f\"Added '{book_title}' by {author} to the library.\")\n",
    "        else:\n",
    "            print(f\"'{book_title}' already exists in the library.\")\n",
    "    def borrow_book(self, book_title):\n",
    "        if book_title in self.books:\n",
    "            del self.books[book_title]\n",
    "            print(f\"Borrowed '{book_title}' from the library.\")\n",
    "        else:\n",
    "            print(f\"'{book_title}' is not available in the library.\")\n",
    "library = Library()\n",
    "library.add_book(\"The Great Gatsby\", \"F. Scott Fitzgerald\")\n",
    "library.add_book(\"To Kill a Mockingbird\", \"Harper Lee\")\n",
    "library.borrow_book(\"The Great Gatsby\")\n",
    "library.borrow_book(\"1984\")"
   ]
  },
  {
   "cell_type": "code",
   "execution_count": 21,
   "id": "970a56a3",
   "metadata": {},
   "outputs": [],
   "source": [
    "#20. Describe the concept of method abstraction in Python and how it relates to polymorphism.\n",
    "#Method abstraction in Python involves hiding the implementation details of methods, focusing only on their interfaces or signatures. \n",
    "#This allows different classes to have methods with the same name but potentially different implementations.\n",
    "#Method abstraction is crucial for building modular and maintainable code.\n",
    "\n",
    "#Polymorphism in Python allows objects of different classes to be treated interchangeably based on their common method signatures.\n",
    "#Method abstraction enables polymorphism by providing a consistent interface across different classes. \n",
    "#This means that objects can respond to the same method call in different ways, depending on their specific implementations, thus enhancing code flexibility and reusability."
   ]
  },
  {
   "cell_type": "markdown",
   "id": "1f9d087d",
   "metadata": {},
   "source": [
    "# Composition"
   ]
  },
  {
   "cell_type": "code",
   "execution_count": 22,
   "id": "5990b2ba",
   "metadata": {},
   "outputs": [],
   "source": [
    "#1. Explain the concept of composition in Python and how it is used to build complex objects from simpler ones.\n",
    "#Composition in Python involves creating complex objects by combining simpler objects. \n",
    "#Rather than relying solely on inheritance, composition allows classes to be constructed using references to other classes as components. \n",
    "#This approach promotes code reusability, modularity, and flexibility. \n",
    "#For instance, a car object can be composed of separate components like an engine, wheels, and seats, each represented by its own class. \n",
    "#This modular design enables easier modification and maintenance, as changes to one component do not necessarily affect others.\n",
    "#In essence, composition simplifies the creation of complex objects by breaking them down into smaller, reusable building blocks."
   ]
  },
  {
   "cell_type": "code",
   "execution_count": 23,
   "id": "b4775930",
   "metadata": {},
   "outputs": [],
   "source": [
    "#2. Describe the difference between composition and inheritance in object-oriented programming.\n",
    "#Inheritance involves creating new classes based on existing ones, inheriting their properties and behaviors, fostering an \"is-a\" relationship.\n",
    "#Composition, on the other hand, involves creating classes that contain instances of other classes, promoting a \"has-a\" relationship. \n",
    "#Inheritance emphasizes hierarchy and code reuse through class extension, while composition emphasizes flexibility and code reuse through object containment."
   ]
  },
  {
   "cell_type": "code",
   "execution_count": 24,
   "id": "382ac252",
   "metadata": {},
   "outputs": [
    {
     "name": "stdout",
     "output_type": "stream",
     "text": [
      "The Great Gatsby\n",
      "F. Scott Fitzgerald\n",
      "September 24, 1896\n"
     ]
    }
   ],
   "source": [
    "#3. Create a Python class called `Author` with attributes for name and birthdate. Then, create a `Book` class that contains an instance of `Author` as a composition. Provide an example of creating a `Book` object\n",
    "class Author:\n",
    "    def __init__(self, name, birthdate):\n",
    "        self.name = name\n",
    "        self.birthdate = birthdate\n",
    "class Book:\n",
    "    def __init__(self, title, author_name, author_birthdate):\n",
    "        self.title = title\n",
    "        self.author = Author(author_name, author_birthdate)\n",
    "book1 = Book(\"The Great Gatsby\", \"F. Scott Fitzgerald\", \"September 24, 1896\")\n",
    "print(book1.title)\n",
    "print(book1.author.name)\n",
    "print(book1.author.birthdate)"
   ]
  },
  {
   "cell_type": "code",
   "execution_count": 25,
   "id": "3192dfaf",
   "metadata": {},
   "outputs": [],
   "source": [
    "#4. Discuss the benefits of using composition over inheritance in Python, especially in terms of code flexibility and reusability\n",
    "#Flexibility:\n",
    "#With composition, you can create complex objects by combining simpler ones, allowing for more flexible and dynamic object structures.\n",
    "#Objects can be composed of different components at runtime, enabling greater adaptability to changing requirements.\n",
    "#You can easily swap out components or modify their behavior without affecting the rest of the codebase, promoting easier maintenance and evolution of the code.\n",
    "\n",
    "#Code Reusability:\n",
    "#Composition encourages modular design, making it easier to reuse existing components in different contexts.\n",
    "#Since components are independent entities, they can be reused in multiple compositions, reducing code duplication.\n",
    "#By encapsulating functionality within components, you can isolate changes to specific parts of the codebase, promoting reusability across projects.\n",
    "\n",
    "#Encapsulation:\n",
    "#Composition supports encapsulation by allowing objects to control access to their components.\n",
    "#Components can have their own state and behavior, encapsulating data and functionality within a single unit.\n",
    "#Encapsulation promotes cleaner interfaces and reduces dependencies between components, enhancing maintainability and readability of the code.\n",
    "\n",
    "#Avoiding Tight Coupling:\n",
    "#Inheritance can lead to tight coupling between subclasses and their superclasses, making the code more brittle and harder to maintain.\n",
    "#Composition, on the other hand, promotes looser coupling between objects, as they interact through well-defined interfaces rather than direct inheritance relationships.\n",
    "#Loose coupling facilitates easier testing, as components can be mocked or replaced with alternate implementations, improving code reliability and testability."
   ]
  },
  {
   "cell_type": "code",
   "execution_count": 26,
   "id": "0752d064",
   "metadata": {},
   "outputs": [
    {
     "name": "stdout",
     "output_type": "stream",
     "text": [
      "Car started\n",
      "Engine started\n",
      "Car stopped\n",
      "Engine stopped\n"
     ]
    }
   ],
   "source": [
    "#5. How can you implement composition in Python classes? Provide examples of using composition to create complex objects.\n",
    "class Engine:\n",
    "    def start(self):\n",
    "        print(\"Engine started\")\n",
    "    def stop(self):\n",
    "        print(\"Engine stopped\")\n",
    "class Car:\n",
    "    def __init__(self):\n",
    "        self.engine = Engine()  # Composition: Car has an Engine\n",
    "    def start(self):\n",
    "        print(\"Car started\")\n",
    "        self.engine.start()\n",
    "    def stop(self):\n",
    "        print(\"Car stopped\")\n",
    "        self.engine.stop()\n",
    "my_car = Car()\n",
    "my_car.start()\n",
    "my_car.stop()"
   ]
  },
  {
   "cell_type": "code",
   "execution_count": 27,
   "id": "e2d6de0e",
   "metadata": {},
   "outputs": [
    {
     "name": "stdout",
     "output_type": "stream",
     "text": [
      "Playlist 'Classic Rock':\n",
      "Playing 'Bohemian Rhapsody' by Queen\n",
      "Playing 'Hotel California' by Eagles\n",
      "Playing 'Stairway to Heaven' by Led Zeppelin\n"
     ]
    }
   ],
   "source": [
    "#6. Create a Python class hierarchy for a music player system, using composition to represent playlists and songs.\n",
    "class Song:\n",
    "    def __init__(self, title, artist):\n",
    "        self.title = title\n",
    "        self.artist = artist\n",
    "    def play(self):\n",
    "        print(f\"Playing '{self.title}' by {self.artist}\")\n",
    "class Playlist:\n",
    "    def __init__(self, name):\n",
    "        self.name = name\n",
    "        self.songs = []\n",
    "    def add_song(self, song):\n",
    "        self.songs.append(song)\n",
    "    def play_all(self):\n",
    "        print(f\"Playlist '{self.name}':\")\n",
    "        for song in self.songs:\n",
    "            song.play()\n",
    "song1 = Song(\"Bohemian Rhapsody\", \"Queen\")\n",
    "song2 = Song(\"Hotel California\", \"Eagles\")\n",
    "song3 = Song(\"Stairway to Heaven\", \"Led Zeppelin\")\n",
    "playlist = Playlist(\"Classic Rock\")\n",
    "playlist.add_song(song1)\n",
    "playlist.add_song(song2)\n",
    "playlist.add_song(song3)\n",
    "playlist.play_all()"
   ]
  },
  {
   "cell_type": "code",
   "execution_count": 28,
   "id": "0bdef97b",
   "metadata": {},
   "outputs": [],
   "source": [
    "#7. Explain the concept of \"has-a\" relationships in composition and how it helps design software systems.\n",
    "#a \"has-a\" relationship denotes that one class contains an instance of another class as one of its members. \n",
    "#This relationship signifies that the containing class \"has\" the other class as a part of its structure.\n",
    "\n",
    "#This concept aids in software design by promoting modularity, flexibility, and reusability.\n",
    "#By breaking down complex systems into smaller, more focused components, each class can handle specific responsibilities, leading to clearer and more maintainable code.\n",
    "#\"Has-a\" relationships allow for dynamic assembly of objects, enabling different combinations of components to create various structures.\n",
    "#This flexibility supports easier adaptation to changing requirements. Additionally, components can be reused across different parts of the system, reducing duplication and development effort while maintaining consistency.\n",
    "#Encapsulation is also enhanced, as each class encapsulates its own functionality, leading to better organization, reduced coupling, and improved readability, maintainability, and testability of the software system. \n",
    "#Overall, leveraging \"has-a\" relationships through composition contributes to building more robust and maintainable software systems."
   ]
  },
  {
   "cell_type": "code",
   "execution_count": 29,
   "id": "ad43d0b3",
   "metadata": {},
   "outputs": [
    {
     "name": "stdout",
     "output_type": "stream",
     "text": [
      "Computer booting up...\n",
      "Intel i7 CPU executing instructions at 3.2 GHz\n",
      "Reading data from 16 GB RAM\n",
      "Reading data from 512 GB storage\n",
      "Computer is ready to use\n"
     ]
    }
   ],
   "source": [
    "#8. Create a Python class for a computer system, using composition to represent components like CPU, RAM, and storage devices.\n",
    "class CPU:\n",
    "    def __init__(self, model, speed):\n",
    "        self.model = model\n",
    "        self.speed = speed\n",
    "    def execute(self):\n",
    "        print(f\"{self.model} CPU executing instructions at {self.speed} GHz\")\n",
    "class RAM:\n",
    "    def __init__(self, capacity):\n",
    "        self.capacity = capacity\n",
    "    def read(self):\n",
    "        print(f\"Reading data from {self.capacity} GB RAM\")\n",
    "class Storage:\n",
    "    def __init__(self, capacity):\n",
    "        self.capacity = capacity\n",
    "    def read_data(self):\n",
    "        print(f\"Reading data from {self.capacity} GB storage\")\n",
    "class Computer:\n",
    "    def __init__(self, cpu_model, cpu_speed, ram_capacity, storage_capacity):\n",
    "        self.cpu = CPU(cpu_model, cpu_speed)\n",
    "        self.ram = RAM(ram_capacity)\n",
    "        self.storage = Storage(storage_capacity)\n",
    "    def boot(self):\n",
    "        print(\"Computer booting up...\")\n",
    "        self.cpu.execute()\n",
    "        self.ram.read()\n",
    "        self.storage.read_data()\n",
    "        print(\"Computer is ready to use\")\n",
    "my_computer = Computer(\"Intel i7\", 3.2, 16, 512)\n",
    "my_computer.boot()"
   ]
  },
  {
   "cell_type": "code",
   "execution_count": 30,
   "id": "beb4af15",
   "metadata": {},
   "outputs": [],
   "source": [
    "#9. Describe the concept of \"delegation\" in composition and how it simplifies the design of complex systems.\n",
    "#In composition, \"delegation\" involves assigning specific tasks or operations to other objects rather than implementing them directly within a class.\n",
    "#This simplifies the design of complex systems by promoting modularization and encapsulation.\n",
    "#Each class focuses on its core responsibilities and delegates specialized tasks to other objects, leading to cleaner, more maintainable code.\n",
    "#Delegation enhances code reuse and flexibility, as components can be reused in various contexts, and changes to one component are less likely to impact the entire system.\n",
    "#Overall, delegation in composition streamlines the design of complex systems, making them more manageable and adaptable."
   ]
  },
  {
   "cell_type": "code",
   "execution_count": 31,
   "id": "03f78445",
   "metadata": {},
   "outputs": [
    {
     "name": "stdout",
     "output_type": "stream",
     "text": [
      "V8 engine started\n",
      "Wheel at front left position rotating\n",
      "Wheel at front right position rotating\n",
      "Wheel at rear left position rotating\n",
      "Wheel at rear right position rotating\n",
      "Shifting gear with automatic transmission\n",
      "Car started\n",
      "\n",
      "Shifting gear with automatic transmission\n",
      "Wheel at front left position rotating\n",
      "Wheel at front right position rotating\n",
      "Wheel at rear left position rotating\n",
      "Wheel at rear right position rotating\n",
      "V8 engine stopped\n",
      "Car stopped\n"
     ]
    }
   ],
   "source": [
    "#10. Create a Python class for a car, using composition to represent components like the engine, wheels, and transmission.\n",
    "class Engine:\n",
    "    def __init__(self, model):\n",
    "        self.model = model\n",
    "    def start(self):\n",
    "        print(f\"{self.model} engine started\")\n",
    "    def stop(self):\n",
    "        print(f\"{self.model} engine stopped\")\n",
    "class Wheel:\n",
    "    def __init__(self, position):\n",
    "        self.position = position\n",
    "    def rotate(self):\n",
    "        print(f\"Wheel at {self.position} position rotating\")\n",
    "class Transmission:\n",
    "    def __init__(self, transmission_type):\n",
    "        self.transmission_type = transmission_type\n",
    "    def shift_gear(self):\n",
    "        print(f\"Shifting gear with {self.transmission_type} transmission\")\n",
    "class Car:\n",
    "    def __init__(self, engine_model, wheel_positions, transmission_type):\n",
    "        self.engine = Engine(engine_model)\n",
    "        self.wheels = [Wheel(position) for position in wheel_positions]\n",
    "        self.transmission = Transmission(transmission_type)\n",
    "    def start(self):\n",
    "        self.engine.start()\n",
    "        for wheel in self.wheels:\n",
    "            wheel.rotate()\n",
    "        self.transmission.shift_gear()\n",
    "        print(\"Car started\")\n",
    "    def stop(self):\n",
    "        self.transmission.shift_gear()\n",
    "        for wheel in self.wheels:\n",
    "            wheel.rotate()\n",
    "        self.engine.stop()\n",
    "        print(\"Car stopped\")\n",
    "my_car = Car(\"V8\", [\"front left\", \"front right\", \"rear left\", \"rear right\"], \"automatic\")\n",
    "my_car.start()\n",
    "print()\n",
    "my_car.stop()"
   ]
  },
  {
   "cell_type": "code",
   "execution_count": 35,
   "id": "1a398905",
   "metadata": {},
   "outputs": [],
   "source": [
    "#11. How can you encapsulate and hide the details of composed objects in Python classes to maintain abstraction?\n",
    "class Car:\n",
    "    def __init__(self, engine_model, wheel_positions, transmission_type):\n",
    "        self._engine = Engine(engine_model)  # Private attribute\n",
    "        self._wheels = [Wheel(position) for position in wheel_positions]\n",
    "        self._transmission = Transmission(transmission_type)  \n",
    "    def start(self):\n",
    "        self._engine.start()\n",
    "        for wheel in self._wheels:\n",
    "            wheel.rotate()\n",
    "        self._transmission.shift_gear()\n",
    "        print(\"Car started\")\n",
    "    def stop(self):\n",
    "        self._transmission.shift_gear()\n",
    "        for wheel in self._wheels:\n",
    "            wheel.rotate()\n",
    "        self._engine.stop()\n",
    "        print(\"Car stopped\")"
   ]
  },
  {
   "cell_type": "code",
   "execution_count": 36,
   "id": "38bb7567",
   "metadata": {},
   "outputs": [
    {
     "name": "stdout",
     "output_type": "stream",
     "text": [
      "Course: Python Programming\n",
      "Instructor: Instructor: Dr. Smith (ID: I001)\n",
      "Students:\n",
      "- Student: Alice (ID: S001)\n",
      "- Student: Bob (ID: S002)\n",
      "Course Materials:\n",
      "- Lecture slides: Introduction to Python programming\n",
      "- Textbook: Python Crash Course\n",
      "\n"
     ]
    }
   ],
   "source": [
    "#12. Create a Python class for a university course, using composition to represent students, instructors, and course materials\n",
    "class Student:\n",
    "    def __init__(self, name, student_id):\n",
    "        self.name = name\n",
    "        self.student_id = student_id\n",
    "    def __str__(self):\n",
    "        return f\"Student: {self.name} (ID: {self.student_id})\"\n",
    "class Instructor:\n",
    "    def __init__(self, name, instructor_id):\n",
    "        self.name = name\n",
    "        self.instructor_id = instructor_id\n",
    "    def __str__(self):\n",
    "        return f\"Instructor: {self.name} (ID: {self.instructor_id})\"\n",
    "class CourseMaterial:\n",
    "    def __init__(self, material_type, content):\n",
    "        self.material_type = material_type\n",
    "        self.content = content\n",
    "    def __str__(self):\n",
    "        return f\"{self.material_type}: {self.content}\"\n",
    "class UniversityCourse:\n",
    "    def __init__(self, course_name, instructor, students, course_materials):\n",
    "        self.course_name = course_name\n",
    "        self.instructor = instructor\n",
    "        self.students = students\n",
    "        self.course_materials = course_materials\n",
    "    def __str__(self):\n",
    "        info = f\"Course: {self.course_name}\\n\"\n",
    "        info += f\"Instructor: {self.instructor}\\n\"\n",
    "        info += \"Students:\\n\"\n",
    "        for student in self.students:\n",
    "            info += f\"- {student}\\n\"\n",
    "        info += \"Course Materials:\\n\"\n",
    "        for material in self.course_materials:\n",
    "            info += f\"- {material}\\n\"\n",
    "        return info\n",
    "student1 = Student(\"Alice\", \"S001\")\n",
    "student2 = Student(\"Bob\", \"S002\")\n",
    "instructor = Instructor(\"Dr. Smith\", \"I001\")\n",
    "materials = [\n",
    "    CourseMaterial(\"Lecture slides\", \"Introduction to Python programming\"),\n",
    "    CourseMaterial(\"Textbook\", \"Python Crash Course\"),\n",
    "]\n",
    "course = UniversityCourse(\"Python Programming\", instructor, [student1, student2], materials)\n",
    "print(course)"
   ]
  },
  {
   "cell_type": "code",
   "execution_count": 37,
   "id": "a5f29a2b",
   "metadata": {},
   "outputs": [],
   "source": [
    "#13. Discuss the challenges and drawbacks of composition, such as increased complexity and potential for tight coupling between objects.\n",
    "#Increased Complexity:\n",
    "#Composition can lead to increased complexity by introducing more classes and relationships.\n",
    "#Managing interactions between multiple objects becomes more challenging as the number of components grows.\n",
    "\n",
    "#Potential for Tight Coupling:\n",
    "#Composition may result in tight coupling between objects if not carefully implemented.\n",
    "#Changes in one component may require corresponding changes in other components, leading to a tightly integrated system.\n",
    "\n",
    "#Dependency Management:\n",
    "#Managing dependencies between objects becomes crucial in composition.\n",
    "#Changes in one component can have ripple effects on other components, requiring careful coordination and testing.\n",
    "\n",
    "#Code Duplication:\n",
    "#Composition can lead to code duplication if similar components are used across multiple classes.\n",
    "#Redundant code may arise when similar functionality is needed in different parts of the system.\n",
    "\n",
    "#Performance Overhead:\n",
    "#Composition may introduce performance overhead, especially with frequent object creation and destruction.\n",
    "#Managing the lifecycle of multiple objects can result in additional processing and memory overhead.\n",
    "\n",
    "#Debugging and Maintenance:\n",
    "#Debugging and maintaining code with composition can be challenging.\n",
    "#Identifying and resolving issues may require understanding complex interactions between multiple components, leading to longer debugging cycles."
   ]
  },
  {
   "cell_type": "code",
   "execution_count": 1,
   "id": "a0a55c02",
   "metadata": {},
   "outputs": [],
   "source": [
    "#14. Create a Python class hierarchy for a restaurant system, using composition to represent menus, dishes, and ingredients.\n",
    "class Ingredient:\n",
    "    def __init__(self, name, quantity):\n",
    "        self.name = name\n",
    "        self.quantity = quantity\n",
    "class Dish:\n",
    "    def __init__(self, name, ingredients):\n",
    "        self.name = name\n",
    "        self.ingredients = ingredients\n",
    "class Menu:\n",
    "    def __init__(self, name, dishes):\n",
    "        self.name = name\n",
    "        self.dishes = dishes\n",
    "class Restaurant:\n",
    "    def __init__(self, name, menus):\n",
    "        self.name = name\n",
    "        self.menus = menus\n",
    "ingredient1 = Ingredient(\"Tomato\", 2)\n",
    "ingredient2 = Ingredient(\"Cheese\", 1)\n",
    "dish1 = Dish(\"Margherita Pizza\", [ingredient1, ingredient2])\n",
    "menu1 = Menu(\"Pizza Menu\", [dish1])\n",
    "restaurant = Restaurant(\"Pizzeria\", [menu1])"
   ]
  },
  {
   "cell_type": "code",
   "execution_count": 2,
   "id": "b1429fdb",
   "metadata": {},
   "outputs": [],
   "source": [
    "#15. Explain how composition enhances code maintainability and modularity in Python programs.\n",
    "#Composition enhances code maintainability and modularity in Python programs by breaking down complex systems into smaller, self-contained components. \n",
    "#Each component focuses on a specific task or functionality, leading to clearer code organization and easier maintenance.\n",
    "#By encapsulating functionality within modular components, composition promotes code reuse, reduces duplication, and allows for flexible design and evolution of software systems. \n",
    "#This modular approach makes it easier to understand, modify, and extend the codebase, leading to more maintainable and adaptable Python programs."
   ]
  },
  {
   "cell_type": "code",
   "execution_count": 3,
   "id": "1fc3fc1a",
   "metadata": {},
   "outputs": [
    {
     "name": "stdout",
     "output_type": "stream",
     "text": [
      "Attacking with Sword, causing 10 damage\n",
      "Wearing Shield, providing 5 defense\n"
     ]
    }
   ],
   "source": [
    "#16. Create a Python class for a computer game character, using composition to represent attributes like weapons, armor, and inventory.\n",
    "class Weapon:\n",
    "    def __init__(self, name, damage):\n",
    "        self.name = name\n",
    "        self.damage = damage\n",
    "    def attack(self):\n",
    "        print(f\"Attacking with {self.name}, causing {self.damage} damage\")\n",
    "class Armor:\n",
    "    def __init__(self, name, defense):\n",
    "        self.name = name\n",
    "        self.defense = defense\n",
    "    def defend(self):\n",
    "        print(f\"Wearing {self.name}, providing {self.defense} defense\")\n",
    "class Inventory:\n",
    "    def __init__(self):\n",
    "        self.items = []\n",
    "    def add_item(self, item):\n",
    "        self.items.append(item)\n",
    "    def remove_item(self, item):\n",
    "        self.items.remove(item)\n",
    "class GameCharacter:\n",
    "    def __init__(self, name):\n",
    "        self.name = name\n",
    "        self.weapon = None\n",
    "        self.armor = None\n",
    "        self.inventory = Inventory()\n",
    "    def equip_weapon(self, weapon):\n",
    "        self.weapon = weapon\n",
    "    def equip_armor(self, armor):\n",
    "        self.armor = armor\n",
    "    def attack(self):\n",
    "        if self.weapon:\n",
    "            self.weapon.attack()\n",
    "        else:\n",
    "            print(\"No weapon equipped\")\n",
    "    def defend(self):\n",
    "        if self.armor:\n",
    "            self.armor.defend()\n",
    "        else:\n",
    "            print(\"No armor equipped\")\n",
    "sword = Weapon(\"Sword\", 10)\n",
    "shield = Armor(\"Shield\", 5)\n",
    "player = GameCharacter(\"Player\")\n",
    "player.equip_weapon(sword)\n",
    "player.equip_armor(shield)\n",
    "player.attack()\n",
    "player.defend()"
   ]
  },
  {
   "cell_type": "code",
   "execution_count": 4,
   "id": "2f83b54e",
   "metadata": {},
   "outputs": [],
   "source": [
    "#17. Describe the concept of \"aggregation\" in composition and how it differs from simple composition.\n",
    "#Ownership:\n",
    "#Aggregation: The whole object may contain parts, but those parts can exist independently and can be shared among multiple whole objects.\n",
    "#Simple Composition: The whole object fully owns its parts, and the parts typically have a shorter lifecycle tied to the whole object.\n",
    "\n",
    "#Lifetime:\n",
    "#Aggregation: The lifetime of the part object is not dependent on the lifetime of the whole object. It can exist before the whole object is created and can persist even after the whole object is destroyed.\n",
    "#Simple Composition: The lifetime of the part object is tied to the lifetime of the whole object. The part object typically gets created and destroyed along with the whole object.\n",
    "\n",
    "#Flexibility:\n",
    "#Aggregation: Offers more flexibility as parts can be reused across multiple whole objects.\n",
    "#Simple Composition: More rigid, as parts are typically created exclusively for a single whole object."
   ]
  },
  {
   "cell_type": "code",
   "execution_count": 5,
   "id": "fb6761d0",
   "metadata": {},
   "outputs": [
    {
     "name": "stdout",
     "output_type": "stream",
     "text": [
      "Room: Living Room\n",
      "Furniture: Sofa, Coffee Table\n",
      "Appliances: TV, Speaker\n",
      "Room: Kitchen\n",
      "Furniture: Dining Table, Chairs\n",
      "Appliances: Refrigerator, Oven\n"
     ]
    }
   ],
   "source": [
    "#18. Create a Python class for a house, using composition to represent rooms, furniture, and appliances.\n",
    "class Furniture:\n",
    "    def __init__(self, name):\n",
    "        self.name = name\n",
    "    def __str__(self):\n",
    "        return f\"{self.name}\"\n",
    "class Appliance:\n",
    "    def __init__(self, name):\n",
    "        self.name = name\n",
    "    def __str__(self):\n",
    "        return f\"{self.name}\"\n",
    "class Room:\n",
    "    def __init__(self, name, furniture=None, appliances=None):\n",
    "        self.name = name\n",
    "        self.furniture = furniture if furniture else []\n",
    "        self.appliances = appliances if appliances else []\n",
    "    def add_furniture(self, furniture):\n",
    "        self.furniture.append(furniture)\n",
    "    def add_appliance(self, appliance):\n",
    "        self.appliances.append(appliance)\n",
    "    def __str__(self):\n",
    "        furniture_str = ', '.join(str(item) for item in self.furniture)\n",
    "        appliances_str = ', '.join(str(item) for item in self.appliances)\n",
    "        return f\"Room: {self.name}\\nFurniture: {furniture_str}\\nAppliances: {appliances_str}\"\n",
    "class House:\n",
    "    def __init__(self, rooms):\n",
    "        self.rooms = rooms\n",
    "    def __str__(self):\n",
    "        return '\\n'.join(str(room) for room in self.rooms)\n",
    "living_room = Room(\"Living Room\", [Furniture(\"Sofa\"), Furniture(\"Coffee Table\")], [Appliance(\"TV\"), Appliance(\"Speaker\")])\n",
    "kitchen = Room(\"Kitchen\", [Furniture(\"Dining Table\"), Furniture(\"Chairs\")], [Appliance(\"Refrigerator\"), Appliance(\"Oven\")])\n",
    "my_house = House([living_room, kitchen])\n",
    "print(my_house)"
   ]
  },
  {
   "cell_type": "code",
   "execution_count": 6,
   "id": "f4f3f730",
   "metadata": {},
   "outputs": [],
   "source": [
    "#19. How can you achieve flexibility in composed objects by allowing them to be replaced or modified dynamically at runtime?\n",
    "#You can achieve flexibility in composed objects by designing them to accept components dynamically and providing methods to replace or modify those components at runtime. \n",
    "#This allows you to swap out components with alternative implementations without altering the overall structure of the composed object. \n",
    "#This approach facilitates adaptability and extensibility in your codebase, enabling dynamic changes to behavior or functionality as needed."
   ]
  },
  {
   "cell_type": "code",
   "execution_count": 7,
   "id": "b3f01c96",
   "metadata": {},
   "outputs": [
    {
     "name": "stdout",
     "output_type": "stream",
     "text": [
      "Users:\n",
      "User: Alice\n",
      "User: Bob\n",
      "Posts:\n",
      "Post by Alice:\n",
      "Hello, world!\n",
      "Comments:\n",
      "Bob: Hi, Alice!\n",
      "Post by Bob:\n",
      "Nice day!\n",
      "Comments:\n",
      "Alice: Good morning, Bob!\n"
     ]
    }
   ],
   "source": [
    "#20. Create a Python class for a social media application, using composition to represent users, posts, and comments.\n",
    "class User:\n",
    "    def __init__(self, username):\n",
    "        self.username = username\n",
    "    def __str__(self):\n",
    "        return f\"User: {self.username}\"\n",
    "class Comment:\n",
    "    def __init__(self, user, content):\n",
    "        self.user = user\n",
    "        self.content = content\n",
    "    def __str__(self):\n",
    "        return f\"{self.user.username}: {self.content}\"\n",
    "class Post:\n",
    "    def __init__(self, user, content):\n",
    "        self.user = user\n",
    "        self.content = content\n",
    "        self.comments = []\n",
    "    def add_comment(self, comment):\n",
    "        self.comments.append(comment)\n",
    "    def __str__(self):\n",
    "        comments_str = '\\n'.join(str(comment) for comment in self.comments)\n",
    "        return f\"Post by {self.user.username}:\\n{self.content}\\nComments:\\n{comments_str}\"\n",
    "class SocialMediaApp:\n",
    "    def __init__(self):\n",
    "        self.users = []\n",
    "        self.posts = []\n",
    "    def add_user(self, user):\n",
    "        self.users.append(user)\n",
    "    def create_post(self, user, content):\n",
    "        post = Post(user, content)\n",
    "        self.posts.append(post)\n",
    "        return post\n",
    "    def __str__(self):\n",
    "        users_str = '\\n'.join(str(user) for user in self.users)\n",
    "        posts_str = '\\n'.join(str(post) for post in self.posts)\n",
    "        return f\"Users:\\n{users_str}\\nPosts:\\n{posts_str}\"\n",
    "app = SocialMediaApp()\n",
    "user1 = User(\"Alice\")\n",
    "user2 = User(\"Bob\")\n",
    "app.add_user(user1)\n",
    "app.add_user(user2)\n",
    "post1 = app.create_post(user1, \"Hello, world!\")\n",
    "post2 = app.create_post(user2, \"Nice day!\")\n",
    "post1.add_comment(Comment(user2, \"Hi, Alice!\"))\n",
    "post2.add_comment(Comment(user1, \"Good morning, Bob!\"))\n",
    "print(app)"
   ]
  },
  {
   "cell_type": "code",
   "execution_count": null,
   "id": "480f025f",
   "metadata": {},
   "outputs": [],
   "source": []
  }
 ],
 "metadata": {
  "kernelspec": {
   "display_name": "Python 3 (ipykernel)",
   "language": "python",
   "name": "python3"
  },
  "language_info": {
   "codemirror_mode": {
    "name": "ipython",
    "version": 3
   },
   "file_extension": ".py",
   "mimetype": "text/x-python",
   "name": "python",
   "nbconvert_exporter": "python",
   "pygments_lexer": "ipython3",
   "version": "3.11.5"
  }
 },
 "nbformat": 4,
 "nbformat_minor": 5
}
